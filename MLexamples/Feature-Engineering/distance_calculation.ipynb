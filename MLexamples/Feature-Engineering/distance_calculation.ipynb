{
 "cells": [
  {
   "cell_type": "code",
   "execution_count": 2,
   "metadata": {
    "collapsed": false
   },
   "outputs": [],
   "source": [
    "import numpy as np\n",
    "from itertools import combinations"
   ]
  },
  {
   "cell_type": "markdown",
   "metadata": {},
   "source": [
    "# 标准化"
   ]
  },
  {
   "cell_type": "code",
   "execution_count": null,
   "metadata": {
    "collapsed": true
   },
   "outputs": [],
   "source": [
    "def normalization(x, method=\"min-max\"):\n",
    "    '''\n",
    "    :param x: 变量列表，请确定不是常数或空值\n",
    "    :param method: 标准化方法\n",
    "    :return: 标准化结果， 或者-1（错误输入）\n",
    "    '''\n",
    "    if method == \"min-max\":\n",
    "        x_min = min(x)\n",
    "        x_max = max(x)\n",
    "        d = x_max - x_min\n",
    "        x2 = [(i-x_min)*1.0/d  for i in x]\n",
    "        return x2\n",
    "    elif method == \"zero-score\":\n",
    "        mu = np.mean(x)\n",
    "        std = np.std(x)\n",
    "        x2 = [(i - mu) * 1.0 / std for i in x]\n",
    "        return x2\n",
    "    else:\n",
    "        print(\"请指定标准化方法：min-max或者zero-score\")\n",
    "    "
   ]
  },
  {
   "cell_type": "markdown",
   "metadata": {},
   "source": [
    "# one-hot编码"
   ]
  },
  {
   "cell_type": "code",
   "execution_count": 15,
   "metadata": {
    "collapsed": false
   },
   "outputs": [],
   "source": [
    "def oneHotEncoding(df, old_field):\n",
    "    \"\"\"\n",
    "    param df: 包含需要独热编码特征的dataframe\n",
    "    param old_field: the raw filed\n",
    "    return: 独热编码结果\n",
    "    \"\"\"\n",
    "    distinct_vals = list(set(reduce(lambda x,y: x+y, df[\"old_field\"])))\n",
    "    cnt = len(distinct_vals)\n",
    "    new_fields = [old_field + \"_\" + str(i) for i in cnt]\n",
    "    for i in range(cnt):\n",
    "        df[new_fields[i]] = 0\n",
    "        df[new_fields[i]] = df[old_field].map(lambda x: int(distinct_vals[i] in x))\n",
    "    del df[old_field]\n",
    "    return 1"
   ]
  },
  {
   "cell_type": "markdown",
   "metadata": {},
   "source": [
    "# 闵可夫斯基距离"
   ]
  },
  {
   "cell_type": "code",
   "execution_count": null,
   "metadata": {
    "collapsed": true
   },
   "outputs": [],
   "source": [
    "def minkovDist(x, y, p):\n",
    "    \"\"\"\n",
    "    :param x, y: 两个样本的numpy数组\n",
    "    :param p: 距离的维度\n",
    "    :return: 距离或者-1\n",
    "    \"\"\"\n",
    "    if p >= 1:\n",
    "        return (sum((x-y) ** p))**(1.0/p)\n",
    "    else:\n",
    "        print(\"p必须大于0\")\n",
    "        return -1"
   ]
  },
  {
   "cell_type": "markdown",
   "metadata": {},
   "source": [
    "# VDM(value diffrence metric)"
   ]
  },
  {
   "cell_type": "code",
   "execution_count": 16,
   "metadata": {
    "collapsed": true
   },
   "outputs": [],
   "source": [
    "def VDM(*c):\n",
    "    \"\"\"\n",
    "    :param c: c: the tuple of groups, like {'M': 100, 'F': 80}, {'M': 150, 'F': 160}, {'M': 50, 'F': 60}\n",
    "    :return: 共同属性的距离\n",
    "    \"\"\"\n",
    "    c0 = c[0]\n",
    "    attribute = c0.keys()\n",
    "    mutual_keys = list(combinations(attribute, 2))\n",
    "    VDM_dict = {i:0 for i in mutual_keys}\n",
    "    values = {k:0 for k in attribute}\n",
    "    for cc in c:\n",
    "        for a in attribute:\n",
    "            values[a] += cc[a]\n",
    "    for (k1, k2) in mutual_keys:\n",
    "        s = 0\n",
    "        for cc in c:\n",
    "            d = np.abs(cc[k1]*1.0/values[k1] - cc[k2]*1.0/values[k2])\n",
    "            s += d**p\n",
    "        VDM_dict[(k1,k2)] = s\n",
    "    return VDM_dict"
   ]
  }
 ],
 "metadata": {
  "anaconda-cloud": {},
  "kernelspec": {
   "display_name": "Python [Root]",
   "language": "python",
   "name": "Python [Root]"
  },
  "language_info": {
   "codemirror_mode": {
    "name": "ipython",
    "version": 3
   },
   "file_extension": ".py",
   "mimetype": "text/x-python",
   "name": "python",
   "nbconvert_exporter": "python",
   "pygments_lexer": "ipython3",
   "version": "3.5.1"
  },
  "toc": {
   "nav_menu": {},
   "number_sections": true,
   "sideBar": true,
   "skip_h1_title": false,
   "toc_cell": false,
   "toc_position": {},
   "toc_section_display": "block",
   "toc_window_display": false
  }
 },
 "nbformat": 4,
 "nbformat_minor": 0
}
