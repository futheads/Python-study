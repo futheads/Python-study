{
 "cells": [
  {
   "cell_type": "markdown",
   "metadata": {},
   "source": [
    "# 怎么做"
   ]
  },
  {
   "cell_type": "markdown",
   "metadata": {},
   "source": [
    "- 先撸一个baseline的model出来，再进行后续的分析步骤，一步步提高\n",
    "- 经验\n",
    "    - 1 对数据的认识太重要了\n",
    "    - 2 数据中的特殊点/离群点的分析和处理太重要了\n",
    "    - 3 特征工程(feature engineering)太重要了！甚至比model本身还要重要\n",
    "    - 4 要做模型融合(model ensemble)"
   ]
  },
  {
   "cell_type": "markdown",
   "metadata": {},
   "source": [
    "# 初探数据"
   ]
  },
  {
   "cell_type": "code",
   "execution_count": 1,
   "metadata": {
    "collapsed": false,
    "scrolled": false
   },
   "outputs": [
    {
     "name": "stdout",
     "output_type": "stream",
     "text": [
      "Index(['PassengerId', 'Survived', 'Pclass', 'Name', 'Sex', 'Age', 'SibSp',\n",
      "       'Parch', 'Ticket', 'Fare', 'Cabin', 'Embarked'],\n",
      "      dtype='object')\n",
      "   PassengerId  Survived  Pclass  \\\n",
      "0            1         0       3   \n",
      "1            2         1       1   \n",
      "2            3         1       3   \n",
      "\n",
      "                                                Name     Sex   Age  SibSp  \\\n",
      "0                            Braund, Mr. Owen Harris    male  22.0      1   \n",
      "1  Cumings, Mrs. John Bradley (Florence Briggs Th...  female  38.0      1   \n",
      "2                             Heikkinen, Miss. Laina  female  26.0      0   \n",
      "\n",
      "   Parch            Ticket     Fare Cabin Embarked  \n",
      "0      0         A/5 21171   7.2500   NaN        S  \n",
      "1      0          PC 17599  71.2833   C85        C  \n",
      "2      0  STON/O2. 3101282   7.9250   NaN        S  \n"
     ]
    }
   ],
   "source": [
    "import pandas as pd\n",
    "import numpy as np\n",
    "from pandas import Series, DataFrame\n",
    "\n",
    "data_train = pd.read_csv(\"input/train.csv\")\n",
    "print(data_train.columns)\n",
    "print(data_train.iloc[0:3, :])"
   ]
  },
  {
   "cell_type": "markdown",
   "metadata": {},
   "source": [
    "## 列数据信息："
   ]
  },
  {
   "cell_type": "markdown",
   "metadata": {},
   "source": [
    "- PassengerId => 乘客ID\n",
    "- Pclass => 乘客等级(1/2/3等舱位)\n",
    "- Name => 乘客姓名\n",
    "- Sex => 性别\n",
    "- Age => 年龄\n",
    "- SibSp => 堂兄弟/妹个数\n",
    "- Parch => 父母与小孩个数\n",
    "- Ticket => 船票信息\n",
    "- Fare => 票价\n",
    "- Cabin => 客舱\n",
    "- Embarked => 登船港口"
   ]
  },
  {
   "cell_type": "markdown",
   "metadata": {},
   "source": [
    "## 用DataFrame的info()方法获取信息"
   ]
  },
  {
   "cell_type": "code",
   "execution_count": 16,
   "metadata": {
    "collapsed": false
   },
   "outputs": [
    {
     "name": "stdout",
     "output_type": "stream",
     "text": [
      "<class 'pandas.core.frame.DataFrame'>\n",
      "RangeIndex: 891 entries, 0 to 890\n",
      "Data columns (total 12 columns):\n",
      "PassengerId    891 non-null int64\n",
      "Survived       891 non-null int64\n",
      "Pclass         891 non-null int64\n",
      "Name           891 non-null object\n",
      "Sex            891 non-null object\n",
      "Age            714 non-null float64\n",
      "SibSp          891 non-null int64\n",
      "Parch          891 non-null int64\n",
      "Ticket         891 non-null object\n",
      "Fare           891 non-null float64\n",
      "Cabin          204 non-null object\n",
      "Embarked       889 non-null object\n",
      "dtypes: float64(2), int64(5), object(5)\n",
      "memory usage: 83.6+ KB\n",
      "None\n"
     ]
    }
   ],
   "source": [
    "print(data_train.info())"
   ]
  },
  {
   "cell_type": "markdown",
   "metadata": {},
   "source": [
    "### 缺失值"
   ]
  },
  {
   "cell_type": "markdown",
   "metadata": {},
   "source": [
    "- Age 只有714名乘客有记录\n",
    "- Cabin 只有204名乘客是已知的"
   ]
  },
  {
   "cell_type": "markdown",
   "metadata": {},
   "source": [
    "## 用describe()方法获取信息"
   ]
  },
  {
   "cell_type": "code",
   "execution_count": 18,
   "metadata": {
    "collapsed": false,
    "scrolled": true
   },
   "outputs": [
    {
     "name": "stdout",
     "output_type": "stream",
     "text": [
      "       PassengerId    Survived      Pclass         Age       SibSp  \\\n",
      "count   891.000000  891.000000  891.000000  714.000000  891.000000   \n",
      "mean    446.000000    0.383838    2.308642   29.699118    0.523008   \n",
      "std     257.353842    0.486592    0.836071   14.526497    1.102743   \n",
      "min       1.000000    0.000000    1.000000    0.420000    0.000000   \n",
      "25%     223.500000    0.000000    2.000000         NaN    0.000000   \n",
      "50%     446.000000    0.000000    3.000000         NaN    0.000000   \n",
      "75%     668.500000    1.000000    3.000000         NaN    1.000000   \n",
      "max     891.000000    1.000000    3.000000   80.000000    8.000000   \n",
      "\n",
      "            Parch        Fare  \n",
      "count  891.000000  891.000000  \n",
      "mean     0.381594   32.204208  \n",
      "std      0.806057   49.693429  \n",
      "min      0.000000    0.000000  \n",
      "25%      0.000000    7.910400  \n",
      "50%      0.000000   14.454200  \n",
      "75%      0.000000   31.000000  \n",
      "max      6.000000  512.329200  \n"
     ]
    },
    {
     "name": "stderr",
     "output_type": "stream",
     "text": [
      "C:\\Anaconda3\\lib\\site-packages\\numpy\\lib\\function_base.py:3823: RuntimeWarning: Invalid value encountered in percentile\n",
      "  RuntimeWarning)\n"
     ]
    }
   ],
   "source": [
    "print(data_train.describe())"
   ]
  },
  {
   "cell_type": "markdown",
   "metadata": {
    "collapsed": true
   },
   "source": [
    "# 数据初步分析"
   ]
  },
  {
   "cell_type": "markdown",
   "metadata": {
    "collapsed": true
   },
   "source": [
    "## 乘客各属性分布"
   ]
  },
  {
   "cell_type": "code",
   "execution_count": 2,
   "metadata": {
    "collapsed": false
   },
   "outputs": [
    {
     "data": {
      "image/png": "[encoded data removed]",
      "text/plain": [
       "<matplotlib.figure.Figure at 0x8667390>"
      ]
     },
     "metadata": {},
     "output_type": "display_data"
    }
   ],
   "source": [
    "%matplotlib inline\n",
    "\n",
    "import matplotlib.pyplot as plt\n",
    "\n",
    "fig = plt.figure(figsize=(12, 8))\n",
    "fig.set(alpha=0.1)\n",
    "\n",
    "plt.subplot2grid((2, 3), (0, 0))\n",
    "# 柱状图\n",
    "data_train.Survived.value_counts().plot(kind=\"bar\")\n",
    "plt.title(\"获救情况（1为获救）\")\n",
    "plt.ylabel(\"人数\")\n",
    "\n",
    "plt.subplot2grid((2, 3), (0, 1))\n",
    "data_train.Pclass.value_counts().plot(kind=\"bar\")\n",
    "plt.ylabel(\"人数\")\n",
    "plt.title(\"乘客等级分布\")\n",
    "\n",
    "plt.subplot2grid((2, 3), (0, 2))\n",
    "plt.scatter(data_train.Survived, data_train.Age)\n",
    "plt.ylabel(\"年龄\")\n",
    "plt.title(\"按年龄看获救分布(1为获救)\")\n",
    "\n",
    "plt.subplot2grid((2, 3), (1, 0), colspan=2)\n",
    "data_train.Age[data_train.Pclass == 1].plot(kind=\"kde\")\n",
    "data_train.Age[data_train.Pclass == 2].plot(kind=\"kde\")\n",
    "data_train.Age[data_train.Pclass == 3].plot(kind=\"kde\")\n",
    "plt.title(\"各等级乘客年龄分布\")\n",
    "plt.xlabel(\"年龄\")\n",
    "plt.ylabel(\"密度\")\n",
    "plt.legend((\"头等舱\", \"二等舱\", \"三等舱\"), loc=\"best\")\n",
    "\n",
    "plt.subplot2grid((2, 3), (1, 2))\n",
    "data_train.Embarked.value_counts().plot(kind=\"bar\")\n",
    "plt.title(\"各登船口岸上船人数\")\n",
    "plt.ylabel(\"人数\")\n",
    "\n",
    "plt.show()"
   ]
  },
  {
   "cell_type": "markdown",
   "metadata": {
    "collapsed": true
   },
   "source": [
    "## 属性与获救结果的关联统计"
   ]
  },
  {
   "cell_type": "markdown",
   "metadata": {},
   "source": [
    "看看各乘客等级的获救情况"
   ]
  },
  {
   "cell_type": "code",
   "execution_count": 23,
   "metadata": {
    "collapsed": false
   },
   "outputs": [
    {
     "data": {
      "text/plain": [
       "<matplotlib.figure.Figure at 0xb3b7710>"
      ]
     },
     "metadata": {},
     "output_type": "display_data"
    },
    {
     "data": {
      "image/png": "[encoded data removed]",
      "text/plain": [
       "<matplotlib.figure.Figure at 0x9214b00>"
      ]
     },
     "metadata": {},
     "output_type": "display_data"
    }
   ],
   "source": [
    "Survived_0 = data_train.Pclass[data_train.Survived == 0].value_counts()\n",
    "Survived_1 = data_train.Pclass[data_train.Survived == 1].value_counts()\n",
    "df = pd.DataFrame({\"获救\": Survived_1, \"未获救\": Survived_0})\n",
    "df.plot(kind=\"bar\", stacked=True)\n",
    "plt.title(\"各乘客等级的获救情况\")\n",
    "plt.xlabel(\"乘客等级\")\n",
    "plt.ylabel(\"人数\")\n",
    "plt.show()"
   ]
  },
  {
   "cell_type": "markdown",
   "metadata": {},
   "source": [
    "看看性别的获救情况"
   ]
  },
  {
   "cell_type": "code",
   "execution_count": 31,
   "metadata": {
    "collapsed": false,
    "scrolled": true
   },
   "outputs": [
    {
     "data": {
      "image/png": "[encoded data removed]",
      "text/plain": [
       "<matplotlib.figure.Figure at 0xb5942e8>"
      ]
     },
     "metadata": {},
     "output_type": "display_data"
    }
   ],
   "source": [
    "Survived_f = data_train.Survived[data_train.Sex == \"female\"].value_counts()\n",
    "Survived_m = data_train.Survived[data_train.Sex == \"male\"].value_counts()\n",
    "df = pd.DataFrame({\"男性\": Survived_m, \"女性\": Survived_f})\n",
    "df.plot(kind=\"bar\", stacked=True)\n",
    "plt.title(\"按性别看获救情况\")\n",
    "plt.xlabel(\"性别\")\n",
    "plt.ylabel(\"人数\")\n",
    "plt.show()"
   ]
  },
  {
   "cell_type": "markdown",
   "metadata": {},
   "source": [
    "详细版的性别和舱级别的获救情况"
   ]
  },
  {
   "cell_type": "code",
   "execution_count": 53,
   "metadata": {
    "collapsed": false
   },
   "outputs": [
    {
     "data": {
      "image/png": "[encoded data removed]",
      "text/plain": [
       "<matplotlib.figure.Figure at 0xcfa6710>"
      ]
     },
     "metadata": {},
     "output_type": "display_data"
    }
   ],
   "source": [
    "fig = plt.figure(figsize=(15, 5))\n",
    "plt.title(\"根据舱级和性别的获救情况\")\n",
    "plt.xticks(())\n",
    "\n",
    "ax1 = fig.add_subplot(141)\n",
    "data_train.Survived[data_train.Sex == \"female\"][data_train.Pclass != 3] \\\n",
    "    .value_counts().plot(kind=\"bar\", label=\"female higclass\", color=\"#FA2479\")\n",
    "ax1.set_xticklabels([\"获救\", \"未获救\"], rotation=0)\n",
    "ax1.legend((\"女性/高级舱\"), loc=\"best\")\n",
    "\n",
    "ax2 = fig.add_subplot(142, sharey=ax1)\n",
    "data_train.Survived[data_train.Sex == \"female\"][data_train.Pclass == 3] \\\n",
    "    .value_counts().plot(kind=\"bar\", label=\"female lowclass\", color=\"pink\")\n",
    "ax2.set_xticklabels([\"获救\", \"未获救\"], rotation=0)\n",
    "ax2.legend((\"女性/低级舱\"), loc=\"best\")\n",
    "\n",
    "ax3 = fig.add_subplot(143, sharey=ax1)\n",
    "data_train.Survived[data_train.Sex == \"male\"][data_train.Pclass != 3] \\\n",
    "    .value_counts().plot(kind=\"bar\", label=\"male higclass\", color=\"lightblue\")\n",
    "ax3.set_xticklabels([\"获救\", \"为获救\"], rotation=0)\n",
    "ax3.legend([\"男性/高级舱\"], loc=\"best\")\n",
    "\n",
    "ax4 = fig.add_subplot(144, sharey=ax1)\n",
    "data_train.Survived[data_train.Sex == \"male\"][data_train.Pclass == 3] \\\n",
    "    .value_counts().plot(kind=\"bar\", label=\"male lowclass\", color=\"steelblue\")\n",
    "ax4.set_xticklabels([\"获救\", \"未获救\"], rotation=0)\n",
    "ax4.legend([\"男性/低级舱\"], loc=\"best\")\n",
    "\n",
    "plt.show()"
   ]
  },
  {
   "cell_type": "markdown",
   "metadata": {},
   "source": [
    "各登船港口的收获情况"
   ]
  },
  {
   "cell_type": "code",
   "execution_count": 4,
   "metadata": {
    "collapsed": false
   },
   "outputs": [
    {
     "data": {
      "image/png": "[encoded data removed]",
      "text/plain": [
       "<matplotlib.figure.Figure at 0xb5290f0>"
      ]
     },
     "metadata": {},
     "output_type": "display_data"
    }
   ],
   "source": [
    "Survived_0 = data_train.Embarked[data_train.Survived == 0].value_counts()\n",
    "Survived_1 = data_train.Embarked[data_train.Survived == 1].value_counts()\n",
    "df = pd.DataFrame({\"获救\": Survived_1, \"未获救\": Survived_0})\n",
    "df.plot(kind=\"bar\", stacked=True)\n",
    "plt.title(\"各登录港口乘客的获救情况\")\n",
    "plt.xlabel(\"登录港口\")\n",
    "plt.ylabel(\"人数\")\n",
    "plt.show()"
   ]
  },
  {
   "cell_type": "markdown",
   "metadata": {
    "collapsed": true
   },
   "source": [
    "看看堂兄弟/妹，孩子/父母有几人，对是否获救的影响"
   ]
  },
  {
   "cell_type": "code",
   "execution_count": 5,
   "metadata": {
    "collapsed": false
   },
   "outputs": [
    {
     "name": "stdout",
     "output_type": "stream",
     "text": [
      "                PassengerId\n",
      "SibSp Survived             \n",
      "0     0                 398\n",
      "      1                 210\n",
      "1     0                  97\n",
      "      1                 112\n",
      "2     0                  15\n",
      "      1                  13\n",
      "3     0                  12\n",
      "      1                   4\n",
      "4     0                  15\n",
      "      1                   3\n",
      "5     0                   5\n",
      "8     0                   7\n"
     ]
    }
   ],
   "source": [
    "g = data_train.groupby([\"SibSp\", \"Survived\"])\n",
    "df = pd.DataFrame(g.count()[\"PassengerId\"])\n",
    "print(df)"
   ]
  },
  {
   "cell_type": "markdown",
   "metadata": {},
   "source": [
    "看看客舱的数据"
   ]
  },
  {
   "cell_type": "code",
   "execution_count": 6,
   "metadata": {
    "collapsed": false
   },
   "outputs": [
    {
     "name": "stdout",
     "output_type": "stream",
     "text": [
      "B96 B98            4\n",
      "G6                 4\n",
      "C23 C25 C27        4\n",
      "F33                3\n",
      "E101               3\n",
      "F2                 3\n",
      "C22 C26            3\n",
      "D                  3\n",
      "C123               2\n",
      "D35                2\n",
      "B57 B59 B63 B66    2\n",
      "C93                2\n",
      "E25                2\n",
      "E24                2\n",
      "B28                2\n",
      "C65                2\n",
      "B58 B60            2\n",
      "D33                2\n",
      "B5                 2\n",
      "B51 B53 B55        2\n",
      "C125               2\n",
      "E8                 2\n",
      "C92                2\n",
      "C83                2\n",
      "C78                2\n",
      "C2                 2\n",
      "F G73              2\n",
      "C52                2\n",
      "B77                2\n",
      "B35                2\n",
      "                  ..\n",
      "C103               1\n",
      "B101               1\n",
      "D48                1\n",
      "B69                1\n",
      "E68                1\n",
      "A5                 1\n",
      "B39                1\n",
      "B94                1\n",
      "C87                1\n",
      "A23                1\n",
      "C62 C64            1\n",
      "E58                1\n",
      "B37                1\n",
      "C128               1\n",
      "D21                1\n",
      "C91                1\n",
      "B78                1\n",
      "C50                1\n",
      "B41                1\n",
      "B30                1\n",
      "C46                1\n",
      "A32                1\n",
      "E12                1\n",
      "C148               1\n",
      "D19                1\n",
      "B82 B84            1\n",
      "E36                1\n",
      "C101               1\n",
      "B80                1\n",
      "D6                 1\n",
      "Name: Cabin, dtype: int64\n"
     ]
    }
   ],
   "source": [
    "print(data_train.Cabin.value_counts())"
   ]
  },
  {
   "cell_type": "markdown",
   "metadata": {},
   "source": [
    "因为Cabin直接按类别分太散，估计每个因子化后的特征都拿不到什么权重，缺失值又多，暂且将缺失与否作为条件"
   ]
  },
  {
   "cell_type": "code",
   "execution_count": 13,
   "metadata": {
    "collapsed": false
   },
   "outputs": [
    {
     "data": {
      "image/png": "[encoded data removed]",
      "text/plain": [
       "<matplotlib.figure.Figure at 0xb5eabe0>"
      ]
     },
     "metadata": {},
     "output_type": "display_data"
    }
   ],
   "source": [
    "Survive_cabin = data_train.Survived[pd.notnull(data_train.Cabin)].value_counts()\n",
    "Survive_nocabin = data_train.Survived[pd.isnull(data_train.Cabin)].value_counts()\n",
    "df = pd.DataFrame({\"有\": Survive_cabin, \"无\": Survive_nocabin})\n",
    "df.plot(kind=\"bar\", stacked=True)\n",
    "\n",
    "plt.title(\"按cabin有无看获救情况\")\n",
    "plt.xlabel(\"cabin有无\")\n",
    "plt.ylabel(\"获救人数\")\n",
    "plt.show()"
   ]
  },
  {
   "cell_type": "markdown",
   "metadata": {},
   "source": [
    "# 简单数据预处理"
   ]
  },
  {
   "cell_type": "markdown",
   "metadata": {},
   "source": [
    "## 缺失值的处理"
   ]
  },
  {
   "cell_type": "markdown",
   "metadata": {},
   "source": [
    "- 如果缺值的样本占总数比例极高，我们可能就直接舍弃了\n",
    "- 如果缺值的样本适中，而该属性非连续值特征属性，那就把NaN作为一个新类别\n",
    "- 如果缺值的样本适中，而该属性为连续值特征属性，有时候我们会考虑给定一个step，然后把它离散化，之后把NaN作为一个type加到属性类目中\n",
    "- 缺失的值个数并不是特别多，那我们也可以试着根据已有的值，拟合一下数据，补充上"
   ]
  },
  {
   "cell_type": "markdown",
   "metadata": {},
   "source": [
    "使用RandomForest来拟合缺失的年龄数据"
   ]
  },
  {
   "cell_type": "code",
   "execution_count": 20,
   "metadata": {
    "collapsed": false
   },
   "outputs": [
    {
     "name": "stdout",
     "output_type": "stream",
     "text": [
      "   PassengerId  Survived  Pclass  \\\n",
      "0            1         0       3   \n",
      "1            2         1       1   \n",
      "2            3         1       3   \n",
      "\n",
      "                                                Name     Sex   Age  SibSp  \\\n",
      "0                            Braund, Mr. Owen Harris    male  22.0      1   \n",
      "1  Cumings, Mrs. John Bradley (Florence Briggs Th...  female  38.0      1   \n",
      "2                             Heikkinen, Miss. Laina  female  26.0      0   \n",
      "\n",
      "   Parch            Ticket     Fare Cabin Embarked  \n",
      "0      0         A/5 21171   7.2500   Yes        S  \n",
      "1      0          PC 17599  71.2833   Yes        C  \n",
      "2      0  STON/O2. 3101282   7.9250   Yes        S  \n"
     ]
    }
   ],
   "source": [
    "from sklearn.ensemble import RandomForestRegressor\n",
    "\n",
    "# 使用RandomForestClassifier填补缺失的年龄属性\n",
    "def set_missing_ages(df):\n",
    "    # 把已有的数值型特征取出来丢进Random Forest Regressor中\n",
    "    age_df = df[[\"Age\", \"Fare\", \"Parch\", \"SibSp\", \"Pclass\"]]\n",
    "    \n",
    "    # 乘客分为已知年龄和未知年龄两部分\n",
    "    known_age = age_df[age_df.Age.notnull()].as_matrix()\n",
    "    unknown_age = age_df[age_df.Age.isnull()].as_matrix()\n",
    "    \n",
    "    # y即目标年龄\n",
    "    y = known_age[:, 0]\n",
    "    # X即特征属性值\n",
    "    X = known_age[:, 1:]\n",
    "    \n",
    "    # fit到RandomForestRegressor之中\n",
    "    rfr = RandomForestRegressor(random_state=0, n_estimators=2000, n_jobs=-1)\n",
    "    rfr.fit(X, y)\n",
    "    \n",
    "    # 用得到的模型进行未知年龄预测\n",
    "    predictedAges = rfr.predict(unknown_age[:, 1::])\n",
    "\n",
    "    # 用得到的预测结果填补原缺失数据\n",
    "    return df, rfr\n",
    "\n",
    "def  set_Cabin_type(df):\n",
    "    df.loc[(df.Cabin.notnull()), \"Cabin\"] = \"Yes\"\n",
    "    df.loc[(df.Cabin.isnull()), \"Cabin\"] = \"No\"\n",
    "    return df\n",
    "\n",
    "data_train, rfr = set_missing_ages(data_train)\n",
    "data_train = set_Cabin_type(data_train)\n",
    "print(data_train[:3])"
   ]
  },
  {
   "cell_type": "code",
   "execution_count": null,
   "metadata": {
    "collapsed": true
   },
   "outputs": [],
   "source": []
  }
 ],
 "metadata": {
  "anaconda-cloud": {},
  "kernelspec": {
   "display_name": "Python [Anaconda3]",
   "language": "python",
   "name": "Python [Anaconda3]"
  },
  "language_info": {
   "codemirror_mode": {
    "name": "ipython",
    "version": 3
   },
   "file_extension": ".py",
   "mimetype": "text/x-python",
   "name": "python",
   "nbconvert_exporter": "python",
   "pygments_lexer": "ipython3",
   "version": "3.5.1"
  },
  "toc": {
   "nav_menu": {},
   "number_sections": true,
   "sideBar": true,
   "skip_h1_title": false,
   "toc_cell": false,
   "toc_position": {},
   "toc_section_display": "block",
   "toc_window_display": false
  }
 },
 "nbformat": 4,
 "nbformat_minor": 0
}
