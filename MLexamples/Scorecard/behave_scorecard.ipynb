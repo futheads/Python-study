{
 "cells": [
  {
   "cell_type": "code",
   "execution_count": 153,
   "metadata": {
    "collapsed": true
   },
   "outputs": [],
   "source": [
    "import numpy as np\n",
    "import pandas as pd\n",
    "\n",
    "import random"
   ]
  },
  {
   "cell_type": "markdown",
   "metadata": {},
   "source": [
    "# 函数定义"
   ]
  },
  {
   "cell_type": "markdown",
   "metadata": {},
   "source": [
    "## 卡方值计算"
   ]
  },
  {
   "cell_type": "code",
   "execution_count": 154,
   "metadata": {
    "collapsed": true
   },
   "outputs": [],
   "source": [
    "def Chi2(df, total_col, bad_col, overallRate):\n",
    "    \"\"\"\n",
    "    :param df: 包含全部样本总计与坏样本总计的数据框\n",
    "    :param total_col: 全部样本的个数\n",
    "    :param bad_col: 坏样本的个数\n",
    "    :param overallRate: 全体样本的坏样本占比\n",
    "    :return: 卡方值\n",
    "    \"\"\"\n",
    "    df2 = df.copy()\n",
    "    # 期望坏样本个数＝全部样本个数*平均坏样本占比\n",
    "    df2['expected'] = df[total_col].apply(lambda x: x*overallRate)\n",
    "    combined = zip(df2['expected'], df2[bad_col])\n",
    "    chi = [(i[0]-i[1])**2/i[0] for i in combined]\n",
    "    chi2 = sum(chi)\n",
    "    return chi2"
   ]
  },
  {
   "cell_type": "markdown",
   "metadata": {},
   "source": [
    "## 最大区间卡方合并"
   ]
  },
  {
   "cell_type": "markdown",
   "metadata": {},
   "source": [
    "指定最大区间数，使用卡方值分割连续变量"
   ]
  },
  {
   "cell_type": "code",
   "execution_count": 220,
   "metadata": {
    "collapsed": false
   },
   "outputs": [],
   "source": [
    "def ChiMerge_MaxInterval(df, col, target, max_interval=5,special_attribute=[],minBinPcnt=0):\n",
    "    '''\n",
    "    :param df: 包含目标变量与分箱属性的数据框\n",
    "    :param col: 需要分箱的属性\n",
    "    :param target: 目标变量，取值0或1\n",
    "    :param max_interval: 最大分箱数。如果原始属性的取值个数低于该参数，不执行这段函数\n",
    "    :param minBinPcnt：最小箱的占比，默认为0\n",
    "    :return: 分箱结果\n",
    "    '''\n",
    "    colLevels = sorted(list(set(df[col])))\n",
    "    N_distinct = len(colLevels)\n",
    "    if N_distinct <= max_interval:  #如果原始属性的取值个数低于max_interval，不执行这段函数\n",
    "        print(\"The number of original levels for {} is less than or equal to max intervals\".format(col))\n",
    "        return colLevels[:-1]\n",
    "    else:\n",
    "        if len(special_attribute)>=1:\n",
    "            df1 = df.loc[df[col].isin(special_attribute)]\n",
    "            df2 = df.loc[~df[col].isin(special_attribute)]\n",
    "        else:\n",
    "            df2 = df.copy()\n",
    "        N_distinct = len(list(set(df2[col])))\n",
    "\n",
    "        # 步骤一: 通过col对数据集进行分组，求出每组的总样本数与坏样本数\n",
    "        if N_distinct > 100:\n",
    "            ind_x = [int(i / 100.0 * N_distinct) for i in range(1, 100)]\n",
    "            split_x = [colLevels[i] for i in ind_x]\n",
    "            df2['temp'] = df2[col].map(lambda x: AssignGroup(x, split_x))\n",
    "        else:\n",
    "            df2['temp'] = df[col]\n",
    "        total = df2.groupby(['temp'])[target].count()\n",
    "        total = pd.DataFrame({'total': total})\n",
    "        bad = df2.groupby(['temp'])[target].sum()\n",
    "        bad = pd.DataFrame({'bad': bad})\n",
    "        regroup = total.merge(bad, left_index=True, right_index=True, how='left')\n",
    "        regroup.reset_index(level=0, inplace=True)\n",
    "        N = sum(regroup['total'])\n",
    "        B = sum(regroup['bad'])\n",
    "        # 总体bad rate将被用来计算expected bad count\n",
    "        overallRate = B * 1.0 / N\n",
    "        # 首先，每个单独的属性值将被分为单独的一组\n",
    "        # 对属性值进行排序，然后两两组别进行合并\n",
    "        colLevels = sorted(list(set(df2['temp'])))\n",
    "        groupIntervals = [[i] for i in colLevels]\n",
    "\n",
    "        # 步骤二：建立循环，不断合并最优的相邻两个组别，直到：\n",
    "        # 1，最终分裂出来的分箱数<＝预设的最大分箱数\n",
    "        # 2，每项的占比不低于预设值（可选）\n",
    "        # 3，bad rate单调（可选）\n",
    "        # 如果有特殊属性，那么最终分裂出来的分箱数＝预设的最大分箱数－特殊属性的个数\n",
    "        split_intervals = max_interval - len(special_attribute)\n",
    "        while (len(groupIntervals) > split_intervals):  # 终止条件: 当前分箱数＝预设的分箱数\n",
    "            # 每次循环时, 计算合并相邻组别后的卡方值。具有最小卡方值的合并方案，是最优方案\n",
    "            chisqList = []\n",
    "            for k in range(len(groupIntervals)-1):\n",
    "                temp_group = groupIntervals[k] + groupIntervals[k+1]\n",
    "                df2b = regroup.loc[regroup['temp'].isin(temp_group)]\n",
    "                chisq = Chi2(df2b, 'total', 'bad', overallRate)\n",
    "                chisqList.append(chisq)\n",
    "            best_comnbined = chisqList.index(min(chisqList))\n",
    "            groupIntervals[best_comnbined] = groupIntervals[best_comnbined] + groupIntervals[best_comnbined+1]\n",
    "            # after combining two intervals, we need to remove one of them\n",
    "            groupIntervals.remove(groupIntervals[best_comnbined])\n",
    "        # 步骤三：返回最优的分裂点\n",
    "        groupIntervals = [sorted(i) for i in groupIntervals]\n",
    "        cutOffPoints = [max(i) for i in groupIntervals[:-1]]\n",
    "\n",
    "        # 需要检查分箱后的最小占比\n",
    "        if minBinPcnt > 0:\n",
    "            groupedvalues = df2['temp'].apply(lambda x: AssignBin(x, cutOffPoints))\n",
    "            df2['temp_Bin'] = groupedvalues\n",
    "            valueCounts = groupedvalues.value_counts().to_frame()\n",
    "            valueCounts['pcnt'] = valueCounts['temp'].apply(lambda x: x * 1.0 / N)\n",
    "            valueCounts = valueCounts.sort_index()\n",
    "            minPcnt = min(valueCounts['pcnt'])\n",
    "            while minPcnt < 0.05 and len(cutOffPoints) > 2:\n",
    "                # 找出占比最小的箱\n",
    "                indexForMinPcnt = valueCounts[valueCounts['pcnt'] == minPcnt].index.tolist()[0]\n",
    "                # 如果占比最小的箱是最后一箱，则需要和上一个箱进行合并，也就意味着分裂点cutOffPoints中的最后一个需要移除\n",
    "                if indexForMinPcnt == max(valueCounts.index):\n",
    "                    cutOffPoints = cutOffPoints[:-1]\n",
    "                # 如果占比最小的箱是第一箱，则需要和下一个箱进行合并，也就意味着分裂点cutOffPoints中的第一个需要移除\n",
    "                elif indexForMinPcnt == min(valueCounts.index):\n",
    "                    cutOffPoints = cutOffPoints[1:]\n",
    "                # 如果占比最小的箱是中间的某一箱，则需要和前后中的一个箱进行合并，依据是较小的卡方值\n",
    "                else:\n",
    "                    # 和前一箱进行合并，并且计算卡方值\n",
    "                    currentIndex = list(valueCounts.index).index(indexForMinPcnt)\n",
    "                    prevIndex = list(valueCounts.index)[currentIndex - 1]\n",
    "                    df3 = df2.loc[df2['temp_Bin'].isin([prevIndex, indexForMinPcnt])]\n",
    "                    total = df3.groupby(['temp_Bin'])[target].count()\n",
    "                    total = pd.DataFrame({'total': total})\n",
    "                    bad = df3.groupby(['temp_Bin'])[target].sum()\n",
    "                    bad = pd.DataFrame({'bad': bad})\n",
    "                    df2b = total.merge(bad, left_index=True, right_index=True, how='left')\n",
    "                    df2b.reset_index(level=0, inplace=True)\n",
    "                    chisq1 = Chi2(df2b, 'total', 'bad', overallRate)\n",
    "                    # 和后一箱进行合并，并且计算卡方值\n",
    "                    laterIndex = list(valueCounts.index)[currentIndex + 1]\n",
    "                    df3b = df2.loc[df2['temp_Bin'].isin([laterIndex, indexForMinPcnt])]\n",
    "                    total = df3b.groupby(['temp_Bin'])[target].count()\n",
    "                    total = pd.DataFrame({'total': total})\n",
    "                    bad = df3b.groupby(['temp_Bin'])[target].sum()\n",
    "                    bad = pd.DataFrame({'bad': bad})\n",
    "                    df2b = total.merge(bad, left_index=True, right_index=True, how='left')\n",
    "                    df2b.reset_index(level=0, inplace=True)\n",
    "                    chisq2 = Chi2(df2b, 'total', 'bad', overallRate)\n",
    "                    if chisq1 < chisq2:\n",
    "                        cutOffPoints.remove(cutOffPoints[currentIndex - 1])\n",
    "                    else:\n",
    "                        cutOffPoints.remove(cutOffPoints[currentIndex])\n",
    "        cutOffPoints = special_attribute + cutOffPoints\n",
    "        return cutOffPoints"
   ]
  },
  {
   "cell_type": "code",
   "execution_count": 156,
   "metadata": {
    "collapsed": false
   },
   "outputs": [
    {
     "data": {
      "text/html": [
       "<div>\n",
       "<style scoped>\n",
       "    .dataframe tbody tr th:only-of-type {\n",
       "        vertical-align: middle;\n",
       "    }\n",
       "\n",
       "    .dataframe tbody tr th {\n",
       "        vertical-align: top;\n",
       "    }\n",
       "\n",
       "    .dataframe thead th {\n",
       "        text-align: right;\n",
       "    }\n",
       "</style>\n",
       "<table border=\"1\" class=\"dataframe\">\n",
       "  <thead>\n",
       "    <tr style=\"text-align: right;\">\n",
       "      <th></th>\n",
       "      <th>x</th>\n",
       "    </tr>\n",
       "  </thead>\n",
       "  <tbody>\n",
       "    <tr>\n",
       "      <th>0</th>\n",
       "      <td>1</td>\n",
       "    </tr>\n",
       "    <tr>\n",
       "      <th>1</th>\n",
       "      <td>1</td>\n",
       "    </tr>\n",
       "    <tr>\n",
       "      <th>2</th>\n",
       "      <td>1</td>\n",
       "    </tr>\n",
       "    <tr>\n",
       "      <th>3</th>\n",
       "      <td>1</td>\n",
       "    </tr>\n",
       "    <tr>\n",
       "      <th>4</th>\n",
       "      <td>1</td>\n",
       "    </tr>\n",
       "  </tbody>\n",
       "</table>\n",
       "</div>"
      ],
      "text/plain": [
       "   x\n",
       "0  1\n",
       "1  1\n",
       "2  1\n",
       "3  1\n",
       "4  1"
      ]
     },
     "execution_count": 156,
     "metadata": {},
     "output_type": "execute_result"
    }
   ],
   "source": [
    "# 生成一个数据集用作测试，特征名称是x，标签名称叫bad\n",
    "x = [1] * 10 + [2] * 20 + [3] * 30 + [4] * 40 + [5] * 15 + [6] * 25 + [7] * 35\n",
    "simulation = pd.DataFrame({'x': x})\n",
    "simulation.head()"
   ]
  },
  {
   "cell_type": "code",
   "execution_count": 157,
   "metadata": {
    "collapsed": false,
    "scrolled": true
   },
   "outputs": [
    {
     "data": {
      "text/html": [
       "<div>\n",
       "<style scoped>\n",
       "    .dataframe tbody tr th:only-of-type {\n",
       "        vertical-align: middle;\n",
       "    }\n",
       "\n",
       "    .dataframe tbody tr th {\n",
       "        vertical-align: top;\n",
       "    }\n",
       "\n",
       "    .dataframe thead th {\n",
       "        text-align: right;\n",
       "    }\n",
       "</style>\n",
       "<table border=\"1\" class=\"dataframe\">\n",
       "  <thead>\n",
       "    <tr style=\"text-align: right;\">\n",
       "      <th></th>\n",
       "      <th>x</th>\n",
       "      <th>bad</th>\n",
       "    </tr>\n",
       "  </thead>\n",
       "  <tbody>\n",
       "    <tr>\n",
       "      <th>0</th>\n",
       "      <td>1</td>\n",
       "      <td>0</td>\n",
       "    </tr>\n",
       "    <tr>\n",
       "      <th>1</th>\n",
       "      <td>1</td>\n",
       "      <td>1</td>\n",
       "    </tr>\n",
       "    <tr>\n",
       "      <th>2</th>\n",
       "      <td>1</td>\n",
       "      <td>1</td>\n",
       "    </tr>\n",
       "    <tr>\n",
       "      <th>3</th>\n",
       "      <td>1</td>\n",
       "      <td>1</td>\n",
       "    </tr>\n",
       "    <tr>\n",
       "      <th>4</th>\n",
       "      <td>1</td>\n",
       "      <td>0</td>\n",
       "    </tr>\n",
       "  </tbody>\n",
       "</table>\n",
       "</div>"
      ],
      "text/plain": [
       "   x  bad\n",
       "0  1    0\n",
       "1  1    1\n",
       "2  1    1\n",
       "3  1    1\n",
       "4  1    0"
      ]
     },
     "execution_count": 157,
     "metadata": {},
     "output_type": "execute_result"
    }
   ],
   "source": [
    "simulation['bad'] = [random.sample([0, 1], 1)[0] for i in range(len(x))]\n",
    "simulation.head()"
   ]
  },
  {
   "cell_type": "code",
   "execution_count": 158,
   "metadata": {
    "collapsed": true
   },
   "outputs": [],
   "source": [
    "%matplotlib inline\n",
    "\n",
    "import matplotlib.pylab as plt\n",
    "import seaborn as sns"
   ]
  },
  {
   "cell_type": "code",
   "execution_count": 159,
   "metadata": {
    "collapsed": false,
    "scrolled": false
   },
   "outputs": [
    {
     "data": {
      "image/png": "[encoded data removed]",
      "text/plain": [
       "<matplotlib.figure.Figure at 0xba84b38>"
      ]
     },
     "metadata": {},
     "output_type": "display_data"
    }
   ],
   "source": [
    "# sns.stripplot(x=\"bad\", y=\"x\", data=simulation, jitter=True)\n",
    "sns.swarmplot(x=\"bad\", y=\"x\", data=simulation)\n",
    "plt.show()"
   ]
  },
  {
   "cell_type": "code",
   "execution_count": 160,
   "metadata": {
    "collapsed": false
   },
   "outputs": [
    {
     "name": "stdout",
     "output_type": "stream",
     "text": [
      "[5, 6]\n"
     ]
    }
   ],
   "source": [
    "splittedPoints = ChiMerge_MaxInterval(simulation, 'x', 'bad', max_interval=3, special_attribute=[])\n",
    "print(splittedPoints)"
   ]
  },
  {
   "cell_type": "markdown",
   "metadata": {},
   "source": [
    "## 分组"
   ]
  },
  {
   "cell_type": "code",
   "execution_count": 161,
   "metadata": {
    "collapsed": true
   },
   "outputs": [],
   "source": [
    "def AssignGroup(x, bin):\n",
    "    N = len(bin)\n",
    "    if x<=min(bin):\n",
    "        return min(bin)\n",
    "    elif x>max(bin):\n",
    "        return 10e10\n",
    "    else:\n",
    "        for i in range(N-1):\n",
    "            if bin[i] < x <= bin[i+1]:\n",
    "                return bin[i+1]"
   ]
  },
  {
   "cell_type": "markdown",
   "metadata": {},
   "source": [
    "## bad rate编码"
   ]
  },
  {
   "cell_type": "code",
   "execution_count": 162,
   "metadata": {
    "collapsed": true
   },
   "outputs": [],
   "source": [
    "def BadRateEncoding(df, col, target):\n",
    "    '''\n",
    "    :param df: dataframe containing feature and target\n",
    "    :param col: the feature that needs to be encoded with bad rate, usually categorical type\n",
    "    :param target: good/bad indicator\n",
    "    :return: the assigned bad rate to encode the categorical feature\n",
    "    '''\n",
    "    total = df.groupby([col])[target].count()\n",
    "    total = pd.DataFrame({'total': total})\n",
    "    bad = df.groupby([col])[target].sum()\n",
    "    bad = pd.DataFrame({'bad': bad})\n",
    "    regroup = total.merge(bad, left_index=True, right_index=True, how='left')\n",
    "    regroup.reset_index(level=0, inplace=True)\n",
    "    regroup['bad_rate'] = regroup.apply(lambda x: x.bad*1.0/x.total,axis = 1)\n",
    "    br_dict = regroup[[col,'bad_rate']].set_index([col]).to_dict(orient='index')\n",
    "    for k, v in br_dict.items():\n",
    "        br_dict[k] = v['bad_rate']\n",
    "    badRateEnconding = df[col].map(lambda x: br_dict[x])\n",
    "    return {'encoding':badRateEnconding, 'br_rate':br_dict}"
   ]
  },
  {
   "cell_type": "markdown",
   "metadata": {},
   "source": [
    "## 分箱"
   ]
  },
  {
   "cell_type": "code",
   "execution_count": 163,
   "metadata": {
    "collapsed": true
   },
   "outputs": [],
   "source": [
    "def AssignBin(x, cutOffPoints,special_attribute=[]):\n",
    "    '''\n",
    "    :param x: the value of variable\n",
    "    :param cutOffPoints: the ChiMerge result for continous variable\n",
    "    :param special_attribute:  the special attribute which should be assigned separately\n",
    "    :return: bin number, indexing from 0\n",
    "    for example, if cutOffPoints = [10,20,30], if x = 7, return Bin 0. If x = 35, return Bin 3\n",
    "    '''\n",
    "    numBin = len(cutOffPoints) + 1 + len(special_attribute)\n",
    "    if x in special_attribute:\n",
    "        i = special_attribute.index(x)+1\n",
    "        return 'Bin {}'.format(0-i)\n",
    "    if x<=cutOffPoints[0]:\n",
    "        return 'Bin 0'\n",
    "    elif x > cutOffPoints[-1]:\n",
    "        return 'Bin {}'.format(numBin-1)\n",
    "    else:\n",
    "        for i in range(0,numBin-1):\n",
    "            if cutOffPoints[i] < x <=  cutOffPoints[i+1]:\n",
    "                return 'Bin {}'.format(i+1)"
   ]
  },
  {
   "cell_type": "markdown",
   "metadata": {},
   "source": [
    "## 最大分箱点"
   ]
  },
  {
   "cell_type": "code",
   "execution_count": 164,
   "metadata": {
    "collapsed": true
   },
   "outputs": [],
   "source": [
    "def MaximumBinPcnt(df,col):\n",
    "    N = df.shape[0]\n",
    "    total = df.groupby([col])[col].count()\n",
    "    pcnt = total*1.0/N\n",
    "    return max(pcnt)"
   ]
  },
  {
   "cell_type": "markdown",
   "metadata": {},
   "source": [
    "## 分箱点"
   ]
  },
  {
   "cell_type": "code",
   "execution_count": 165,
   "metadata": {
    "collapsed": true
   },
   "outputs": [],
   "source": [
    "def BinPcnt(df,col):\n",
    "    N = df.shape[0]\n",
    "    total = df.groupby([col])[col].count()\n",
    "    pcnt = total*1.0/N\n",
    "    return {'min':min(pcnt),'max':max(pcnt), 'each pcnt': pcnt.to_dict()}"
   ]
  },
  {
   "cell_type": "markdown",
   "metadata": {},
   "source": [
    "## 根据条件合并"
   ]
  },
  {
   "cell_type": "code",
   "execution_count": 166,
   "metadata": {
    "collapsed": true
   },
   "outputs": [],
   "source": [
    "def MergeByCondition(x,condition_list):\n",
    "    #condition_list是条件列表。满足第几个condition，就输出几\n",
    "    s = 0\n",
    "    for condition in condition_list:\n",
    "        if eval(str(x)+condition):\n",
    "            return s\n",
    "        else:\n",
    "            s+=1"
   ]
  },
  {
   "cell_type": "markdown",
   "metadata": {},
   "source": [
    "## 计算WOE值"
   ]
  },
  {
   "cell_type": "code",
   "execution_count": 167,
   "metadata": {
    "collapsed": true
   },
   "outputs": [],
   "source": [
    "def CalcWOE(df, col, target):\n",
    "    '''\n",
    "    :param df: dataframe containing feature and target\n",
    "    :param col: the feature that needs to be calculated the WOE and iv, usually categorical type\n",
    "    :param target: good/bad indicator\n",
    "    :return: WOE and IV in a dictionary\n",
    "    '''\n",
    "    total = df.groupby([col])[target].count()\n",
    "    total = pd.DataFrame({'total': total})\n",
    "    bad = df.groupby([col])[target].sum()\n",
    "    bad = pd.DataFrame({'bad': bad})\n",
    "    regroup = total.merge(bad, left_index=True, right_index=True, how='left')\n",
    "    regroup.reset_index(level=0, inplace=True)\n",
    "    N = sum(regroup['total'])\n",
    "    B = sum(regroup['bad'])\n",
    "    regroup['good'] = regroup['total'] - regroup['bad']\n",
    "    G = N - B\n",
    "    regroup['bad_pcnt'] = regroup['bad'].map(lambda x: x*1.0/B)\n",
    "    regroup['good_pcnt'] = regroup['good'].map(lambda x: x * 1.0 / G)\n",
    "    regroup['WOE'] = regroup.apply(lambda x: np.log(x.good_pcnt*1.0/x.bad_pcnt),axis = 1)\n",
    "    WOE_dict = regroup[[col,'WOE']].set_index(col).to_dict(orient='index')\n",
    "    for k, v in WOE_dict.items():\n",
    "        WOE_dict[k] = v['WOE']\n",
    "    IV = regroup.apply(lambda x: (x.good_pcnt-x.bad_pcnt)*np.log(x.good_pcnt*1.0/x.bad_pcnt),axis = 1)\n",
    "    IV = sum(IV)\n",
    "    return {\"WOE\": WOE_dict, 'IV':IV}"
   ]
  },
  {
   "cell_type": "markdown",
   "metadata": {},
   "source": [
    "## bad rate单调性"
   ]
  },
  {
   "cell_type": "markdown",
   "metadata": {},
   "source": [
    "确定排序后的变量是否单调"
   ]
  },
  {
   "cell_type": "code",
   "execution_count": 168,
   "metadata": {
    "collapsed": true
   },
   "outputs": [],
   "source": [
    "def BadRateMonotone(df, sortByVar, target,special_attribute = []):\n",
    "    '''\n",
    "    :param df: the dataset contains the column which should be monotone with the bad rate and bad column\n",
    "    :param sortByVar: the column which should be monotone with the bad rate\n",
    "    :param target: the bad column\n",
    "    :param special_attribute: some attributes should be excluded when checking monotone\n",
    "    :return:\n",
    "    '''\n",
    "    df2 = df.loc[~df[sortByVar].isin(special_attribute)]\n",
    "    if len(set(df2[sortByVar])) <= 2:\n",
    "        return True\n",
    "    df2 = df2.sort_values([sortByVar])\n",
    "    total = df2.groupby([sortByVar])[target].count()\n",
    "    total = pd.DataFrame({'total': total})\n",
    "    bad = df2.groupby([sortByVar])[target].sum()\n",
    "    bad = pd.DataFrame({'bad': bad})\n",
    "    regroup = total.merge(bad, left_index=True, right_index=True, how='left')\n",
    "    regroup.reset_index(level=0, inplace=True)\n",
    "    combined = zip(regroup['total'],regroup['bad'])\n",
    "    badRate = [x[1]*1.0/x[0] for x in combined]\n",
    "    badRateMonotone = [badRate[i]<badRate[i+1] and badRate[i] < badRate[i-1] or badRate[i]>badRate[i+1] and badRate[i] > badRate[i-1]\n",
    "                       for i in range(1,len(badRate)-1)]\n",
    "    Monotone = len(set(badRateMonotone))\n",
    "    if Monotone == 1:\n",
    "        return True\n",
    "    else:\n",
    "        return False"
   ]
  },
  {
   "cell_type": "markdown",
   "metadata": {},
   "source": [
    "## 0 bad rate的合并"
   ]
  },
  {
   "cell_type": "markdown",
   "metadata": {},
   "source": [
    "如果某个分类里面没有坏样本，可以与最小非0 bad rate组合并"
   ]
  },
  {
   "cell_type": "code",
   "execution_count": 169,
   "metadata": {
    "collapsed": true
   },
   "outputs": [],
   "source": [
    "def MergeBad0(df,col,target):\n",
    "    '''\n",
    "     :param df: dataframe containing feature and target\n",
    "     :param col: the feature that needs to be calculated the WOE and iv, usually categorical type\n",
    "     :param target: good/bad indicator\n",
    "     :return: WOE and IV in a dictionary\n",
    "     '''\n",
    "    total = df.groupby([col])[target].count()\n",
    "    total = pd.DataFrame({'total': total})\n",
    "    bad = df.groupby([col])[target].sum()\n",
    "    bad = pd.DataFrame({'bad': bad})\n",
    "    regroup = total.merge(bad, left_index=True, right_index=True, how='left')\n",
    "    regroup.reset_index(level=0, inplace=True)\n",
    "    regroup['bad_rate'] = regroup.apply(lambda x: x.bad*1.0/x.total,axis = 1)\n",
    "    regroup = regroup.sort_values(by = 'bad_rate')\n",
    "    col_regroup = [[i] for i in regroup[col]]\n",
    "    for i in range(regroup.shape[0]):\n",
    "        col_regroup[1] = col_regroup[0] + col_regroup[1]\n",
    "        col_regroup.pop(0)\n",
    "        if regroup['bad_rate'][i+1] > 0:\n",
    "            break\n",
    "    newGroup = {}\n",
    "    for i in range(len(col_regroup)):\n",
    "        for g2 in col_regroup[i]:\n",
    "            newGroup[g2] = 'Bin '+str(i)\n",
    "    return newGroup"
   ]
  },
  {
   "cell_type": "markdown",
   "metadata": {},
   "source": [
    "## 计算评分卡模型的KS和AR"
   ]
  },
  {
   "cell_type": "code",
   "execution_count": 170,
   "metadata": {
    "collapsed": true
   },
   "outputs": [],
   "source": [
    "def KS_AR(df, score, target):\n",
    "    '''\n",
    "    :param df: the dataset containing probability and bad indicator\n",
    "    :param score:\n",
    "    :param target:\n",
    "    :return:\n",
    "    '''\n",
    "    total = df.groupby([score])[target].count()\n",
    "    bad = df.groupby([score])[target].sum()\n",
    "    all = pd.DataFrame({'total':total, 'bad':bad})\n",
    "    all['good'] = all['total'] - all['bad']\n",
    "    all[score] = all.index\n",
    "    all = all.sort_values(by=score,ascending=False)\n",
    "    all.index = range(len(all))\n",
    "    all['badCumRate'] = all['bad'].cumsum() / all['bad'].sum()\n",
    "    all['goodCumRate'] = all['good'].cumsum() / all['good'].sum()\n",
    "    all['totalPcnt'] = all['total'] / all['total'].sum()\n",
    "    arList = [0.5 * all.loc[0, 'badCumRate'] * all.loc[0, 'totalPcnt']]\n",
    "    for j in range(1, len(all)):\n",
    "        ar0 = 0.5 * sum(all.loc[j - 1:j, 'badCumRate']) * all.loc[j, 'totalPcnt']\n",
    "        arList.append(ar0)\n",
    "    arIndex = (2 * sum(arList) - 1) / (all['good'].sum() * 1.0 / all['total'].sum())\n",
    "    KS = all.apply(lambda x: x.badCumRate - x.goodCumRate, axis=1)\n",
    "    return {'AR':arIndex, 'KS': max(KS)}"
   ]
  },
  {
   "cell_type": "markdown",
   "metadata": {},
   "source": [
    "## 拖欠相关特征"
   ]
  },
  {
   "cell_type": "code",
   "execution_count": 171,
   "metadata": {
    "collapsed": true
   },
   "outputs": [],
   "source": [
    "def DelqFeatures(event,window,type):\n",
    "    current = 12\n",
    "    start = 12 - window + 1\n",
    "    delq1 = [event[a] for a in ['Delq1_' + str(t) for t in range(current, start - 1, -1)]]\n",
    "    delq2 = [event[a] for a in ['Delq2_' + str(t) for t in range(current, start - 1, -1)]]\n",
    "    delq3 = [event[a] for a in ['Delq3_' + str(t) for t in range(current, start - 1, -1)]]\n",
    "    if type == 'max delq':\n",
    "        if max(delq3) == 1:\n",
    "            return 3\n",
    "        elif max(delq2) == 1:\n",
    "            return 2\n",
    "        elif max(delq1) == 1:\n",
    "            return 1\n",
    "        else:\n",
    "            return 0\n",
    "    if type in ['M0 times','M1 times', 'M2 times']:\n",
    "        if type.find('M0')>-1:\n",
    "            return sum(delq1)\n",
    "        elif type.find('M1')>-1:\n",
    "            return sum(delq2)\n",
    "        else:\n",
    "            return sum(delq3)"
   ]
  },
  {
   "cell_type": "markdown",
   "metadata": {},
   "source": [
    "## 额度使用率"
   ]
  },
  {
   "cell_type": "code",
   "execution_count": 172,
   "metadata": {
    "collapsed": true
   },
   "outputs": [],
   "source": [
    "def UrateFeatures(event, window, type):\n",
    "    current = 12\n",
    "    start = 12 - window + 1\n",
    "    monthlySpend = [event[a] for a in ['Spend_' + str(t) for t in range(current, start - 1, -1)]]\n",
    "    limit = event['Loan_Amount']\n",
    "    monthlyUrate = [x / limit for x in monthlySpend]\n",
    "    if type == 'mean utilization rate':\n",
    "        return np.mean(monthlyUrate)\n",
    "    if type == 'max utilization rate':\n",
    "        return max(monthlyUrate)\n",
    "    if type == 'increase utilization rate':\n",
    "        currentUrate = monthlyUrate[0:-1]\n",
    "        previousUrate = monthlyUrate[1:]\n",
    "        compareUrate = [int(x[0]>x[1]) for x in zip(currentUrate,previousUrate)]\n",
    "        return sum(compareUrate)"
   ]
  },
  {
   "cell_type": "markdown",
   "metadata": {},
   "source": [
    "## 还款特征"
   ]
  },
  {
   "cell_type": "code",
   "execution_count": 173,
   "metadata": {
    "collapsed": true
   },
   "outputs": [],
   "source": [
    "def PaymentFeatures(event, window, type):\n",
    "    current = 12\n",
    "    start = 12 - window + 1\n",
    "    currentPayment = [event[a] for a in ['Payment_' + str(t) for t in range(current, start - 1, -1)]]\n",
    "    previousOS = [event[a] for a in ['OS_' + str(t) for t in range(current-1, start - 2, -1)]]\n",
    "    monthlyPayRatio = []\n",
    "    for Pay_OS in zip(currentPayment,previousOS):\n",
    "        if Pay_OS[1]>0:\n",
    "            payRatio = Pay_OS[0]*1.0 / Pay_OS[1]\n",
    "            monthlyPayRatio.append(payRatio)\n",
    "        else:\n",
    "            monthlyPayRatio.append(1)\n",
    "    if type == 'min payment ratio':\n",
    "        return min(monthlyPayRatio)\n",
    "    if type == 'max payment ratio':\n",
    "        return max(monthlyPayRatio)\n",
    "    if type == 'mean payment ratio':\n",
    "        total_payment = sum(currentPayment)\n",
    "        total_OS = sum(previousOS)\n",
    "        if total_OS > 0:\n",
    "            return total_payment / total_OS\n",
    "        else:\n",
    "            return 1"
   ]
  },
  {
   "cell_type": "markdown",
   "metadata": {},
   "source": [
    "# 数据预处理"
   ]
  },
  {
   "cell_type": "code",
   "execution_count": 22,
   "metadata": {
    "collapsed": true
   },
   "outputs": [],
   "source": [
    "from sklearn.model_selection import train_test_split"
   ]
  },
  {
   "cell_type": "markdown",
   "metadata": {},
   "source": [
    "## 读取数据，衍生初始变量"
   ]
  },
  {
   "cell_type": "code",
   "execution_count": 25,
   "metadata": {
    "collapsed": false
   },
   "outputs": [
    {
     "data": {
      "text/html": [
       "<div>\n",
       "<style scoped>\n",
       "    .dataframe tbody tr th:only-of-type {\n",
       "        vertical-align: middle;\n",
       "    }\n",
       "\n",
       "    .dataframe tbody tr th {\n",
       "        vertical-align: top;\n",
       "    }\n",
       "\n",
       "    .dataframe thead th {\n",
       "        text-align: right;\n",
       "    }\n",
       "</style>\n",
       "<table border=\"1\" class=\"dataframe\">\n",
       "  <thead>\n",
       "    <tr style=\"text-align: right;\">\n",
       "      <th></th>\n",
       "      <th>CUST_ID</th>\n",
       "      <th>Loan_Amount</th>\n",
       "      <th>OS_0</th>\n",
       "      <th>OS_1</th>\n",
       "      <th>OS_2</th>\n",
       "      <th>OS_3</th>\n",
       "      <th>OS_4</th>\n",
       "      <th>OS_5</th>\n",
       "      <th>OS_6</th>\n",
       "      <th>OS_7</th>\n",
       "      <th>...</th>\n",
       "      <th>Delq3_4</th>\n",
       "      <th>Delq3_5</th>\n",
       "      <th>Delq3_6</th>\n",
       "      <th>Delq3_7</th>\n",
       "      <th>Delq3_8</th>\n",
       "      <th>Delq3_9</th>\n",
       "      <th>Delq3_10</th>\n",
       "      <th>Delq3_11</th>\n",
       "      <th>Delq3_12</th>\n",
       "      <th>label</th>\n",
       "    </tr>\n",
       "  </thead>\n",
       "  <tbody>\n",
       "    <tr>\n",
       "      <th>0</th>\n",
       "      <td>000404dec593450b94368544532bb579</td>\n",
       "      <td>10000</td>\n",
       "      <td>5310.22</td>\n",
       "      <td>3680.12</td>\n",
       "      <td>3512.74</td>\n",
       "      <td>7468.66</td>\n",
       "      <td>2550.43</td>\n",
       "      <td>6325.69</td>\n",
       "      <td>6943.82</td>\n",
       "      <td>5633.94</td>\n",
       "      <td>...</td>\n",
       "      <td>0</td>\n",
       "      <td>0</td>\n",
       "      <td>0</td>\n",
       "      <td>0</td>\n",
       "      <td>0</td>\n",
       "      <td>0</td>\n",
       "      <td>0</td>\n",
       "      <td>0</td>\n",
       "      <td>0</td>\n",
       "      <td>0</td>\n",
       "    </tr>\n",
       "    <tr>\n",
       "      <th>1</th>\n",
       "      <td>0004ce24722c4db0afa32127cce51992</td>\n",
       "      <td>228000</td>\n",
       "      <td>73922.81</td>\n",
       "      <td>186743.49</td>\n",
       "      <td>139290.57</td>\n",
       "      <td>101018.49</td>\n",
       "      <td>161864.21</td>\n",
       "      <td>122057.62</td>\n",
       "      <td>228720.27</td>\n",
       "      <td>307058.49</td>\n",
       "      <td>...</td>\n",
       "      <td>0</td>\n",
       "      <td>0</td>\n",
       "      <td>0</td>\n",
       "      <td>0</td>\n",
       "      <td>0</td>\n",
       "      <td>0</td>\n",
       "      <td>0</td>\n",
       "      <td>0</td>\n",
       "      <td>0</td>\n",
       "      <td>0</td>\n",
       "    </tr>\n",
       "    <tr>\n",
       "      <th>2</th>\n",
       "      <td>00054c7380bd40faad587eeec5f9f435</td>\n",
       "      <td>60000</td>\n",
       "      <td>18677.91</td>\n",
       "      <td>35112.55</td>\n",
       "      <td>35112.55</td>\n",
       "      <td>22020.02</td>\n",
       "      <td>2014.15</td>\n",
       "      <td>31394.62</td>\n",
       "      <td>50886.42</td>\n",
       "      <td>53461.14</td>\n",
       "      <td>...</td>\n",
       "      <td>0</td>\n",
       "      <td>0</td>\n",
       "      <td>0</td>\n",
       "      <td>0</td>\n",
       "      <td>0</td>\n",
       "      <td>0</td>\n",
       "      <td>0</td>\n",
       "      <td>0</td>\n",
       "      <td>0</td>\n",
       "      <td>0</td>\n",
       "    </tr>\n",
       "    <tr>\n",
       "      <th>3</th>\n",
       "      <td>00094b1ced704930b38717be0a659b8e</td>\n",
       "      <td>225000</td>\n",
       "      <td>98248.77</td>\n",
       "      <td>178035.08</td>\n",
       "      <td>134244.16</td>\n",
       "      <td>100451.27</td>\n",
       "      <td>165571.07</td>\n",
       "      <td>209789.58</td>\n",
       "      <td>390465.46</td>\n",
       "      <td>418383.76</td>\n",
       "      <td>...</td>\n",
       "      <td>0</td>\n",
       "      <td>0</td>\n",
       "      <td>0</td>\n",
       "      <td>0</td>\n",
       "      <td>0</td>\n",
       "      <td>0</td>\n",
       "      <td>0</td>\n",
       "      <td>0</td>\n",
       "      <td>0</td>\n",
       "      <td>0</td>\n",
       "    </tr>\n",
       "    <tr>\n",
       "      <th>4</th>\n",
       "      <td>000a438726224f0d8ef92dd20a7aea65</td>\n",
       "      <td>120000</td>\n",
       "      <td>46346.99</td>\n",
       "      <td>52467.11</td>\n",
       "      <td>74182.38</td>\n",
       "      <td>76529.49</td>\n",
       "      <td>14430.52</td>\n",
       "      <td>33478.25</td>\n",
       "      <td>451.20</td>\n",
       "      <td>14335.21</td>\n",
       "      <td>...</td>\n",
       "      <td>0</td>\n",
       "      <td>0</td>\n",
       "      <td>0</td>\n",
       "      <td>0</td>\n",
       "      <td>0</td>\n",
       "      <td>0</td>\n",
       "      <td>0</td>\n",
       "      <td>0</td>\n",
       "      <td>0</td>\n",
       "      <td>1</td>\n",
       "    </tr>\n",
       "  </tbody>\n",
       "</table>\n",
       "<p>5 rows × 76 columns</p>\n",
       "</div>"
      ],
      "text/plain": [
       "                            CUST_ID  Loan_Amount      OS_0       OS_1  \\\n",
       "0  000404dec593450b94368544532bb579        10000   5310.22    3680.12   \n",
       "1  0004ce24722c4db0afa32127cce51992       228000  73922.81  186743.49   \n",
       "2  00054c7380bd40faad587eeec5f9f435        60000  18677.91   35112.55   \n",
       "3  00094b1ced704930b38717be0a659b8e       225000  98248.77  178035.08   \n",
       "4  000a438726224f0d8ef92dd20a7aea65       120000  46346.99   52467.11   \n",
       "\n",
       "        OS_2       OS_3       OS_4       OS_5       OS_6       OS_7  ...    \\\n",
       "0    3512.74    7468.66    2550.43    6325.69    6943.82    5633.94  ...     \n",
       "1  139290.57  101018.49  161864.21  122057.62  228720.27  307058.49  ...     \n",
       "2   35112.55   22020.02    2014.15   31394.62   50886.42   53461.14  ...     \n",
       "3  134244.16  100451.27  165571.07  209789.58  390465.46  418383.76  ...     \n",
       "4   74182.38   76529.49   14430.52   33478.25     451.20   14335.21  ...     \n",
       "\n",
       "   Delq3_4  Delq3_5  Delq3_6  Delq3_7  Delq3_8  Delq3_9  Delq3_10  Delq3_11  \\\n",
       "0        0        0        0        0        0        0         0         0   \n",
       "1        0        0        0        0        0        0         0         0   \n",
       "2        0        0        0        0        0        0         0         0   \n",
       "3        0        0        0        0        0        0         0         0   \n",
       "4        0        0        0        0        0        0         0         0   \n",
       "\n",
       "   Delq3_12  label  \n",
       "0         0      0  \n",
       "1         0      0  \n",
       "2         0      0  \n",
       "3         0      0  \n",
       "4         0      1  \n",
       "\n",
       "[5 rows x 76 columns]"
      ]
     },
     "execution_count": 25,
     "metadata": {},
     "output_type": "execute_result"
    }
   ],
   "source": [
    "creditData = pd.read_csv(\"input/behavioural_data.csv\", header=0)\n",
    "creditData.head()"
   ]
  },
  {
   "cell_type": "code",
   "execution_count": 28,
   "metadata": {
    "collapsed": false
   },
   "outputs": [],
   "source": [
    "trainData, testData = train_test_split(creditData, test_size =0.3)\n",
    "\n",
    "trainData.to_csv(\"input/trainData.csv\", index=False)\n",
    "testData.to_csv(\"input/testData.csv\", index=False)"
   ]
  },
  {
   "cell_type": "code",
   "execution_count": 174,
   "metadata": {
    "collapsed": false
   },
   "outputs": [
    {
     "data": {
      "text/html": [
       "<div>\n",
       "<style scoped>\n",
       "    .dataframe tbody tr th:only-of-type {\n",
       "        vertical-align: middle;\n",
       "    }\n",
       "\n",
       "    .dataframe tbody tr th {\n",
       "        vertical-align: top;\n",
       "    }\n",
       "\n",
       "    .dataframe thead th {\n",
       "        text-align: right;\n",
       "    }\n",
       "</style>\n",
       "<table border=\"1\" class=\"dataframe\">\n",
       "  <thead>\n",
       "    <tr style=\"text-align: right;\">\n",
       "      <th></th>\n",
       "      <th>CUST_ID</th>\n",
       "      <th>Loan_Amount</th>\n",
       "      <th>OS_0</th>\n",
       "      <th>OS_1</th>\n",
       "      <th>OS_2</th>\n",
       "      <th>OS_3</th>\n",
       "      <th>OS_4</th>\n",
       "      <th>OS_5</th>\n",
       "      <th>OS_6</th>\n",
       "      <th>OS_7</th>\n",
       "      <th>...</th>\n",
       "      <th>M1FreqL6M_Bin_WOE</th>\n",
       "      <th>M1FreqL3M_Bin_WOE</th>\n",
       "      <th>maxDelqL3M_Bin_WOE</th>\n",
       "      <th>increaseUrateL3M_WOE</th>\n",
       "      <th>M0FreqL3M_WOE</th>\n",
       "      <th>log_odds</th>\n",
       "      <th>score</th>\n",
       "      <th>M2FreqL3M_Bin</th>\n",
       "      <th>maxDelqL6M_Bin</th>\n",
       "      <th>maxDelqL12M_Bin</th>\n",
       "    </tr>\n",
       "  </thead>\n",
       "  <tbody>\n",
       "    <tr>\n",
       "      <th>18034</th>\n",
       "      <td>854af2a381fb4808b68ce881dac31861</td>\n",
       "      <td>160000</td>\n",
       "      <td>87333.60</td>\n",
       "      <td>74898.99</td>\n",
       "      <td>60380.02</td>\n",
       "      <td>174725.91</td>\n",
       "      <td>218590.81</td>\n",
       "      <td>361676.90</td>\n",
       "      <td>361676.90</td>\n",
       "      <td>361676.90</td>\n",
       "      <td>...</td>\n",
       "      <td>-0.560950</td>\n",
       "      <td>1.124382</td>\n",
       "      <td>1.124382</td>\n",
       "      <td>0.530349</td>\n",
       "      <td>0.765391</td>\n",
       "      <td>-3.723321</td>\n",
       "      <td>768.580824</td>\n",
       "      <td>0</td>\n",
       "      <td>1</td>\n",
       "      <td>1</td>\n",
       "    </tr>\n",
       "    <tr>\n",
       "      <th>10983</th>\n",
       "      <td>51124f8e05804810badcdaccdf8df2b5</td>\n",
       "      <td>180000</td>\n",
       "      <td>84561.60</td>\n",
       "      <td>105495.15</td>\n",
       "      <td>211086.21</td>\n",
       "      <td>118848.36</td>\n",
       "      <td>212345.63</td>\n",
       "      <td>212345.63</td>\n",
       "      <td>253536.50</td>\n",
       "      <td>225999.15</td>\n",
       "      <td>...</td>\n",
       "      <td>-0.560950</td>\n",
       "      <td>-1.815061</td>\n",
       "      <td>-1.815061</td>\n",
       "      <td>0.071547</td>\n",
       "      <td>-2.150914</td>\n",
       "      <td>1.267346</td>\n",
       "      <td>408.580313</td>\n",
       "      <td>0</td>\n",
       "      <td>1</td>\n",
       "      <td>1</td>\n",
       "    </tr>\n",
       "    <tr>\n",
       "      <th>3474</th>\n",
       "      <td>19a10a52d51b433ba0bf7aa148887c2f</td>\n",
       "      <td>150000</td>\n",
       "      <td>48511.27</td>\n",
       "      <td>102695.16</td>\n",
       "      <td>56881.26</td>\n",
       "      <td>78005.09</td>\n",
       "      <td>42530.23</td>\n",
       "      <td>32715.40</td>\n",
       "      <td>146641.39</td>\n",
       "      <td>202806.78</td>\n",
       "      <td>...</td>\n",
       "      <td>1.119375</td>\n",
       "      <td>1.124382</td>\n",
       "      <td>1.124382</td>\n",
       "      <td>0.530349</td>\n",
       "      <td>0.765391</td>\n",
       "      <td>-4.039129</td>\n",
       "      <td>791.361582</td>\n",
       "      <td>0</td>\n",
       "      <td>0</td>\n",
       "      <td>0</td>\n",
       "    </tr>\n",
       "    <tr>\n",
       "      <th>17199</th>\n",
       "      <td>7f5c446c2e0c4c4b910395c36f381a5e</td>\n",
       "      <td>150000</td>\n",
       "      <td>67501.95</td>\n",
       "      <td>143210.41</td>\n",
       "      <td>185808.39</td>\n",
       "      <td>53360.39</td>\n",
       "      <td>93018.89</td>\n",
       "      <td>155887.69</td>\n",
       "      <td>190029.53</td>\n",
       "      <td>196370.22</td>\n",
       "      <td>...</td>\n",
       "      <td>-0.560950</td>\n",
       "      <td>1.124382</td>\n",
       "      <td>1.124382</td>\n",
       "      <td>0.071547</td>\n",
       "      <td>-2.150914</td>\n",
       "      <td>-1.958249</td>\n",
       "      <td>641.257833</td>\n",
       "      <td>0</td>\n",
       "      <td>1</td>\n",
       "      <td>1</td>\n",
       "    </tr>\n",
       "    <tr>\n",
       "      <th>32017</th>\n",
       "      <td>c36d3c0621b24d8a8791be099cbf599f</td>\n",
       "      <td>110000</td>\n",
       "      <td>27831.64</td>\n",
       "      <td>14298.98</td>\n",
       "      <td>64785.09</td>\n",
       "      <td>128057.44</td>\n",
       "      <td>152375.37</td>\n",
       "      <td>47201.29</td>\n",
       "      <td>5458.29</td>\n",
       "      <td>66488.73</td>\n",
       "      <td>...</td>\n",
       "      <td>1.119375</td>\n",
       "      <td>1.124382</td>\n",
       "      <td>1.124382</td>\n",
       "      <td>-0.422502</td>\n",
       "      <td>1.111537</td>\n",
       "      <td>-2.767170</td>\n",
       "      <td>699.609089</td>\n",
       "      <td>0</td>\n",
       "      <td>0</td>\n",
       "      <td>1</td>\n",
       "    </tr>\n",
       "  </tbody>\n",
       "</table>\n",
       "<p>5 rows × 136 columns</p>\n",
       "</div>"
      ],
      "text/plain": [
       "                                CUST_ID  Loan_Amount      OS_0       OS_1  \\\n",
       "18034  854af2a381fb4808b68ce881dac31861       160000  87333.60   74898.99   \n",
       "10983  51124f8e05804810badcdaccdf8df2b5       180000  84561.60  105495.15   \n",
       "3474   19a10a52d51b433ba0bf7aa148887c2f       150000  48511.27  102695.16   \n",
       "17199  7f5c446c2e0c4c4b910395c36f381a5e       150000  67501.95  143210.41   \n",
       "32017  c36d3c0621b24d8a8791be099cbf599f       110000  27831.64   14298.98   \n",
       "\n",
       "            OS_2       OS_3       OS_4       OS_5       OS_6       OS_7  \\\n",
       "18034   60380.02  174725.91  218590.81  361676.90  361676.90  361676.90   \n",
       "10983  211086.21  118848.36  212345.63  212345.63  253536.50  225999.15   \n",
       "3474    56881.26   78005.09   42530.23   32715.40  146641.39  202806.78   \n",
       "17199  185808.39   53360.39   93018.89  155887.69  190029.53  196370.22   \n",
       "32017   64785.09  128057.44  152375.37   47201.29    5458.29   66488.73   \n",
       "\n",
       "            ...         M1FreqL6M_Bin_WOE  M1FreqL3M_Bin_WOE  \\\n",
       "18034       ...                 -0.560950           1.124382   \n",
       "10983       ...                 -0.560950          -1.815061   \n",
       "3474        ...                  1.119375           1.124382   \n",
       "17199       ...                 -0.560950           1.124382   \n",
       "32017       ...                  1.119375           1.124382   \n",
       "\n",
       "       maxDelqL3M_Bin_WOE  increaseUrateL3M_WOE  M0FreqL3M_WOE  log_odds  \\\n",
       "18034            1.124382              0.530349       0.765391 -3.723321   \n",
       "10983           -1.815061              0.071547      -2.150914  1.267346   \n",
       "3474             1.124382              0.530349       0.765391 -4.039129   \n",
       "17199            1.124382              0.071547      -2.150914 -1.958249   \n",
       "32017            1.124382             -0.422502       1.111537 -2.767170   \n",
       "\n",
       "            score  M2FreqL3M_Bin  maxDelqL6M_Bin  maxDelqL12M_Bin  \n",
       "18034  768.580824              0               1                1  \n",
       "10983  408.580313              0               1                1  \n",
       "3474   791.361582              0               0                0  \n",
       "17199  641.257833              0               1                1  \n",
       "32017  699.609089              0               0                1  \n",
       "\n",
       "[5 rows x 136 columns]"
      ]
     },
     "execution_count": 174,
     "metadata": {},
     "output_type": "execute_result"
    }
   ],
   "source": [
    "trianData = pd.read_csv(\"input/trainData.csv\", header=0)\n",
    "trainData.head()"
   ]
  },
  {
   "cell_type": "code",
   "execution_count": 175,
   "metadata": {
    "collapsed": false
   },
   "outputs": [
    {
     "data": {
      "text/html": [
       "<div>\n",
       "<style scoped>\n",
       "    .dataframe tbody tr th:only-of-type {\n",
       "        vertical-align: middle;\n",
       "    }\n",
       "\n",
       "    .dataframe tbody tr th {\n",
       "        vertical-align: top;\n",
       "    }\n",
       "\n",
       "    .dataframe thead th {\n",
       "        text-align: right;\n",
       "    }\n",
       "</style>\n",
       "<table border=\"1\" class=\"dataframe\">\n",
       "  <thead>\n",
       "    <tr style=\"text-align: right;\">\n",
       "      <th></th>\n",
       "      <th>CUST_ID</th>\n",
       "      <th>Loan_Amount</th>\n",
       "      <th>OS_0</th>\n",
       "      <th>OS_1</th>\n",
       "      <th>OS_2</th>\n",
       "      <th>OS_3</th>\n",
       "      <th>OS_4</th>\n",
       "      <th>OS_5</th>\n",
       "      <th>OS_6</th>\n",
       "      <th>OS_7</th>\n",
       "      <th>...</th>\n",
       "      <th>Delq3_4</th>\n",
       "      <th>Delq3_5</th>\n",
       "      <th>Delq3_6</th>\n",
       "      <th>Delq3_7</th>\n",
       "      <th>Delq3_8</th>\n",
       "      <th>Delq3_9</th>\n",
       "      <th>Delq3_10</th>\n",
       "      <th>Delq3_11</th>\n",
       "      <th>Delq3_12</th>\n",
       "      <th>label</th>\n",
       "    </tr>\n",
       "  </thead>\n",
       "  <tbody>\n",
       "    <tr>\n",
       "      <th>0</th>\n",
       "      <td>cf031777c4fa4338b70c82a726f85aee</td>\n",
       "      <td>130000</td>\n",
       "      <td>51409.89</td>\n",
       "      <td>51409.89</td>\n",
       "      <td>125432.89</td>\n",
       "      <td>166238.80</td>\n",
       "      <td>166238.80</td>\n",
       "      <td>216749.16</td>\n",
       "      <td>90766.62</td>\n",
       "      <td>57861.35</td>\n",
       "      <td>...</td>\n",
       "      <td>1</td>\n",
       "      <td>1</td>\n",
       "      <td>0</td>\n",
       "      <td>0</td>\n",
       "      <td>0</td>\n",
       "      <td>0</td>\n",
       "      <td>0</td>\n",
       "      <td>0</td>\n",
       "      <td>0</td>\n",
       "      <td>0</td>\n",
       "    </tr>\n",
       "    <tr>\n",
       "      <th>1</th>\n",
       "      <td>201f5714b2e24e0896202434cb546dae</td>\n",
       "      <td>170000</td>\n",
       "      <td>73984.80</td>\n",
       "      <td>145732.36</td>\n",
       "      <td>190779.42</td>\n",
       "      <td>-0.58</td>\n",
       "      <td>-0.58</td>\n",
       "      <td>78748.78</td>\n",
       "      <td>74238.81</td>\n",
       "      <td>65353.99</td>\n",
       "      <td>...</td>\n",
       "      <td>0</td>\n",
       "      <td>0</td>\n",
       "      <td>0</td>\n",
       "      <td>0</td>\n",
       "      <td>0</td>\n",
       "      <td>0</td>\n",
       "      <td>0</td>\n",
       "      <td>0</td>\n",
       "      <td>0</td>\n",
       "      <td>0</td>\n",
       "    </tr>\n",
       "    <tr>\n",
       "      <th>2</th>\n",
       "      <td>3b718eaa0fef44d6ba6024d4ed5d4178</td>\n",
       "      <td>150000</td>\n",
       "      <td>52326.80</td>\n",
       "      <td>72760.75</td>\n",
       "      <td>55609.48</td>\n",
       "      <td>105063.23</td>\n",
       "      <td>201507.93</td>\n",
       "      <td>57405.56</td>\n",
       "      <td>34905.38</td>\n",
       "      <td>125096.83</td>\n",
       "      <td>...</td>\n",
       "      <td>0</td>\n",
       "      <td>0</td>\n",
       "      <td>0</td>\n",
       "      <td>0</td>\n",
       "      <td>0</td>\n",
       "      <td>0</td>\n",
       "      <td>0</td>\n",
       "      <td>0</td>\n",
       "      <td>0</td>\n",
       "      <td>0</td>\n",
       "    </tr>\n",
       "    <tr>\n",
       "      <th>3</th>\n",
       "      <td>816aa197a6a54e1798323fdb1b66acf1</td>\n",
       "      <td>166000</td>\n",
       "      <td>51547.20</td>\n",
       "      <td>108297.26</td>\n",
       "      <td>160025.74</td>\n",
       "      <td>22601.74</td>\n",
       "      <td>49081.14</td>\n",
       "      <td>154238.74</td>\n",
       "      <td>238809.34</td>\n",
       "      <td>119499.26</td>\n",
       "      <td>...</td>\n",
       "      <td>0</td>\n",
       "      <td>0</td>\n",
       "      <td>0</td>\n",
       "      <td>0</td>\n",
       "      <td>0</td>\n",
       "      <td>0</td>\n",
       "      <td>0</td>\n",
       "      <td>0</td>\n",
       "      <td>0</td>\n",
       "      <td>1</td>\n",
       "    </tr>\n",
       "    <tr>\n",
       "      <th>4</th>\n",
       "      <td>e0524b7f88974ec398e533d763461531</td>\n",
       "      <td>120000</td>\n",
       "      <td>59313.92</td>\n",
       "      <td>73233.64</td>\n",
       "      <td>77066.37</td>\n",
       "      <td>109706.92</td>\n",
       "      <td>146872.14</td>\n",
       "      <td>88873.41</td>\n",
       "      <td>52767.30</td>\n",
       "      <td>148760.22</td>\n",
       "      <td>...</td>\n",
       "      <td>0</td>\n",
       "      <td>0</td>\n",
       "      <td>0</td>\n",
       "      <td>0</td>\n",
       "      <td>0</td>\n",
       "      <td>0</td>\n",
       "      <td>0</td>\n",
       "      <td>0</td>\n",
       "      <td>0</td>\n",
       "      <td>0</td>\n",
       "    </tr>\n",
       "  </tbody>\n",
       "</table>\n",
       "<p>5 rows × 76 columns</p>\n",
       "</div>"
      ],
      "text/plain": [
       "                            CUST_ID  Loan_Amount      OS_0       OS_1  \\\n",
       "0  cf031777c4fa4338b70c82a726f85aee       130000  51409.89   51409.89   \n",
       "1  201f5714b2e24e0896202434cb546dae       170000  73984.80  145732.36   \n",
       "2  3b718eaa0fef44d6ba6024d4ed5d4178       150000  52326.80   72760.75   \n",
       "3  816aa197a6a54e1798323fdb1b66acf1       166000  51547.20  108297.26   \n",
       "4  e0524b7f88974ec398e533d763461531       120000  59313.92   73233.64   \n",
       "\n",
       "        OS_2       OS_3       OS_4       OS_5       OS_6       OS_7  ...    \\\n",
       "0  125432.89  166238.80  166238.80  216749.16   90766.62   57861.35  ...     \n",
       "1  190779.42      -0.58      -0.58   78748.78   74238.81   65353.99  ...     \n",
       "2   55609.48  105063.23  201507.93   57405.56   34905.38  125096.83  ...     \n",
       "3  160025.74   22601.74   49081.14  154238.74  238809.34  119499.26  ...     \n",
       "4   77066.37  109706.92  146872.14   88873.41   52767.30  148760.22  ...     \n",
       "\n",
       "   Delq3_4  Delq3_5  Delq3_6  Delq3_7  Delq3_8  Delq3_9  Delq3_10  Delq3_11  \\\n",
       "0        1        1        0        0        0        0         0         0   \n",
       "1        0        0        0        0        0        0         0         0   \n",
       "2        0        0        0        0        0        0         0         0   \n",
       "3        0        0        0        0        0        0         0         0   \n",
       "4        0        0        0        0        0        0         0         0   \n",
       "\n",
       "   Delq3_12  label  \n",
       "0         0      0  \n",
       "1         0      0  \n",
       "2         0      0  \n",
       "3         0      1  \n",
       "4         0      0  \n",
       "\n",
       "[5 rows x 76 columns]"
      ]
     },
     "execution_count": 175,
     "metadata": {},
     "output_type": "execute_result"
    }
   ],
   "source": [
    "testData = pd.read_csv(\"input/testData.csv\", header=0)\n",
    "testData.head()"
   ]
  },
  {
   "cell_type": "code",
   "execution_count": 176,
   "metadata": {
    "collapsed": true
   },
   "outputs": [],
   "source": [
    "allFeatures = []"
   ]
  },
  {
   "cell_type": "markdown",
   "metadata": {},
   "source": [
    "## 考虑过去1个月， 3个月，6个月，12个月"
   ]
  },
  {
   "cell_type": "markdown",
   "metadata": {},
   "source": [
    "逾期类型的特征在评分卡（预测违约行为）中，一般是非常显著的变量。\n",
    "通常设定时间窗口，可以衍生以下类型的逾期变量"
   ]
  },
  {
   "cell_type": "code",
   "execution_count": 177,
   "metadata": {
    "collapsed": false,
    "scrolled": true
   },
   "outputs": [
    {
     "name": "stderr",
     "output_type": "stream",
     "text": [
      "C:\\Anaconda3\\lib\\site-packages\\ipykernel\\__main__.py:6: SettingWithCopyWarning: \n",
      "A value is trying to be set on a copy of a slice from a DataFrame.\n",
      "Try using .loc[row_indexer,col_indexer] = value instead\n",
      "\n",
      "See the caveats in the documentation: http://pandas.pydata.org/pandas-docs/stable/indexing.html#indexing-view-versus-copy\n",
      "C:\\Anaconda3\\lib\\site-packages\\ipykernel\\__main__.py:10: SettingWithCopyWarning: \n",
      "A value is trying to be set on a copy of a slice from a DataFrame.\n",
      "Try using .loc[row_indexer,col_indexer] = value instead\n",
      "\n",
      "See the caveats in the documentation: http://pandas.pydata.org/pandas-docs/stable/indexing.html#indexing-view-versus-copy\n",
      "C:\\Anaconda3\\lib\\site-packages\\ipykernel\\__main__.py:13: SettingWithCopyWarning: \n",
      "A value is trying to be set on a copy of a slice from a DataFrame.\n",
      "Try using .loc[row_indexer,col_indexer] = value instead\n",
      "\n",
      "See the caveats in the documentation: http://pandas.pydata.org/pandas-docs/stable/indexing.html#indexing-view-versus-copy\n",
      "C:\\Anaconda3\\lib\\site-packages\\ipykernel\\__main__.py:16: SettingWithCopyWarning: \n",
      "A value is trying to be set on a copy of a slice from a DataFrame.\n",
      "Try using .loc[row_indexer,col_indexer] = value instead\n",
      "\n",
      "See the caveats in the documentation: http://pandas.pydata.org/pandas-docs/stable/indexing.html#indexing-view-versus-copy\n"
     ]
    },
    {
     "data": {
      "text/html": [
       "<div>\n",
       "<style scoped>\n",
       "    .dataframe tbody tr th:only-of-type {\n",
       "        vertical-align: middle;\n",
       "    }\n",
       "\n",
       "    .dataframe tbody tr th {\n",
       "        vertical-align: top;\n",
       "    }\n",
       "\n",
       "    .dataframe thead th {\n",
       "        text-align: right;\n",
       "    }\n",
       "</style>\n",
       "<table border=\"1\" class=\"dataframe\">\n",
       "  <thead>\n",
       "    <tr style=\"text-align: right;\">\n",
       "      <th></th>\n",
       "      <th>maxDelqL1M</th>\n",
       "      <th>maxDelqL3M</th>\n",
       "      <th>maxDelqL6M</th>\n",
       "      <th>maxDelqL12M</th>\n",
       "      <th>M0FreqL1M</th>\n",
       "      <th>M0FreqL3M</th>\n",
       "      <th>M0FreqL6M</th>\n",
       "      <th>M0FreqL12M</th>\n",
       "      <th>M1FreqL1M</th>\n",
       "      <th>M1FreqL3M</th>\n",
       "      <th>M1FreqL6M</th>\n",
       "      <th>M1FreqL12M</th>\n",
       "      <th>M2FreqL1M</th>\n",
       "      <th>M2FreqL3M</th>\n",
       "      <th>M2FreqL6M</th>\n",
       "      <th>M2FreqL12M</th>\n",
       "    </tr>\n",
       "  </thead>\n",
       "  <tbody>\n",
       "    <tr>\n",
       "      <th>18034</th>\n",
       "      <td>1</td>\n",
       "      <td>1</td>\n",
       "      <td>2</td>\n",
       "      <td>2</td>\n",
       "      <td>1</td>\n",
       "      <td>1</td>\n",
       "      <td>4</td>\n",
       "      <td>7</td>\n",
       "      <td>0</td>\n",
       "      <td>0</td>\n",
       "      <td>1</td>\n",
       "      <td>1</td>\n",
       "      <td>0</td>\n",
       "      <td>0</td>\n",
       "      <td>0</td>\n",
       "      <td>0</td>\n",
       "    </tr>\n",
       "    <tr>\n",
       "      <th>10983</th>\n",
       "      <td>2</td>\n",
       "      <td>2</td>\n",
       "      <td>2</td>\n",
       "      <td>3</td>\n",
       "      <td>1</td>\n",
       "      <td>3</td>\n",
       "      <td>4</td>\n",
       "      <td>9</td>\n",
       "      <td>1</td>\n",
       "      <td>1</td>\n",
       "      <td>1</td>\n",
       "      <td>4</td>\n",
       "      <td>0</td>\n",
       "      <td>0</td>\n",
       "      <td>0</td>\n",
       "      <td>1</td>\n",
       "    </tr>\n",
       "    <tr>\n",
       "      <th>3474</th>\n",
       "      <td>1</td>\n",
       "      <td>1</td>\n",
       "      <td>1</td>\n",
       "      <td>1</td>\n",
       "      <td>1</td>\n",
       "      <td>1</td>\n",
       "      <td>3</td>\n",
       "      <td>4</td>\n",
       "      <td>0</td>\n",
       "      <td>0</td>\n",
       "      <td>0</td>\n",
       "      <td>0</td>\n",
       "      <td>0</td>\n",
       "      <td>0</td>\n",
       "      <td>0</td>\n",
       "      <td>0</td>\n",
       "    </tr>\n",
       "    <tr>\n",
       "      <th>17199</th>\n",
       "      <td>1</td>\n",
       "      <td>1</td>\n",
       "      <td>2</td>\n",
       "      <td>2</td>\n",
       "      <td>1</td>\n",
       "      <td>3</td>\n",
       "      <td>5</td>\n",
       "      <td>9</td>\n",
       "      <td>0</td>\n",
       "      <td>0</td>\n",
       "      <td>1</td>\n",
       "      <td>2</td>\n",
       "      <td>0</td>\n",
       "      <td>0</td>\n",
       "      <td>0</td>\n",
       "      <td>0</td>\n",
       "    </tr>\n",
       "    <tr>\n",
       "      <th>32017</th>\n",
       "      <td>0</td>\n",
       "      <td>0</td>\n",
       "      <td>0</td>\n",
       "      <td>2</td>\n",
       "      <td>0</td>\n",
       "      <td>0</td>\n",
       "      <td>0</td>\n",
       "      <td>2</td>\n",
       "      <td>0</td>\n",
       "      <td>0</td>\n",
       "      <td>0</td>\n",
       "      <td>1</td>\n",
       "      <td>0</td>\n",
       "      <td>0</td>\n",
       "      <td>0</td>\n",
       "      <td>0</td>\n",
       "    </tr>\n",
       "    <tr>\n",
       "      <th>36102</th>\n",
       "      <td>1</td>\n",
       "      <td>1</td>\n",
       "      <td>1</td>\n",
       "      <td>1</td>\n",
       "      <td>1</td>\n",
       "      <td>1</td>\n",
       "      <td>2</td>\n",
       "      <td>6</td>\n",
       "      <td>0</td>\n",
       "      <td>0</td>\n",
       "      <td>0</td>\n",
       "      <td>0</td>\n",
       "      <td>0</td>\n",
       "      <td>0</td>\n",
       "      <td>0</td>\n",
       "      <td>0</td>\n",
       "    </tr>\n",
       "    <tr>\n",
       "      <th>13019</th>\n",
       "      <td>0</td>\n",
       "      <td>0</td>\n",
       "      <td>1</td>\n",
       "      <td>1</td>\n",
       "      <td>0</td>\n",
       "      <td>0</td>\n",
       "      <td>2</td>\n",
       "      <td>5</td>\n",
       "      <td>0</td>\n",
       "      <td>0</td>\n",
       "      <td>0</td>\n",
       "      <td>0</td>\n",
       "      <td>0</td>\n",
       "      <td>0</td>\n",
       "      <td>0</td>\n",
       "      <td>0</td>\n",
       "    </tr>\n",
       "    <tr>\n",
       "      <th>35223</th>\n",
       "      <td>0</td>\n",
       "      <td>2</td>\n",
       "      <td>2</td>\n",
       "      <td>2</td>\n",
       "      <td>0</td>\n",
       "      <td>2</td>\n",
       "      <td>3</td>\n",
       "      <td>5</td>\n",
       "      <td>0</td>\n",
       "      <td>1</td>\n",
       "      <td>1</td>\n",
       "      <td>1</td>\n",
       "      <td>0</td>\n",
       "      <td>0</td>\n",
       "      <td>0</td>\n",
       "      <td>0</td>\n",
       "    </tr>\n",
       "    <tr>\n",
       "      <th>22622</th>\n",
       "      <td>0</td>\n",
       "      <td>2</td>\n",
       "      <td>2</td>\n",
       "      <td>2</td>\n",
       "      <td>0</td>\n",
       "      <td>2</td>\n",
       "      <td>2</td>\n",
       "      <td>3</td>\n",
       "      <td>0</td>\n",
       "      <td>1</td>\n",
       "      <td>1</td>\n",
       "      <td>1</td>\n",
       "      <td>0</td>\n",
       "      <td>0</td>\n",
       "      <td>0</td>\n",
       "      <td>0</td>\n",
       "    </tr>\n",
       "    <tr>\n",
       "      <th>4024</th>\n",
       "      <td>1</td>\n",
       "      <td>1</td>\n",
       "      <td>1</td>\n",
       "      <td>1</td>\n",
       "      <td>1</td>\n",
       "      <td>3</td>\n",
       "      <td>3</td>\n",
       "      <td>4</td>\n",
       "      <td>0</td>\n",
       "      <td>0</td>\n",
       "      <td>0</td>\n",
       "      <td>0</td>\n",
       "      <td>0</td>\n",
       "      <td>0</td>\n",
       "      <td>0</td>\n",
       "      <td>0</td>\n",
       "    </tr>\n",
       "  </tbody>\n",
       "</table>\n",
       "</div>"
      ],
      "text/plain": [
       "       maxDelqL1M  maxDelqL3M  maxDelqL6M  maxDelqL12M  M0FreqL1M  M0FreqL3M  \\\n",
       "18034           1           1           2            2          1          1   \n",
       "10983           2           2           2            3          1          3   \n",
       "3474            1           1           1            1          1          1   \n",
       "17199           1           1           2            2          1          3   \n",
       "32017           0           0           0            2          0          0   \n",
       "36102           1           1           1            1          1          1   \n",
       "13019           0           0           1            1          0          0   \n",
       "35223           0           2           2            2          0          2   \n",
       "22622           0           2           2            2          0          2   \n",
       "4024            1           1           1            1          1          3   \n",
       "\n",
       "       M0FreqL6M  M0FreqL12M  M1FreqL1M  M1FreqL3M  M1FreqL6M  M1FreqL12M  \\\n",
       "18034          4           7          0          0          1           1   \n",
       "10983          4           9          1          1          1           4   \n",
       "3474           3           4          0          0          0           0   \n",
       "17199          5           9          0          0          1           2   \n",
       "32017          0           2          0          0          0           1   \n",
       "36102          2           6          0          0          0           0   \n",
       "13019          2           5          0          0          0           0   \n",
       "35223          3           5          0          1          1           1   \n",
       "22622          2           3          0          1          1           1   \n",
       "4024           3           4          0          0          0           0   \n",
       "\n",
       "       M2FreqL1M  M2FreqL3M  M2FreqL6M  M2FreqL12M  \n",
       "18034          0          0          0           0  \n",
       "10983          0          0          0           1  \n",
       "3474           0          0          0           0  \n",
       "17199          0          0          0           0  \n",
       "32017          0          0          0           0  \n",
       "36102          0          0          0           0  \n",
       "13019          0          0          0           0  \n",
       "35223          0          0          0           0  \n",
       "22622          0          0          0           0  \n",
       "4024           0          0          0           0  "
      ]
     },
     "execution_count": 177,
     "metadata": {},
     "output_type": "execute_result"
    }
   ],
   "source": [
    "# trainData = trainData[:100]\n",
    "\n",
    "for t in [1, 3, 6, 12]:\n",
    "    # 1.过去t时间窗口内的最大逾期状态\n",
    "    allFeatures.append(\"maxDelqL\" + str(t) + \"M\")\n",
    "    trainData[\"maxDelqL\" + str(t) + \"M\"] = trainData.apply(lambda x: DelqFeatures(x, t, \"max delq\"), axis=1)\n",
    "    \n",
    "    # 2.过去t时间窗口内的M0, M1, M2的次数\n",
    "    allFeatures.append(\"M0FreqL\" + str(t) + \"M\")\n",
    "    trainData[\"M0FreqL\" + str(t) + \"M\"] = trainData.apply(lambda x: DelqFeatures(x, t, \"M0 times\"), axis=1)\n",
    "    \n",
    "    allFeatures.append(\"M1FreqL\" + str(t) + \"M\")\n",
    "    trainData[\"M1FreqL\" + str(t) + \"M\"] = trainData.apply(lambda x: DelqFeatures(x, t, \"M1 times\"), axis=1)\n",
    "    \n",
    "    allFeatures.append(\"M2FreqL\" + str(t) + \"M\")\n",
    "    trainData[\"M2FreqL\" + str(t) + \"M\"] = trainData.apply(lambda x: DelqFeatures(x, t, \"M2 times\"), axis=1)\n",
    "    \n",
    "    \n",
    "trainData[[\"maxDelqL1M\", \"maxDelqL3M\", \"maxDelqL6M\", \"maxDelqL12M\", \n",
    "           \"M0FreqL1M\", \"M0FreqL3M\", \"M0FreqL6M\", \"M0FreqL12M\", \n",
    "           \"M1FreqL1M\", \"M1FreqL3M\", \"M1FreqL6M\", \"M1FreqL12M\", \n",
    "           \"M2FreqL1M\", \"M2FreqL3M\", \"M2FreqL6M\", \"M2FreqL12M\"]][:10]"
   ]
  },
  {
   "cell_type": "markdown",
   "metadata": {
    "collapsed": true
   },
   "source": [
    "## 额度使用率"
   ]
  },
  {
   "cell_type": "markdown",
   "metadata": {},
   "source": [
    "额度使用率类型特征在评分卡模型中，通常是与违约高度相关的"
   ]
  },
  {
   "cell_type": "code",
   "execution_count": 178,
   "metadata": {
    "collapsed": false
   },
   "outputs": [
    {
     "name": "stderr",
     "output_type": "stream",
     "text": [
      "C:\\Anaconda3\\lib\\site-packages\\ipykernel\\__main__.py:5: SettingWithCopyWarning: \n",
      "A value is trying to be set on a copy of a slice from a DataFrame.\n",
      "Try using .loc[row_indexer,col_indexer] = value instead\n",
      "\n",
      "See the caveats in the documentation: http://pandas.pydata.org/pandas-docs/stable/indexing.html#indexing-view-versus-copy\n",
      "C:\\Anaconda3\\lib\\site-packages\\ipykernel\\__main__.py:9: SettingWithCopyWarning: \n",
      "A value is trying to be set on a copy of a slice from a DataFrame.\n",
      "Try using .loc[row_indexer,col_indexer] = value instead\n",
      "\n",
      "See the caveats in the documentation: http://pandas.pydata.org/pandas-docs/stable/indexing.html#indexing-view-versus-copy\n",
      "C:\\Anaconda3\\lib\\site-packages\\ipykernel\\__main__.py:14: SettingWithCopyWarning: \n",
      "A value is trying to be set on a copy of a slice from a DataFrame.\n",
      "Try using .loc[row_indexer,col_indexer] = value instead\n",
      "\n",
      "See the caveats in the documentation: http://pandas.pydata.org/pandas-docs/stable/indexing.html#indexing-view-versus-copy\n"
     ]
    },
    {
     "data": {
      "text/html": [
       "<div>\n",
       "<style scoped>\n",
       "    .dataframe tbody tr th:only-of-type {\n",
       "        vertical-align: middle;\n",
       "    }\n",
       "\n",
       "    .dataframe tbody tr th {\n",
       "        vertical-align: top;\n",
       "    }\n",
       "\n",
       "    .dataframe thead th {\n",
       "        text-align: right;\n",
       "    }\n",
       "</style>\n",
       "<table border=\"1\" class=\"dataframe\">\n",
       "  <thead>\n",
       "    <tr style=\"text-align: right;\">\n",
       "      <th></th>\n",
       "      <th>maxUrateL1M</th>\n",
       "      <th>maxUrateL3M</th>\n",
       "      <th>maxUrateL6M</th>\n",
       "      <th>maxUrateL12M</th>\n",
       "      <th>avgUrateL1M</th>\n",
       "      <th>avgUrateL3M</th>\n",
       "      <th>avgUrateL6M</th>\n",
       "      <th>avgUrateL12M</th>\n",
       "      <th>increaseUrateL3M</th>\n",
       "      <th>increaseUrateL6M</th>\n",
       "      <th>increaseUrateL12M</th>\n",
       "    </tr>\n",
       "  </thead>\n",
       "  <tbody>\n",
       "    <tr>\n",
       "      <th>18034</th>\n",
       "      <td>0.000000</td>\n",
       "      <td>0.074940</td>\n",
       "      <td>0.531407</td>\n",
       "      <td>0.962312</td>\n",
       "      <td>0.000000</td>\n",
       "      <td>0.024980</td>\n",
       "      <td>0.161462</td>\n",
       "      <td>0.316626</td>\n",
       "      <td>0</td>\n",
       "      <td>1</td>\n",
       "      <td>3</td>\n",
       "    </tr>\n",
       "    <tr>\n",
       "      <th>10983</th>\n",
       "      <td>0.539451</td>\n",
       "      <td>0.539867</td>\n",
       "      <td>0.780226</td>\n",
       "      <td>0.780226</td>\n",
       "      <td>0.539451</td>\n",
       "      <td>0.503525</td>\n",
       "      <td>0.489142</td>\n",
       "      <td>0.400826</td>\n",
       "      <td>1</td>\n",
       "      <td>2</td>\n",
       "      <td>6</td>\n",
       "    </tr>\n",
       "    <tr>\n",
       "      <th>3474</th>\n",
       "      <td>0.000000</td>\n",
       "      <td>0.146089</td>\n",
       "      <td>0.495599</td>\n",
       "      <td>0.964253</td>\n",
       "      <td>0.000000</td>\n",
       "      <td>0.048696</td>\n",
       "      <td>0.216913</td>\n",
       "      <td>0.321615</td>\n",
       "      <td>0</td>\n",
       "      <td>1</td>\n",
       "      <td>3</td>\n",
       "    </tr>\n",
       "    <tr>\n",
       "      <th>17199</th>\n",
       "      <td>0.299919</td>\n",
       "      <td>0.438442</td>\n",
       "      <td>0.713238</td>\n",
       "      <td>0.713238</td>\n",
       "      <td>0.299919</td>\n",
       "      <td>0.246120</td>\n",
       "      <td>0.273964</td>\n",
       "      <td>0.317370</td>\n",
       "      <td>1</td>\n",
       "      <td>3</td>\n",
       "      <td>4</td>\n",
       "    </tr>\n",
       "    <tr>\n",
       "      <th>32017</th>\n",
       "      <td>0.593257</td>\n",
       "      <td>0.593257</td>\n",
       "      <td>0.604449</td>\n",
       "      <td>0.604449</td>\n",
       "      <td>0.593257</td>\n",
       "      <td>0.355395</td>\n",
       "      <td>0.413125</td>\n",
       "      <td>0.368590</td>\n",
       "      <td>2</td>\n",
       "      <td>2</td>\n",
       "      <td>5</td>\n",
       "    </tr>\n",
       "  </tbody>\n",
       "</table>\n",
       "</div>"
      ],
      "text/plain": [
       "       maxUrateL1M  maxUrateL3M  maxUrateL6M  maxUrateL12M  avgUrateL1M  \\\n",
       "18034     0.000000     0.074940     0.531407      0.962312     0.000000   \n",
       "10983     0.539451     0.539867     0.780226      0.780226     0.539451   \n",
       "3474      0.000000     0.146089     0.495599      0.964253     0.000000   \n",
       "17199     0.299919     0.438442     0.713238      0.713238     0.299919   \n",
       "32017     0.593257     0.593257     0.604449      0.604449     0.593257   \n",
       "\n",
       "       avgUrateL3M  avgUrateL6M  avgUrateL12M  increaseUrateL3M  \\\n",
       "18034     0.024980     0.161462      0.316626                 0   \n",
       "10983     0.503525     0.489142      0.400826                 1   \n",
       "3474      0.048696     0.216913      0.321615                 0   \n",
       "17199     0.246120     0.273964      0.317370                 1   \n",
       "32017     0.355395     0.413125      0.368590                 2   \n",
       "\n",
       "       increaseUrateL6M  increaseUrateL12M  \n",
       "18034                 1                  3  \n",
       "10983                 2                  6  \n",
       "3474                  1                  3  \n",
       "17199                 3                  4  \n",
       "32017                 2                  5  "
      ]
     },
     "execution_count": 178,
     "metadata": {},
     "output_type": "execute_result"
    }
   ],
   "source": [
    "# 考虑过去1个月，3个月，6个月，12个月\n",
    "for t in [1, 3, 6, 12]:\n",
    "    # 1.过去t时间窗口内的最月额度使用率\n",
    "    allFeatures.append(\"maxUrateL\" + str(t) + \"M\")\n",
    "    trainData[\"maxUrateL\" + str(t) + \"M\"] = trainData.apply(lambda x: UrateFeatures(x, t, \"max utilization rate\"), axis=1)\n",
    "    \n",
    "    # 2.过去t时间窗口内的平均月度使用额\n",
    "    allFeatures.append(\"avgUrateL\" + str(t) + \"M\")\n",
    "    trainData[\"avgUrateL\" + str(t) + \"M\"] = trainData.apply(lambda x: UrateFeatures(x, t, \"mean utilization rate\"), axis=1)\n",
    "    \n",
    "    # 3.过去t时间窗口内，月额度使用率增加的月份。该变量要求t>1\n",
    "    if t > 1:\n",
    "        allFeatures.append(\"increaseUrateL\" + str(t) + \"M\")\n",
    "        trainData[\"increaseUrateL\" + str(t) + \"M\"] = trainData.apply(lambda x: UrateFeatures(x, t, \"increase utilization rate\"), axis=1)\n",
    "    \n",
    "trainData[[\"maxUrateL1M\", \"maxUrateL3M\", \"maxUrateL6M\", \"maxUrateL12M\", \n",
    "           \"avgUrateL1M\", \"avgUrateL3M\", \"avgUrateL6M\", \"avgUrateL12M\", \n",
    "           \"increaseUrateL3M\", \"increaseUrateL6M\", \"increaseUrateL12M\"]].head()"
   ]
  },
  {
   "cell_type": "markdown",
   "metadata": {},
   "source": [
    "## 还款类型"
   ]
  },
  {
   "cell_type": "markdown",
   "metadata": {},
   "source": [
    "还款类型特征也是行为评分卡模型中常用的特征"
   ]
  },
  {
   "cell_type": "code",
   "execution_count": 179,
   "metadata": {
    "collapsed": false
   },
   "outputs": [
    {
     "name": "stderr",
     "output_type": "stream",
     "text": [
      "C:\\Anaconda3\\lib\\site-packages\\ipykernel\\__main__.py:5: SettingWithCopyWarning: \n",
      "A value is trying to be set on a copy of a slice from a DataFrame.\n",
      "Try using .loc[row_indexer,col_indexer] = value instead\n",
      "\n",
      "See the caveats in the documentation: http://pandas.pydata.org/pandas-docs/stable/indexing.html#indexing-view-versus-copy\n",
      "C:\\Anaconda3\\lib\\site-packages\\ipykernel\\__main__.py:9: SettingWithCopyWarning: \n",
      "A value is trying to be set on a copy of a slice from a DataFrame.\n",
      "Try using .loc[row_indexer,col_indexer] = value instead\n",
      "\n",
      "See the caveats in the documentation: http://pandas.pydata.org/pandas-docs/stable/indexing.html#indexing-view-versus-copy\n",
      "C:\\Anaconda3\\lib\\site-packages\\ipykernel\\__main__.py:13: SettingWithCopyWarning: \n",
      "A value is trying to be set on a copy of a slice from a DataFrame.\n",
      "Try using .loc[row_indexer,col_indexer] = value instead\n",
      "\n",
      "See the caveats in the documentation: http://pandas.pydata.org/pandas-docs/stable/indexing.html#indexing-view-versus-copy\n"
     ]
    },
    {
     "data": {
      "text/html": [
       "<div>\n",
       "<style scoped>\n",
       "    .dataframe tbody tr th:only-of-type {\n",
       "        vertical-align: middle;\n",
       "    }\n",
       "\n",
       "    .dataframe tbody tr th {\n",
       "        vertical-align: top;\n",
       "    }\n",
       "\n",
       "    .dataframe thead th {\n",
       "        text-align: right;\n",
       "    }\n",
       "</style>\n",
       "<table border=\"1\" class=\"dataframe\">\n",
       "  <thead>\n",
       "    <tr style=\"text-align: right;\">\n",
       "      <th></th>\n",
       "      <th>maxPayL1M</th>\n",
       "      <th>maxPayL3M</th>\n",
       "      <th>maxPayL6M</th>\n",
       "      <th>maxPayL12M</th>\n",
       "      <th>minPayL1M</th>\n",
       "      <th>minPayL3M</th>\n",
       "      <th>minPayL6M</th>\n",
       "      <th>minPayL12M</th>\n",
       "      <th>meanPayL1M</th>\n",
       "      <th>meanPayL3M</th>\n",
       "      <th>meanPayL6M</th>\n",
       "      <th>meanPayL12M</th>\n",
       "    </tr>\n",
       "  </thead>\n",
       "  <tbody>\n",
       "    <tr>\n",
       "      <th>18034</th>\n",
       "      <td>0.000000</td>\n",
       "      <td>0.924396</td>\n",
       "      <td>0.924396</td>\n",
       "      <td>1.000005</td>\n",
       "      <td>0.000000</td>\n",
       "      <td>0.000000</td>\n",
       "      <td>0.000000</td>\n",
       "      <td>0.0</td>\n",
       "      <td>0.000000</td>\n",
       "      <td>0.770786</td>\n",
       "      <td>0.277032</td>\n",
       "      <td>0.244133</td>\n",
       "    </tr>\n",
       "    <tr>\n",
       "      <th>10983</th>\n",
       "      <td>0.000000</td>\n",
       "      <td>0.000000</td>\n",
       "      <td>0.662540</td>\n",
       "      <td>0.798418</td>\n",
       "      <td>0.000000</td>\n",
       "      <td>0.000000</td>\n",
       "      <td>0.000000</td>\n",
       "      <td>0.0</td>\n",
       "      <td>0.000000</td>\n",
       "      <td>0.000000</td>\n",
       "      <td>0.204840</td>\n",
       "      <td>0.195002</td>\n",
       "    </tr>\n",
       "    <tr>\n",
       "      <th>3474</th>\n",
       "      <td>0.000000</td>\n",
       "      <td>1.000005</td>\n",
       "      <td>1.000005</td>\n",
       "      <td>1.000018</td>\n",
       "      <td>0.000000</td>\n",
       "      <td>0.000000</td>\n",
       "      <td>0.000000</td>\n",
       "      <td>0.0</td>\n",
       "      <td>0.000000</td>\n",
       "      <td>0.966642</td>\n",
       "      <td>0.620095</td>\n",
       "      <td>0.687768</td>\n",
       "    </tr>\n",
       "    <tr>\n",
       "      <th>17199</th>\n",
       "      <td>0.000000</td>\n",
       "      <td>0.000000</td>\n",
       "      <td>0.838309</td>\n",
       "      <td>0.882646</td>\n",
       "      <td>0.000000</td>\n",
       "      <td>0.000000</td>\n",
       "      <td>0.000000</td>\n",
       "      <td>0.0</td>\n",
       "      <td>0.000000</td>\n",
       "      <td>0.000000</td>\n",
       "      <td>0.144359</td>\n",
       "      <td>0.199437</td>\n",
       "    </tr>\n",
       "    <tr>\n",
       "      <th>32017</th>\n",
       "      <td>1.000017</td>\n",
       "      <td>1.000042</td>\n",
       "      <td>1.000130</td>\n",
       "      <td>1.000130</td>\n",
       "      <td>1.000017</td>\n",
       "      <td>1.000014</td>\n",
       "      <td>0.900423</td>\n",
       "      <td>0.0</td>\n",
       "      <td>1.000017</td>\n",
       "      <td>1.000021</td>\n",
       "      <td>0.969847</td>\n",
       "      <td>0.686685</td>\n",
       "    </tr>\n",
       "  </tbody>\n",
       "</table>\n",
       "</div>"
      ],
      "text/plain": [
       "       maxPayL1M  maxPayL3M  maxPayL6M  maxPayL12M  minPayL1M  minPayL3M  \\\n",
       "18034   0.000000   0.924396   0.924396    1.000005   0.000000   0.000000   \n",
       "10983   0.000000   0.000000   0.662540    0.798418   0.000000   0.000000   \n",
       "3474    0.000000   1.000005   1.000005    1.000018   0.000000   0.000000   \n",
       "17199   0.000000   0.000000   0.838309    0.882646   0.000000   0.000000   \n",
       "32017   1.000017   1.000042   1.000130    1.000130   1.000017   1.000014   \n",
       "\n",
       "       minPayL6M  minPayL12M  meanPayL1M  meanPayL3M  meanPayL6M  meanPayL12M  \n",
       "18034   0.000000         0.0    0.000000    0.770786    0.277032     0.244133  \n",
       "10983   0.000000         0.0    0.000000    0.000000    0.204840     0.195002  \n",
       "3474    0.000000         0.0    0.000000    0.966642    0.620095     0.687768  \n",
       "17199   0.000000         0.0    0.000000    0.000000    0.144359     0.199437  \n",
       "32017   0.900423         0.0    1.000017    1.000021    0.969847     0.686685  "
      ]
     },
     "execution_count": 179,
     "metadata": {},
     "output_type": "execute_result"
    }
   ],
   "source": [
    "# 考虑过去1个月，3个月，6个月，12个月\n",
    "for t in [1, 3, 6, 12]:\n",
    "    # 1.过去t时间窗口内最大的月还款率\n",
    "    allFeatures.append(\"maxPayL\" + str(t) + \"M\")\n",
    "    trainData[\"maxPayL\" + str(t) + \"M\"] = trainData.apply(lambda x: PaymentFeatures(x, t, \"max payment ratio\"), axis=1)\n",
    "    \n",
    "    # 2.过去t时间窗口内的最小月还款率\n",
    "    allFeatures.append(\"minPayL\" + str(t) + \"M\")\n",
    "    trainData[\"minPayL\" + str(t) + \"M\"] = trainData.apply(lambda x: PaymentFeatures(x, t, \"min payment ratio\"), axis=1)\n",
    "    \n",
    "    # 3.过去t窗口时间内的平均月还款率\n",
    "    allFeatures.append(\"meanPayL\" + str(t) + \"M\")\n",
    "    trainData[\"meanPayL\" + str(t) + \"M\"] = trainData.apply(lambda x: PaymentFeatures(x, t, \"mean payment ratio\"), axis=1)\n",
    "    \n",
    "trainData[[\"maxPayL1M\", \"maxPayL3M\", \"maxPayL6M\", \"maxPayL12M\", \n",
    "           \"minPayL1M\", \"minPayL3M\", \"minPayL6M\", \"minPayL12M\", \n",
    "           \"meanPayL1M\", \"meanPayL3M\", \"meanPayL6M\", \"meanPayL12M\"]].head()"
   ]
  },
  {
   "cell_type": "markdown",
   "metadata": {},
   "source": [
    "## 最大逾期状态与bad rate的相关度"
   ]
  },
  {
   "cell_type": "code",
   "execution_count": 180,
   "metadata": {
    "collapsed": false,
    "scrolled": true
   },
   "outputs": [
    {
     "data": {
      "text/plain": [
       "maxDelqL1M\n",
       "0    0.098611\n",
       "1    0.111573\n",
       "2    0.525221\n",
       "3    0.936073\n",
       "Name: label, dtype: float64"
      ]
     },
     "execution_count": 180,
     "metadata": {},
     "output_type": "execute_result"
    }
   ],
   "source": [
    "trainData.groupby([\"maxDelqL1M\"])[\"label\"].mean()"
   ]
  },
  {
   "cell_type": "code",
   "execution_count": 181,
   "metadata": {
    "collapsed": false,
    "scrolled": true
   },
   "outputs": [
    {
     "data": {
      "text/plain": [
       "maxDelqL3M\n",
       "0    0.050218\n",
       "1    0.049367\n",
       "2    0.440507\n",
       "3    0.949675\n",
       "Name: label, dtype: float64"
      ]
     },
     "execution_count": 181,
     "metadata": {},
     "output_type": "execute_result"
    }
   ],
   "source": [
    "trainData.groupby([\"maxDelqL3M\"])[\"label\"].mean()"
   ]
  },
  {
   "cell_type": "code",
   "execution_count": 182,
   "metadata": {
    "collapsed": false,
    "scrolled": true
   },
   "outputs": [
    {
     "data": {
      "text/plain": [
       "maxDelqL6M\n",
       "0    0.053021\n",
       "1    0.049534\n",
       "2    0.266261\n",
       "3    0.541599\n",
       "Name: label, dtype: float64"
      ]
     },
     "execution_count": 182,
     "metadata": {},
     "output_type": "execute_result"
    }
   ],
   "source": [
    "trainData.groupby([\"maxDelqL6M\"])[\"label\"].mean()"
   ]
  },
  {
   "cell_type": "code",
   "execution_count": 183,
   "metadata": {
    "collapsed": false
   },
   "outputs": [
    {
     "data": {
      "text/plain": [
       "maxDelqL12M\n",
       "0    0.058140\n",
       "1    0.046353\n",
       "2    0.181003\n",
       "3    0.364387\n",
       "Name: label, dtype: float64"
      ]
     },
     "execution_count": 183,
     "metadata": {},
     "output_type": "execute_result"
    }
   ],
   "source": [
    "trainData.groupby([\"maxDelqL12M\"])[\"label\"].mean()"
   ]
  },
  {
   "cell_type": "code",
   "execution_count": 184,
   "metadata": {
    "collapsed": false
   },
   "outputs": [
    {
     "name": "stdout",
     "output_type": "stream",
     "text": [
      "maxDelqL1M M0FreqL1M 0.900826126433\n",
      "maxDelqL1M M1FreqL1M 0.709422101188\n",
      "maxDelqL1M M2FreqL1M 0.339779095677\n",
      "maxDelqL1M maxDelqL3M 0.507414013781\n",
      "maxDelqL1M M0FreqL3M 0.627592586069\n",
      "maxDelqL1M M1FreqL3M 0.439791648765\n",
      "maxDelqL1M M2FreqL3M 0.206557792425\n",
      "maxDelqL1M maxDelqL6M 0.315546923471\n",
      "maxDelqL1M M0FreqL6M 0.450082469241\n",
      "maxDelqL1M M1FreqL6M 0.31129004904\n",
      "maxDelqL1M M2FreqL6M 0.152389105232\n",
      "maxDelqL1M maxDelqL12M 0.202194112497\n",
      "maxDelqL1M M0FreqL12M 0.336459479449\n",
      "maxDelqL1M M1FreqL12M 0.232298433554\n",
      "maxDelqL1M M2FreqL12M 0.123235160614\n",
      "maxDelqL1M maxUrateL1M -0.00344084815319\n",
      "maxDelqL1M avgUrateL1M -0.00344084815319\n",
      "maxDelqL1M maxUrateL3M 0.00158395713962\n",
      "maxDelqL1M avgUrateL3M 0.00139675925894\n",
      "maxDelqL1M increaseUrateL3M -0.00297494174056\n",
      "maxDelqL1M maxUrateL6M -0.0036996835123\n",
      "maxDelqL1M avgUrateL6M -0.00432033018974\n",
      "maxDelqL1M increaseUrateL6M -0.00052704734086\n",
      "maxDelqL1M maxUrateL12M -0.00855814693343\n",
      "maxDelqL1M avgUrateL12M -0.0127873672878\n",
      "maxDelqL1M increaseUrateL12M 0.00333481020759\n",
      "maxDelqL1M maxPayL1M -0.859897969374\n",
      "maxDelqL1M minPayL1M -0.859897969374\n",
      "maxDelqL1M meanPayL1M -0.859897969374\n",
      "maxDelqL1M maxPayL3M -0.471688204725\n",
      "maxDelqL1M minPayL3M -0.374445630671\n",
      "maxDelqL1M meanPayL3M -0.615194615987\n",
      "maxDelqL1M maxPayL6M -0.18946357176\n",
      "maxDelqL1M minPayL6M -0.180806430974\n",
      "maxDelqL1M meanPayL6M -0.454861184714\n",
      "maxDelqL1M maxPayL12M -0.0825459900326\n",
      "maxDelqL1M minPayL12M -0.0601652151942\n",
      "maxDelqL1M meanPayL12M -0.345659567477\n",
      "M0FreqL1M maxDelqL1M 0.900826126433\n",
      "M0FreqL1M M1FreqL1M 0.357034298008\n",
      "M0FreqL1M M2FreqL1M 0.11015472384\n",
      "M0FreqL1M maxDelqL3M 0.387736266594\n",
      "M0FreqL1M M0FreqL3M 0.589849770646\n",
      "M0FreqL1M M1FreqL3M 0.204813171693\n",
      "M0FreqL1M M2FreqL3M 0.0668903600827\n",
      "M0FreqL1M maxDelqL6M 0.192271440437\n",
      "M0FreqL1M M0FreqL6M 0.425165164448\n",
      "M0FreqL1M M1FreqL6M 0.151028908131\n",
      "M0FreqL1M M2FreqL6M 0.0544567952624\n",
      "M0FreqL1M maxDelqL12M 0.105593797355\n",
      "M0FreqL1M M0FreqL12M 0.317420555259\n",
      "M0FreqL1M M1FreqL12M 0.11762351581\n",
      "M0FreqL1M M2FreqL12M 0.0499782395227\n",
      "M0FreqL1M maxUrateL1M -0.00154989798048\n",
      "M0FreqL1M avgUrateL1M -0.00154989798048\n",
      "M0FreqL1M maxUrateL3M 0.00176089964254\n",
      "M0FreqL1M avgUrateL3M 0.00363526755197\n",
      "M0FreqL1M increaseUrateL3M 0.000595991742253\n",
      "M0FreqL1M maxUrateL6M -0.00312384484873\n",
      "M0FreqL1M avgUrateL6M -3.46471054867e-05\n",
      "M0FreqL1M increaseUrateL6M 0.00197313620185\n",
      "M0FreqL1M maxUrateL12M -0.00626242250183\n",
      "M0FreqL1M avgUrateL12M -0.0122364503128\n",
      "M0FreqL1M increaseUrateL12M 0.00196427434187\n",
      "M0FreqL1M maxPayL1M -0.945479212845\n",
      "M0FreqL1M minPayL1M -0.945479212845\n",
      "M0FreqL1M meanPayL1M -0.945479212845\n",
      "M0FreqL1M maxPayL3M -0.360979755441\n",
      "M0FreqL1M minPayL3M -0.409138969691\n",
      "M0FreqL1M meanPayL3M -0.560622186957\n",
      "M0FreqL1M maxPayL6M -0.153411009368\n",
      "M0FreqL1M minPayL6M -0.197885215259\n",
      "M0FreqL1M meanPayL6M -0.408056727355\n",
      "M0FreqL1M maxPayL12M -0.0751523518812\n",
      "M0FreqL1M minPayL12M -0.0658999165067\n",
      "M0FreqL1M meanPayL12M -0.307692650965\n",
      "M1FreqL1M maxDelqL1M 0.709422101188\n",
      "M1FreqL1M M0FreqL1M 0.357034298008\n",
      "M1FreqL1M M2FreqL1M 0.308527008343\n",
      "M1FreqL1M maxDelqL3M 0.460742829801\n",
      "M1FreqL1M M0FreqL3M 0.409210851856\n",
      "M1FreqL1M M1FreqL3M 0.599798317441\n",
      "M1FreqL1M M2FreqL3M 0.191047719245\n",
      "M1FreqL1M maxDelqL6M 0.354060294872\n",
      "M1FreqL1M M0FreqL6M 0.291105523369\n",
      "M1FreqL1M M1FreqL6M 0.416858968552\n",
      "M1FreqL1M M2FreqL6M 0.141044030792\n",
      "M1FreqL1M maxDelqL12M 0.243975393042\n",
      "M1FreqL1M M0FreqL12M 0.219360366559\n",
      "M1FreqL1M M1FreqL12M 0.305956498732\n",
      "M1FreqL1M M2FreqL12M 0.112833402863\n",
      "M1FreqL1M maxUrateL1M -0.0054186897817\n",
      "M1FreqL1M avgUrateL1M -0.0054186897817\n",
      "M1FreqL1M maxUrateL3M 0.000140955356681\n",
      "M1FreqL1M avgUrateL3M -0.00486135814522\n",
      "M1FreqL1M increaseUrateL3M -0.00743567678426\n",
      "M1FreqL1M maxUrateL6M -0.00363618039797\n",
      "M1FreqL1M avgUrateL6M -0.010276627021\n",
      "M1FreqL1M increaseUrateL6M -0.00685328106591\n",
      "M1FreqL1M maxUrateL12M -0.00651836307713\n",
      "M1FreqL1M avgUrateL12M -0.00796841039887\n",
      "M1FreqL1M increaseUrateL12M 0.00199596956782\n",
      "M1FreqL1M maxPayL1M -0.355602314879\n",
      "M1FreqL1M minPayL1M -0.355602314879\n",
      "M1FreqL1M meanPayL1M -0.355602314879\n",
      "M1FreqL1M maxPayL3M -0.404663711699\n",
      "M1FreqL1M minPayL3M -0.158852292901\n",
      "M1FreqL1M meanPayL3M -0.430972067304\n",
      "M1FreqL1M maxPayL6M -0.156908746206\n",
      "M1FreqL1M minPayL6M -0.0761204342764\n",
      "M1FreqL1M meanPayL6M -0.326976192876\n",
      "M1FreqL1M maxPayL12M -0.0544984888353\n",
      "M1FreqL1M minPayL12M -0.025330408735\n",
      "M1FreqL1M meanPayL12M -0.251371642428\n",
      "M2FreqL1M maxDelqL1M 0.339779095677\n",
      "M2FreqL1M M0FreqL1M 0.11015472384\n",
      "M2FreqL1M M1FreqL1M 0.308527008343\n",
      "M2FreqL1M maxDelqL3M 0.253515348977\n",
      "M2FreqL1M M0FreqL3M 0.185868046987\n",
      "M2FreqL1M M1FreqL3M 0.343782009365\n",
      "M2FreqL1M M2FreqL3M 0.597805143463\n",
      "M2FreqL1M maxDelqL6M 0.225171568641\n",
      "M2FreqL1M M0FreqL6M 0.128484740462\n",
      "M2FreqL1M M1FreqL6M 0.232871340127\n",
      "M2FreqL1M M2FreqL6M 0.412369174118\n",
      "M2FreqL1M maxDelqL12M 0.190471994915\n",
      "M2FreqL1M M0FreqL12M 0.0930735344642\n",
      "M2FreqL1M M1FreqL12M 0.161915280368\n",
      "M2FreqL1M M2FreqL12M 0.304191633213\n",
      "M2FreqL1M maxUrateL1M -0.000790646171534\n",
      "M2FreqL1M avgUrateL1M -0.000790646171534\n",
      "M2FreqL1M maxUrateL3M 0.001648550637\n",
      "M2FreqL1M avgUrateL3M 0.00493256549968\n",
      "M2FreqL1M increaseUrateL3M -0.00313565215043\n",
      "M2FreqL1M maxUrateL6M 0.000635024415431\n",
      "M2FreqL1M avgUrateL6M -0.00112865887161\n",
      "M2FreqL1M increaseUrateL6M 0.0057776697261\n",
      "M2FreqL1M maxUrateL12M -0.00959545931108\n",
      "M2FreqL1M avgUrateL12M -0.00369039470161\n",
      "M2FreqL1M increaseUrateL12M 0.00802419616443\n",
      "M2FreqL1M maxPayL1M -0.11098836044\n",
      "M2FreqL1M minPayL1M -0.11098836044\n",
      "M2FreqL1M meanPayL1M -0.11098836044\n",
      "M2FreqL1M maxPayL3M -0.303984829442\n",
      "M2FreqL1M minPayL3M -0.0505398535489\n",
      "M2FreqL1M meanPayL3M -0.189747216744\n",
      "M2FreqL1M maxPayL6M -0.0923587746451\n",
      "M2FreqL1M minPayL6M -0.0243512068117\n",
      "M2FreqL1M meanPayL6M -0.151022924555\n",
      "M2FreqL1M maxPayL12M -0.0359004207657\n",
      "M2FreqL1M minPayL12M -0.00781511522711\n",
      "M2FreqL1M meanPayL12M -0.119354953502\n",
      "maxDelqL3M maxDelqL1M 0.507414013781\n",
      "maxDelqL3M M0FreqL1M 0.387736266594\n",
      "maxDelqL3M M1FreqL1M 0.460742829801\n",
      "maxDelqL3M M2FreqL1M 0.253515348977\n",
      "maxDelqL3M M0FreqL3M 0.802087400786\n",
      "maxDelqL3M M1FreqL3M 0.776821784696\n",
      "maxDelqL3M M2FreqL3M 0.413085833857\n",
      "maxDelqL3M maxDelqL6M 0.617062460376\n",
      "maxDelqL3M M0FreqL6M 0.63867821242\n",
      "maxDelqL3M M1FreqL6M 0.578847182847\n",
      "maxDelqL3M M2FreqL6M 0.306812345888\n",
      "maxDelqL3M maxDelqL12M 0.394101481565\n",
      "maxDelqL3M M0FreqL12M 0.472255140038\n",
      "maxDelqL3M M1FreqL12M 0.426347650358\n",
      "maxDelqL3M M2FreqL12M 0.2387565451\n",
      "maxDelqL3M maxUrateL1M -0.0102697276266\n",
      "maxDelqL3M avgUrateL1M -0.0102697276266\n",
      "maxDelqL3M maxUrateL3M -0.011819585055\n",
      "maxDelqL3M avgUrateL3M -0.00656031849265\n",
      "maxDelqL3M increaseUrateL3M -0.00811872697678\n",
      "maxDelqL3M maxUrateL6M -0.0127464592515\n",
      "maxDelqL3M avgUrateL6M -0.010797934943\n",
      "maxDelqL3M increaseUrateL6M -0.00170707834836\n",
      "maxDelqL3M maxUrateL12M -0.00871998259456\n",
      "maxDelqL3M avgUrateL12M -0.00808102713095\n",
      "maxDelqL3M increaseUrateL12M -0.00481414704096\n",
      "maxDelqL3M maxPayL1M -0.388127192209\n",
      "maxDelqL3M minPayL1M -0.388127192209\n",
      "maxDelqL3M meanPayL1M -0.388127192209\n",
      "maxDelqL3M maxPayL3M -0.42325370836\n",
      "maxDelqL3M minPayL3M -0.723789174208\n",
      "maxDelqL3M meanPayL3M -0.710093429683\n",
      "maxDelqL3M maxPayL6M -0.224128492974\n",
      "maxDelqL3M minPayL6M -0.342882461896\n",
      "maxDelqL3M meanPayL6M -0.574053521057\n",
      "maxDelqL3M maxPayL12M -0.111979930133\n",
      "maxDelqL3M minPayL12M -0.112597495157\n",
      "maxDelqL3M meanPayL12M -0.445062730817\n",
      "M0FreqL3M maxDelqL1M 0.627592586069\n",
      "M0FreqL3M M0FreqL1M 0.589849770646\n",
      "M0FreqL3M M1FreqL1M 0.409210851856\n",
      "M0FreqL3M M2FreqL1M 0.185868046987\n",
      "M0FreqL3M maxDelqL3M 0.802087400786\n",
      "M0FreqL3M M1FreqL3M 0.553817288583\n",
      "M0FreqL3M M2FreqL3M 0.208244486805\n",
      "M0FreqL3M maxDelqL6M 0.442063322896\n",
      "M0FreqL3M M0FreqL6M 0.724452000603\n",
      "M0FreqL3M M1FreqL6M 0.39656317323\n",
      "M0FreqL3M M2FreqL6M 0.154894219974\n",
      "M0FreqL3M maxDelqL12M 0.266154945035\n",
      "M0FreqL3M M0FreqL12M 0.534995128701\n",
      "M0FreqL3M M1FreqL12M 0.303058216054\n",
      "M0FreqL3M M2FreqL12M 0.127030961662\n",
      "M0FreqL3M maxUrateL1M -0.011940549866\n",
      "M0FreqL3M avgUrateL1M -0.011940549866\n",
      "M0FreqL3M maxUrateL3M -0.0113358600912\n",
      "M0FreqL3M avgUrateL3M -0.00608028900614\n",
      "M0FreqL3M increaseUrateL3M -0.0110827148357\n",
      "M0FreqL3M maxUrateL6M -0.0108629134297\n",
      "M0FreqL3M avgUrateL6M -0.00755830295202\n",
      "M0FreqL3M increaseUrateL6M -0.00557148341995\n",
      "M0FreqL3M maxUrateL12M -0.00631217649125\n",
      "M0FreqL3M avgUrateL12M -0.00706809312041\n",
      "M0FreqL3M increaseUrateL12M -0.00684589402489\n",
      "M0FreqL3M maxPayL1M -0.582655631517\n",
      "M0FreqL3M minPayL1M -0.582655631517\n",
      "M0FreqL3M meanPayL1M -0.582655631517\n",
      "M0FreqL3M maxPayL3M -0.61005492378\n",
      "M0FreqL3M minPayL3M -0.717810184381\n",
      "M0FreqL3M meanPayL3M -0.878465872085\n",
      "M0FreqL3M maxPayL6M -0.265536893711\n",
      "M0FreqL3M minPayL6M -0.341715457801\n",
      "M0FreqL3M meanPayL6M -0.662592298976\n",
      "M0FreqL3M maxPayL12M -0.128613284415\n",
      "M0FreqL3M minPayL12M -0.111873576226\n",
      "M0FreqL3M meanPayL12M -0.508573406822\n",
      "M1FreqL3M maxDelqL1M 0.439791648765\n",
      "M1FreqL3M M0FreqL1M 0.204813171693\n",
      "M1FreqL3M M1FreqL1M 0.599798317441\n",
      "M1FreqL3M M2FreqL1M 0.343782009365\n",
      "M1FreqL3M maxDelqL3M 0.776821784696\n",
      "M1FreqL3M M0FreqL3M 0.553817288583\n",
      "M1FreqL3M M2FreqL3M 0.47662454802\n",
      "M1FreqL3M maxDelqL6M 0.604407237615\n",
      "M1FreqL3M M0FreqL6M 0.475952449443\n",
      "M1FreqL3M M1FreqL6M 0.721448126538\n",
      "M1FreqL3M M2FreqL6M 0.344928417592\n",
      "M1FreqL3M maxDelqL12M 0.425236237373\n",
      "M1FreqL3M M0FreqL12M 0.347813522023\n",
      "M1FreqL3M M1FreqL12M 0.516512086685\n",
      "M1FreqL3M M2FreqL12M 0.261434550642\n",
      "M1FreqL3M maxUrateL1M -0.00913635250346\n",
      "M1FreqL3M avgUrateL1M -0.00913635250346\n",
      "M1FreqL3M maxUrateL3M -0.0088703289921\n",
      "M1FreqL3M avgUrateL3M -0.00516275530727\n",
      "M1FreqL3M increaseUrateL3M -0.00453312674502\n",
      "M1FreqL3M maxUrateL6M -0.00667487852821\n",
      "M1FreqL3M avgUrateL6M -0.0108941606122\n",
      "M1FreqL3M increaseUrateL6M 0.00247489780573\n",
      "M1FreqL3M maxUrateL12M -0.00635864930667\n",
      "M1FreqL3M avgUrateL12M -0.00766387904041\n",
      "M1FreqL3M increaseUrateL12M -0.00425229393567\n",
      "M1FreqL3M maxPayL1M -0.215677869672\n",
      "M1FreqL3M minPayL1M -0.215677869672\n",
      "M1FreqL3M meanPayL1M -0.215677869672\n",
      "M1FreqL3M maxPayL3M -0.513111714364\n",
      "M1FreqL3M minPayL3M -0.260134435588\n",
      "M1FreqL3M meanPayL3M -0.539507924821\n",
      "M1FreqL3M maxPayL6M -0.257517694868\n",
      "M1FreqL3M minPayL6M -0.124700189512\n",
      "M1FreqL3M meanPayL6M -0.483209566582\n",
      "M1FreqL3M maxPayL12M -0.0994113466554\n",
      "M1FreqL3M minPayL12M -0.0407199258698\n",
      "M1FreqL3M meanPayL12M -0.383767432453\n",
      "M2FreqL3M maxDelqL1M 0.206557792425\n",
      "M2FreqL3M M0FreqL1M 0.0668903600827\n",
      "M2FreqL3M M1FreqL1M 0.191047719245\n",
      "M2FreqL3M M2FreqL1M 0.597805143463\n",
      "M2FreqL3M maxDelqL3M 0.413085833857\n",
      "M2FreqL3M M0FreqL3M 0.208244486805\n",
      "M2FreqL3M M1FreqL3M 0.47662454802\n",
      "M2FreqL3M maxDelqL6M 0.366901592225\n",
      "M2FreqL3M M0FreqL6M 0.219300410941\n",
      "M2FreqL3M M1FreqL6M 0.407831225686\n",
      "M2FreqL3M M2FreqL6M 0.716023963505\n",
      "M2FreqL3M maxDelqL12M 0.310361022176\n",
      "M2FreqL3M M0FreqL12M 0.15307805296\n",
      "M2FreqL3M M1FreqL12M 0.285298114466\n",
      "M2FreqL3M M2FreqL12M 0.527566308059\n",
      "M2FreqL3M maxUrateL1M -0.00147396759704\n",
      "M2FreqL3M avgUrateL1M -0.00147396759704\n",
      "M2FreqL3M maxUrateL3M -0.002914260546\n",
      "M2FreqL3M avgUrateL3M 0.00636486187279\n",
      "M2FreqL3M increaseUrateL3M -0.00315865842005\n",
      "M2FreqL3M maxUrateL6M -0.00274479858278\n",
      "M2FreqL3M avgUrateL6M -0.00156278439579\n",
      "M2FreqL3M increaseUrateL6M 0.0080254877922\n",
      "M2FreqL3M maxUrateL12M -0.0116659804578\n",
      "M2FreqL3M avgUrateL12M -0.00201782167463\n",
      "M2FreqL3M increaseUrateL12M 0.00452880016395\n",
      "M2FreqL3M maxPayL1M -0.0712756616986\n",
      "M2FreqL3M minPayL1M -0.0712756616986\n",
      "M2FreqL3M meanPayL1M -0.0712756616986\n",
      "M2FreqL3M maxPayL3M -0.265807476818\n",
      "M2FreqL3M minPayL3M -0.0823512171175\n",
      "M2FreqL3M meanPayL3M -0.208882042161\n",
      "M2FreqL3M maxPayL6M -0.175999273541\n",
      "M2FreqL3M minPayL6M -0.0396786175347\n",
      "M2FreqL3M meanPayL6M -0.225103975174\n",
      "M2FreqL3M maxPayL12M -0.0566369084457\n",
      "M2FreqL3M minPayL12M -0.0127341930313\n",
      "M2FreqL3M meanPayL12M -0.186056905585\n",
      "maxDelqL6M maxDelqL1M 0.315546923471\n",
      "maxDelqL6M M0FreqL1M 0.192271440437\n",
      "maxDelqL6M M1FreqL1M 0.354060294872\n",
      "maxDelqL6M M2FreqL1M 0.225171568641\n",
      "maxDelqL6M maxDelqL3M 0.617062460376\n",
      "maxDelqL6M M0FreqL3M 0.442063322896\n",
      "maxDelqL6M M1FreqL3M 0.604407237615\n",
      "maxDelqL6M M2FreqL3M 0.366901592225\n",
      "maxDelqL6M M0FreqL6M 0.665610511555\n",
      "maxDelqL6M M1FreqL6M 0.85019600721\n",
      "maxDelqL6M M2FreqL6M 0.517694406547\n",
      "maxDelqL6M maxDelqL12M 0.641274942974\n",
      "maxDelqL6M M0FreqL12M 0.527497883446\n",
      "maxDelqL6M M1FreqL12M 0.634473849597\n",
      "maxDelqL6M M2FreqL12M 0.398883807088\n",
      "maxDelqL6M maxUrateL1M -0.00697019826376\n",
      "maxDelqL6M avgUrateL1M -0.00697019826376\n",
      "maxDelqL6M maxUrateL3M -0.00252121560618\n",
      "maxDelqL6M avgUrateL3M -0.00199209054753\n",
      "maxDelqL6M increaseUrateL3M -0.00969592565632\n",
      "maxDelqL6M maxUrateL6M -0.00468799228248\n",
      "maxDelqL6M avgUrateL6M -0.00664983945218\n",
      "maxDelqL6M increaseUrateL6M -0.00142807575054\n",
      "maxDelqL6M maxUrateL12M -0.00135854760263\n",
      "maxDelqL6M avgUrateL12M -0.00302548425475\n",
      "maxDelqL6M increaseUrateL12M -0.00187089356122\n",
      "maxDelqL6M maxPayL1M -0.204244995472\n",
      "maxDelqL6M minPayL1M -0.204244995472\n",
      "maxDelqL6M meanPayL1M -0.204244995472\n",
      "maxDelqL6M maxPayL3M -0.310994903137\n",
      "maxDelqL6M minPayL3M -0.324140539879\n",
      "maxDelqL6M meanPayL3M -0.411461207803\n",
      "maxDelqL6M maxPayL6M -0.22402795788\n",
      "maxDelqL6M minPayL6M -0.473508557057\n",
      "maxDelqL6M meanPayL6M -0.631044196734\n",
      "maxDelqL6M maxPayL12M -0.114043493989\n",
      "maxDelqL6M minPayL12M -0.159688624301\n",
      "maxDelqL6M meanPayL12M -0.511149919041\n",
      "M0FreqL6M maxDelqL1M 0.450082469241\n",
      "M0FreqL6M M0FreqL1M 0.425165164448\n",
      "M0FreqL6M M1FreqL1M 0.291105523369\n",
      "M0FreqL6M M2FreqL1M 0.128484740462\n",
      "M0FreqL6M maxDelqL3M 0.63867821242\n",
      "M0FreqL6M M0FreqL3M 0.724452000603\n",
      "M0FreqL6M M1FreqL3M 0.475952449443\n",
      "M0FreqL6M M2FreqL3M 0.219300410941\n",
      "M0FreqL6M maxDelqL6M 0.665610511555\n",
      "M0FreqL6M M1FreqL6M 0.609765056718\n",
      "M0FreqL6M M2FreqL6M 0.260151963658\n",
      "M0FreqL6M maxDelqL12M 0.405164247046\n",
      "M0FreqL6M M0FreqL12M 0.736909969025\n",
      "M0FreqL6M M1FreqL12M 0.456265867155\n",
      "M0FreqL6M M2FreqL12M 0.205161451455\n",
      "M0FreqL6M maxUrateL1M -0.0119516326972\n",
      "M0FreqL6M avgUrateL1M -0.0119516326972\n",
      "M0FreqL6M maxUrateL3M -0.0117642715091\n",
      "M0FreqL6M avgUrateL3M -0.00562410946663\n",
      "M0FreqL6M increaseUrateL3M -0.0147645863455\n",
      "M0FreqL6M maxUrateL6M -0.0120899501013\n",
      "M0FreqL6M avgUrateL6M -0.00577693265938\n",
      "M0FreqL6M increaseUrateL6M -0.00910228141437\n",
      "M0FreqL6M maxUrateL12M -0.00808592745111\n",
      "M0FreqL6M avgUrateL12M -0.00672097631135\n",
      "M0FreqL6M increaseUrateL12M -0.00582468504777\n",
      "M0FreqL6M maxPayL1M -0.429877789852\n",
      "M0FreqL6M minPayL1M -0.429877789852\n",
      "M0FreqL6M meanPayL1M -0.429877789852\n",
      "M0FreqL6M maxPayL3M -0.462440917754\n",
      "M0FreqL6M minPayL3M -0.536162011106\n",
      "M0FreqL6M meanPayL3M -0.632187946813\n",
      "M0FreqL6M maxPayL6M -0.369322254587\n",
      "M0FreqL6M minPayL6M -0.471133681201\n",
      "M0FreqL6M meanPayL6M -0.867252845513\n",
      "M0FreqL6M maxPayL12M -0.168025452066\n",
      "M0FreqL6M minPayL12M -0.155725897533\n",
      "M0FreqL6M meanPayL12M -0.674692811862\n",
      "M1FreqL6M maxDelqL1M 0.31129004904\n",
      "M1FreqL6M M0FreqL1M 0.151028908131\n",
      "M1FreqL6M M1FreqL1M 0.416858968552\n",
      "M1FreqL6M M2FreqL1M 0.232871340127\n",
      "M1FreqL6M maxDelqL3M 0.578847182847\n",
      "M1FreqL6M M0FreqL3M 0.39656317323\n",
      "M1FreqL6M M1FreqL3M 0.721448126538\n",
      "M1FreqL6M M2FreqL3M 0.407831225686\n",
      "M1FreqL6M maxDelqL6M 0.85019600721\n",
      "M1FreqL6M M0FreqL6M 0.609765056718\n",
      "M1FreqL6M M2FreqL6M 0.520571988851\n",
      "M1FreqL6M maxDelqL12M 0.60130542521\n",
      "M1FreqL6M M0FreqL12M 0.478451707952\n",
      "M1FreqL6M M1FreqL12M 0.72282185985\n",
      "M1FreqL6M M2FreqL12M 0.396592527114\n",
      "M1FreqL6M maxUrateL1M -0.00958113133203\n",
      "M1FreqL6M avgUrateL1M -0.00958113133203\n",
      "M1FreqL6M maxUrateL3M -0.00635834816458\n",
      "M1FreqL6M avgUrateL3M -0.00473316331195\n",
      "M1FreqL6M increaseUrateL3M -0.0105118633002\n",
      "M1FreqL6M maxUrateL6M -0.00417940091651\n",
      "M1FreqL6M avgUrateL6M -0.00666108111904\n",
      "M1FreqL6M increaseUrateL6M -0.00384790759149\n",
      "M1FreqL6M maxUrateL12M -0.00207637131613\n",
      "M1FreqL6M avgUrateL12M -0.00322804460939\n",
      "M1FreqL6M increaseUrateL12M -0.00327486301791\n",
      "M1FreqL6M maxPayL1M -0.165538522705\n",
      "M1FreqL6M minPayL1M -0.165538522705\n",
      "M1FreqL6M meanPayL1M -0.165538522705\n",
      "M1FreqL6M maxPayL3M -0.372907917924\n",
      "M1FreqL6M minPayL3M -0.201229785267\n",
      "M1FreqL6M meanPayL3M -0.383714307098\n",
      "M1FreqL6M maxPayL6M -0.319836759687\n",
      "M1FreqL6M minPayL6M -0.173040981475\n",
      "M1FreqL6M meanPayL6M -0.593212845645\n",
      "M1FreqL6M maxPayL12M -0.127995387687\n",
      "M1FreqL6M minPayL12M -0.0563818694657\n",
      "M1FreqL6M meanPayL12M -0.5006766857\n",
      "M2FreqL6M maxDelqL1M 0.152389105232\n",
      "M2FreqL6M M0FreqL1M 0.0544567952624\n",
      "M2FreqL6M M1FreqL1M 0.141044030792\n",
      "M2FreqL6M M2FreqL1M 0.412369174118\n",
      "M2FreqL6M maxDelqL3M 0.306812345888\n",
      "M2FreqL6M M0FreqL3M 0.154894219974\n",
      "M2FreqL6M M1FreqL3M 0.344928417592\n",
      "M2FreqL6M M2FreqL3M 0.716023963505\n",
      "M2FreqL6M maxDelqL6M 0.517694406547\n",
      "M2FreqL6M M0FreqL6M 0.260151963658\n",
      "M2FreqL6M M1FreqL6M 0.520571988851\n",
      "M2FreqL6M maxDelqL12M 0.437916238566\n",
      "M2FreqL6M M0FreqL12M 0.222983163621\n",
      "M2FreqL6M M1FreqL12M 0.40763490379\n",
      "M2FreqL6M M2FreqL12M 0.75231562109\n",
      "M2FreqL6M maxUrateL1M -0.00127718769658\n",
      "M2FreqL6M avgUrateL1M -0.00127718769658\n",
      "M2FreqL6M maxUrateL3M -0.000697464759716\n",
      "M2FreqL6M avgUrateL3M 0.00363693378731\n",
      "M2FreqL6M increaseUrateL3M -0.00559375086251\n",
      "M2FreqL6M maxUrateL6M 8.88985059792e-05\n",
      "M2FreqL6M avgUrateL6M -0.000932109455819\n",
      "M2FreqL6M increaseUrateL6M 0.00436403272518\n",
      "M2FreqL6M maxUrateL12M -0.00618757613589\n",
      "M2FreqL6M avgUrateL12M -0.000627685237066\n",
      "M2FreqL6M increaseUrateL12M 0.00186519618634\n",
      "M2FreqL6M maxPayL1M -0.0612627560906\n",
      "M2FreqL6M minPayL1M -0.0612627560906\n",
      "M2FreqL6M meanPayL1M -0.0612627560906\n",
      "M2FreqL6M maxPayL3M -0.194679318971\n",
      "M2FreqL6M minPayL3M -0.071803829764\n",
      "M2FreqL6M meanPayL3M -0.157528629468\n",
      "M2FreqL6M maxPayL6M -0.196578724356\n",
      "M2FreqL6M minPayL6M -0.0559861248697\n",
      "M2FreqL6M meanPayL6M -0.266612583696\n",
      "M2FreqL6M maxPayL12M -0.0792942480916\n",
      "M2FreqL6M minPayL12M -0.0179678165587\n",
      "M2FreqL6M meanPayL12M -0.249312621242\n",
      "maxDelqL12M maxDelqL1M 0.202194112497\n",
      "maxDelqL12M M0FreqL1M 0.105593797355\n",
      "maxDelqL12M M1FreqL1M 0.243975393042\n",
      "maxDelqL12M M2FreqL1M 0.190471994915\n",
      "maxDelqL12M maxDelqL3M 0.394101481565\n",
      "maxDelqL12M M0FreqL3M 0.266154945035\n",
      "maxDelqL12M M1FreqL3M 0.425236237373\n",
      "maxDelqL12M M2FreqL3M 0.310361022176\n",
      "maxDelqL12M maxDelqL6M 0.641274942974\n",
      "maxDelqL12M M0FreqL6M 0.405164247046\n",
      "maxDelqL12M M1FreqL6M 0.60130542521\n",
      "maxDelqL12M M2FreqL6M 0.437916238566\n",
      "maxDelqL12M M0FreqL12M 0.575657467837\n",
      "maxDelqL12M M1FreqL12M 0.83572186929\n",
      "maxDelqL12M M2FreqL12M 0.586763967156\n",
      "maxDelqL12M maxUrateL1M -0.00543162545127\n",
      "maxDelqL12M avgUrateL1M -0.00543162545127\n",
      "maxDelqL12M maxUrateL3M 0.00406491340461\n",
      "maxDelqL12M avgUrateL3M 0.00137173109592\n",
      "maxDelqL12M increaseUrateL3M -0.0115075228067\n",
      "maxDelqL12M maxUrateL6M 0.00621940484592\n",
      "maxDelqL12M avgUrateL6M -0.0037098827008\n",
      "maxDelqL12M increaseUrateL6M 0.00505263357994\n",
      "maxDelqL12M maxUrateL12M 0.00472751276765\n",
      "maxDelqL12M avgUrateL12M -0.00590505661168\n",
      "maxDelqL12M increaseUrateL12M -0.00656126313938\n",
      "maxDelqL12M maxPayL1M -0.123592713981\n",
      "maxDelqL12M minPayL1M -0.123592713981\n",
      "maxDelqL12M meanPayL1M -0.123592713981\n",
      "maxDelqL12M maxPayL3M -0.227885826081\n",
      "maxDelqL12M minPayL3M -0.169746949882\n",
      "maxDelqL12M meanPayL3M -0.266168928415\n",
      "maxDelqL12M maxPayL6M -0.173932929372\n",
      "maxDelqL12M minPayL6M -0.180443331897\n",
      "maxDelqL12M meanPayL6M -0.404799550633\n",
      "maxDelqL12M maxPayL12M -0.117506648234\n",
      "maxDelqL12M minPayL12M -0.193257353404\n",
      "maxDelqL12M meanPayL12M -0.571998641699\n",
      "M0FreqL12M maxDelqL1M 0.336459479449\n",
      "M0FreqL12M M0FreqL1M 0.317420555259\n",
      "M0FreqL12M M1FreqL1M 0.219360366559\n",
      "M0FreqL12M M2FreqL1M 0.0930735344642\n",
      "M0FreqL12M maxDelqL3M 0.472255140038\n",
      "M0FreqL12M M0FreqL3M 0.534995128701\n",
      "M0FreqL12M M1FreqL3M 0.347813522023\n",
      "M0FreqL12M M2FreqL3M 0.15307805296\n",
      "M0FreqL12M maxDelqL6M 0.527497883446\n",
      "M0FreqL12M M0FreqL6M 0.736909969025\n",
      "M0FreqL12M M1FreqL6M 0.478451707952\n",
      "M0FreqL12M M2FreqL6M 0.222983163621\n",
      "M0FreqL12M maxDelqL12M 0.575657467837\n",
      "M0FreqL12M M1FreqL12M 0.644328382062\n",
      "M0FreqL12M M2FreqL12M 0.289449524011\n",
      "M0FreqL12M maxUrateL1M -0.0100125582856\n",
      "M0FreqL12M avgUrateL1M -0.0100125582856\n",
      "M0FreqL12M maxUrateL3M -0.00824645877668\n",
      "M0FreqL12M avgUrateL3M -0.00494239419686\n",
      "M0FreqL12M increaseUrateL3M -0.0127784359397\n",
      "M0FreqL12M maxUrateL6M -0.0045952898315\n",
      "M0FreqL12M avgUrateL6M -0.00532093765784\n",
      "M0FreqL12M increaseUrateL6M -0.00549502592623\n",
      "M0FreqL12M maxUrateL12M 0.00130850123395\n",
      "M0FreqL12M avgUrateL12M -0.00629796417587\n",
      "M0FreqL12M increaseUrateL12M -0.00924129824479\n",
      "M0FreqL12M maxPayL1M -0.333905034827\n",
      "M0FreqL12M minPayL1M -0.333905034827\n",
      "M0FreqL12M meanPayL1M -0.333905034827\n",
      "M0FreqL12M maxPayL3M -0.36141645058\n",
      "M0FreqL12M minPayL3M -0.413043740941\n",
      "M0FreqL12M meanPayL3M -0.487448050708\n",
      "M0FreqL12M maxPayL6M -0.301950583793\n",
      "M0FreqL12M minPayL6M -0.365618496873\n",
      "M0FreqL12M meanPayL6M -0.655925564744\n",
      "M0FreqL12M maxPayL12M -0.228676164253\n",
      "M0FreqL12M minPayL12M -0.211891658548\n",
      "M0FreqL12M meanPayL12M -0.865794656377\n",
      "M1FreqL12M maxDelqL1M 0.232298433554\n",
      "M1FreqL12M M0FreqL1M 0.11762351581\n",
      "M1FreqL12M M1FreqL1M 0.305956498732\n",
      "M1FreqL12M M2FreqL1M 0.161915280368\n",
      "M1FreqL12M maxDelqL3M 0.426347650358\n",
      "M1FreqL12M M0FreqL3M 0.303058216054\n",
      "M1FreqL12M M1FreqL3M 0.516512086685\n",
      "M1FreqL12M M2FreqL3M 0.285298114466\n",
      "M1FreqL12M maxDelqL6M 0.634473849597\n",
      "M1FreqL12M M0FreqL6M 0.456265867155\n",
      "M1FreqL12M M1FreqL6M 0.72282185985\n",
      "M1FreqL12M M2FreqL6M 0.40763490379\n",
      "M1FreqL12M maxDelqL12M 0.83572186929\n",
      "M1FreqL12M M0FreqL12M 0.644328382062\n",
      "M1FreqL12M M2FreqL12M 0.542932742522\n",
      "M1FreqL12M maxUrateL1M -0.00795180771165\n",
      "M1FreqL12M avgUrateL1M -0.00795180771165\n",
      "M1FreqL12M maxUrateL3M -0.00203199534873\n",
      "M1FreqL12M avgUrateL3M -0.00211467520026\n",
      "M1FreqL12M increaseUrateL3M -0.01128108504\n",
      "M1FreqL12M maxUrateL6M 0.00336668340695\n",
      "M1FreqL12M avgUrateL6M -0.00333882694286\n",
      "M1FreqL12M increaseUrateL6M 0.00106340506345\n",
      "M1FreqL12M maxUrateL12M 0.00652405453865\n",
      "M1FreqL12M avgUrateL12M -0.00114194132373\n",
      "M1FreqL12M increaseUrateL12M -0.00758381091915\n",
      "M1FreqL12M maxPayL1M -0.136949650146\n",
      "M1FreqL12M minPayL1M -0.136949650146\n",
      "M1FreqL12M meanPayL1M -0.136949650146\n",
      "M1FreqL12M maxPayL3M -0.290341002811\n",
      "M1FreqL12M minPayL3M -0.16979793706\n",
      "M1FreqL12M meanPayL3M -0.304736560649\n",
      "M1FreqL12M maxPayL6M -0.25421824638\n",
      "M1FreqL12M minPayL6M -0.148406220899\n",
      "M1FreqL12M meanPayL6M -0.453268641664\n",
      "M1FreqL12M maxPayL12M -0.171425454777\n",
      "M1FreqL12M minPayL12M -0.0786796301059\n",
      "M1FreqL12M meanPayL12M -0.632227479228\n",
      "M2FreqL12M maxDelqL1M 0.123235160614\n",
      "M2FreqL12M M0FreqL1M 0.0499782395227\n",
      "M2FreqL12M M1FreqL1M 0.112833402863\n",
      "M2FreqL12M M2FreqL1M 0.304191633213\n",
      "M2FreqL12M maxDelqL3M 0.2387565451\n",
      "M2FreqL12M M0FreqL3M 0.127030961662\n",
      "M2FreqL12M M1FreqL3M 0.261434550642\n",
      "M2FreqL12M M2FreqL3M 0.527566308059\n",
      "M2FreqL12M maxDelqL6M 0.398883807088\n",
      "M2FreqL12M M0FreqL6M 0.205161451455\n",
      "M2FreqL12M M1FreqL6M 0.396592527114\n",
      "M2FreqL12M M2FreqL6M 0.75231562109\n",
      "M2FreqL12M maxDelqL12M 0.586763967156\n",
      "M2FreqL12M M0FreqL12M 0.289449524011\n",
      "M2FreqL12M M1FreqL12M 0.542932742522\n",
      "M2FreqL12M maxUrateL1M -0.00557476919587\n",
      "M2FreqL12M avgUrateL1M -0.00557476919587\n",
      "M2FreqL12M maxUrateL3M 0.000849477306224\n",
      "M2FreqL12M avgUrateL3M 0.00181107298495\n",
      "M2FreqL12M increaseUrateL3M -0.00900889107029\n",
      "M2FreqL12M maxUrateL6M 0.00877773997402\n",
      "M2FreqL12M avgUrateL6M -0.00154171457672\n",
      "M2FreqL12M increaseUrateL6M 0.00302205014214\n",
      "M2FreqL12M maxUrateL12M 0.00251637640404\n",
      "M2FreqL12M avgUrateL12M -0.00399107592896\n",
      "M2FreqL12M increaseUrateL12M 0.000312018283433\n",
      "M2FreqL12M maxPayL1M -0.0594111042094\n",
      "M2FreqL12M minPayL1M -0.0594111042094\n",
      "M2FreqL12M meanPayL1M -0.0594111042094\n",
      "M2FreqL12M maxPayL3M -0.154744770082\n",
      "M2FreqL12M minPayL3M -0.0674426432591\n",
      "M2FreqL12M meanPayL3M -0.133488898796\n",
      "M2FreqL12M maxPayL6M -0.158493247307\n",
      "M2FreqL12M minPayL6M -0.0500786293789\n",
      "M2FreqL12M meanPayL6M -0.213797598336\n",
      "M2FreqL12M maxPayL12M -0.0909551144987\n",
      "M2FreqL12M minPayL12M -0.0240750773702\n",
      "M2FreqL12M meanPayL12M -0.304616124891\n",
      "maxUrateL1M maxDelqL1M -0.00344084815319\n",
      "maxUrateL1M M0FreqL1M -0.00154989798048\n",
      "maxUrateL1M M1FreqL1M -0.0054186897817\n",
      "maxUrateL1M M2FreqL1M -0.000790646171534\n",
      "maxUrateL1M maxDelqL3M -0.0102697276266\n",
      "maxUrateL1M M0FreqL3M -0.011940549866\n",
      "maxUrateL1M M1FreqL3M -0.00913635250346\n",
      "maxUrateL1M M2FreqL3M -0.00147396759704\n",
      "maxUrateL1M maxDelqL6M -0.00697019826376\n",
      "maxUrateL1M M0FreqL6M -0.0119516326972\n",
      "maxUrateL1M M1FreqL6M -0.00958113133203\n",
      "maxUrateL1M M2FreqL6M -0.00127718769658\n",
      "maxUrateL1M maxDelqL12M -0.00543162545127\n",
      "maxUrateL1M M0FreqL12M -0.0100125582856\n",
      "maxUrateL1M M1FreqL12M -0.00795180771165\n",
      "maxUrateL1M M2FreqL12M -0.00557476919587\n",
      "maxUrateL1M avgUrateL1M 1.0\n",
      "maxUrateL1M maxUrateL3M 0.703109784174\n",
      "maxUrateL1M avgUrateL3M 0.692073586452\n",
      "maxUrateL1M increaseUrateL3M 0.573581707256\n",
      "maxUrateL1M maxUrateL6M 0.56757209365\n",
      "maxUrateL1M avgUrateL6M 0.516137906107\n",
      "maxUrateL1M increaseUrateL6M 0.445499656604\n",
      "maxUrateL1M maxUrateL12M 0.45421132875\n",
      "maxUrateL1M avgUrateL12M 0.369559809396\n",
      "maxUrateL1M increaseUrateL12M 0.329418419894\n",
      "maxUrateL1M maxPayL1M 0.000562517269526\n",
      "maxUrateL1M minPayL1M 0.000562517269526\n",
      "maxUrateL1M meanPayL1M 0.000562517269526\n",
      "maxUrateL1M maxPayL3M 0.0130628548906\n",
      "maxUrateL1M minPayL3M 0.0084136793818\n",
      "maxUrateL1M meanPayL3M 0.0126323396268\n",
      "maxUrateL1M maxPayL6M 0.00616363815886\n",
      "maxUrateL1M minPayL6M 0.00366344238498\n",
      "maxUrateL1M meanPayL6M 0.0153233512434\n",
      "maxUrateL1M maxPayL12M 0.000765749611044\n",
      "maxUrateL1M minPayL12M 0.0114211564413\n",
      "maxUrateL1M meanPayL12M 0.0150157190024\n",
      "avgUrateL1M maxDelqL1M -0.00344084815319\n",
      "avgUrateL1M M0FreqL1M -0.00154989798048\n",
      "avgUrateL1M M1FreqL1M -0.0054186897817\n",
      "avgUrateL1M M2FreqL1M -0.000790646171534\n",
      "avgUrateL1M maxDelqL3M -0.0102697276266\n",
      "avgUrateL1M M0FreqL3M -0.011940549866\n",
      "avgUrateL1M M1FreqL3M -0.00913635250346\n",
      "avgUrateL1M M2FreqL3M -0.00147396759704\n",
      "avgUrateL1M maxDelqL6M -0.00697019826376\n",
      "avgUrateL1M M0FreqL6M -0.0119516326972\n",
      "avgUrateL1M M1FreqL6M -0.00958113133203\n",
      "avgUrateL1M M2FreqL6M -0.00127718769658\n",
      "avgUrateL1M maxDelqL12M -0.00543162545127\n",
      "avgUrateL1M M0FreqL12M -0.0100125582856\n",
      "avgUrateL1M M1FreqL12M -0.00795180771165\n",
      "avgUrateL1M M2FreqL12M -0.00557476919587\n",
      "avgUrateL1M maxUrateL1M 1.0\n",
      "avgUrateL1M maxUrateL3M 0.703109784174\n",
      "avgUrateL1M avgUrateL3M 0.692073586452\n",
      "avgUrateL1M increaseUrateL3M 0.573581707256\n",
      "avgUrateL1M maxUrateL6M 0.56757209365\n",
      "avgUrateL1M avgUrateL6M 0.516137906107\n",
      "avgUrateL1M increaseUrateL6M 0.445499656604\n",
      "avgUrateL1M maxUrateL12M 0.45421132875\n",
      "avgUrateL1M avgUrateL12M 0.369559809396\n",
      "avgUrateL1M increaseUrateL12M 0.329418419894\n",
      "avgUrateL1M maxPayL1M 0.000562517269526\n",
      "avgUrateL1M minPayL1M 0.000562517269526\n",
      "avgUrateL1M meanPayL1M 0.000562517269526\n",
      "avgUrateL1M maxPayL3M 0.0130628548906\n",
      "avgUrateL1M minPayL3M 0.0084136793818\n",
      "avgUrateL1M meanPayL3M 0.0126323396268\n",
      "avgUrateL1M maxPayL6M 0.00616363815886\n",
      "avgUrateL1M minPayL6M 0.00366344238498\n",
      "avgUrateL1M meanPayL6M 0.0153233512434\n",
      "avgUrateL1M maxPayL12M 0.000765749611044\n",
      "avgUrateL1M minPayL12M 0.0114211564413\n",
      "avgUrateL1M meanPayL12M 0.0150157190024\n",
      "maxUrateL3M maxDelqL1M 0.00158395713962\n",
      "maxUrateL3M M0FreqL1M 0.00176089964254\n",
      "maxUrateL3M M1FreqL1M 0.000140955356681\n",
      "maxUrateL3M M2FreqL1M 0.001648550637\n",
      "maxUrateL3M maxDelqL3M -0.011819585055\n",
      "maxUrateL3M M0FreqL3M -0.0113358600912\n",
      "maxUrateL3M M1FreqL3M -0.0088703289921\n",
      "maxUrateL3M M2FreqL3M -0.002914260546\n",
      "maxUrateL3M maxDelqL6M -0.00252121560618\n",
      "maxUrateL3M M0FreqL6M -0.0117642715091\n",
      "maxUrateL3M M1FreqL6M -0.00635834816458\n",
      "maxUrateL3M M2FreqL6M -0.000697464759716\n",
      "maxUrateL3M maxDelqL12M 0.00406491340461\n",
      "maxUrateL3M M0FreqL12M -0.00824645877668\n",
      "maxUrateL3M M1FreqL12M -0.00203199534873\n",
      "maxUrateL3M M2FreqL12M 0.000849477306224\n",
      "maxUrateL3M maxUrateL1M 0.703109784174\n",
      "maxUrateL3M avgUrateL1M 0.703109784174\n",
      "maxUrateL3M avgUrateL3M 0.784913795641\n",
      "maxUrateL3M increaseUrateL3M 0.267416035382\n",
      "maxUrateL3M maxUrateL6M 0.768636969248\n",
      "maxUrateL3M avgUrateL6M 0.586505112806\n",
      "maxUrateL3M increaseUrateL6M 0.307855659649\n",
      "maxUrateL3M maxUrateL12M 0.593047551666\n",
      "maxUrateL3M avgUrateL12M 0.422336787784\n",
      "maxUrateL3M increaseUrateL12M 0.228216542053\n",
      "maxUrateL3M maxPayL1M -0.0129391384153\n",
      "maxUrateL3M minPayL1M -0.0129391384153\n",
      "maxUrateL3M meanPayL1M -0.0129391384153\n",
      "maxUrateL3M maxPayL3M 0.00950272145759\n",
      "maxUrateL3M minPayL3M -0.00277479545768\n",
      "maxUrateL3M meanPayL3M -0.00295028734106\n",
      "maxUrateL3M maxPayL6M 0.00768758595978\n",
      "maxUrateL3M minPayL6M 0.00115324409637\n",
      "maxUrateL3M meanPayL6M -0.00172748777903\n",
      "maxUrateL3M maxPayL12M -0.00411782193461\n",
      "maxUrateL3M minPayL12M 0.00238366169067\n",
      "maxUrateL3M meanPayL12M 0.00333934073833\n",
      "avgUrateL3M maxDelqL1M 0.00139675925894\n",
      "avgUrateL3M M0FreqL1M 0.00363526755197\n",
      "avgUrateL3M M1FreqL1M -0.00486135814522\n",
      "avgUrateL3M M2FreqL1M 0.00493256549968\n",
      "avgUrateL3M maxDelqL3M -0.00656031849265\n",
      "avgUrateL3M M0FreqL3M -0.00608028900614\n",
      "avgUrateL3M M1FreqL3M -0.00516275530727\n",
      "avgUrateL3M M2FreqL3M 0.00636486187279\n",
      "avgUrateL3M maxDelqL6M -0.00199209054753\n",
      "avgUrateL3M M0FreqL6M -0.00562410946663\n",
      "avgUrateL3M M1FreqL6M -0.00473316331195\n",
      "avgUrateL3M M2FreqL6M 0.00363693378731\n",
      "avgUrateL3M maxDelqL12M 0.00137173109592\n",
      "avgUrateL3M M0FreqL12M -0.00494239419686\n",
      "avgUrateL3M M1FreqL12M -0.00211467520026\n",
      "avgUrateL3M M2FreqL12M 0.00181107298495\n",
      "avgUrateL3M maxUrateL1M 0.692073586452\n",
      "avgUrateL3M avgUrateL1M 0.692073586452\n",
      "avgUrateL3M maxUrateL3M 0.784913795641\n",
      "avgUrateL3M increaseUrateL3M 0.249315323651\n",
      "avgUrateL3M maxUrateL6M 0.568155414873\n",
      "avgUrateL3M avgUrateL6M 0.746255095115\n",
      "avgUrateL3M increaseUrateL6M 0.381359136356\n",
      "avgUrateL3M maxUrateL12M 0.418333172667\n",
      "avgUrateL3M avgUrateL12M 0.536620204081\n",
      "avgUrateL3M increaseUrateL12M 0.283169865782\n",
      "avgUrateL3M maxPayL1M -0.0349134170678\n",
      "avgUrateL3M minPayL1M -0.0349134170678\n",
      "avgUrateL3M meanPayL1M -0.0349134170678\n",
      "avgUrateL3M maxPayL3M 0.00755166839339\n",
      "avgUrateL3M minPayL3M -0.0346533779539\n",
      "avgUrateL3M meanPayL3M -0.0240017904073\n",
      "avgUrateL3M maxPayL6M 0.00218215861753\n",
      "avgUrateL3M minPayL6M -0.0122610154274\n",
      "avgUrateL3M meanPayL6M -0.0153171639427\n",
      "avgUrateL3M maxPayL12M -0.00581243520177\n",
      "avgUrateL3M minPayL12M -0.00311337176211\n",
      "avgUrateL3M meanPayL12M -0.00147690725957\n",
      "increaseUrateL3M maxDelqL1M -0.00297494174056\n",
      "increaseUrateL3M M0FreqL1M 0.000595991742253\n",
      "increaseUrateL3M M1FreqL1M -0.00743567678426\n",
      "increaseUrateL3M M2FreqL1M -0.00313565215043\n",
      "increaseUrateL3M maxDelqL3M -0.00811872697678\n",
      "increaseUrateL3M M0FreqL3M -0.0110827148357\n",
      "increaseUrateL3M M1FreqL3M -0.00453312674502\n",
      "increaseUrateL3M M2FreqL3M -0.00315865842005\n",
      "increaseUrateL3M maxDelqL6M -0.00969592565632\n",
      "increaseUrateL3M M0FreqL6M -0.0147645863455\n",
      "increaseUrateL3M M1FreqL6M -0.0105118633002\n",
      "increaseUrateL3M M2FreqL6M -0.00559375086251\n",
      "increaseUrateL3M maxDelqL12M -0.0115075228067\n",
      "increaseUrateL3M M0FreqL12M -0.0127784359397\n",
      "increaseUrateL3M M1FreqL12M -0.01128108504\n",
      "increaseUrateL3M M2FreqL12M -0.00900889107029\n",
      "increaseUrateL3M maxUrateL1M 0.573581707256\n",
      "increaseUrateL3M avgUrateL1M 0.573581707256\n",
      "increaseUrateL3M maxUrateL3M 0.267416035382\n",
      "increaseUrateL3M avgUrateL3M 0.249315323651\n",
      "increaseUrateL3M maxUrateL6M 0.212249020251\n",
      "increaseUrateL3M avgUrateL6M 0.18614225601\n",
      "increaseUrateL3M increaseUrateL6M 0.607969451688\n",
      "increaseUrateL3M maxUrateL12M 0.163324824116\n",
      "increaseUrateL3M avgUrateL12M 0.126353179123\n",
      "increaseUrateL3M increaseUrateL12M 0.451623872865\n",
      "increaseUrateL3M maxPayL1M -0.0111563909637\n",
      "increaseUrateL3M minPayL1M -0.0111563909637\n",
      "increaseUrateL3M meanPayL1M -0.0111563909637\n",
      "increaseUrateL3M maxPayL3M 0.0124312334379\n",
      "increaseUrateL3M minPayL3M 0.0148840542828\n",
      "increaseUrateL3M meanPayL3M 0.00368131692285\n",
      "increaseUrateL3M maxPayL6M 0.00412509582824\n",
      "increaseUrateL3M minPayL6M 0.00522197163628\n",
      "increaseUrateL3M meanPayL6M 0.0188795965945\n",
      "increaseUrateL3M maxPayL12M 0.0073246048002\n",
      "increaseUrateL3M minPayL12M 0.0109452143497\n",
      "increaseUrateL3M meanPayL12M 0.0178846165494\n",
      "maxUrateL6M maxDelqL1M -0.0036996835123\n",
      "maxUrateL6M M0FreqL1M -0.00312384484873\n",
      "maxUrateL6M M1FreqL1M -0.00363618039797\n",
      "maxUrateL6M M2FreqL1M 0.000635024415431\n",
      "maxUrateL6M maxDelqL3M -0.0127464592515\n",
      "maxUrateL6M M0FreqL3M -0.0108629134297\n",
      "maxUrateL6M M1FreqL3M -0.00667487852821\n",
      "maxUrateL6M M2FreqL3M -0.00274479858278\n",
      "maxUrateL6M maxDelqL6M -0.00468799228248\n",
      "maxUrateL6M M0FreqL6M -0.0120899501013\n",
      "maxUrateL6M M1FreqL6M -0.00417940091651\n",
      "maxUrateL6M M2FreqL6M 8.88985059792e-05\n",
      "maxUrateL6M maxDelqL12M 0.00621940484592\n",
      "maxUrateL6M M0FreqL12M -0.0045952898315\n",
      "maxUrateL6M M1FreqL12M 0.00336668340695\n",
      "maxUrateL6M M2FreqL12M 0.00877773997402\n",
      "maxUrateL6M maxUrateL1M 0.56757209365\n",
      "maxUrateL6M avgUrateL1M 0.56757209365\n",
      "maxUrateL6M maxUrateL3M 0.768636969248\n",
      "maxUrateL6M avgUrateL3M 0.568155414873\n",
      "maxUrateL6M increaseUrateL3M 0.212249020251\n",
      "maxUrateL6M avgUrateL6M 0.628338653694\n",
      "maxUrateL6M increaseUrateL6M 0.167222127569\n",
      "maxUrateL6M maxUrateL12M 0.756412733253\n",
      "maxUrateL6M avgUrateL12M 0.455084952182\n",
      "maxUrateL6M increaseUrateL12M 0.165905586966\n",
      "maxUrateL6M maxPayL1M -0.00245478516206\n",
      "maxUrateL6M minPayL1M -0.00245478516206\n",
      "maxUrateL6M meanPayL1M -0.00245478516206\n",
      "maxUrateL6M maxPayL3M 0.00483024807366\n",
      "maxUrateL6M minPayL3M 0.00500213755197\n",
      "maxUrateL6M meanPayL3M 0.0114656174908\n",
      "maxUrateL6M maxPayL6M 0.00230743104586\n",
      "maxUrateL6M minPayL6M 0.00123963170173\n",
      "maxUrateL6M meanPayL6M 0.00532444617001\n",
      "maxUrateL6M maxPayL12M -0.0099207864056\n",
      "maxUrateL6M minPayL12M 0.00238145672423\n",
      "maxUrateL6M meanPayL12M 0.00274776743562\n",
      "avgUrateL6M maxDelqL1M -0.00432033018974\n",
      "avgUrateL6M M0FreqL1M -3.46471054867e-05\n",
      "avgUrateL6M M1FreqL1M -0.010276627021\n",
      "avgUrateL6M M2FreqL1M -0.00112865887161\n",
      "avgUrateL6M maxDelqL3M -0.010797934943\n",
      "avgUrateL6M M0FreqL3M -0.00755830295202\n",
      "avgUrateL6M M1FreqL3M -0.0108941606122\n",
      "avgUrateL6M M2FreqL3M -0.00156278439579\n",
      "avgUrateL6M maxDelqL6M -0.00664983945218\n",
      "avgUrateL6M M0FreqL6M -0.00577693265938\n",
      "avgUrateL6M M1FreqL6M -0.00666108111904\n",
      "avgUrateL6M M2FreqL6M -0.000932109455819\n",
      "avgUrateL6M maxDelqL12M -0.0037098827008\n",
      "avgUrateL6M M0FreqL12M -0.00532093765784\n",
      "avgUrateL6M M1FreqL12M -0.00333882694286\n",
      "avgUrateL6M M2FreqL12M -0.00154171457672\n",
      "avgUrateL6M maxUrateL1M 0.516137906107\n",
      "avgUrateL6M avgUrateL1M 0.516137906107\n",
      "avgUrateL6M maxUrateL3M 0.586505112806\n",
      "avgUrateL6M avgUrateL3M 0.746255095115\n",
      "avgUrateL6M increaseUrateL3M 0.18614225601\n",
      "avgUrateL6M maxUrateL6M 0.628338653694\n",
      "avgUrateL6M increaseUrateL6M 0.179204012283\n",
      "avgUrateL6M maxUrateL12M 0.437262936808\n",
      "avgUrateL6M avgUrateL12M 0.724028011809\n",
      "avgUrateL6M increaseUrateL12M 0.234896704164\n",
      "avgUrateL6M maxPayL1M -0.0247228630496\n",
      "avgUrateL6M minPayL1M -0.0247228630496\n",
      "avgUrateL6M meanPayL1M -0.0247228630496\n",
      "avgUrateL6M maxPayL3M 0.000248177781571\n",
      "avgUrateL6M minPayL3M -0.035412581181\n",
      "avgUrateL6M meanPayL3M -0.00313687363169\n",
      "avgUrateL6M maxPayL6M 0.00328792337861\n",
      "avgUrateL6M minPayL6M -0.0317496139518\n",
      "avgUrateL6M meanPayL6M -0.0110371730788\n",
      "avgUrateL6M maxPayL12M -0.00678168922864\n",
      "avgUrateL6M minPayL12M -0.00825691950582\n",
      "avgUrateL6M meanPayL12M -0.00158937855947\n",
      "increaseUrateL6M maxDelqL1M -0.00052704734086\n",
      "increaseUrateL6M M0FreqL1M 0.00197313620185\n",
      "increaseUrateL6M M1FreqL1M -0.00685328106591\n",
      "increaseUrateL6M M2FreqL1M 0.0057776697261\n",
      "increaseUrateL6M maxDelqL3M -0.00170707834836\n",
      "increaseUrateL6M M0FreqL3M -0.00557148341995\n",
      "increaseUrateL6M M1FreqL3M 0.00247489780573\n",
      "increaseUrateL6M M2FreqL3M 0.0080254877922\n",
      "increaseUrateL6M maxDelqL6M -0.00142807575054\n",
      "increaseUrateL6M M0FreqL6M -0.00910228141437\n",
      "increaseUrateL6M M1FreqL6M -0.00384790759149\n",
      "increaseUrateL6M M2FreqL6M 0.00436403272518\n",
      "increaseUrateL6M maxDelqL12M 0.00505263357994\n",
      "increaseUrateL6M M0FreqL12M -0.00549502592623\n",
      "increaseUrateL6M M1FreqL12M 0.00106340506345\n",
      "increaseUrateL6M M2FreqL12M 0.00302205014214\n",
      "increaseUrateL6M maxUrateL1M 0.445499656604\n",
      "increaseUrateL6M avgUrateL1M 0.445499656604\n",
      "increaseUrateL6M maxUrateL3M 0.307855659649\n",
      "increaseUrateL6M avgUrateL3M 0.381359136356\n",
      "increaseUrateL6M increaseUrateL3M 0.607969451688\n",
      "increaseUrateL6M maxUrateL6M 0.167222127569\n",
      "increaseUrateL6M avgUrateL6M 0.179204012283\n",
      "increaseUrateL6M maxUrateL12M 0.12575096659\n",
      "increaseUrateL6M avgUrateL12M 0.123431072533\n",
      "increaseUrateL6M increaseUrateL12M 0.650353535752\n",
      "increaseUrateL6M maxPayL1M -0.0103864153548\n",
      "increaseUrateL6M minPayL1M -0.0103864153548\n",
      "increaseUrateL6M meanPayL1M -0.0103864153548\n",
      "increaseUrateL6M maxPayL3M 0.00717391724512\n",
      "increaseUrateL6M minPayL3M -0.00727183591085\n",
      "increaseUrateL6M meanPayL3M -0.0029856740076\n",
      "increaseUrateL6M maxPayL6M 0.000384023682547\n",
      "increaseUrateL6M minPayL6M 0.0011483235335\n",
      "increaseUrateL6M meanPayL6M 0.00495503222132\n",
      "increaseUrateL6M maxPayL12M 0.00224549197163\n",
      "increaseUrateL6M minPayL12M -0.00100269154029\n",
      "increaseUrateL6M meanPayL12M 0.00710768035854\n",
      "maxUrateL12M maxDelqL1M -0.00855814693343\n",
      "maxUrateL12M M0FreqL1M -0.00626242250183\n",
      "maxUrateL12M M1FreqL1M -0.00651836307713\n",
      "maxUrateL12M M2FreqL1M -0.00959545931108\n",
      "maxUrateL12M maxDelqL3M -0.00871998259456\n",
      "maxUrateL12M M0FreqL3M -0.00631217649125\n",
      "maxUrateL12M M1FreqL3M -0.00635864930667\n",
      "maxUrateL12M M2FreqL3M -0.0116659804578\n",
      "maxUrateL12M maxDelqL6M -0.00135854760263\n",
      "maxUrateL12M M0FreqL6M -0.00808592745111\n",
      "maxUrateL12M M1FreqL6M -0.00207637131613\n",
      "maxUrateL12M M2FreqL6M -0.00618757613589\n",
      "maxUrateL12M maxDelqL12M 0.00472751276765\n",
      "maxUrateL12M M0FreqL12M 0.00130850123395\n",
      "maxUrateL12M M1FreqL12M 0.00652405453865\n",
      "maxUrateL12M M2FreqL12M 0.00251637640404\n",
      "maxUrateL12M maxUrateL1M 0.45421132875\n",
      "maxUrateL12M avgUrateL1M 0.45421132875\n",
      "maxUrateL12M maxUrateL3M 0.593047551666\n",
      "maxUrateL12M avgUrateL3M 0.418333172667\n",
      "maxUrateL12M increaseUrateL3M 0.163324824116\n",
      "maxUrateL12M maxUrateL6M 0.756412733253\n",
      "maxUrateL12M avgUrateL6M 0.437262936808\n",
      "maxUrateL12M increaseUrateL6M 0.12575096659\n",
      "maxUrateL12M avgUrateL12M 0.497325477496\n",
      "maxUrateL12M increaseUrateL12M 0.0938380576735\n",
      "maxUrateL12M maxPayL1M 0.00177186647245\n",
      "maxUrateL12M minPayL1M 0.00177186647245\n",
      "maxUrateL12M meanPayL1M 0.00177186647245\n",
      "maxUrateL12M maxPayL3M -0.000191405405262\n",
      "maxUrateL12M minPayL3M 0.00139649012645\n",
      "maxUrateL12M meanPayL3M 0.00666459961706\n",
      "maxUrateL12M maxPayL6M -0.000119945853976\n",
      "maxUrateL12M minPayL6M 0.000485528509925\n",
      "maxUrateL12M meanPayL6M 0.00772945712727\n",
      "maxUrateL12M maxPayL12M -0.00750778221656\n",
      "maxUrateL12M minPayL12M -0.00486478548015\n",
      "maxUrateL12M meanPayL12M 0.0024241072161\n",
      "avgUrateL12M maxDelqL1M -0.0127873672878\n",
      "avgUrateL12M M0FreqL1M -0.0122364503128\n",
      "avgUrateL12M M1FreqL1M -0.00796841039887\n",
      "avgUrateL12M M2FreqL1M -0.00369039470161\n",
      "avgUrateL12M maxDelqL3M -0.00808102713095\n",
      "avgUrateL12M M0FreqL3M -0.00706809312041\n",
      "avgUrateL12M M1FreqL3M -0.00766387904041\n",
      "avgUrateL12M M2FreqL3M -0.00201782167463\n",
      "avgUrateL12M maxDelqL6M -0.00302548425475\n",
      "avgUrateL12M M0FreqL6M -0.00672097631135\n",
      "avgUrateL12M M1FreqL6M -0.00322804460939\n",
      "avgUrateL12M M2FreqL6M -0.000627685237066\n",
      "avgUrateL12M maxDelqL12M -0.00590505661168\n",
      "avgUrateL12M M0FreqL12M -0.00629796417587\n",
      "avgUrateL12M M1FreqL12M -0.00114194132373\n",
      "avgUrateL12M M2FreqL12M -0.00399107592896\n",
      "avgUrateL12M maxUrateL1M 0.369559809396\n",
      "avgUrateL12M avgUrateL1M 0.369559809396\n",
      "avgUrateL12M maxUrateL3M 0.422336787784\n",
      "avgUrateL12M avgUrateL3M 0.536620204081\n",
      "avgUrateL12M increaseUrateL3M 0.126353179123\n",
      "avgUrateL12M maxUrateL6M 0.455084952182\n",
      "avgUrateL12M avgUrateL6M 0.724028011809\n",
      "avgUrateL12M increaseUrateL6M 0.123431072533\n",
      "avgUrateL12M maxUrateL12M 0.497325477496\n",
      "avgUrateL12M increaseUrateL12M 0.121752712106\n",
      "avgUrateL12M maxPayL1M -0.00635253740607\n",
      "avgUrateL12M minPayL1M -0.00635253740607\n",
      "avgUrateL12M meanPayL1M -0.00635253740607\n",
      "avgUrateL12M maxPayL3M 0.000497088901441\n",
      "avgUrateL12M minPayL3M -0.0249665444537\n",
      "avgUrateL12M meanPayL3M 0.00099926297114\n",
      "avgUrateL12M maxPayL6M 0.00160120947762\n",
      "avgUrateL12M minPayL6M -0.0292026399416\n",
      "avgUrateL12M meanPayL6M -0.000914639719397\n",
      "avgUrateL12M maxPayL12M -0.00612762067379\n",
      "avgUrateL12M minPayL12M -0.0132323960108\n",
      "avgUrateL12M meanPayL12M 0.00172642066039\n",
      "increaseUrateL12M maxDelqL1M 0.00333481020759\n",
      "increaseUrateL12M M0FreqL1M 0.00196427434187\n",
      "increaseUrateL12M M1FreqL1M 0.00199596956782\n",
      "increaseUrateL12M M2FreqL1M 0.00802419616443\n",
      "increaseUrateL12M maxDelqL3M -0.00481414704096\n",
      "increaseUrateL12M M0FreqL3M -0.00684589402489\n",
      "increaseUrateL12M M1FreqL3M -0.00425229393567\n",
      "increaseUrateL12M M2FreqL3M 0.00452880016395\n",
      "increaseUrateL12M maxDelqL6M -0.00187089356122\n",
      "increaseUrateL12M M0FreqL6M -0.00582468504777\n",
      "increaseUrateL12M M1FreqL6M -0.00327486301791\n",
      "increaseUrateL12M M2FreqL6M 0.00186519618634\n",
      "increaseUrateL12M maxDelqL12M -0.00656126313938\n",
      "increaseUrateL12M M0FreqL12M -0.00924129824479\n",
      "increaseUrateL12M M1FreqL12M -0.00758381091915\n",
      "increaseUrateL12M M2FreqL12M 0.000312018283433\n",
      "increaseUrateL12M maxUrateL1M 0.329418419894\n",
      "increaseUrateL12M avgUrateL1M 0.329418419894\n",
      "increaseUrateL12M maxUrateL3M 0.228216542053\n",
      "increaseUrateL12M avgUrateL3M 0.283169865782\n",
      "increaseUrateL12M increaseUrateL3M 0.451623872865\n",
      "increaseUrateL12M maxUrateL6M 0.165905586966\n",
      "increaseUrateL12M avgUrateL6M 0.234896704164\n",
      "increaseUrateL12M increaseUrateL6M 0.650353535752\n",
      "increaseUrateL12M maxUrateL12M 0.0938380576735\n",
      "increaseUrateL12M avgUrateL12M 0.121752712106\n",
      "increaseUrateL12M maxPayL1M -0.0112471269051\n",
      "increaseUrateL12M minPayL1M -0.0112471269051\n",
      "increaseUrateL12M meanPayL1M -0.0112471269051\n",
      "increaseUrateL12M maxPayL3M 0.00543767521897\n",
      "increaseUrateL12M minPayL3M -0.00629040469429\n",
      "increaseUrateL12M meanPayL3M -0.00493258849739\n",
      "increaseUrateL12M maxPayL6M -0.00223939985393\n",
      "increaseUrateL12M minPayL6M -0.0147440708869\n",
      "increaseUrateL12M meanPayL6M -0.000522598460382\n",
      "increaseUrateL12M maxPayL12M -0.000486434113369\n",
      "increaseUrateL12M minPayL12M -0.000741063282231\n",
      "increaseUrateL12M meanPayL12M 0.00409746850427\n",
      "maxPayL1M maxDelqL1M -0.859897969374\n",
      "maxPayL1M M0FreqL1M -0.945479212845\n",
      "maxPayL1M M1FreqL1M -0.355602314879\n",
      "maxPayL1M M2FreqL1M -0.11098836044\n",
      "maxPayL1M maxDelqL3M -0.388127192209\n",
      "maxPayL1M M0FreqL3M -0.582655631517\n",
      "maxPayL1M M1FreqL3M -0.215677869672\n",
      "maxPayL1M M2FreqL3M -0.0712756616986\n",
      "maxPayL1M maxDelqL6M -0.204244995472\n",
      "maxPayL1M M0FreqL6M -0.429877789852\n",
      "maxPayL1M M1FreqL6M -0.165538522705\n",
      "maxPayL1M M2FreqL6M -0.0612627560906\n",
      "maxPayL1M maxDelqL12M -0.123592713981\n",
      "maxPayL1M M0FreqL12M -0.333905034827\n",
      "maxPayL1M M1FreqL12M -0.136949650146\n",
      "maxPayL1M M2FreqL12M -0.0594111042094\n",
      "maxPayL1M maxUrateL1M 0.000562517269526\n",
      "maxPayL1M avgUrateL1M 0.000562517269526\n",
      "maxPayL1M maxUrateL3M -0.0129391384153\n",
      "maxPayL1M avgUrateL3M -0.0349134170678\n",
      "maxPayL1M increaseUrateL3M -0.0111563909637\n",
      "maxPayL1M maxUrateL6M -0.00245478516206\n",
      "maxPayL1M avgUrateL6M -0.0247228630496\n",
      "maxPayL1M increaseUrateL6M -0.0103864153548\n",
      "maxPayL1M maxUrateL12M 0.00177186647245\n",
      "maxPayL1M avgUrateL12M -0.00635253740607\n",
      "maxPayL1M increaseUrateL12M -0.0112471269051\n",
      "maxPayL1M minPayL1M 1.0\n",
      "maxPayL1M meanPayL1M 1.0\n",
      "maxPayL1M maxPayL3M 0.40577077729\n",
      "maxPayL1M minPayL3M 0.465065873787\n",
      "maxPayL1M meanPayL3M 0.619174826546\n",
      "maxPayL1M maxPayL6M 0.203716559448\n",
      "maxPayL1M minPayL6M 0.228203986069\n",
      "maxPayL1M meanPayL6M 0.462634377971\n",
      "maxPayL1M maxPayL12M 0.12057335241\n",
      "maxPayL1M minPayL12M 0.0752803753687\n",
      "maxPayL1M meanPayL12M 0.365787064494\n",
      "minPayL1M maxDelqL1M -0.859897969374\n",
      "minPayL1M M0FreqL1M -0.945479212845\n",
      "minPayL1M M1FreqL1M -0.355602314879\n",
      "minPayL1M M2FreqL1M -0.11098836044\n",
      "minPayL1M maxDelqL3M -0.388127192209\n",
      "minPayL1M M0FreqL3M -0.582655631517\n",
      "minPayL1M M1FreqL3M -0.215677869672\n",
      "minPayL1M M2FreqL3M -0.0712756616986\n",
      "minPayL1M maxDelqL6M -0.204244995472\n",
      "minPayL1M M0FreqL6M -0.429877789852\n",
      "minPayL1M M1FreqL6M -0.165538522705\n",
      "minPayL1M M2FreqL6M -0.0612627560906\n",
      "minPayL1M maxDelqL12M -0.123592713981\n",
      "minPayL1M M0FreqL12M -0.333905034827\n",
      "minPayL1M M1FreqL12M -0.136949650146\n",
      "minPayL1M M2FreqL12M -0.0594111042094\n",
      "minPayL1M maxUrateL1M 0.000562517269526\n",
      "minPayL1M avgUrateL1M 0.000562517269526\n",
      "minPayL1M maxUrateL3M -0.0129391384153\n",
      "minPayL1M avgUrateL3M -0.0349134170678\n",
      "minPayL1M increaseUrateL3M -0.0111563909637\n",
      "minPayL1M maxUrateL6M -0.00245478516206\n",
      "minPayL1M avgUrateL6M -0.0247228630496\n",
      "minPayL1M increaseUrateL6M -0.0103864153548\n",
      "minPayL1M maxUrateL12M 0.00177186647245\n",
      "minPayL1M avgUrateL12M -0.00635253740607\n",
      "minPayL1M increaseUrateL12M -0.0112471269051\n",
      "minPayL1M maxPayL1M 1.0\n",
      "minPayL1M meanPayL1M 1.0\n",
      "minPayL1M maxPayL3M 0.40577077729\n",
      "minPayL1M minPayL3M 0.465065873787\n",
      "minPayL1M meanPayL3M 0.619174826546\n",
      "minPayL1M maxPayL6M 0.203716559448\n",
      "minPayL1M minPayL6M 0.228203986069\n",
      "minPayL1M meanPayL6M 0.462634377971\n",
      "minPayL1M maxPayL12M 0.12057335241\n",
      "minPayL1M minPayL12M 0.0752803753687\n",
      "minPayL1M meanPayL12M 0.365787064494\n",
      "meanPayL1M maxDelqL1M -0.859897969374\n",
      "meanPayL1M M0FreqL1M -0.945479212845\n",
      "meanPayL1M M1FreqL1M -0.355602314879\n",
      "meanPayL1M M2FreqL1M -0.11098836044\n",
      "meanPayL1M maxDelqL3M -0.388127192209\n",
      "meanPayL1M M0FreqL3M -0.582655631517\n",
      "meanPayL1M M1FreqL3M -0.215677869672\n",
      "meanPayL1M M2FreqL3M -0.0712756616986\n",
      "meanPayL1M maxDelqL6M -0.204244995472\n",
      "meanPayL1M M0FreqL6M -0.429877789852\n",
      "meanPayL1M M1FreqL6M -0.165538522705\n",
      "meanPayL1M M2FreqL6M -0.0612627560906\n",
      "meanPayL1M maxDelqL12M -0.123592713981\n",
      "meanPayL1M M0FreqL12M -0.333905034827\n",
      "meanPayL1M M1FreqL12M -0.136949650146\n",
      "meanPayL1M M2FreqL12M -0.0594111042094\n",
      "meanPayL1M maxUrateL1M 0.000562517269526\n",
      "meanPayL1M avgUrateL1M 0.000562517269526\n",
      "meanPayL1M maxUrateL3M -0.0129391384153\n",
      "meanPayL1M avgUrateL3M -0.0349134170678\n",
      "meanPayL1M increaseUrateL3M -0.0111563909637\n",
      "meanPayL1M maxUrateL6M -0.00245478516206\n",
      "meanPayL1M avgUrateL6M -0.0247228630496\n",
      "meanPayL1M increaseUrateL6M -0.0103864153548\n",
      "meanPayL1M maxUrateL12M 0.00177186647245\n",
      "meanPayL1M avgUrateL12M -0.00635253740607\n",
      "meanPayL1M increaseUrateL12M -0.0112471269051\n",
      "meanPayL1M maxPayL1M 1.0\n",
      "meanPayL1M minPayL1M 1.0\n",
      "meanPayL1M maxPayL3M 0.40577077729\n",
      "meanPayL1M minPayL3M 0.465065873787\n",
      "meanPayL1M meanPayL3M 0.619174826546\n",
      "meanPayL1M maxPayL6M 0.203716559448\n",
      "meanPayL1M minPayL6M 0.228203986069\n",
      "meanPayL1M meanPayL6M 0.462634377971\n",
      "meanPayL1M maxPayL12M 0.12057335241\n",
      "meanPayL1M minPayL12M 0.0752803753687\n",
      "meanPayL1M meanPayL12M 0.365787064494\n",
      "maxPayL3M maxDelqL1M -0.471688204725\n",
      "maxPayL3M M0FreqL1M -0.360979755441\n",
      "maxPayL3M M1FreqL1M -0.404663711699\n",
      "maxPayL3M M2FreqL1M -0.303984829442\n",
      "maxPayL3M maxDelqL3M -0.42325370836\n",
      "maxPayL3M M0FreqL3M -0.61005492378\n",
      "maxPayL3M M1FreqL3M -0.513111714364\n",
      "maxPayL3M M2FreqL3M -0.265807476818\n",
      "maxPayL3M maxDelqL6M -0.310994903137\n",
      "maxPayL3M M0FreqL6M -0.462440917754\n",
      "maxPayL3M M1FreqL6M -0.372907917924\n",
      "maxPayL3M M2FreqL6M -0.194679318971\n",
      "maxPayL3M maxDelqL12M -0.227885826081\n",
      "maxPayL3M M0FreqL12M -0.36141645058\n",
      "maxPayL3M M1FreqL12M -0.290341002811\n",
      "maxPayL3M M2FreqL12M -0.154744770082\n",
      "maxPayL3M maxUrateL1M 0.0130628548906\n",
      "maxPayL3M avgUrateL1M 0.0130628548906\n",
      "maxPayL3M maxUrateL3M 0.00950272145759\n",
      "maxPayL3M avgUrateL3M 0.00755166839339\n",
      "maxPayL3M increaseUrateL3M 0.0124312334379\n",
      "maxPayL3M maxUrateL6M 0.00483024807366\n",
      "maxPayL3M avgUrateL6M 0.000248177781571\n",
      "maxPayL3M increaseUrateL6M 0.00717391724512\n",
      "maxPayL3M maxUrateL12M -0.000191405405262\n",
      "maxPayL3M avgUrateL12M 0.000497088901441\n",
      "maxPayL3M increaseUrateL12M 0.00543767521897\n",
      "maxPayL3M maxPayL1M 0.40577077729\n",
      "maxPayL3M minPayL1M 0.40577077729\n",
      "maxPayL3M meanPayL1M 0.40577077729\n",
      "maxPayL3M minPayL3M 0.231626162843\n",
      "maxPayL3M meanPayL3M 0.677969792844\n",
      "maxPayL3M maxPayL6M 0.449100115078\n",
      "maxPayL3M minPayL6M 0.114016508496\n",
      "maxPayL3M meanPayL6M 0.574203288487\n",
      "maxPayL3M maxPayL12M 0.223163928841\n",
      "maxPayL3M minPayL12M 0.0367329576986\n",
      "maxPayL3M meanPayL12M 0.483666325127\n",
      "minPayL3M maxDelqL1M -0.374445630671\n",
      "minPayL3M M0FreqL1M -0.409138969691\n",
      "minPayL3M M1FreqL1M -0.158852292901\n",
      "minPayL3M M2FreqL1M -0.0505398535489\n",
      "minPayL3M maxDelqL3M -0.723789174208\n",
      "minPayL3M M0FreqL3M -0.717810184381\n",
      "minPayL3M M1FreqL3M -0.260134435588\n",
      "minPayL3M M2FreqL3M -0.0823512171175\n",
      "minPayL3M maxDelqL6M -0.324140539879\n",
      "minPayL3M M0FreqL6M -0.536162011106\n",
      "minPayL3M M1FreqL6M -0.201229785267\n",
      "minPayL3M M2FreqL6M -0.071803829764\n",
      "minPayL3M maxDelqL12M -0.169746949882\n",
      "minPayL3M M0FreqL12M -0.413043740941\n",
      "minPayL3M M1FreqL12M -0.16979793706\n",
      "minPayL3M M2FreqL12M -0.0674426432591\n",
      "minPayL3M maxUrateL1M 0.0084136793818\n",
      "minPayL3M avgUrateL1M 0.0084136793818\n",
      "minPayL3M maxUrateL3M -0.00277479545768\n",
      "minPayL3M avgUrateL3M -0.0346533779539\n",
      "minPayL3M increaseUrateL3M 0.0148840542828\n",
      "minPayL3M maxUrateL6M 0.00500213755197\n",
      "minPayL3M avgUrateL6M -0.035412581181\n",
      "minPayL3M increaseUrateL6M -0.00727183591085\n",
      "minPayL3M maxUrateL12M 0.00139649012645\n",
      "minPayL3M avgUrateL12M -0.0249665444537\n",
      "minPayL3M increaseUrateL12M -0.00629040469429\n",
      "minPayL3M maxPayL1M 0.465065873787\n",
      "minPayL3M minPayL1M 0.465065873787\n",
      "minPayL3M meanPayL1M 0.465065873787\n",
      "minPayL3M maxPayL3M 0.231626162843\n",
      "minPayL3M meanPayL3M 0.671750062601\n",
      "minPayL3M maxPayL6M 0.140152330518\n",
      "minPayL3M minPayL6M 0.491301670797\n",
      "minPayL3M meanPayL6M 0.490198220632\n",
      "minPayL3M maxPayL12M 0.0974562202548\n",
      "minPayL3M minPayL12M 0.161601979978\n",
      "minPayL3M meanPayL12M 0.381559352265\n",
      "meanPayL3M maxDelqL1M -0.615194615987\n",
      "meanPayL3M M0FreqL1M -0.560622186957\n",
      "meanPayL3M M1FreqL1M -0.430972067304\n",
      "meanPayL3M M2FreqL1M -0.189747216744\n",
      "meanPayL3M maxDelqL3M -0.710093429683\n",
      "meanPayL3M M0FreqL3M -0.878465872085\n",
      "meanPayL3M M1FreqL3M -0.539507924821\n",
      "meanPayL3M M2FreqL3M -0.208882042161\n",
      "meanPayL3M maxDelqL6M -0.411461207803\n",
      "meanPayL3M M0FreqL6M -0.632187946813\n",
      "meanPayL3M M1FreqL6M -0.383714307098\n",
      "meanPayL3M M2FreqL6M -0.157528629468\n",
      "meanPayL3M maxDelqL12M -0.266168928415\n",
      "meanPayL3M M0FreqL12M -0.487448050708\n",
      "meanPayL3M M1FreqL12M -0.304736560649\n",
      "meanPayL3M M2FreqL12M -0.133488898796\n",
      "meanPayL3M maxUrateL1M 0.0126323396268\n",
      "meanPayL3M avgUrateL1M 0.0126323396268\n",
      "meanPayL3M maxUrateL3M -0.00295028734106\n",
      "meanPayL3M avgUrateL3M -0.0240017904073\n",
      "meanPayL3M increaseUrateL3M 0.00368131692285\n",
      "meanPayL3M maxUrateL6M 0.0114656174908\n",
      "meanPayL3M avgUrateL6M -0.00313687363169\n",
      "meanPayL3M increaseUrateL6M -0.0029856740076\n",
      "meanPayL3M maxUrateL12M 0.00666459961706\n",
      "meanPayL3M avgUrateL12M 0.00099926297114\n",
      "meanPayL3M increaseUrateL12M -0.00493258849739\n",
      "meanPayL3M maxPayL1M 0.619174826546\n",
      "meanPayL3M minPayL1M 0.619174826546\n",
      "meanPayL3M meanPayL1M 0.619174826546\n",
      "meanPayL3M maxPayL3M 0.677969792844\n",
      "meanPayL3M minPayL3M 0.671750062601\n",
      "meanPayL3M maxPayL6M 0.333567868718\n",
      "meanPayL3M minPayL6M 0.329694425048\n",
      "meanPayL3M meanPayL6M 0.730069138696\n",
      "meanPayL3M maxPayL12M 0.191559740979\n",
      "meanPayL3M minPayL12M 0.107879186229\n",
      "meanPayL3M meanPayL12M 0.578150169062\n",
      "maxPayL6M maxDelqL1M -0.18946357176\n",
      "maxPayL6M M0FreqL1M -0.153411009368\n",
      "maxPayL6M M1FreqL1M -0.156908746206\n",
      "maxPayL6M M2FreqL1M -0.0923587746451\n",
      "maxPayL6M maxDelqL3M -0.224128492974\n",
      "maxPayL6M M0FreqL3M -0.265536893711\n",
      "maxPayL6M M1FreqL3M -0.257517694868\n",
      "maxPayL6M M2FreqL3M -0.175999273541\n",
      "maxPayL6M maxDelqL6M -0.22402795788\n",
      "maxPayL6M M0FreqL6M -0.369322254587\n",
      "maxPayL6M M1FreqL6M -0.319836759687\n",
      "maxPayL6M M2FreqL6M -0.196578724356\n",
      "maxPayL6M maxDelqL12M -0.173932929372\n",
      "maxPayL6M M0FreqL12M -0.301950583793\n",
      "maxPayL6M M1FreqL12M -0.25421824638\n",
      "maxPayL6M M2FreqL12M -0.158493247307\n",
      "maxPayL6M maxUrateL1M 0.00616363815886\n",
      "maxPayL6M avgUrateL1M 0.00616363815886\n",
      "maxPayL6M maxUrateL3M 0.00768758595978\n",
      "maxPayL6M avgUrateL3M 0.00218215861753\n",
      "maxPayL6M increaseUrateL3M 0.00412509582824\n",
      "maxPayL6M maxUrateL6M 0.00230743104586\n",
      "maxPayL6M avgUrateL6M 0.00328792337861\n",
      "maxPayL6M increaseUrateL6M 0.000384023682547\n",
      "maxPayL6M maxUrateL12M -0.000119945853976\n",
      "maxPayL6M avgUrateL12M 0.00160120947762\n",
      "maxPayL6M increaseUrateL12M -0.00223939985393\n",
      "maxPayL6M maxPayL1M 0.203716559448\n",
      "maxPayL6M minPayL1M 0.203716559448\n",
      "maxPayL6M meanPayL1M 0.203716559448\n",
      "maxPayL6M maxPayL3M 0.449100115078\n",
      "maxPayL6M minPayL3M 0.140152330518\n",
      "maxPayL6M meanPayL3M 0.333567868718\n",
      "maxPayL6M minPayL6M 0.0759022864734\n",
      "maxPayL6M meanPayL6M 0.445500454741\n",
      "maxPayL6M maxPayL12M 0.417126297032\n",
      "maxPayL6M minPayL12M 0.0233494516879\n",
      "maxPayL6M meanPayL12M 0.422757223632\n",
      "minPayL6M maxDelqL1M -0.180806430974\n",
      "minPayL6M M0FreqL1M -0.197885215259\n",
      "minPayL6M M1FreqL1M -0.0761204342764\n",
      "minPayL6M M2FreqL1M -0.0243512068117\n",
      "minPayL6M maxDelqL3M -0.342882461896\n",
      "minPayL6M M0FreqL3M -0.341715457801\n",
      "minPayL6M M1FreqL3M -0.124700189512\n",
      "minPayL6M M2FreqL3M -0.0396786175347\n",
      "minPayL6M maxDelqL6M -0.473508557057\n",
      "minPayL6M M0FreqL6M -0.471133681201\n",
      "minPayL6M M1FreqL6M -0.173040981475\n",
      "minPayL6M M2FreqL6M -0.0559861248697\n",
      "minPayL6M maxDelqL12M -0.180443331897\n",
      "minPayL6M M0FreqL12M -0.365618496873\n",
      "minPayL6M M1FreqL12M -0.148406220899\n",
      "minPayL6M M2FreqL12M -0.0500786293789\n",
      "minPayL6M maxUrateL1M 0.00366344238498\n",
      "minPayL6M avgUrateL1M 0.00366344238498\n",
      "minPayL6M maxUrateL3M 0.00115324409637\n",
      "minPayL6M avgUrateL3M -0.0122610154274\n",
      "minPayL6M increaseUrateL3M 0.00522197163628\n",
      "minPayL6M maxUrateL6M 0.00123963170173\n",
      "minPayL6M avgUrateL6M -0.0317496139518\n",
      "minPayL6M increaseUrateL6M 0.0011483235335\n",
      "minPayL6M maxUrateL12M 0.000485528509925\n",
      "minPayL6M avgUrateL12M -0.0292026399416\n",
      "minPayL6M increaseUrateL12M -0.0147440708869\n",
      "minPayL6M maxPayL1M 0.228203986069\n",
      "minPayL6M minPayL1M 0.228203986069\n",
      "minPayL6M meanPayL1M 0.228203986069\n",
      "minPayL6M maxPayL3M 0.114016508496\n",
      "minPayL6M minPayL3M 0.491301670797\n",
      "minPayL6M meanPayL3M 0.329694425048\n",
      "minPayL6M maxPayL6M 0.0759022864734\n",
      "minPayL6M meanPayL6M 0.454590043533\n",
      "minPayL6M maxPayL12M 0.0526682676875\n",
      "minPayL6M minPayL12M 0.331187079234\n",
      "minPayL6M meanPayL12M 0.330159866131\n",
      "meanPayL6M maxDelqL1M -0.454861184714\n",
      "meanPayL6M M0FreqL1M -0.408056727355\n",
      "meanPayL6M M1FreqL1M -0.326976192876\n",
      "meanPayL6M M2FreqL1M -0.151022924555\n",
      "meanPayL6M maxDelqL3M -0.574053521057\n",
      "meanPayL6M M0FreqL3M -0.662592298976\n",
      "meanPayL6M M1FreqL3M -0.483209566582\n",
      "meanPayL6M M2FreqL3M -0.225103975174\n",
      "meanPayL6M maxDelqL6M -0.631044196734\n",
      "meanPayL6M M0FreqL6M -0.867252845513\n",
      "meanPayL6M M1FreqL6M -0.593212845645\n",
      "meanPayL6M M2FreqL6M -0.266612583696\n",
      "meanPayL6M maxDelqL12M -0.404799550633\n",
      "meanPayL6M M0FreqL12M -0.655925564744\n",
      "meanPayL6M M1FreqL12M -0.453268641664\n",
      "meanPayL6M M2FreqL12M -0.213797598336\n",
      "meanPayL6M maxUrateL1M 0.0153233512434\n",
      "meanPayL6M avgUrateL1M 0.0153233512434\n",
      "meanPayL6M maxUrateL3M -0.00172748777903\n",
      "meanPayL6M avgUrateL3M -0.0153171639427\n",
      "meanPayL6M increaseUrateL3M 0.0188795965945\n",
      "meanPayL6M maxUrateL6M 0.00532444617001\n",
      "meanPayL6M avgUrateL6M -0.0110371730788\n",
      "meanPayL6M increaseUrateL6M 0.00495503222132\n",
      "meanPayL6M maxUrateL12M 0.00772945712727\n",
      "meanPayL6M avgUrateL12M -0.000914639719397\n",
      "meanPayL6M increaseUrateL12M -0.000522598460382\n",
      "meanPayL6M maxPayL1M 0.462634377971\n",
      "meanPayL6M minPayL1M 0.462634377971\n",
      "meanPayL6M meanPayL1M 0.462634377971\n",
      "meanPayL6M maxPayL3M 0.574203288487\n",
      "meanPayL6M minPayL3M 0.490198220632\n",
      "meanPayL6M meanPayL3M 0.730069138696\n",
      "meanPayL6M maxPayL6M 0.445500454741\n",
      "meanPayL6M minPayL6M 0.454590043533\n",
      "meanPayL6M maxPayL12M 0.246696067787\n",
      "meanPayL6M minPayL12M 0.149121940156\n",
      "meanPayL6M meanPayL12M 0.780142660728\n",
      "maxPayL12M maxDelqL1M -0.0825459900326\n",
      "maxPayL12M M0FreqL1M -0.0751523518812\n",
      "maxPayL12M M1FreqL1M -0.0544984888353\n",
      "maxPayL12M M2FreqL1M -0.0359004207657\n",
      "maxPayL12M maxDelqL3M -0.111979930133\n",
      "maxPayL12M M0FreqL3M -0.128613284415\n",
      "maxPayL12M M1FreqL3M -0.0994113466554\n",
      "maxPayL12M M2FreqL3M -0.0566369084457\n",
      "maxPayL12M maxDelqL6M -0.114043493989\n",
      "maxPayL12M M0FreqL6M -0.168025452066\n",
      "maxPayL12M M1FreqL6M -0.127995387687\n",
      "maxPayL12M M2FreqL6M -0.0792942480916\n",
      "maxPayL12M maxDelqL12M -0.117506648234\n",
      "maxPayL12M M0FreqL12M -0.228676164253\n",
      "maxPayL12M M1FreqL12M -0.171425454777\n",
      "maxPayL12M M2FreqL12M -0.0909551144987\n",
      "maxPayL12M maxUrateL1M 0.000765749611044\n",
      "maxPayL12M avgUrateL1M 0.000765749611044\n",
      "maxPayL12M maxUrateL3M -0.00411782193461\n",
      "maxPayL12M avgUrateL3M -0.00581243520177\n",
      "maxPayL12M increaseUrateL3M 0.0073246048002\n",
      "maxPayL12M maxUrateL6M -0.0099207864056\n",
      "maxPayL12M avgUrateL6M -0.00678168922864\n",
      "maxPayL12M increaseUrateL6M 0.00224549197163\n",
      "maxPayL12M maxUrateL12M -0.00750778221656\n",
      "maxPayL12M avgUrateL12M -0.00612762067379\n",
      "maxPayL12M increaseUrateL12M -0.000486434113369\n",
      "maxPayL12M maxPayL1M 0.12057335241\n",
      "maxPayL12M minPayL1M 0.12057335241\n",
      "maxPayL12M meanPayL1M 0.12057335241\n",
      "maxPayL12M maxPayL3M 0.223163928841\n",
      "maxPayL12M minPayL3M 0.0974562202548\n",
      "maxPayL12M meanPayL3M 0.191559740979\n",
      "maxPayL12M maxPayL6M 0.417126297032\n",
      "maxPayL12M minPayL6M 0.0526682676875\n",
      "maxPayL12M meanPayL6M 0.246696067787\n",
      "maxPayL12M minPayL12M 0.0170634211827\n",
      "maxPayL12M meanPayL12M 0.30971526994\n",
      "minPayL12M maxDelqL1M -0.0601652151942\n",
      "minPayL12M M0FreqL1M -0.0658999165067\n",
      "minPayL12M M1FreqL1M -0.025330408735\n",
      "minPayL12M M2FreqL1M -0.00781511522711\n",
      "minPayL12M maxDelqL3M -0.112597495157\n",
      "minPayL12M M0FreqL3M -0.111873576226\n",
      "minPayL12M M1FreqL3M -0.0407199258698\n",
      "minPayL12M M2FreqL3M -0.0127341930313\n",
      "minPayL12M maxDelqL6M -0.159688624301\n",
      "minPayL12M M0FreqL6M -0.155725897533\n",
      "minPayL12M M1FreqL6M -0.0563818694657\n",
      "minPayL12M M2FreqL6M -0.0179678165587\n",
      "minPayL12M maxDelqL12M -0.193257353404\n",
      "minPayL12M M0FreqL12M -0.211891658548\n",
      "minPayL12M M1FreqL12M -0.0786796301059\n",
      "minPayL12M M2FreqL12M -0.0240750773702\n",
      "minPayL12M maxUrateL1M 0.0114211564413\n",
      "minPayL12M avgUrateL1M 0.0114211564413\n",
      "minPayL12M maxUrateL3M 0.00238366169067\n",
      "minPayL12M avgUrateL3M -0.00311337176211\n",
      "minPayL12M increaseUrateL3M 0.0109452143497\n",
      "minPayL12M maxUrateL6M 0.00238145672423\n",
      "minPayL12M avgUrateL6M -0.00825691950582\n",
      "minPayL12M increaseUrateL6M -0.00100269154029\n",
      "minPayL12M maxUrateL12M -0.00486478548015\n",
      "minPayL12M avgUrateL12M -0.0132323960108\n",
      "minPayL12M increaseUrateL12M -0.000741063282231\n",
      "minPayL12M maxPayL1M 0.0752803753687\n",
      "minPayL12M minPayL1M 0.0752803753687\n",
      "minPayL12M meanPayL1M 0.0752803753687\n",
      "minPayL12M maxPayL3M 0.0367329576986\n",
      "minPayL12M minPayL3M 0.161601979978\n",
      "minPayL12M meanPayL3M 0.107879186229\n",
      "minPayL12M maxPayL6M 0.0233494516879\n",
      "minPayL12M minPayL6M 0.331187079234\n",
      "minPayL12M meanPayL6M 0.149121940156\n",
      "minPayL12M maxPayL12M 0.0170634211827\n",
      "minPayL12M meanPayL12M 0.199947250768\n",
      "meanPayL12M maxDelqL1M -0.345659567477\n",
      "meanPayL12M M0FreqL1M -0.307692650965\n",
      "meanPayL12M M1FreqL1M -0.251371642428\n",
      "meanPayL12M M2FreqL1M -0.119354953502\n",
      "meanPayL12M maxDelqL3M -0.445062730817\n",
      "meanPayL12M M0FreqL3M -0.508573406822\n",
      "meanPayL12M M1FreqL3M -0.383767432453\n",
      "meanPayL12M M2FreqL3M -0.186056905585\n",
      "meanPayL12M maxDelqL6M -0.511149919041\n",
      "meanPayL12M M0FreqL6M -0.674692811862\n",
      "meanPayL12M M1FreqL6M -0.5006766857\n",
      "meanPayL12M M2FreqL6M -0.249312621242\n",
      "meanPayL12M maxDelqL12M -0.571998641699\n",
      "meanPayL12M M0FreqL12M -0.865794656377\n",
      "meanPayL12M M1FreqL12M -0.632227479228\n",
      "meanPayL12M M2FreqL12M -0.304616124891\n",
      "meanPayL12M maxUrateL1M 0.0150157190024\n",
      "meanPayL12M avgUrateL1M 0.0150157190024\n",
      "meanPayL12M maxUrateL3M 0.00333934073833\n",
      "meanPayL12M avgUrateL3M -0.00147690725957\n",
      "meanPayL12M increaseUrateL3M 0.0178846165494\n",
      "meanPayL12M maxUrateL6M 0.00274776743562\n",
      "meanPayL12M avgUrateL6M -0.00158937855947\n",
      "meanPayL12M increaseUrateL6M 0.00710768035854\n",
      "meanPayL12M maxUrateL12M 0.0024241072161\n",
      "meanPayL12M avgUrateL12M 0.00172642066039\n",
      "meanPayL12M increaseUrateL12M 0.00409746850427\n",
      "meanPayL12M maxPayL1M 0.365787064494\n",
      "meanPayL12M minPayL1M 0.365787064494\n",
      "meanPayL12M meanPayL1M 0.365787064494\n",
      "meanPayL12M maxPayL3M 0.483666325127\n",
      "meanPayL12M minPayL3M 0.381559352265\n",
      "meanPayL12M meanPayL3M 0.578150169062\n",
      "meanPayL12M maxPayL6M 0.422757223632\n",
      "meanPayL12M minPayL6M 0.330159866131\n",
      "meanPayL12M meanPayL6M 0.780142660728\n",
      "meanPayL12M maxPayL12M 0.30971526994\n",
      "meanPayL12M minPayL12M 0.199947250768\n"
     ]
    }
   ],
   "source": [
    "for x in allFeatures:\n",
    "    for y in allFeatures:\n",
    "        if x != y:\n",
    "            print(x, y, np.corrcoef(trainData[x], trainData[y])[0, 1])"
   ]
  },
  {
   "cell_type": "markdown",
   "metadata": {},
   "source": [
    "# 分箱，计算WOE并编码"
   ]
  },
  {
   "cell_type": "markdown",
   "metadata": {},
   "source": [
    "对类别型变量的分箱和WOE计算，可以通过计算取值个数的方式判断是否是类别型变量"
   ]
  },
  {
   "cell_type": "code",
   "execution_count": 185,
   "metadata": {
    "collapsed": false
   },
   "outputs": [],
   "source": [
    "categoricalFeatures = []\n",
    "numericalFeatures = []\n",
    "WOE_IV_dict = {}\n",
    "\n",
    "for var in allFeatures:\n",
    "    if len(set(trainData[var])) > 5:\n",
    "        numericalFeatures.append(var)\n",
    "    else:\n",
    "        categoricalFeatures.append(var)"
   ]
  },
  {
   "cell_type": "code",
   "execution_count": 186,
   "metadata": {
    "collapsed": false,
    "scrolled": true
   },
   "outputs": [
    {
     "data": {
      "text/plain": [
       "['maxDelqL1M',\n",
       " 'M0FreqL1M',\n",
       " 'M1FreqL1M',\n",
       " 'M2FreqL1M',\n",
       " 'maxDelqL3M',\n",
       " 'M0FreqL3M',\n",
       " 'M1FreqL3M',\n",
       " 'M2FreqL3M',\n",
       " 'maxDelqL6M',\n",
       " 'M2FreqL6M',\n",
       " 'maxDelqL12M',\n",
       " 'M2FreqL12M',\n",
       " 'increaseUrateL3M']"
      ]
     },
     "execution_count": 186,
     "metadata": {},
     "output_type": "execute_result"
    }
   ],
   "source": [
    "categoricalFeatures"
   ]
  },
  {
   "cell_type": "code",
   "execution_count": 187,
   "metadata": {
    "collapsed": false
   },
   "outputs": [
    {
     "data": {
      "text/plain": [
       "['M0FreqL6M',\n",
       " 'M1FreqL6M',\n",
       " 'M0FreqL12M',\n",
       " 'M1FreqL12M',\n",
       " 'maxUrateL1M',\n",
       " 'avgUrateL1M',\n",
       " 'maxUrateL3M',\n",
       " 'avgUrateL3M',\n",
       " 'maxUrateL6M',\n",
       " 'avgUrateL6M',\n",
       " 'increaseUrateL6M',\n",
       " 'maxUrateL12M',\n",
       " 'avgUrateL12M',\n",
       " 'increaseUrateL12M',\n",
       " 'maxPayL1M',\n",
       " 'minPayL1M',\n",
       " 'meanPayL1M',\n",
       " 'maxPayL3M',\n",
       " 'minPayL3M',\n",
       " 'meanPayL3M',\n",
       " 'maxPayL6M',\n",
       " 'minPayL6M',\n",
       " 'meanPayL6M',\n",
       " 'maxPayL12M',\n",
       " 'minPayL12M',\n",
       " 'meanPayL12M']"
      ]
     },
     "execution_count": 187,
     "metadata": {},
     "output_type": "execute_result"
    }
   ],
   "source": [
    "numericalFeatures"
   ]
  },
  {
   "cell_type": "markdown",
   "metadata": {},
   "source": [
    "## 检查单调性"
   ]
  },
  {
   "cell_type": "code",
   "execution_count": 188,
   "metadata": {
    "collapsed": false
   },
   "outputs": [
    {
     "data": {
      "text/plain": [
       "['maxDelqL3M', 'M1FreqL3M', 'M2FreqL3M', 'maxDelqL6M', 'maxDelqL12M']"
      ]
     },
     "execution_count": 188,
     "metadata": {},
     "output_type": "execute_result"
    }
   ],
   "source": [
    "not_monotone = []\n",
    "\n",
    "for var in categoricalFeatures:\n",
    "    # 检查bad rate在箱中的单调性\n",
    "    if not BadRateMonotone(trainData, var, \"label\"):\n",
    "        not_monotone.append(var)\n",
    "        \n",
    "not_monotone"
   ]
  },
  {
   "cell_type": "markdown",
   "metadata": {},
   "source": [
    "'maxDelqL3M', 'M1FreqL3M', 'M2FreqL3M', 'maxDelqL6M', 'maxDelqL12M'不是单调的，需要合并其中某些类别"
   ]
  },
  {
   "cell_type": "markdown",
   "metadata": {},
   "source": [
    "### 处理maxDelqL3M单调问题"
   ]
  },
  {
   "cell_type": "code",
   "execution_count": 189,
   "metadata": {
    "collapsed": false
   },
   "outputs": [
    {
     "data": {
      "text/plain": [
       "maxDelqL3M\n",
       "0    0.050218\n",
       "1    0.049367\n",
       "2    0.440507\n",
       "3    0.949675\n",
       "Name: label, dtype: float64"
      ]
     },
     "execution_count": 189,
     "metadata": {},
     "output_type": "execute_result"
    }
   ],
   "source": [
    "trainData.groupby([\"maxDelqL3M\"])[\"label\"].mean()"
   ]
  },
  {
   "cell_type": "code",
   "execution_count": 190,
   "metadata": {
    "collapsed": false
   },
   "outputs": [
    {
     "data": {
      "text/plain": [
       "maxDelqL3M\n",
       "0     6412\n",
       "1    16104\n",
       "2     4967\n",
       "3      616\n",
       "Name: label, dtype: int64"
      ]
     },
     "execution_count": 190,
     "metadata": {},
     "output_type": "execute_result"
    }
   ],
   "source": [
    "trainData.groupby([\"maxDelqL3M\"])[\"label\"].count()"
   ]
  },
  {
   "cell_type": "markdown",
   "metadata": {},
   "source": [
    "将maxDelqL3M >= 2的合并为一组，计算WOE和IV值"
   ]
  },
  {
   "cell_type": "code",
   "execution_count": 191,
   "metadata": {
    "collapsed": false
   },
   "outputs": [
    {
     "name": "stderr",
     "output_type": "stream",
     "text": [
      "C:\\Anaconda3\\lib\\site-packages\\ipykernel\\__main__.py:1: SettingWithCopyWarning: \n",
      "A value is trying to be set on a copy of a slice from a DataFrame.\n",
      "Try using .loc[row_indexer,col_indexer] = value instead\n",
      "\n",
      "See the caveats in the documentation: http://pandas.pydata.org/pandas-docs/stable/indexing.html#indexing-view-versus-copy\n",
      "  if __name__ == '__main__':\n"
     ]
    },
    {
     "data": {
      "text/plain": [
       "maxDelqL3M_Bin\n",
       "0    0.050218\n",
       "1    0.164523\n",
       "Name: label, dtype: float64"
      ]
     },
     "execution_count": 191,
     "metadata": {},
     "output_type": "execute_result"
    }
   ],
   "source": [
    "trainData[\"maxDelqL3M_Bin\"] = trainData[\"maxDelqL3M\"].apply(lambda x: int(x >= 1))\n",
    "trainData.groupby([\"maxDelqL3M_Bin\"])[\"label\"].mean()\n",
    "# trainData[\"maxDelqL3M_Bin\"].head()"
   ]
  },
  {
   "cell_type": "code",
   "execution_count": 192,
   "metadata": {
    "collapsed": false
   },
   "outputs": [
    {
     "data": {
      "text/plain": [
       "{'IV': 0.2219320617865664,\n",
       " 'WOE': {0: 1.1115365079387736, 1: -0.20335941048455342}}"
      ]
     },
     "execution_count": 192,
     "metadata": {},
     "output_type": "execute_result"
    }
   ],
   "source": [
    "WOE_IV_dict[\"maxDelqL3M_Bin\"] = CalcWOE(trainData, \"maxDelqL3M_Bin\", \"label\")\n",
    "WOE_IV_dict[\"maxDelqL3M_Bin\"]"
   ]
  },
  {
   "cell_type": "markdown",
   "metadata": {},
   "source": [
    "### M1FreqL3M的单调问题"
   ]
  },
  {
   "cell_type": "code",
   "execution_count": 193,
   "metadata": {
    "collapsed": false
   },
   "outputs": [
    {
     "data": {
      "text/plain": [
       "M1FreqL3M\n",
       "0    0.049609\n",
       "1    0.413542\n",
       "2    0.920925\n",
       "3    0.914894\n",
       "Name: label, dtype: float64"
      ]
     },
     "execution_count": 193,
     "metadata": {},
     "output_type": "execute_result"
    }
   ],
   "source": [
    "trainData.groupby([\"M1FreqL3M\"])[\"label\"].mean()"
   ]
  },
  {
   "cell_type": "code",
   "execution_count": 194,
   "metadata": {
    "collapsed": false
   },
   "outputs": [
    {
     "data": {
      "text/plain": [
       "M1FreqL3M\n",
       "0    22516\n",
       "1     4667\n",
       "2      822\n",
       "3       94\n",
       "Name: label, dtype: int64"
      ]
     },
     "execution_count": 194,
     "metadata": {},
     "output_type": "execute_result"
    }
   ],
   "source": [
    "trainData.groupby([\"M1FreqL3M\"])[\"label\"].count()"
   ]
  },
  {
   "cell_type": "markdown",
   "metadata": {},
   "source": [
    "合并M0FreqL3M = 0 和 M0FreqL3M = 1"
   ]
  },
  {
   "cell_type": "code",
   "execution_count": 195,
   "metadata": {
    "collapsed": false
   },
   "outputs": [
    {
     "name": "stderr",
     "output_type": "stream",
     "text": [
      "C:\\Anaconda3\\lib\\site-packages\\ipykernel\\__main__.py:1: SettingWithCopyWarning: \n",
      "A value is trying to be set on a copy of a slice from a DataFrame.\n",
      "Try using .loc[row_indexer,col_indexer] = value instead\n",
      "\n",
      "See the caveats in the documentation: http://pandas.pydata.org/pandas-docs/stable/indexing.html#indexing-view-versus-copy\n",
      "  if __name__ == '__main__':\n"
     ]
    },
    {
     "data": {
      "text/plain": [
       "M1FreqL3M_Bin\n",
       "0    0.049609\n",
       "1    0.496686\n",
       "Name: label, dtype: float64"
      ]
     },
     "execution_count": 195,
     "metadata": {},
     "output_type": "execute_result"
    }
   ],
   "source": [
    "trainData[\"M1FreqL3M_Bin\"] = trainData[\"M1FreqL3M\"].apply(lambda x: int(x >= 1))\n",
    "trainData.groupby([\"M1FreqL3M_Bin\"])[\"label\"].mean()"
   ]
  },
  {
   "cell_type": "code",
   "execution_count": 196,
   "metadata": {
    "collapsed": false
   },
   "outputs": [
    {
     "data": {
      "text/plain": [
       "{'IV': 1.754203516424619,\n",
       " 'WOE': {0: 1.1243823646561864, 1: -1.8150605905087474}}"
      ]
     },
     "execution_count": 196,
     "metadata": {},
     "output_type": "execute_result"
    }
   ],
   "source": [
    "WOE_IV_dict[\"M1FreqL3M_Bin\"] = CalcWOE(trainData, \"M1FreqL3M_Bin\", \"label\")\n",
    "WOE_IV_dict[\"M1FreqL3M_Bin\"]"
   ]
  },
  {
   "cell_type": "markdown",
   "metadata": {},
   "source": [
    "### 处理M2FreqL3M的单调性问题"
   ]
  },
  {
   "cell_type": "code",
   "execution_count": 197,
   "metadata": {
    "collapsed": false
   },
   "outputs": [
    {
     "data": {
      "text/plain": [
       "M2FreqL3M\n",
       "0    0.120256\n",
       "1    0.950704\n",
       "2    0.955556\n",
       "3    0.666667\n",
       "Name: label, dtype: float64"
      ]
     },
     "execution_count": 197,
     "metadata": {},
     "output_type": "execute_result"
    }
   ],
   "source": [
    "trainData.groupby([\"M2FreqL3M\"])[\"label\"].mean()"
   ]
  },
  {
   "cell_type": "code",
   "execution_count": 198,
   "metadata": {
    "collapsed": false
   },
   "outputs": [
    {
     "data": {
      "text/plain": [
       "M2FreqL3M\n",
       "0    27483\n",
       "1      568\n",
       "2       45\n",
       "3        3\n",
       "Name: label, dtype: int64"
      ]
     },
     "execution_count": 198,
     "metadata": {},
     "output_type": "execute_result"
    }
   ],
   "source": [
    "trainData.groupby([\"M2FreqL3M\"])[\"label\"].count()"
   ]
  },
  {
   "cell_type": "markdown",
   "metadata": {},
   "source": [
    "合并 x>=1 的分组"
   ]
  },
  {
   "cell_type": "code",
   "execution_count": 199,
   "metadata": {
    "collapsed": false
   },
   "outputs": [
    {
     "name": "stderr",
     "output_type": "stream",
     "text": [
      "C:\\Anaconda3\\lib\\site-packages\\ipykernel\\__main__.py:1: SettingWithCopyWarning: \n",
      "A value is trying to be set on a copy of a slice from a DataFrame.\n",
      "Try using .loc[row_indexer,col_indexer] = value instead\n",
      "\n",
      "See the caveats in the documentation: http://pandas.pydata.org/pandas-docs/stable/indexing.html#indexing-view-versus-copy\n",
      "  if __name__ == '__main__':\n"
     ]
    },
    {
     "data": {
      "text/plain": [
       "M2FreqL3M_Bin\n",
       "0    0.120256\n",
       "1    0.949675\n",
       "Name: label, dtype: float64"
      ]
     },
     "execution_count": 199,
     "metadata": {},
     "output_type": "execute_result"
    }
   ],
   "source": [
    "trainData[\"M2FreqL3M_Bin\"] = trainData[\"M2FreqL3M\"].apply(lambda x: int(x>=1))\n",
    "trainData.groupby([\"M2FreqL3M_Bin\"])[\"label\"].mean()"
   ]
  },
  {
   "cell_type": "code",
   "execution_count": 200,
   "metadata": {
    "collapsed": false
   },
   "outputs": [
    {
     "data": {
      "text/plain": [
       "{'IV': 0.734734901321233,\n",
       " 'WOE': {0: 0.1616913482553898, 1: -4.765939949967471}}"
      ]
     },
     "execution_count": 200,
     "metadata": {},
     "output_type": "execute_result"
    }
   ],
   "source": [
    "WOE_IV_dict[\"M2FreqL3M_Bin\"] = CalcWOE(trainData, \"M2FreqL3M_Bin\", \"label\")\n",
    "WOE_IV_dict[\"M2FreqL3M_Bin\"]"
   ]
  },
  {
   "cell_type": "markdown",
   "metadata": {},
   "source": [
    "### 处理maxDelqL6M的单调问题"
   ]
  },
  {
   "cell_type": "code",
   "execution_count": 201,
   "metadata": {
    "collapsed": false
   },
   "outputs": [
    {
     "data": {
      "text/plain": [
       "maxDelqL6M\n",
       "0    0.053021\n",
       "1    0.049534\n",
       "2    0.266261\n",
       "3    0.541599\n",
       "Name: label, dtype: float64"
      ]
     },
     "execution_count": 201,
     "metadata": {},
     "output_type": "execute_result"
    }
   ],
   "source": [
    "trainData.groupby([\"maxDelqL6M\"])[\"label\"].mean()"
   ]
  },
  {
   "cell_type": "code",
   "execution_count": 202,
   "metadata": {
    "collapsed": false
   },
   "outputs": [
    {
     "data": {
      "text/plain": [
       "maxDelqL6M\n",
       "0     1622\n",
       "1    16534\n",
       "2     8717\n",
       "3     1226\n",
       "Name: label, dtype: int64"
      ]
     },
     "execution_count": 202,
     "metadata": {},
     "output_type": "execute_result"
    }
   ],
   "source": [
    "trainData.groupby([\"maxDelqL6M\"])[\"label\"].count()"
   ]
  },
  {
   "cell_type": "code",
   "execution_count": 203,
   "metadata": {
    "collapsed": false
   },
   "outputs": [
    {
     "name": "stderr",
     "output_type": "stream",
     "text": [
      "C:\\Anaconda3\\lib\\site-packages\\ipykernel\\__main__.py:1: SettingWithCopyWarning: \n",
      "A value is trying to be set on a copy of a slice from a DataFrame.\n",
      "Try using .loc[row_indexer,col_indexer] = value instead\n",
      "\n",
      "See the caveats in the documentation: http://pandas.pydata.org/pandas-docs/stable/indexing.html#indexing-view-versus-copy\n",
      "  if __name__ == '__main__':\n"
     ]
    },
    {
     "data": {
      "text/plain": [
       "maxDelqL6M_Bin\n",
       "0    0.049846\n",
       "1    0.300211\n",
       "Name: label, dtype: float64"
      ]
     },
     "execution_count": 203,
     "metadata": {},
     "output_type": "execute_result"
    }
   ],
   "source": [
    "trainData[\"maxDelqL6M_Bin\"] = trainData[\"maxDelqL6M\"].apply(lambda x: int(x >= 2))\n",
    "trainData.groupby([\"maxDelqL6M_Bin\"])[\"label\"].mean()"
   ]
  },
  {
   "cell_type": "code",
   "execution_count": 204,
   "metadata": {
    "collapsed": false
   },
   "outputs": [
    {
     "data": {
      "text/plain": [
       "{'IV': 1.0085416786743309,\n",
       " 'WOE': {0: 1.1193751408730572, 1: -0.9820229773355759}}"
      ]
     },
     "execution_count": 204,
     "metadata": {},
     "output_type": "execute_result"
    }
   ],
   "source": [
    "WOE_IV_dict[\"maxDelqL6M_Bin\"] = CalcWOE(trainData, \"maxDelqL6M_Bin\", \"label\")\n",
    "WOE_IV_dict[\"maxDelqL6M_Bin\"]"
   ]
  },
  {
   "cell_type": "markdown",
   "metadata": {},
   "source": [
    "### 处理maxDelqL12M单调性问题"
   ]
  },
  {
   "cell_type": "code",
   "execution_count": 205,
   "metadata": {
    "collapsed": false
   },
   "outputs": [
    {
     "data": {
      "text/plain": [
       "maxDelqL12M\n",
       "0    0.058140\n",
       "1    0.046353\n",
       "2    0.181003\n",
       "3    0.364387\n",
       "Name: label, dtype: float64"
      ]
     },
     "execution_count": 205,
     "metadata": {},
     "output_type": "execute_result"
    }
   ],
   "source": [
    "trainData.groupby([\"maxDelqL12M\"])[\"label\"].mean()"
   ]
  },
  {
   "cell_type": "code",
   "execution_count": 206,
   "metadata": {
    "collapsed": false
   },
   "outputs": [
    {
     "data": {
      "text/plain": [
       "maxDelqL12M\n",
       "0      172\n",
       "1    11693\n",
       "2    14055\n",
       "3     2179\n",
       "Name: label, dtype: int64"
      ]
     },
     "execution_count": 206,
     "metadata": {},
     "output_type": "execute_result"
    }
   ],
   "source": [
    "trainData.groupby([\"maxDelqL12M\"])[\"label\"].count()"
   ]
  },
  {
   "cell_type": "code",
   "execution_count": 207,
   "metadata": {
    "collapsed": false
   },
   "outputs": [
    {
     "name": "stderr",
     "output_type": "stream",
     "text": [
      "C:\\Anaconda3\\lib\\site-packages\\ipykernel\\__main__.py:1: SettingWithCopyWarning: \n",
      "A value is trying to be set on a copy of a slice from a DataFrame.\n",
      "Try using .loc[row_indexer,col_indexer] = value instead\n",
      "\n",
      "See the caveats in the documentation: http://pandas.pydata.org/pandas-docs/stable/indexing.html#indexing-view-versus-copy\n",
      "  if __name__ == '__main__':\n"
     ]
    },
    {
     "data": {
      "text/plain": [
       "maxDelqL12M_Bin\n",
       "0    0.046523\n",
       "1    0.205618\n",
       "Name: label, dtype: float64"
      ]
     },
     "execution_count": 207,
     "metadata": {},
     "output_type": "execute_result"
    }
   ],
   "source": [
    "trainData[\"maxDelqL12M_Bin\"] = trainData[\"maxDelqL12M\"].apply(lambda x: int(x >= 2))\n",
    "trainData.groupby([\"maxDelqL12M_Bin\"])[\"label\"].mean()"
   ]
  },
  {
   "cell_type": "code",
   "execution_count": 208,
   "metadata": {
    "collapsed": false
   },
   "outputs": [
    {
     "data": {
      "text/plain": [
       "{'IV': 0.5429725150975124,\n",
       " 'WOE': {0: 1.1918444324286106, 1: -0.47676994669613176}}"
      ]
     },
     "execution_count": 208,
     "metadata": {},
     "output_type": "execute_result"
    }
   ],
   "source": [
    "WOE_IV_dict[\"maxDelqL12M_Bin\"] = CalcWOE(trainData, \"maxDelqL12M_Bin\", \"label\")\n",
    "WOE_IV_dict[\"maxDelqL12M_Bin\"]"
   ]
  },
  {
   "cell_type": "markdown",
   "metadata": {},
   "source": [
    "## 检查是否有一箱的占比低于5%"
   ]
  },
  {
   "cell_type": "markdown",
   "metadata": {},
   "source": [
    "如果有，将其变量进行合并"
   ]
  },
  {
   "cell_type": "code",
   "execution_count": 209,
   "metadata": {
    "collapsed": false
   },
   "outputs": [],
   "source": [
    "small_bin_var = []\n",
    "large_bin_var = []\n",
    "\n",
    "for var in categoricalFeatures:\n",
    "    if var not in not_monotone:\n",
    "        pcnt = BinPcnt(trainData, var)\n",
    "        if pcnt[\"min\"] < 0.05:\n",
    "            small_bin_var.append({var: pcnt[\"each pcnt\"]})\n",
    "        else:\n",
    "            large_bin_var.append(var)"
   ]
  },
  {
   "cell_type": "code",
   "execution_count": 210,
   "metadata": {
    "collapsed": false
   },
   "outputs": [
    {
     "data": {
      "text/plain": [
       "[{'maxDelqL1M': {0: 0.6070322787287804,\n",
       "   1: 0.3167372504359586,\n",
       "   2: 0.06843659916723015,\n",
       "   3: 0.007793871668030891}},\n",
       " {'M2FreqL1M': {0: 0.9922061283319691, 1: 0.007793871668030891}},\n",
       " {'M2FreqL6M': {0: 0.9563685540410691,\n",
       "   1: 0.039147300615680274,\n",
       "   2: 0.004163849247304174,\n",
       "   3: 0.0002847076408413111,\n",
       "   4: 3.558845510516389e-05}},\n",
       " {'M2FreqL12M': {0: 0.9224527563258479,\n",
       "   1: 0.06736894551407524,\n",
       "   2: 0.009146232962027118,\n",
       "   3: 0.0009608882878394248,\n",
       "   4: 7.117691021032777e-05}}]"
      ]
     },
     "execution_count": 210,
     "metadata": {},
     "output_type": "execute_result"
    }
   ],
   "source": [
    "small_bin_var"
   ]
  },
  {
   "cell_type": "code",
   "execution_count": 211,
   "metadata": {
    "collapsed": false
   },
   "outputs": [
    {
     "data": {
      "text/plain": [
       "['M0FreqL1M', 'M1FreqL1M', 'M0FreqL3M', 'increaseUrateL3M']"
      ]
     },
     "execution_count": 211,
     "metadata": {},
     "output_type": "execute_result"
    }
   ],
   "source": [
    "large_bin_var"
   ]
  },
  {
   "cell_type": "markdown",
   "metadata": {},
   "source": [
    "对于M2FreqL1M，M2FreqL6M数据分布极度不均匀，需要将其直接舍弃"
   ]
  },
  {
   "cell_type": "code",
   "execution_count": 212,
   "metadata": {
    "collapsed": true
   },
   "outputs": [],
   "source": [
    "allFeatures.remove(\"M2FreqL1M\")\n",
    "allFeatures.remove(\"M2FreqL6M\")"
   ]
  },
  {
   "cell_type": "markdown",
   "metadata": {},
   "source": [
    "对于small_bin_var中的其他变量，将最小的箱和相邻的箱进行合并并计算WOE"
   ]
  },
  {
   "cell_type": "code",
   "execution_count": 214,
   "metadata": {
    "collapsed": false
   },
   "outputs": [
    {
     "name": "stderr",
     "output_type": "stream",
     "text": [
      "C:\\Anaconda3\\lib\\site-packages\\ipykernel\\__main__.py:1: SettingWithCopyWarning: \n",
      "A value is trying to be set on a copy of a slice from a DataFrame.\n",
      "Try using .loc[row_indexer,col_indexer] = value instead\n",
      "\n",
      "See the caveats in the documentation: http://pandas.pydata.org/pandas-docs/stable/indexing.html#indexing-view-versus-copy\n",
      "  if __name__ == '__main__':\n",
      "C:\\Anaconda3\\lib\\site-packages\\ipykernel\\__main__.py:3: SettingWithCopyWarning: \n",
      "A value is trying to be set on a copy of a slice from a DataFrame.\n",
      "Try using .loc[row_indexer,col_indexer] = value instead\n",
      "\n",
      "See the caveats in the documentation: http://pandas.pydata.org/pandas-docs/stable/indexing.html#indexing-view-versus-copy\n",
      "  app.launch_new_instance()\n"
     ]
    },
    {
     "data": {
      "text/html": [
       "<div>\n",
       "<style scoped>\n",
       "    .dataframe tbody tr th:only-of-type {\n",
       "        vertical-align: middle;\n",
       "    }\n",
       "\n",
       "    .dataframe tbody tr th {\n",
       "        vertical-align: top;\n",
       "    }\n",
       "\n",
       "    .dataframe thead th {\n",
       "        text-align: right;\n",
       "    }\n",
       "</style>\n",
       "<table border=\"1\" class=\"dataframe\">\n",
       "  <thead>\n",
       "    <tr style=\"text-align: right;\">\n",
       "      <th></th>\n",
       "      <th>maxDelqL1M_Bin</th>\n",
       "      <th>M2FreqL12M_Bin</th>\n",
       "    </tr>\n",
       "  </thead>\n",
       "  <tbody>\n",
       "    <tr>\n",
       "      <th>18034</th>\n",
       "      <td>1</td>\n",
       "      <td>0</td>\n",
       "    </tr>\n",
       "    <tr>\n",
       "      <th>10983</th>\n",
       "      <td>2</td>\n",
       "      <td>1</td>\n",
       "    </tr>\n",
       "    <tr>\n",
       "      <th>3474</th>\n",
       "      <td>1</td>\n",
       "      <td>0</td>\n",
       "    </tr>\n",
       "    <tr>\n",
       "      <th>17199</th>\n",
       "      <td>1</td>\n",
       "      <td>0</td>\n",
       "    </tr>\n",
       "    <tr>\n",
       "      <th>32017</th>\n",
       "      <td>0</td>\n",
       "      <td>0</td>\n",
       "    </tr>\n",
       "  </tbody>\n",
       "</table>\n",
       "</div>"
      ],
      "text/plain": [
       "       maxDelqL1M_Bin  M2FreqL12M_Bin\n",
       "18034               1               0\n",
       "10983               2               1\n",
       "3474                1               0\n",
       "17199               1               0\n",
       "32017               0               0"
      ]
     },
     "execution_count": 214,
     "metadata": {},
     "output_type": "execute_result"
    }
   ],
   "source": [
    "trainData[\"maxDelqL1M_Bin\"] = trainData[\"maxDelqL1M\"].apply(lambda x: MergeByCondition(\n",
    "    x, [\"==0\", \"==1\", \">=2\"]))\n",
    "trainData[\"M2FreqL12M_Bin\"] = trainData[\"M2FreqL12M\"].apply(lambda x: MergeByCondition(\n",
    "    x, [\"==0\", \">=1\"]))\n",
    "trainData[[\"maxDelqL1M_Bin\", \"M2FreqL12M_Bin\"]].head()"
   ]
  },
  {
   "cell_type": "code",
   "execution_count": 215,
   "metadata": {
    "collapsed": false
   },
   "outputs": [
    {
     "name": "stdout",
     "output_type": "stream",
     "text": [
      "{'maxDelqL1M_Bin': {'WOE': {0: 0.38444394492106443, 1: 0.24645775080499363, 2: -2.0988610974295545}, 'IV': 0.6706997444650167}, 'maxDelqL12M_Bin': {'WOE': {0: 1.1918444324286106, 1: -0.47676994669613176}, 'IV': 0.5429725150975124}, 'M2FreqL3M_Bin': {'WOE': {0: 0.1616913482553898, 1: -4.765939949967471}, 'IV': 0.734734901321233}, 'maxDelqL6M_Bin': {'WOE': {0: 1.1193751408730572, 1: -0.9820229773355759}, 'IV': 1.0085416786743309}, 'M1FreqL3M_Bin': {'WOE': {0: 1.1243823646561864, 1: -1.8150605905087474}, 'IV': 1.754203516424619}, 'maxDelqL3M_Bin': {'WOE': {0: 1.1115365079387736, 1: -0.20335941048455342}, 'IV': 0.2219320617865664}, 'M2FreqL12M_Bin': {'WOE': {0: 0.16938635096295732, 1: -1.2719433498464576}, 'IV': 0.21173563120249514}}\n"
     ]
    }
   ],
   "source": [
    "for var in [\"maxDelqL1M_Bin\", \"M2FreqL12M_Bin\"]:\n",
    "    WOE_IV_dict[var] = CalcWOE(trainData, var, \"label\")\n",
    "print(WOE_IV_dict)"
   ]
  },
  {
   "cell_type": "markdown",
   "metadata": {},
   "source": [
    "对不需要合并，原始箱的bad rate单调的特征，直接计算WOE和IV"
   ]
  },
  {
   "cell_type": "code",
   "execution_count": 216,
   "metadata": {
    "collapsed": true
   },
   "outputs": [],
   "source": [
    "for var in large_bin_var:\n",
    "    WOE_IV_dict[var] = CalcWOE(trainData, var, \"label\")"
   ]
  },
  {
   "cell_type": "markdown",
   "metadata": {},
   "source": [
    "## 对于数值型变量，需要先分箱，再计算WOE、IV"
   ]
  },
  {
   "cell_type": "markdown",
   "metadata": {},
   "source": [
    "对于分箱的结果需要满足\n",
    "- 分箱数不超过5\n",
    "- bad rate单调\n",
    "- 每箱占比不低于5%"
   ]
  },
  {
   "cell_type": "code",
   "execution_count": 223,
   "metadata": {
    "collapsed": false,
    "scrolled": true
   },
   "outputs": [
    {
     "name": "stderr",
     "output_type": "stream",
     "text": [
      "C:\\Anaconda3\\lib\\site-packages\\ipykernel\\__main__.py:8: SettingWithCopyWarning: \n",
      "A value is trying to be set on a copy of a slice from a DataFrame.\n",
      "Try using .loc[row_indexer,col_indexer] = value instead\n",
      "\n",
      "See the caveats in the documentation: http://pandas.pydata.org/pandas-docs/stable/indexing.html#indexing-view-versus-copy\n"
     ]
    },
    {
     "data": {
      "text/plain": [
       "[{'M0FreqL6M': [0, 3]},\n",
       " {'M1FreqL6M': [0, 1]},\n",
       " {'M0FreqL12M': [6, 7]},\n",
       " {'M1FreqL12M': [0, 2]},\n",
       " {'maxUrateL1M': [0.024821214285714283, 0.8512071250000001]},\n",
       " {'avgUrateL1M': [0.024821214285714283, 0.8512071250000001]},\n",
       " {'maxUrateL3M': [0.3354812, 0.846606]},\n",
       " {'avgUrateL3M': [0.5153682222222222, 0.7154709777777777]},\n",
       " {'maxUrateL6M': [0.6139992333333333, 0.9759964999999999]},\n",
       " {'avgUrateL6M': [0.32507578703703705, 0.5724246727272727]},\n",
       " {'increaseUrateL6M': [1, 2]},\n",
       " {'maxUrateL12M': [0.6482942500000001, 0.9824976153846154]},\n",
       " {'avgUrateL12M': [0.33026562962962963, 0.44313403333333334]},\n",
       " {'increaseUrateL12M': [3, 4]},\n",
       " {'maxPayL1M': [0.5200440244712602, 0.998870267129584]},\n",
       " {'minPayL1M': [0.5200440244712602, 0.998870267129584]},\n",
       " {'meanPayL1M': [0.5200440244712602, 0.998870267129584]},\n",
       " {'maxPayL3M': [0.5563769190929482, 1.0000128467109726]},\n",
       " {'minPayL3M': [0.48000966128665606, 0.8061310627126994]},\n",
       " {'meanPayL3M': [0.11644991873757606, 0.22624259098272947]},\n",
       " {'minPayL6M': [0.35327250793801546, 0.7919706244796241]},\n",
       " {'meanPayL6M': [0.11815520077227945, 0.22963130166244577]},\n",
       " {'maxPayL12M': [0.8399843149848291, 1.0000001694015894]},\n",
       " {'minPayL12M': [0.8567896530627146, 0.8581373181975489]},\n",
       " {'meanPayL12M': [0.2672941752052968, 0.28882791822485476]}]"
      ]
     },
     "execution_count": 223,
     "metadata": {},
     "output_type": "execute_result"
    }
   ],
   "source": [
    "bin_dict = []\n",
    "for var in numericalFeatures:\n",
    "    # 这个特征不知道咋了，就是报list越界错误，所以，先略过了，呵呵哒\n",
    "    if var not in [\"maxPayL6M\"]:\n",
    "        binNum = 5\n",
    "        newBin = var + \"_Bin\"\n",
    "        bin = ChiMerge_MaxInterval(trainData, var, \"label\", max_interval=binNum, minBinPcnt=0.05)\n",
    "        trainData[newBin] = trainData[var].apply(lambda x: AssignBin(x, bin))\n",
    "        #如果不满足单调性，就降低分箱个数\n",
    "        while not BadRateMonotone(trainData, newBin, \"label\"):\n",
    "            binNum -= 1\n",
    "            bin = ChiMerge_MaxInterval(trainData, var, \"label\", max_interval=binNum, minBinPcnt=0.05)\n",
    "            trainData[newBin] = trainData[var].apply(lambda x: AssignBin(x, bin))\n",
    "        WOE_IV_dict[newBin] = CalcWOE(trainData, newBin, \"label\")\n",
    "        bin_dict.append({var: bin})\n",
    "        \n",
    "bin_dict"
   ]
  },
  {
   "cell_type": "markdown",
   "metadata": {},
   "source": [
    "# 单变量分析和多变量分析"
   ]
  },
  {
   "cell_type": "markdown",
   "metadata": {},
   "source": [
    "## 选取IV高于0.02的变量"
   ]
  },
  {
   "cell_type": "code",
   "execution_count": 224,
   "metadata": {
    "collapsed": false
   },
   "outputs": [
    {
     "name": "stderr",
     "output_type": "stream",
     "text": [
      "C:\\Anaconda3\\lib\\site-packages\\ipykernel\\__main__.py:5: SettingWithCopyWarning: \n",
      "A value is trying to be set on a copy of a slice from a DataFrame.\n",
      "Try using .loc[row_indexer,col_indexer] = value instead\n",
      "\n",
      "See the caveats in the documentation: http://pandas.pydata.org/pandas-docs/stable/indexing.html#indexing-view-versus-copy\n"
     ]
    }
   ],
   "source": [
    "high_IV = [(k,v['IV']) for k,v in WOE_IV_dict.items() if v['IV'] >= 0.02]\n",
    "high_IV_sorted = sorted(high_IV, key=lambda k: k[1],reverse=True)\n",
    "for var in high_IV:\n",
    "    newVar = var[0] + \"_WOE\"\n",
    "    trainData[newVar] = trainData[var[0]].map(lambda x: WOE_IV_dict[var[0]]['WOE'][x])"
   ]
  },
  {
   "cell_type": "markdown",
   "metadata": {},
   "source": [
    "## 多变量分析"
   ]
  },
  {
   "cell_type": "markdown",
   "metadata": {},
   "source": [
    "比较两两线性相关性，如果相关系数的绝对值高于阈值，剔除IV比较低的一个"
   ]
  },
  {
   "cell_type": "code",
   "execution_count": 225,
   "metadata": {
    "collapsed": false
   },
   "outputs": [
    {
     "name": "stdout",
     "output_type": "stream",
     "text": [
      "23\n"
     ]
    },
    {
     "data": {
      "text/plain": [
       "['M1FreqL3M_Bin_WOE',\n",
       " 'M1FreqL6M_Bin_WOE',\n",
       " 'M0FreqL3M_WOE',\n",
       " 'M2FreqL3M_Bin_WOE',\n",
       " 'M1FreqL12M_Bin_WOE']"
      ]
     },
     "execution_count": 225,
     "metadata": {},
     "output_type": "execute_result"
    }
   ],
   "source": [
    "deleted_index = []\n",
    "cnt_vars = len(high_IV_sorted)\n",
    "for i in range(cnt_vars):\n",
    "    if i in deleted_index:\n",
    "        continue\n",
    "    x1 = high_IV_sorted[i][0] + \"_WOE\"\n",
    "    for j in range(cnt_vars):\n",
    "        if i == j or j in deleted_index:\n",
    "            continue\n",
    "        y1 = high_IV_sorted[j][0] + \"_WOE\"\n",
    "        roh = np.corrcoef(trainData[x1], trainData[y1])[0, 1]\n",
    "        if abs(roh) > 0.7:\n",
    "            x1_IV = high_IV_sorted[i][1]\n",
    "            y1_IV = high_IV_sorted[j][1]\n",
    "            if x1_IV > y1_IV:\n",
    "                deleted_index.append(j)\n",
    "            else:\n",
    "                deleted_index.append(i)\n",
    "\n",
    "single_analysis_vars = [high_IV_sorted[i][0] + \"_WOE\" for i in range(cnt_vars) if i not in deleted_index]\n",
    "print(len(single_analysis_vars))\n",
    "single_analysis_vars[:5]"
   ]
  },
  {
   "cell_type": "markdown",
   "metadata": {},
   "source": [
    "## VIF"
   ]
  },
  {
   "cell_type": "code",
   "execution_count": 226,
   "metadata": {
    "collapsed": false
   },
   "outputs": [
    {
     "data": {
      "text/plain": [
       "[3.3827124177892944,\n",
       " 3.5914804941609111,\n",
       " 3.3488835099040197,\n",
       " 1.5281320585553564,\n",
       " 2.2923126863997538,\n",
       " 1.9303267979506655,\n",
       " 2.3503585644433191,\n",
       " 1.885255168114319,\n",
       " 1.8538720319963182,\n",
       " 1.8623784705982709,\n",
       " 1.6486142887173534,\n",
       " 1.8327794616158535,\n",
       " 1.8121527843193441,\n",
       " 1.6768358767484421,\n",
       " 1.6477829735279987,\n",
       " 1.7536235107333558,\n",
       " 1.4038015222388167,\n",
       " 1.6439395884547972,\n",
       " 1.3712551713314476,\n",
       " 1.1400896124992461,\n",
       " 1.2705369105920417,\n",
       " 1.5192433034804991,\n",
       " 1.3606752225033476]"
      ]
     },
     "execution_count": 226,
     "metadata": {},
     "output_type": "execute_result"
    }
   ],
   "source": [
    "# from statsmodels.stats.outliers_influence import variance_inflation_factor\n",
    "from statsmodels.stats import outliers_influence\n",
    "\n",
    "X = np.matrix(trainData[single_analysis_vars])\n",
    "VIF_list = [outliers_influence.variance_inflation_factor(X, i) for i in range(X.shape[1])]\n",
    "VIF_list"
   ]
  },
  {
   "cell_type": "code",
   "execution_count": 227,
   "metadata": {
    "collapsed": false
   },
   "outputs": [
    {
     "data": {
      "text/plain": [
       "3.5914804941609111"
      ]
     },
     "execution_count": 227,
     "metadata": {},
     "output_type": "execute_result"
    }
   ],
   "source": [
    "max(VIF_list)"
   ]
  },
  {
   "cell_type": "markdown",
   "metadata": {},
   "source": [
    "最大的VIF是3.59，小于10，因此这一步认为没有多重共线性"
   ]
  },
  {
   "cell_type": "code",
   "execution_count": 228,
   "metadata": {
    "collapsed": true
   },
   "outputs": [],
   "source": [
    "multi_analysis = single_analysis_vars"
   ]
  },
  {
   "cell_type": "markdown",
   "metadata": {},
   "source": [
    "# 建立逻辑回归模型预测违约"
   ]
  },
  {
   "cell_type": "code",
   "execution_count": 229,
   "metadata": {
    "collapsed": false
   },
   "outputs": [
    {
     "name": "stdout",
     "output_type": "stream",
     "text": [
      "Optimization terminated successfully.\n",
      "         Current function value: 0.258734\n",
      "         Iterations 7\n"
     ]
    },
    {
     "name": "stderr",
     "output_type": "stream",
     "text": [
      "C:\\Anaconda3\\lib\\site-packages\\ipykernel\\__main__.py:4: SettingWithCopyWarning: \n",
      "A value is trying to be set on a copy of a slice from a DataFrame.\n",
      "Try using .loc[row_indexer,col_indexer] = value instead\n",
      "\n",
      "See the caveats in the documentation: http://pandas.pydata.org/pandas-docs/stable/indexing.html#indexing-view-versus-copy\n"
     ]
    },
    {
     "data": {
      "text/html": [
       "<div>\n",
       "<style scoped>\n",
       "    .dataframe tbody tr th:only-of-type {\n",
       "        vertical-align: middle;\n",
       "    }\n",
       "\n",
       "    .dataframe tbody tr th {\n",
       "        vertical-align: top;\n",
       "    }\n",
       "\n",
       "    .dataframe thead th {\n",
       "        text-align: right;\n",
       "    }\n",
       "</style>\n",
       "<table border=\"1\" class=\"dataframe\">\n",
       "  <thead>\n",
       "    <tr style=\"text-align: right;\">\n",
       "      <th></th>\n",
       "      <th>coef</th>\n",
       "      <th>p-values</th>\n",
       "    </tr>\n",
       "  </thead>\n",
       "  <tbody>\n",
       "    <tr>\n",
       "      <th>M1FreqL3M_Bin_WOE</th>\n",
       "      <td>-0.745586</td>\n",
       "      <td>1.722561e-164</td>\n",
       "    </tr>\n",
       "    <tr>\n",
       "      <th>M1FreqL6M_Bin_WOE</th>\n",
       "      <td>-0.108003</td>\n",
       "      <td>4.746730e-03</td>\n",
       "    </tr>\n",
       "    <tr>\n",
       "      <th>M0FreqL3M_WOE</th>\n",
       "      <td>-0.307855</td>\n",
       "      <td>1.862525e-16</td>\n",
       "    </tr>\n",
       "    <tr>\n",
       "      <th>M2FreqL3M_Bin_WOE</th>\n",
       "      <td>-0.684348</td>\n",
       "      <td>5.955490e-56</td>\n",
       "    </tr>\n",
       "    <tr>\n",
       "      <th>M1FreqL12M_Bin_WOE</th>\n",
       "      <td>-0.126072</td>\n",
       "      <td>3.026642e-03</td>\n",
       "    </tr>\n",
       "    <tr>\n",
       "      <th>maxDelqL1M_Bin_WOE</th>\n",
       "      <td>-0.150487</td>\n",
       "      <td>1.169665e-06</td>\n",
       "    </tr>\n",
       "    <tr>\n",
       "      <th>M0FreqL6M_Bin_WOE</th>\n",
       "      <td>0.001989</td>\n",
       "      <td>9.632981e-01</td>\n",
       "    </tr>\n",
       "    <tr>\n",
       "      <th>meanPayL6M_Bin_WOE</th>\n",
       "      <td>-0.213216</td>\n",
       "      <td>3.259809e-06</td>\n",
       "    </tr>\n",
       "    <tr>\n",
       "      <th>minPayL3M_Bin_WOE</th>\n",
       "      <td>0.168714</td>\n",
       "      <td>7.782256e-03</td>\n",
       "    </tr>\n",
       "    <tr>\n",
       "      <th>M0FreqL12M_Bin_WOE</th>\n",
       "      <td>0.155585</td>\n",
       "      <td>1.052439e-02</td>\n",
       "    </tr>\n",
       "    <tr>\n",
       "      <th>M2FreqL12M_Bin_WOE</th>\n",
       "      <td>0.108736</td>\n",
       "      <td>1.157710e-01</td>\n",
       "    </tr>\n",
       "    <tr>\n",
       "      <th>maxPayL1M_Bin_WOE</th>\n",
       "      <td>0.048196</td>\n",
       "      <td>5.119998e-01</td>\n",
       "    </tr>\n",
       "    <tr>\n",
       "      <th>meanPayL12M_Bin_WOE</th>\n",
       "      <td>-0.032166</td>\n",
       "      <td>6.347456e-01</td>\n",
       "    </tr>\n",
       "    <tr>\n",
       "      <th>increaseUrateL6M_Bin_WOE</th>\n",
       "      <td>-1.209589</td>\n",
       "      <td>1.236875e-68</td>\n",
       "    </tr>\n",
       "    <tr>\n",
       "      <th>increaseUrateL3M_WOE</th>\n",
       "      <td>-0.372481</td>\n",
       "      <td>6.627440e-05</td>\n",
       "    </tr>\n",
       "    <tr>\n",
       "      <th>maxUrateL1M_Bin_WOE</th>\n",
       "      <td>-0.478017</td>\n",
       "      <td>1.723523e-05</td>\n",
       "    </tr>\n",
       "    <tr>\n",
       "      <th>minPayL6M_Bin_WOE</th>\n",
       "      <td>0.202182</td>\n",
       "      <td>7.863634e-02</td>\n",
       "    </tr>\n",
       "    <tr>\n",
       "      <th>maxUrateL3M_Bin_WOE</th>\n",
       "      <td>-0.340436</td>\n",
       "      <td>9.609998e-03</td>\n",
       "    </tr>\n",
       "    <tr>\n",
       "      <th>avgUrateL3M_Bin_WOE</th>\n",
       "      <td>-0.508467</td>\n",
       "      <td>3.195286e-06</td>\n",
       "    </tr>\n",
       "    <tr>\n",
       "      <th>maxPayL12M_Bin_WOE</th>\n",
       "      <td>-0.115963</td>\n",
       "      <td>3.161541e-01</td>\n",
       "    </tr>\n",
       "    <tr>\n",
       "      <th>increaseUrateL12M_Bin_WOE</th>\n",
       "      <td>-0.047627</td>\n",
       "      <td>7.238625e-01</td>\n",
       "    </tr>\n",
       "    <tr>\n",
       "      <th>maxUrateL6M_Bin_WOE</th>\n",
       "      <td>-0.038847</td>\n",
       "      <td>7.975321e-01</td>\n",
       "    </tr>\n",
       "    <tr>\n",
       "      <th>avgUrateL6M_Bin_WOE</th>\n",
       "      <td>-0.624254</td>\n",
       "      <td>1.848126e-05</td>\n",
       "    </tr>\n",
       "    <tr>\n",
       "      <th>intercept</th>\n",
       "      <td>-1.825785</td>\n",
       "      <td>0.000000e+00</td>\n",
       "    </tr>\n",
       "  </tbody>\n",
       "</table>\n",
       "</div>"
      ],
      "text/plain": [
       "                               coef       p-values\n",
       "M1FreqL3M_Bin_WOE         -0.745586  1.722561e-164\n",
       "M1FreqL6M_Bin_WOE         -0.108003   4.746730e-03\n",
       "M0FreqL3M_WOE             -0.307855   1.862525e-16\n",
       "M2FreqL3M_Bin_WOE         -0.684348   5.955490e-56\n",
       "M1FreqL12M_Bin_WOE        -0.126072   3.026642e-03\n",
       "maxDelqL1M_Bin_WOE        -0.150487   1.169665e-06\n",
       "M0FreqL6M_Bin_WOE          0.001989   9.632981e-01\n",
       "meanPayL6M_Bin_WOE        -0.213216   3.259809e-06\n",
       "minPayL3M_Bin_WOE          0.168714   7.782256e-03\n",
       "M0FreqL12M_Bin_WOE         0.155585   1.052439e-02\n",
       "M2FreqL12M_Bin_WOE         0.108736   1.157710e-01\n",
       "maxPayL1M_Bin_WOE          0.048196   5.119998e-01\n",
       "meanPayL12M_Bin_WOE       -0.032166   6.347456e-01\n",
       "increaseUrateL6M_Bin_WOE  -1.209589   1.236875e-68\n",
       "increaseUrateL3M_WOE      -0.372481   6.627440e-05\n",
       "maxUrateL1M_Bin_WOE       -0.478017   1.723523e-05\n",
       "minPayL6M_Bin_WOE          0.202182   7.863634e-02\n",
       "maxUrateL3M_Bin_WOE       -0.340436   9.609998e-03\n",
       "avgUrateL3M_Bin_WOE       -0.508467   3.195286e-06\n",
       "maxPayL12M_Bin_WOE        -0.115963   3.161541e-01\n",
       "increaseUrateL12M_Bin_WOE -0.047627   7.238625e-01\n",
       "maxUrateL6M_Bin_WOE       -0.038847   7.975321e-01\n",
       "avgUrateL6M_Bin_WOE       -0.624254   1.848126e-05\n",
       "intercept                 -1.825785   0.000000e+00"
      ]
     },
     "execution_count": 229,
     "metadata": {},
     "output_type": "execute_result"
    }
   ],
   "source": [
    "import statsmodels.api as sm\n",
    "\n",
    "X = trainData[multi_analysis]\n",
    "X[\"intercept\"] = [1] * X.shape[0]\n",
    "y = trainData[\"label\"]\n",
    "logit = sm.Logit(y, X)\n",
    "\n",
    "logit_result = logit.fit()\n",
    "pvalues = logit_result.pvalues\n",
    "params = logit_result.params\n",
    "\n",
    "fit_result = pd.concat([params, pvalues], axis=1)\n",
    "fit_result.columns = [\"coef\", \"p-values\"]\n",
    "fit_result"
   ]
  },
  {
   "cell_type": "markdown",
   "metadata": {},
   "source": [
    "变量M0FreqL6M_Bin_WOE, minPayL3M_Bin_WOE, M0FreqL12M_Bin_WOE, M2FreqL12M_Bin_WOE, maxPayL1M_Bin_WOE, minPayL6M_Bin_WOE的系数为正，需要单独检验"
   ]
  },
  {
   "cell_type": "code",
   "execution_count": 232,
   "metadata": {
    "collapsed": false
   },
   "outputs": [
    {
     "name": "stdout",
     "output_type": "stream",
     "text": [
      "Optimization terminated successfully.\n",
      "         Current function value: 0.627222\n",
      "         Iterations 5\n",
      "M0FreqL6M_Bin_WOE   -1.194786\n",
      "dtype: float64\n",
      "Optimization terminated successfully.\n",
      "         Current function value: 0.666433\n",
      "         Iterations 5\n",
      "minPayL3M_Bin_WOE   -0.838646\n",
      "dtype: float64\n",
      "Optimization terminated successfully.\n",
      "         Current function value: 0.663417\n",
      "         Iterations 5\n",
      "M0FreqL12M_Bin_WOE   -1.205859\n",
      "dtype: float64\n",
      "Optimization terminated successfully.\n",
      "         Current function value: 0.662394\n",
      "         Iterations 5\n",
      "M2FreqL12M_Bin_WOE   -1.482708\n",
      "dtype: float64\n",
      "Optimization terminated successfully.\n",
      "         Current function value: 0.669885\n",
      "         Iterations 4\n",
      "maxPayL1M_Bin_WOE   -1.005045\n",
      "dtype: float64\n",
      "Optimization terminated successfully.\n",
      "         Current function value: 0.687288\n",
      "         Iterations 5\n",
      "minPayL6M_Bin_WOE   -0.824282\n",
      "dtype: float64\n"
     ]
    }
   ],
   "source": [
    "for var in [\"M0FreqL6M_Bin_WOE\", \"minPayL3M_Bin_WOE\", \"M0FreqL12M_Bin_WOE\", \n",
    "            \"M2FreqL12M_Bin_WOE\", \"maxPayL1M_Bin_WOE\", \"minPayL6M_Bin_WOE\"]:\n",
    "    print(sm.Logit(y, trainData[var]).fit().params)"
   ]
  },
  {
   "cell_type": "markdown",
   "metadata": {},
   "source": [
    "单独建立回归模型，系数为负，与预期相符，说明任然存在多重共线性"
   ]
  },
  {
   "cell_type": "markdown",
   "metadata": {},
   "source": [
    "## 用GBDT跑出变量重要性，挑选出合适的变量"
   ]
  },
  {
   "cell_type": "code",
   "execution_count": 233,
   "metadata": {
    "collapsed": false,
    "scrolled": true
   },
   "outputs": [],
   "source": [
    "from sklearn import ensemble\n",
    "\n",
    "clf = ensemble.GradientBoostingClassifier()\n",
    "gbdt_model = clf.fit(X, y)\n",
    "importace = clf.feature_importances_.tolist()\n",
    "featureImportance = zip(multi_analysis, importace)\n",
    "featureImportanceSorted = sorted(featureImportance, key=lambda k: k[1], reverse=True)"
   ]
  },
  {
   "cell_type": "markdown",
   "metadata": {},
   "source": [
    "先假定模型可以容纳5个特征，再逐步增加特征个数，直到有特征的系数为负，或者p值超过0.1"
   ]
  },
  {
   "cell_type": "code",
   "execution_count": 239,
   "metadata": {
    "collapsed": false
   },
   "outputs": [
    {
     "name": "stdout",
     "output_type": "stream",
     "text": [
      "Optimization terminated successfully.\n",
      "         Current function value: 0.262694\n",
      "         Iterations 7\n",
      "Optimization terminated successfully.\n",
      "         Current function value: 0.262216\n",
      "         Iterations 7\n",
      "Optimization terminated successfully.\n",
      "         Current function value: 0.262024\n",
      "         Iterations 7\n",
      "Optimization terminated successfully.\n",
      "         Current function value: 0.261146\n",
      "         Iterations 7\n",
      "Optimization terminated successfully.\n",
      "         Current function value: 0.260576\n",
      "         Iterations 7\n",
      "Optimization terminated successfully.\n",
      "         Current function value: 0.260474\n",
      "         Iterations 7\n",
      "Optimization terminated successfully.\n",
      "         Current function value: 0.260338\n",
      "         Iterations 7\n",
      "Optimization terminated successfully.\n",
      "         Current function value: 0.260215\n",
      "         Iterations 7\n",
      "Optimization terminated successfully.\n",
      "         Current function value: 0.260275\n",
      "         Iterations 7\n",
      "Optimization terminated successfully.\n",
      "         Current function value: 0.259991\n",
      "         Iterations 7\n",
      "Optimization terminated successfully.\n",
      "         Current function value: 0.259865\n",
      "         Iterations 7\n",
      "Optimization terminated successfully.\n",
      "         Current function value: 0.259831\n",
      "         Iterations 7\n",
      "Optimization terminated successfully.\n",
      "         Current function value: 0.259308\n",
      "         Iterations 7\n",
      "Optimization terminated successfully.\n",
      "         Current function value: 0.259828\n",
      "         Iterations 7\n",
      "Optimization terminated successfully.\n",
      "         Current function value: 0.259826\n",
      "         Iterations 7\n",
      "Optimization terminated successfully.\n",
      "         Current function value: 0.259741\n",
      "         Iterations 7\n",
      "Optimization terminated successfully.\n",
      "         Current function value: 0.259407\n",
      "         Iterations 7\n",
      "Optimization terminated successfully.\n",
      "         Current function value: 0.259807\n",
      "         Iterations 7\n",
      "Optimization terminated successfully.\n",
      "         Current function value: 0.259584\n",
      "         Iterations 7\n"
     ]
    },
    {
     "data": {
      "text/html": [
       "<div>\n",
       "<style scoped>\n",
       "    .dataframe tbody tr th:only-of-type {\n",
       "        vertical-align: middle;\n",
       "    }\n",
       "\n",
       "    .dataframe tbody tr th {\n",
       "        vertical-align: top;\n",
       "    }\n",
       "\n",
       "    .dataframe thead th {\n",
       "        text-align: right;\n",
       "    }\n",
       "</style>\n",
       "<table border=\"1\" class=\"dataframe\">\n",
       "  <thead>\n",
       "    <tr style=\"text-align: right;\">\n",
       "      <th></th>\n",
       "      <th>coef</th>\n",
       "      <th>p-values</th>\n",
       "    </tr>\n",
       "  </thead>\n",
       "  <tbody>\n",
       "    <tr>\n",
       "      <th>M1FreqL3M_Bin_WOE</th>\n",
       "      <td>-0.740298</td>\n",
       "      <td>5.827864e-192</td>\n",
       "    </tr>\n",
       "    <tr>\n",
       "      <th>M0FreqL3M_WOE</th>\n",
       "      <td>-0.312563</td>\n",
       "      <td>3.902917e-28</td>\n",
       "    </tr>\n",
       "    <tr>\n",
       "      <th>increaseUrateL6M_Bin_WOE</th>\n",
       "      <td>-1.202810</td>\n",
       "      <td>1.983054e-68</td>\n",
       "    </tr>\n",
       "    <tr>\n",
       "      <th>maxUrateL1M_Bin_WOE</th>\n",
       "      <td>-0.477450</td>\n",
       "      <td>1.629059e-05</td>\n",
       "    </tr>\n",
       "    <tr>\n",
       "      <th>M2FreqL3M_Bin_WOE</th>\n",
       "      <td>-0.657071</td>\n",
       "      <td>2.883706e-62</td>\n",
       "    </tr>\n",
       "    <tr>\n",
       "      <th>M1FreqL6M_Bin_WOE</th>\n",
       "      <td>-0.123611</td>\n",
       "      <td>5.346307e-04</td>\n",
       "    </tr>\n",
       "    <tr>\n",
       "      <th>increaseUrateL3M_WOE</th>\n",
       "      <td>-0.360902</td>\n",
       "      <td>1.062141e-04</td>\n",
       "    </tr>\n",
       "    <tr>\n",
       "      <th>avgUrateL3M_Bin_WOE</th>\n",
       "      <td>-0.501917</td>\n",
       "      <td>4.002803e-06</td>\n",
       "    </tr>\n",
       "    <tr>\n",
       "      <th>maxDelqL1M_Bin_WOE</th>\n",
       "      <td>-0.145537</td>\n",
       "      <td>4.849356e-08</td>\n",
       "    </tr>\n",
       "    <tr>\n",
       "      <th>maxUrateL6M_Bin_WOE</th>\n",
       "      <td>-0.055321</td>\n",
       "      <td>7.140141e-01</td>\n",
       "    </tr>\n",
       "    <tr>\n",
       "      <th>meanPayL12M_Bin_WOE</th>\n",
       "      <td>-0.118865</td>\n",
       "      <td>3.286300e-02</td>\n",
       "    </tr>\n",
       "    <tr>\n",
       "      <th>avgUrateL6M_Bin_WOE</th>\n",
       "      <td>-0.610692</td>\n",
       "      <td>2.635194e-05</td>\n",
       "    </tr>\n",
       "    <tr>\n",
       "      <th>maxUrateL3M_Bin_WOE</th>\n",
       "      <td>-0.348018</td>\n",
       "      <td>7.886309e-03</td>\n",
       "    </tr>\n",
       "    <tr>\n",
       "      <th>M1FreqL12M_Bin_WOE</th>\n",
       "      <td>-0.059817</td>\n",
       "      <td>1.243508e-01</td>\n",
       "    </tr>\n",
       "    <tr>\n",
       "      <th>maxPayL12M_Bin_WOE</th>\n",
       "      <td>-0.063496</td>\n",
       "      <td>5.770539e-01</td>\n",
       "    </tr>\n",
       "    <tr>\n",
       "      <th>increaseUrateL12M_Bin_WOE</th>\n",
       "      <td>-0.045600</td>\n",
       "      <td>7.341979e-01</td>\n",
       "    </tr>\n",
       "    <tr>\n",
       "      <th>minPayL6M_Bin_WOE</th>\n",
       "      <td>0.389244</td>\n",
       "      <td>1.229701e-04</td>\n",
       "    </tr>\n",
       "    <tr>\n",
       "      <th>intercept</th>\n",
       "      <td>-1.822820</td>\n",
       "      <td>0.000000e+00</td>\n",
       "    </tr>\n",
       "  </tbody>\n",
       "</table>\n",
       "</div>"
      ],
      "text/plain": [
       "                               coef       p-values\n",
       "M1FreqL3M_Bin_WOE         -0.740298  5.827864e-192\n",
       "M0FreqL3M_WOE             -0.312563   3.902917e-28\n",
       "increaseUrateL6M_Bin_WOE  -1.202810   1.983054e-68\n",
       "maxUrateL1M_Bin_WOE       -0.477450   1.629059e-05\n",
       "M2FreqL3M_Bin_WOE         -0.657071   2.883706e-62\n",
       "M1FreqL6M_Bin_WOE         -0.123611   5.346307e-04\n",
       "increaseUrateL3M_WOE      -0.360902   1.062141e-04\n",
       "avgUrateL3M_Bin_WOE       -0.501917   4.002803e-06\n",
       "maxDelqL1M_Bin_WOE        -0.145537   4.849356e-08\n",
       "maxUrateL6M_Bin_WOE       -0.055321   7.140141e-01\n",
       "meanPayL12M_Bin_WOE       -0.118865   3.286300e-02\n",
       "avgUrateL6M_Bin_WOE       -0.610692   2.635194e-05\n",
       "maxUrateL3M_Bin_WOE       -0.348018   7.886309e-03\n",
       "M1FreqL12M_Bin_WOE        -0.059817   1.243508e-01\n",
       "maxPayL12M_Bin_WOE        -0.063496   5.770539e-01\n",
       "increaseUrateL12M_Bin_WOE -0.045600   7.341979e-01\n",
       "minPayL6M_Bin_WOE          0.389244   1.229701e-04\n",
       "intercept                 -1.822820   0.000000e+00"
      ]
     },
     "execution_count": 239,
     "metadata": {},
     "output_type": "execute_result"
    }
   ],
   "source": [
    "n = 5\n",
    "featureSelected = [i[0] for i in featureImportanceSorted[:n]]\n",
    "X_train = X[featureSelected + [\"intercept\"]]\n",
    "logit = sm.Logit(y, X_train)\n",
    "logit_result = logit.fit()\n",
    "pvalues = logit_result.pvalues\n",
    "params = logit_result.params\n",
    "fit_result = pd.concat([params, pvalues], axis=1)\n",
    "fit_result.columns = [\"coef\", \"p-values\"]\n",
    "while (n < len(featureImportanceSorted)):\n",
    "    nextVar = featureImportanceSorted[n][0]\n",
    "    featureSelected = featureSelected + [nextVar]\n",
    "    X_train = X[featureSelected + [\"intercept\"]]\n",
    "    logit = sm.Logit(y, X_train)\n",
    "    logit_result = logit.fit()\n",
    "    params = logit_result.params\n",
    "    if max(params) < 0:\n",
    "        n += 1\n",
    "        continue\n",
    "    else:\n",
    "        featureSelected.remove(nextVar)\n",
    "        n += 1\n",
    "        \n",
    "pvalues = logit_result.pvalues\n",
    "params = logit_result.params\n",
    "fit_result = pd.concat([params, pvalues], axis=1)\n",
    "fit_result.columns = [\"coef\", \"p-values\"]\n",
    "fit_result"
   ]
  },
  {
   "cell_type": "markdown",
   "metadata": {},
   "source": [
    "## 剔除p值大于0.1的变量"
   ]
  },
  {
   "cell_type": "code",
   "execution_count": 240,
   "metadata": {
    "collapsed": false,
    "scrolled": true
   },
   "outputs": [
    {
     "name": "stdout",
     "output_type": "stream",
     "text": [
      "Optimization terminated successfully.\n",
      "         Current function value: 0.259828\n",
      "         Iterations 7\n",
      "Optimization terminated successfully.\n",
      "         Current function value: 0.259830\n",
      "         Iterations 7\n",
      "Optimization terminated successfully.\n",
      "         Current function value: 0.259834\n",
      "         Iterations 7\n",
      "Optimization terminated successfully.\n",
      "         Current function value: 0.259868\n",
      "         Iterations 7\n",
      "Optimization terminated successfully.\n",
      "         Current function value: 0.259868\n",
      "         Iterations 7\n"
     ]
    }
   ],
   "source": [
    "largePValueVars = [\"increaseUrateL12M_Bin_WOE\", \"maxUrateL6M_Bin_WOE\", \"maxPayL12M_Bin_WOE\", \"M1FreqL12M_Bin_WOE\"]\n",
    "for var in largePValueVars:\n",
    "    featureSelected.remove(var)\n",
    "    X_train = X[featureSelected + [\"intercept\"]]\n",
    "    logit = sm.Logit(y, X_train)\n",
    "    logit_result = logit.fit()\n",
    "    pvalues = logit_result.pvalues\n",
    "    if max(pvalues) <= 0.1:\n",
    "        break\n",
    "    \n",
    "X_train = X[featureSelected + [\"intercept\"]]\n",
    "logit = sm.Logit(y, X_train)\n",
    "logit_result = logit.fit()\n",
    "pvalues = logit_result.pvalues\n",
    "params = logit_result.params\n",
    "fit_result = pd.concat([params, pvalues], axis=1)\n",
    "fit_result.columns = [\"coef\", \"p-value\"]"
   ]
  },
  {
   "cell_type": "code",
   "execution_count": 241,
   "metadata": {
    "collapsed": false
   },
   "outputs": [
    {
     "data": {
      "text/html": [
       "<div>\n",
       "<style scoped>\n",
       "    .dataframe tbody tr th:only-of-type {\n",
       "        vertical-align: middle;\n",
       "    }\n",
       "\n",
       "    .dataframe tbody tr th {\n",
       "        vertical-align: top;\n",
       "    }\n",
       "\n",
       "    .dataframe thead th {\n",
       "        text-align: right;\n",
       "    }\n",
       "</style>\n",
       "<table border=\"1\" class=\"dataframe\">\n",
       "  <thead>\n",
       "    <tr style=\"text-align: right;\">\n",
       "      <th></th>\n",
       "      <th>coef</th>\n",
       "      <th>p-value</th>\n",
       "    </tr>\n",
       "  </thead>\n",
       "  <tbody>\n",
       "    <tr>\n",
       "      <th>M1FreqL3M_Bin_WOE</th>\n",
       "      <td>-0.744438</td>\n",
       "      <td>1.251952e-195</td>\n",
       "    </tr>\n",
       "    <tr>\n",
       "      <th>M0FreqL3M_WOE</th>\n",
       "      <td>-0.293952</td>\n",
       "      <td>6.910135e-26</td>\n",
       "    </tr>\n",
       "    <tr>\n",
       "      <th>increaseUrateL6M_Bin_WOE</th>\n",
       "      <td>-1.207908</td>\n",
       "      <td>3.342028e-78</td>\n",
       "    </tr>\n",
       "    <tr>\n",
       "      <th>maxUrateL1M_Bin_WOE</th>\n",
       "      <td>-0.485213</td>\n",
       "      <td>1.022195e-05</td>\n",
       "    </tr>\n",
       "    <tr>\n",
       "      <th>M2FreqL3M_Bin_WOE</th>\n",
       "      <td>-0.658082</td>\n",
       "      <td>1.351355e-62</td>\n",
       "    </tr>\n",
       "    <tr>\n",
       "      <th>M1FreqL6M_Bin_WOE</th>\n",
       "      <td>-0.138005</td>\n",
       "      <td>6.315287e-06</td>\n",
       "    </tr>\n",
       "    <tr>\n",
       "      <th>increaseUrateL3M_WOE</th>\n",
       "      <td>-0.363057</td>\n",
       "      <td>8.885634e-05</td>\n",
       "    </tr>\n",
       "    <tr>\n",
       "      <th>avgUrateL3M_Bin_WOE</th>\n",
       "      <td>-0.511566</td>\n",
       "      <td>1.748006e-06</td>\n",
       "    </tr>\n",
       "    <tr>\n",
       "      <th>maxDelqL1M_Bin_WOE</th>\n",
       "      <td>-0.149442</td>\n",
       "      <td>1.981810e-08</td>\n",
       "    </tr>\n",
       "    <tr>\n",
       "      <th>meanPayL12M_Bin_WOE</th>\n",
       "      <td>-0.147295</td>\n",
       "      <td>4.944936e-03</td>\n",
       "    </tr>\n",
       "    <tr>\n",
       "      <th>avgUrateL6M_Bin_WOE</th>\n",
       "      <td>-0.609184</td>\n",
       "      <td>1.562592e-05</td>\n",
       "    </tr>\n",
       "    <tr>\n",
       "      <th>maxUrateL3M_Bin_WOE</th>\n",
       "      <td>-0.360466</td>\n",
       "      <td>4.308916e-03</td>\n",
       "    </tr>\n",
       "    <tr>\n",
       "      <th>intercept</th>\n",
       "      <td>-1.822883</td>\n",
       "      <td>0.000000e+00</td>\n",
       "    </tr>\n",
       "  </tbody>\n",
       "</table>\n",
       "</div>"
      ],
      "text/plain": [
       "                              coef        p-value\n",
       "M1FreqL3M_Bin_WOE        -0.744438  1.251952e-195\n",
       "M0FreqL3M_WOE            -0.293952   6.910135e-26\n",
       "increaseUrateL6M_Bin_WOE -1.207908   3.342028e-78\n",
       "maxUrateL1M_Bin_WOE      -0.485213   1.022195e-05\n",
       "M2FreqL3M_Bin_WOE        -0.658082   1.351355e-62\n",
       "M1FreqL6M_Bin_WOE        -0.138005   6.315287e-06\n",
       "increaseUrateL3M_WOE     -0.363057   8.885634e-05\n",
       "avgUrateL3M_Bin_WOE      -0.511566   1.748006e-06\n",
       "maxDelqL1M_Bin_WOE       -0.149442   1.981810e-08\n",
       "meanPayL12M_Bin_WOE      -0.147295   4.944936e-03\n",
       "avgUrateL6M_Bin_WOE      -0.609184   1.562592e-05\n",
       "maxUrateL3M_Bin_WOE      -0.360466   4.308916e-03\n",
       "intercept                -1.822883   0.000000e+00"
      ]
     },
     "execution_count": 241,
     "metadata": {},
     "output_type": "execute_result"
    }
   ],
   "source": [
    "fit_result"
   ]
  },
  {
   "cell_type": "markdown",
   "metadata": {},
   "source": [
    "## 逻辑回归预测"
   ]
  },
  {
   "cell_type": "code",
   "execution_count": 242,
   "metadata": {
    "collapsed": true
   },
   "outputs": [],
   "source": [
    "def Predict_LR(x, var_list, coef_dict, prob=False):\n",
    "    '''\n",
    "    :param x: WOE编码后的变量\n",
    "    :param var_list: 入模变量列表\n",
    "    :param coef_dict: 逻辑回归系数列表\n",
    "    :param prob: 如果返回概率，则设定为True。默认是返回log odds\n",
    "    :return: 返回概率或者log odds\n",
    "    '''\n",
    "    s = coef_dict['intercept']\n",
    "    for var in var_list:\n",
    "        s += x[var]*coef_dict[var]\n",
    "    if prob == True:\n",
    "        y = 1.0/(1+np.exp(-s))\n",
    "        return y\n",
    "    else:\n",
    "        return s"
   ]
  },
  {
   "cell_type": "code",
   "execution_count": 243,
   "metadata": {
    "collapsed": false
   },
   "outputs": [
    {
     "name": "stderr",
     "output_type": "stream",
     "text": [
      "C:\\Anaconda3\\lib\\site-packages\\ipykernel\\__main__.py:3: SettingWithCopyWarning: \n",
      "A value is trying to be set on a copy of a slice from a DataFrame.\n",
      "Try using .loc[row_indexer,col_indexer] = value instead\n",
      "\n",
      "See the caveats in the documentation: http://pandas.pydata.org/pandas-docs/stable/indexing.html#indexing-view-versus-copy\n",
      "  app.launch_new_instance()\n"
     ]
    },
    {
     "name": "stdout",
     "output_type": "stream",
     "text": [
      "{'AR': 0.66900244560517086, 'KS': 0.6332673342393962}\n"
     ]
    }
   ],
   "source": [
    "coef_dict = params.to_dict()\n",
    "\n",
    "trainData[\"log_odds\"] = trainData.apply(lambda x: Predict_LR(x, featureSelected, coef_dict), axis=1)\n",
    "perf_model = KS_AR(trainData, \"log_odds\", \"label\")\n",
    "print(perf_model)"
   ]
  },
  {
   "cell_type": "markdown",
   "metadata": {},
   "source": [
    "# 在测试集上测试逻辑回归结果 (这块目前有bug)"
   ]
  },
  {
   "cell_type": "markdown",
   "metadata": {},
   "source": [
    "## 准备WOE编码后的变量"
   ]
  },
  {
   "cell_type": "code",
   "execution_count": 244,
   "metadata": {
    "collapsed": true
   },
   "outputs": [],
   "source": [
    "modelFeatures = fit_result.index.tolist()\n",
    "modelFeatures.remove(\"intercept\")\n",
    "modelFeatures = [i.replace(\"_Bin\", \"\").replace(\"_WOE\", \"\") for i in modelFeatures]\n",
    "\n",
    "numFeatures = [i for i in modelFeatures if i in numericalFeatures]\n",
    "charFeatures = [i for i in modelFeatures if i in categoricalFeatures]"
   ]
  },
  {
   "cell_type": "code",
   "execution_count": 247,
   "metadata": {
    "collapsed": true
   },
   "outputs": [],
   "source": [
    "testData['maxDelqL1M'] = testData.apply(lambda x: DelqFeatures(x,1,'max delq'),axis=1)\n",
    "testData['M0FreqL3M'] = testData.apply(lambda x: DelqFeatures(x,3,'M0 times'),axis=1)\n",
    "testData['M1FreqL3M'] = testData.apply(lambda x: DelqFeatures(x,3,'M1 times'),axis=1)\n",
    "testData['M1FreqL6M'] = testData.apply(lambda x: DelqFeatures(x,6,'M1 times'),axis=1)\n",
    "testData['M2FreqL3M'] = testData.apply(lambda x: DelqFeatures(x,4,'M2 times'),axis=1)\n",
    "\n",
    "testData['maxUrateL1M'] = testData.apply(lambda x: UrateFeatures(x,1,'max utilization rate'),axis=1)\n",
    "testData['maxUrateL3M'] = testData.apply(lambda x: UrateFeatures(x,3,'max utilization rate'),axis=1)\n",
    "testData['avgUrateL3M'] = testData.apply(lambda x: UrateFeatures(x,3,'mean utilization rate'),axis=1)\n",
    "testData['avgUrateL6M'] = testData.apply(lambda x: UrateFeatures(x,6,'mean utilization rate'),axis=1)\n",
    "testData['increaseUrateL3M'] = testData.apply(lambda x: UrateFeatures(x,3,'increase utilization rate'),axis=1)\n",
    "testData['increaseUrateL6M'] = testData.apply(lambda x: UrateFeatures(x,6,'increase utilization rate'),axis=1)\n",
    "\n",
    "testData[\"meanPayL12M\"] = trainData.apply(lambda x: PaymentFeatures(x, 12, 'mean payment ratio'), axis=1)"
   ]
  },
  {
   "cell_type": "code",
   "execution_count": 248,
   "metadata": {
    "collapsed": true
   },
   "outputs": [],
   "source": [
    "testData[\"M1FreqL3M_Bin\"] = testData[\"M1FreqL3M\"].apply(lambda x: int(x >= 1))\n",
    "testData[\"M2FreqL3M_Bin\"] = testData[\"M2FreqL3M\"].apply(lambda x: int(x>=1))"
   ]
  },
  {
   "cell_type": "code",
   "execution_count": 250,
   "metadata": {
    "collapsed": false
   },
   "outputs": [],
   "source": [
    "testData[\"maxDelqL1M_Bin\"] = testData[\"maxDelqL1M\"].apply(lambda x: MergeByCondition(\n",
    "    x, [\"==0\", \"==1\", \">=2\"]))"
   ]
  },
  {
   "cell_type": "code",
   "execution_count": 261,
   "metadata": {
    "collapsed": false
   },
   "outputs": [
    {
     "data": {
      "text/plain": [
       "[{'M0FreqL6M': [0, 3]},\n",
       " {'M1FreqL6M': [0, 1]},\n",
       " {'M0FreqL12M': [6, 7]},\n",
       " {'M1FreqL12M': [0, 2]},\n",
       " {'maxUrateL1M': [0.024821214285714283, 0.8512071250000001]},\n",
       " {'avgUrateL1M': [0.024821214285714283, 0.8512071250000001]},\n",
       " {'maxUrateL3M': [0.3354812, 0.846606]},\n",
       " {'avgUrateL3M': [0.5153682222222222, 0.7154709777777777]},\n",
       " {'maxUrateL6M': [0.6139992333333333, 0.9759964999999999]},\n",
       " {'avgUrateL6M': [0.32507578703703705, 0.5724246727272727]},\n",
       " {'increaseUrateL6M': [1, 2]},\n",
       " {'maxUrateL12M': [0.6482942500000001, 0.9824976153846154]},\n",
       " {'avgUrateL12M': [0.33026562962962963, 0.44313403333333334]},\n",
       " {'increaseUrateL12M': [3, 4]},\n",
       " {'maxPayL1M': [0.5200440244712602, 0.998870267129584]},\n",
       " {'minPayL1M': [0.5200440244712602, 0.998870267129584]},\n",
       " {'meanPayL1M': [0.5200440244712602, 0.998870267129584]},\n",
       " {'maxPayL3M': [0.5563769190929482, 1.0000128467109726]},\n",
       " {'minPayL3M': [0.48000966128665606, 0.8061310627126994]},\n",
       " {'meanPayL3M': [0.11644991873757606, 0.22624259098272947]},\n",
       " {'minPayL6M': [0.35327250793801546, 0.7919706244796241]},\n",
       " {'meanPayL6M': [0.11815520077227945, 0.22963130166244577]},\n",
       " {'maxPayL12M': [0.8399843149848291, 1.0000001694015894]},\n",
       " {'minPayL12M': [0.8567896530627146, 0.8581373181975489]},\n",
       " {'meanPayL12M': [0.2672941752052968, 0.28882791822485476]}]"
      ]
     },
     "execution_count": 261,
     "metadata": {},
     "output_type": "execute_result"
    }
   ],
   "source": [
    "bin_dict"
   ]
  },
  {
   "cell_type": "markdown",
   "metadata": {},
   "source": [
    "# 在测试集上计算分数"
   ]
  },
  {
   "cell_type": "code",
   "execution_count": 246,
   "metadata": {
    "collapsed": false
   },
   "outputs": [
    {
     "name": "stderr",
     "output_type": "stream",
     "text": [
      "C:\\Anaconda3\\lib\\site-packages\\ipykernel\\__main__.py:4: SettingWithCopyWarning: \n",
      "A value is trying to be set on a copy of a slice from a DataFrame.\n",
      "Try using .loc[row_indexer,col_indexer] = value instead\n",
      "\n",
      "See the caveats in the documentation: http://pandas.pydata.org/pandas-docs/stable/indexing.html#indexing-view-versus-copy\n"
     ]
    },
    {
     "data": {
      "text/plain": [
       "(array([   66.,   248.,   198.,   257.,  1510.,  1934.,  2172.,  9966.,\n",
       "         8035.,  3713.]),\n",
       " array([ 105.2017733 ,  181.92784306,  258.65391282,  335.37998259,\n",
       "         412.10605235,  488.83212211,  565.55819187,  642.28426164,\n",
       "         719.0103314 ,  795.73640116,  872.46247092]),\n",
       " <a list of 10 Patch objects>)"
      ]
     },
     "execution_count": 246,
     "metadata": {},
     "output_type": "execute_result"
    },
    {
     "data": {
      "image/png": "[encoded data removed]",
      "text/plain": [
       "<matplotlib.figure.Figure at 0x1fca2ef0>"
      ]
     },
     "metadata": {},
     "output_type": "display_data"
    }
   ],
   "source": [
    "%matplotlib inline\n",
    "\n",
    "BasePoint, PDO = 500, 50\n",
    "trainData[\"score\"] = trainData[\"log_odds\"].apply(lambda x: BasePoint + PDO/np.log(2) * (-x))\n",
    "plt.hist(trainData[\"score\"])"
   ]
  }
 ],
 "metadata": {
  "anaconda-cloud": {},
  "kernelspec": {
   "display_name": "Python [Root]",
   "language": "python",
   "name": "Python [Root]"
  },
  "language_info": {
   "codemirror_mode": {
    "name": "ipython",
    "version": 3
   },
   "file_extension": ".py",
   "mimetype": "text/x-python",
   "name": "python",
   "nbconvert_exporter": "python",
   "pygments_lexer": "ipython3",
   "version": "3.5.1"
  },
  "toc": {
   "nav_menu": {},
   "number_sections": true,
   "sideBar": true,
   "skip_h1_title": false,
   "toc_cell": false,
   "toc_position": {},
   "toc_section_display": "block",
   "toc_window_display": false
  }
 },
 "nbformat": 4,
 "nbformat_minor": 0
}
