{
 "cells": [
  {
   "cell_type": "markdown",
   "metadata": {},
   "source": [
    "# 特征有效性分析"
   ]
  },
  {
   "cell_type": "markdown",
   "metadata": {},
   "source": [
    "- 先验概率：不考虑特征，只考虑结果\n",
    "- 后验概率：（特征相对于某个标签的后验概率）即条件概率"
   ]
  },
  {
   "cell_type": "markdown",
   "metadata": {},
   "source": [
    "## 不确定性的减少可以作为特征有效性分析的一个指标"
   ]
  },
  {
   "cell_type": "markdown",
   "metadata": {},
   "source": [
    "## 确定性的增加可以作为特征有效性分析的一个指标"
   ]
  },
  {
   "cell_type": "markdown",
   "metadata": {},
   "source": [
    "# 贝叶斯与逻辑回归比较"
   ]
  },
  {
   "cell_type": "markdown",
   "metadata": {},
   "source": [
    "权重不同，原因："
   ]
  },
  {
   "cell_type": "markdown",
   "metadata": {},
   "source": [
    "    引入了两个独立条件假设，贝叶斯方法直接跳过了逻辑回归中反复迭代用梯度下降法才能求出的权重\n",
    "    附加假设：可以直接通过统计结果求权重，而不必用梯度下降法\n",
    "    在某种假定下，可以证明：与朴素贝叶斯分类方法一样，许多神经网络和曲线拟合算分输出最大的后验假定"
   ]
  },
  {
   "cell_type": "markdown",
   "metadata": {
    "collapsed": true
   },
   "source": [
    "样本数量不够，特征数量过多，容易引起过拟合"
   ]
  }
 ],
 "metadata": {
  "anaconda-cloud": {},
  "kernelspec": {
   "display_name": "Python [Root]",
   "language": "python",
   "name": "Python [Root]"
  },
  "language_info": {
   "codemirror_mode": {
    "name": "ipython",
    "version": 3
   },
   "file_extension": ".py",
   "mimetype": "text/x-python",
   "name": "python",
   "nbconvert_exporter": "python",
   "pygments_lexer": "ipython3",
   "version": "3.5.1"
  },
  "toc": {
   "nav_menu": {},
   "number_sections": true,
   "sideBar": true,
   "skip_h1_title": false,
   "toc_cell": false,
   "toc_position": {},
   "toc_section_display": "block",
   "toc_window_display": false
  }
 },
 "nbformat": 4,
 "nbformat_minor": 0
}
