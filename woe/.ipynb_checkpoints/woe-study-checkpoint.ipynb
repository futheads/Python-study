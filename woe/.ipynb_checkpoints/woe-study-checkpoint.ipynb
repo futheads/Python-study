{
 "cells": [
  {
   "cell_type": "markdown",
   "metadata": {},
   "source": [
    "# IV的用途"
   ]
  },
  {
   "cell_type": "markdown",
   "metadata": {},
   "source": [
    "IV的全称是Information Value，中文意思是信息价值，或者信息量。"
   ]
  },
  {
   "cell_type": "markdown",
   "metadata": {},
   "source": [
    "# 对IV的直观理解"
   ]
  },
  {
   "cell_type": "markdown",
   "metadata": {},
   "source": [
    "从直观逻辑上大体可以这样理解“用IV去衡量变量预测能力”这件事情：\n",
    "我们假设在一个分类问题中，目标变量的类别有两类：Y1，Y2。对于一个待预测的个体A，要判断A属于Y1还是Y2，我们是需要一定的信息的，假设这个信息总量是I，而这些所需要的信息，就蕴含在所有的自变量C1，C2，C3，……，Cn中，那么，对于其中的一个变量Ci来说，其蕴含的信息越多，那么它对于判断A属于Y1还是Y2的贡献就越大，Ci的信息价值就越大，Ci的IV就越大，它就越应该进入到入模变量列表中。"
   ]
  },
  {
   "cell_type": "markdown",
   "metadata": {},
   "source": [
    "# IV的计算"
   ]
  },
  {
   "cell_type": "markdown",
   "metadata": {},
   "source": [
    "## WOE"
   ]
  },
  {
   "cell_type": "markdown",
   "metadata": {},
   "source": [
    "WOE的全称是“Weight of Evidence”，即证据权重。WOE是对原始自变量的一种编码形式。\n",
    "要对一个变量进行WOE编码，需要首先把这个变量进行分组处理（也叫离散化、分箱等等，说的都是一个意思）。分组后，对于第i组，WOE的计算公式如下："
   ]
  },
  {
   "cell_type": "markdown",
   "metadata": {},
   "source": [
    "$WOE_i = ln(\\frac{py_i}{pn_i}) = ln(\\frac{\\#y_i/\\#y_T} {\\#n_i/\\#n_T})$"
   ]
  },
  {
   "cell_type": "markdown",
   "metadata": {},
   "source": [
    "其中，pyi是这个组中响应客户（风险模型中，对应的是违约客户，总之，指的是模型中预测变量取值为“是”或者说1的个体）占所有样本中所有响应客户的比例，pni是这个组中未响应客户占样本中所有未响应客户的比例，#yi是这个组中响应客户的数量，#ni是这个组中未响应客户的数量，#yT是样本中所有响应客户的数量，#nT是样本中所有未响应客户的数量。"
   ]
  },
  {
   "cell_type": "markdown",
   "metadata": {},
   "source": [
    "从这个公式中我们可以体会到，WOE表示的实际上是“当前分组中响应客户占所有响应客户的比例”和“当前分组中没有响应的客户占所有没有响应的客户的比例”的差异。\n",
    "对这个公式做一个简单变换，可以得到"
   ]
  },
  {
   "cell_type": "markdown",
   "metadata": {},
   "source": [
    "$WOE_i = ln(\\frac{py_i}{pn_i}) = ln(\\frac{\\#y_i/\\#n_i} {\\#y_T/\\#n_T})$"
   ]
  },
  {
   "cell_type": "markdown",
   "metadata": {
    "collapsed": true
   },
   "source": [
    "他表示的是当前这个组中响应的客户和未响应客户的比值，和所有样本中这个比值的差异。这个差异是用这两个比值的比值，再取对数来表示的。WOE越大，这种差异越大，这个分组里的样本响应的可能性就越大，WOE越小，差异越小，这个分组里的样本响应的可能性就越小。"
   ]
  },
  {
   "cell_type": "markdown",
   "metadata": {},
   "source": [
    "# IV的计算公式"
   ]
  },
  {
   "cell_type": "markdown",
   "metadata": {},
   "source": [
    "$IV_i = (py_i - pn_i)*WOE_i = (py_i - pn_i)*ln(\\frac{py_i} {pn_i}) = (\\#y_i/\\#y_T - \\#n_i/\\#n_T)*ln(\\frac{\\#y_i/\\#y_T}{\\#n_i/\\#n_T})$"
   ]
  },
  {
   "cell_type": "markdown",
   "metadata": {},
   "source": [
    "有了一个变量各分组的IV值，我们就可以计算整个变量的IV值，方法很简单，就是把各分组的IV相加："
   ]
  },
  {
   "cell_type": "markdown",
   "metadata": {},
   "source": [
    "$$IV = \\sum_{i}^n IV_i$$"
   ]
  },
  {
   "cell_type": "markdown",
   "metadata": {},
   "source": [
    "# 关于IV和WOE的进一步思考"
   ]
  },
  {
   "cell_type": "markdown",
   "metadata": {},
   "source": [
    "## 为什么用IV而不是直接用WOE"
   ]
  },
  {
   "cell_type": "markdown",
   "metadata": {},
   "source": [
    "- 当我们衡量一个变量的预测能力时，我们所使用的指标值不应该是负数，否则，说一个变量的预测能力的指标是-2.3，听起来很别扭\n",
    "- 乘以pyn后，体现出了变量当前分组中个体的数量占整体个体数量的比例，对变量预测能力的影响。"
   ]
  },
  {
   "cell_type": "markdown",
   "metadata": {},
   "source": [
    "> IV在WOE的前面乘以了一个系数$(py_i - pn_i)$，而这个系数很好的考虑了这个分组中样本占整体样本的比例，比例越低，这个分组对变量整体预测能力的贡献越低。相反，如果直接用WOE的绝对值加和，会得到一个很高的指标，这是不合理的"
   ]
  },
  {
   "cell_type": "markdown",
   "metadata": {},
   "source": [
    "## IV的极端情况以及处理方式"
   ]
  },
  {
   "cell_type": "markdown",
   "metadata": {},
   "source": [
    "IV依赖WOE，使用过程中应该注意一个问题：变量的任何分组中，不应该出现响应数=0或非响应数=0的情况。"
   ]
  },
  {
   "cell_type": "markdown",
   "metadata": {},
   "source": [
    "IVi无论等于负无穷还是正无穷，都是没有意义的。建议:"
   ]
  },
  {
   "cell_type": "markdown",
   "metadata": {},
   "source": [
    "- 如果可能，直接把这个分组做成一个规则，作为模型的前置条件或补充条件\n",
    "- 重新对变量进行离散化或分组，使每个分组的响应比例都不为0且不为100%，尤其是当一个分组个体数很小时（比如小于100个），强烈建议这样做，因为本身把一个分组个体数弄得很小就不是太合理。\n",
    "- 如果上面两种方法都无法使用，建议人工把该分组的响应数和非响应的数量进行一定的调整。如果响应数原本为0，可以人工调整响应数为1，如果非响应数原本为0，可以人工调整非响应数为1."
   ]
  },
  {
   "cell_type": "markdown",
   "metadata": {},
   "source": []
  },
  {
   "cell_type": "code",
   "execution_count": 11,
   "metadata": {
    "collapsed": false,
    "scrolled": false
   },
   "outputs": [
    {
     "name": "stdout",
     "output_type": "stream",
     "text": [
      "run into process_train_woe: \n",
      " Sat Mar  3 10:36:45 2018\n",
      "------------------Changing Feature Dtypes-------------------\n",
      "ID                                            object\n",
      "LIMIT_BAL                                      int64\n",
      "SEX                                           object\n",
      "EDUCATION                                     object\n",
      "MARRIAGE                                      object\n",
      "AGE                                            int64\n",
      "PAY_0                                          int64\n",
      "PAY_2                                          int64\n",
      "PAY_3                                          int64\n",
      "PAY_4                                          int64\n",
      "PAY_5                                          int64\n",
      "PAY_6                                          int64\n",
      "BILL_AMT1                                      int64\n",
      "BILL_AMT2                                      int64\n",
      "BILL_AMT3                                      int64\n",
      "BILL_AMT4                                      int64\n",
      "BILL_AMT5                                      int64\n",
      "BILL_AMT6                                      int64\n",
      "PAY_AMT1                                       int64\n",
      "PAY_AMT2                                       int64\n",
      "PAY_AMT3                                       int64\n",
      "PAY_AMT4                                       int64\n",
      "PAY_AMT5                                       int64\n",
      "PAY_AMT6                                       int64\n",
      "target                                         int64\n",
      "------------Variable Dtypes Have Been Specified-------------\n",
      "process woe transformation of continuous variables: \n",
      " Sat Mar  3 10:36:46 2018\n",
      "cfg.global_bt 6636\n",
      "cfg.global_gt 23364\n",
      "-----------process continuous variable:LIMIT_BAL------------\n",
      "--------------process continuous variable:AGE---------------\n",
      "-------------process continuous variable:PAY_0--------------\n",
      "-------------process continuous variable:PAY_2--------------\n",
      "-------------process continuous variable:PAY_3--------------\n",
      "-------------process continuous variable:PAY_4--------------\n",
      "-------------process continuous variable:PAY_5--------------\n",
      "-------------process continuous variable:PAY_6--------------\n",
      "-----------process continuous variable:BILL_AMT1------------\n",
      "-----------process continuous variable:BILL_AMT2------------\n",
      "-----------process continuous variable:BILL_AMT3------------\n",
      "-----------process continuous variable:BILL_AMT4------------\n",
      "-----------process continuous variable:BILL_AMT5------------\n",
      "-----------process continuous variable:BILL_AMT6------------\n",
      "------------process continuous variable:PAY_AMT1------------\n",
      "------------process continuous variable:PAY_AMT2------------\n",
      "------------process continuous variable:PAY_AMT3------------\n",
      "------------process continuous variable:PAY_AMT4------------\n",
      "------------process continuous variable:PAY_AMT5------------\n",
      "------------process continuous variable:PAY_AMT6------------\n",
      "process woe transformation of discrete variables: \n",
      " Sat Mar  3 10:37:46 2018\n",
      "---------------process discrete variable:SEX----------------\n",
      "------------process discrete variable:EDUCATION-------------\n",
      "-------------process discrete variable:MARRIAGE-------------\n"
     ]
    },
    {
     "name": "stderr",
     "output_type": "stream",
     "text": [
      "C:\\Anaconda3\\lib\\site-packages\\woe\\feature_process.py:414: SettingWithCopyWarning: \n",
      "A value is trying to be set on a copy of a slice from a DataFrame.\n",
      "Try using .loc[row_indexer,col_indexer] = value instead\n",
      "\n",
      "See the caveats in the documentation: http://pandas.pydata.org/pandas-docs/stable/indexing.html#indexing-view-versus-copy\n",
      "  df[var] = cpvar\n"
     ]
    },
    {
     "name": "stdout",
     "output_type": "stream",
     "text": [
      "LIMIT_BAL\n",
      "AGE\n",
      "PAY_0\n",
      "PAY_2\n",
      "PAY_3\n",
      "PAY_4\n",
      "PAY_5\n",
      "PAY_6\n",
      "BILL_AMT1\n",
      "BILL_AMT2\n",
      "BILL_AMT3\n",
      "BILL_AMT4\n",
      "BILL_AMT5\n",
      "BILL_AMT6\n",
      "PAY_AMT1\n",
      "PAY_AMT2\n",
      "PAY_AMT3\n",
      "PAY_AMT4\n",
      "PAY_AMT5\n",
      "PAY_AMT6\n",
      "SEX\n",
      "EDUCATION\n",
      "MARRIAGE\n",
      "save woe transformation rule into pickle: \n",
      " Sat Mar  3 10:37:46 2018\n"
     ]
    }
   ],
   "source": [
    "import woe.feature_process as fp\n",
    "import woe.GridSearch as gs\n",
    "\n",
    "config_path = \"input/config.csv\"\n",
    "data_path = \"input/UCI_Credit_Card.csv\"\n",
    "feature_detail_path = \"output/features_detail.csv\"\n",
    "rst_pkl_path = \"output/woe_rule.pkl\"\n",
    "\n",
    "# train woe rule\n",
    "feature_detail, rst = fp.process_train_woe(infile_path=data_path, outfile_path=feature_detail_path,\n",
    "                                           rst_path=rst_pkl_path, config_path=config_path)"
   ]
  },
  {
   "cell_type": "code",
   "execution_count": 12,
   "metadata": {
    "collapsed": false
   },
   "outputs": [
    {
     "name": "stdout",
     "output_type": "stream",
     "text": [
      "------------------Changing Feature Dtypes-------------------\n",
      "ID                                            object\n",
      "LIMIT_BAL                                      int64\n",
      "SEX                                           object\n",
      "EDUCATION                                     object\n",
      "MARRIAGE                                      object\n",
      "AGE                                            int64\n",
      "PAY_0                                          int64\n",
      "PAY_2                                          int64\n",
      "PAY_3                                          int64\n",
      "PAY_4                                          int64\n",
      "PAY_5                                          int64\n",
      "PAY_6                                          int64\n",
      "BILL_AMT1                                      int64\n",
      "BILL_AMT2                                      int64\n",
      "BILL_AMT3                                      int64\n",
      "BILL_AMT4                                      int64\n",
      "BILL_AMT5                                      int64\n",
      "BILL_AMT6                                      int64\n",
      "PAY_AMT1                                       int64\n",
      "PAY_AMT2                                       int64\n",
      "PAY_AMT3                                       int64\n",
      "PAY_AMT4                                       int64\n",
      "PAY_AMT5                                       int64\n",
      "PAY_AMT6                                       int64\n",
      "target                                         int64\n",
      "------------Variable Dtypes Have Been Specified-------------\n"
     ]
    }
   ],
   "source": [
    "# proc woe transformation\n",
    "woe_train_path = \"input/dataset_train_woed.csv\"\n",
    "fp.process_woe_trans(data_path, rst_pkl_path, woe_train_path, config_path)"
   ]
  },
  {
   "cell_type": "code",
   "execution_count": 16,
   "metadata": {
    "collapsed": false,
    "scrolled": false
   },
   "outputs": [
    {
     "name": "stdout",
     "output_type": "stream",
     "text": [
      "------------------Changing Feature Dtypes-------------------\n",
      "ID                                            object\n",
      "LIMIT_BAL                                      int64\n",
      "SEX                                           object\n",
      "EDUCATION                                     object\n",
      "MARRIAGE                                      object\n",
      "AGE                                            int64\n",
      "PAY_0                                          int64\n",
      "PAY_2                                          int64\n",
      "PAY_3                                          int64\n",
      "PAY_4                                          int64\n",
      "PAY_5                                          int64\n",
      "PAY_6                                          int64\n",
      "BILL_AMT1                                      int64\n",
      "BILL_AMT2                                      int64\n",
      "BILL_AMT3                                      int64\n",
      "BILL_AMT4                                      int64\n",
      "BILL_AMT5                                      int64\n",
      "BILL_AMT6                                      int64\n",
      "PAY_AMT1                                       int64\n",
      "PAY_AMT2                                       int64\n",
      "PAY_AMT3                                       int64\n",
      "PAY_AMT4                                       int64\n",
      "PAY_AMT5                                       int64\n",
      "PAY_AMT6                                       int64\n",
      "target                                         int64\n",
      "------------Variable Dtypes Have Been Specified-------------\n",
      "###TRAIN SCORECARD MODEL\n",
      "pic_performance_title :  output/model_performance_path\n",
      "cs :  [ 0.0001      0.00011938  0.00014251  0.00017013  0.00020309  0.00024245\n",
      "  0.00028943  0.00034551  0.00041246  0.00049239  0.0005878   0.0007017\n",
      "  0.00083768  0.001       0.00119378  0.0014251   0.00170125  0.00203092\n",
      "  0.00242446  0.00289427  0.00345511  0.00412463  0.00492388  0.00587802\n",
      "  0.00701704  0.00837678  0.01        0.01193777  0.01425103  0.01701254\n",
      "  0.02030918  0.02424462  0.02894266  0.03455107  0.04124626  0.04923883\n",
      "  0.05878016  0.07017038  0.08376776  0.1       ]\n",
      "pic_coefpath_title :  output/model_coefpath\n",
      "dataset_path :  input/dataset_train_woed.csv\n",
      "pic_performance :  output/model_performance_path.png\n",
      "config_path :  input/config.csv\n",
      "var_list_specfied :  []\n",
      "validation_path :  input/dataset_test_woed.csv\n",
      "pic_coefpath :  output/model_coefpath.png\n",
      "df_coef_path :  output/df_model_coef_path.csv\n",
      "run into grid_search_lr_c_main:\n",
      "candidate_var_list length:\n",
      " 23\n",
      "candidate_var_list:\n",
      " ['BILL_AMT3', 'EDUCATION', 'PAY_AMT6', 'BILL_AMT6', 'PAY_AMT3', 'AGE', 'BILL_AMT5', 'PAY_0', 'BILL_AMT4', 'PAY_3', 'PAY_AMT1', 'BILL_AMT2', 'PAY_AMT4', 'PAY_2', 'MARRIAGE', 'LIMIT_BAL', 'PAY_5', 'PAY_AMT2', 'PAY_6', 'PAY_AMT5', 'PAY_4', 'SEX', 'BILL_AMT1']\n",
      "change dtypes:float64 to float32\n",
      "cs [ 0.0001      0.00011938  0.00014251  0.00017013  0.00020309  0.00024245\n",
      "  0.00028943  0.00034551  0.00041246  0.00049239  0.0005878   0.0007017\n",
      "  0.00083768  0.001       0.00119378  0.0014251   0.00170125  0.00203092\n",
      "  0.00242446  0.00289427  0.00345511  0.00412463  0.00492388  0.00587802\n",
      "  0.00701704  0.00837678  0.01        0.01193777  0.01425103  0.01701254\n",
      "  0.02030918  0.02424462  0.02894266  0.03455107  0.04124626  0.04923883\n",
      "  0.05878016  0.07017038  0.08376776  0.1       ]\n",
      "Computing regularization path ...\n",
      "2018-03-03 10:49:14.219836\n",
      "time:  Sat Mar  3 10:49:14 2018 counter:  0  c:  0.0001\n",
      "ks:\t 0.0 ks_validation1:\t 0.0\n",
      "time:  Sat Mar  3 10:49:14 2018 counter:  1  c:  0.000119377664171\n",
      "ks:\t 0.0 ks_validation1:\t 0.0\n",
      "time:  Sat Mar  3 10:49:14 2018 counter:  2  c:  0.00014251026703\n",
      "ks:\t 0.0 ks_validation1:\t 0.0\n",
      "time:  Sat Mar  3 10:49:14 2018 counter:  3  c:  0.000170125427985\n"
     ]
    },
    {
     "name": "stderr",
     "output_type": "stream",
     "text": [
      "C:\\Anaconda3\\lib\\site-packages\\woe\\eval.py:18: FutureWarning: in the future, boolean array-likes will be handled as a boolean array index\n",
      "  get_ks = lambda proba, target: ks_2samp(proba[target == 1], proba[target != 1]).statistic\n",
      "C:\\Anaconda3\\lib\\site-packages\\woe\\eval.py:18: FutureWarning: in the future, boolean array-likes will be handled as a boolean array index\n",
      "  get_ks = lambda proba, target: ks_2samp(proba[target == 1], proba[target != 1]).statistic\n",
      "C:\\Anaconda3\\lib\\site-packages\\woe\\eval.py:18: FutureWarning: in the future, boolean array-likes will be handled as a boolean array index\n",
      "  get_ks = lambda proba, target: ks_2samp(proba[target == 1], proba[target != 1]).statistic\n",
      "C:\\Anaconda3\\lib\\site-packages\\woe\\eval.py:18: FutureWarning: in the future, boolean array-likes will be handled as a boolean array index\n",
      "  get_ks = lambda proba, target: ks_2samp(proba[target == 1], proba[target != 1]).statistic\n"
     ]
    },
    {
     "name": "stdout",
     "output_type": "stream",
     "text": [
      "ks:\t 0.5576 ks_validation1:\t 0.5576\n",
      "time:  Sat Mar  3 10:49:14 2018 counter:  4  c:  0.00020309176209\n",
      "ks:\t 0.5576 ks_validation1:\t 0.5576\n",
      "time:  Sat Mar  3 10:49:14 2018 counter:  5  c:  0.000242446201708\n",
      "ks:\t 0.5576 ks_validation1:\t 0.5576\n",
      "time:  Sat Mar  3 10:49:14 2018 counter:  6  c:  0.000289426612472\n"
     ]
    },
    {
     "name": "stderr",
     "output_type": "stream",
     "text": [
      "C:\\Anaconda3\\lib\\site-packages\\woe\\eval.py:18: FutureWarning: in the future, boolean array-likes will be handled as a boolean array index\n",
      "  get_ks = lambda proba, target: ks_2samp(proba[target == 1], proba[target != 1]).statistic\n",
      "C:\\Anaconda3\\lib\\site-packages\\woe\\eval.py:18: FutureWarning: in the future, boolean array-likes will be handled as a boolean array index\n",
      "  get_ks = lambda proba, target: ks_2samp(proba[target == 1], proba[target != 1]).statistic\n",
      "C:\\Anaconda3\\lib\\site-packages\\woe\\eval.py:18: FutureWarning: in the future, boolean array-likes will be handled as a boolean array index\n",
      "  get_ks = lambda proba, target: ks_2samp(proba[target == 1], proba[target != 1]).statistic\n",
      "C:\\Anaconda3\\lib\\site-packages\\woe\\eval.py:18: FutureWarning: in the future, boolean array-likes will be handled as a boolean array index\n",
      "  get_ks = lambda proba, target: ks_2samp(proba[target == 1], proba[target != 1]).statistic\n"
     ]
    },
    {
     "name": "stdout",
     "output_type": "stream",
     "text": [
      "ks:\t 0.5576 ks_validation1:\t 0.5576\n",
      "time:  Sat Mar  3 10:49:14 2018 counter:  7  c:  0.000345510729459\n",
      "ks:\t 0.5576 ks_validation1:\t 0.5576\n",
      "time:  Sat Mar  3 10:49:14 2018 counter:  8  c:  0.00041246263829\n"
     ]
    },
    {
     "name": "stderr",
     "output_type": "stream",
     "text": [
      "C:\\Anaconda3\\lib\\site-packages\\woe\\eval.py:18: FutureWarning: in the future, boolean array-likes will be handled as a boolean array index\n",
      "  get_ks = lambda proba, target: ks_2samp(proba[target == 1], proba[target != 1]).statistic\n",
      "C:\\Anaconda3\\lib\\site-packages\\woe\\eval.py:18: FutureWarning: in the future, boolean array-likes will be handled as a boolean array index\n",
      "  get_ks = lambda proba, target: ks_2samp(proba[target == 1], proba[target != 1]).statistic\n",
      "C:\\Anaconda3\\lib\\site-packages\\woe\\eval.py:18: FutureWarning: in the future, boolean array-likes will be handled as a boolean array index\n",
      "  get_ks = lambda proba, target: ks_2samp(proba[target == 1], proba[target != 1]).statistic\n",
      "C:\\Anaconda3\\lib\\site-packages\\woe\\eval.py:18: FutureWarning: in the future, boolean array-likes will be handled as a boolean array index\n",
      "  get_ks = lambda proba, target: ks_2samp(proba[target == 1], proba[target != 1]).statistic\n"
     ]
    },
    {
     "name": "stdout",
     "output_type": "stream",
     "text": [
      "ks:\t 0.5576 ks_validation1:\t 0.5576\n",
      "time:  Sat Mar  3 10:49:15 2018 counter:  9  c:  0.000492388263171\n",
      "ks:\t 0.5576 ks_validation1:\t 0.5576\n",
      "time:  Sat Mar  3 10:49:15 2018 counter:  10  c:  0.000587801607227\n",
      "ks:\t 0.5576 ks_validation1:\t 0.5576\n",
      "time:  Sat Mar  3 10:49:15 2018 counter:  11  c:  0.00070170382867\n",
      "ks:\t 0.5576 ks_validation1:\t 0.5576\n",
      "time:  Sat Mar  3 10:49:15 2018 counter:  12  c:  0.000837677640068\n"
     ]
    },
    {
     "name": "stderr",
     "output_type": "stream",
     "text": [
      "C:\\Anaconda3\\lib\\site-packages\\woe\\eval.py:18: FutureWarning: in the future, boolean array-likes will be handled as a boolean array index\n",
      "  get_ks = lambda proba, target: ks_2samp(proba[target == 1], proba[target != 1]).statistic\n",
      "C:\\Anaconda3\\lib\\site-packages\\woe\\eval.py:18: FutureWarning: in the future, boolean array-likes will be handled as a boolean array index\n",
      "  get_ks = lambda proba, target: ks_2samp(proba[target == 1], proba[target != 1]).statistic\n"
     ]
    },
    {
     "name": "stdout",
     "output_type": "stream",
     "text": [
      "ks:\t 0.5576 ks_validation1:\t 0.5576\n",
      "time:  Sat Mar  3 10:49:15 2018 counter:  13  c:  0.001\n",
      "ks:\t 0.5576 ks_validation1:\t 0.5576\n",
      "time:  Sat Mar  3 10:49:15 2018 counter:  14  c:  0.00119377664171\n"
     ]
    },
    {
     "name": "stderr",
     "output_type": "stream",
     "text": [
      "C:\\Anaconda3\\lib\\site-packages\\woe\\eval.py:18: FutureWarning: in the future, boolean array-likes will be handled as a boolean array index\n",
      "  get_ks = lambda proba, target: ks_2samp(proba[target == 1], proba[target != 1]).statistic\n",
      "C:\\Anaconda3\\lib\\site-packages\\woe\\eval.py:18: FutureWarning: in the future, boolean array-likes will be handled as a boolean array index\n",
      "  get_ks = lambda proba, target: ks_2samp(proba[target == 1], proba[target != 1]).statistic\n"
     ]
    },
    {
     "name": "stdout",
     "output_type": "stream",
     "text": [
      "ks:\t 0.5576 ks_validation1:\t 0.5576\n",
      "time:  Sat Mar  3 10:49:15 2018 counter:  15  c:  0.0014251026703\n",
      "ks:\t 0.5576 ks_validation1:\t 0.5576\n",
      "time:  Sat Mar  3 10:49:15 2018 counter:  16  c:  0.00170125427985\n"
     ]
    },
    {
     "name": "stderr",
     "output_type": "stream",
     "text": [
      "C:\\Anaconda3\\lib\\site-packages\\woe\\eval.py:18: FutureWarning: in the future, boolean array-likes will be handled as a boolean array index\n",
      "  get_ks = lambda proba, target: ks_2samp(proba[target == 1], proba[target != 1]).statistic\n",
      "C:\\Anaconda3\\lib\\site-packages\\woe\\eval.py:18: FutureWarning: in the future, boolean array-likes will be handled as a boolean array index\n",
      "  get_ks = lambda proba, target: ks_2samp(proba[target == 1], proba[target != 1]).statistic\n"
     ]
    },
    {
     "name": "stdout",
     "output_type": "stream",
     "text": [
      "ks:\t 0.5576 ks_validation1:\t 0.5576\n",
      "time:  Sat Mar  3 10:49:16 2018 counter:  17  c:  0.0020309176209\n",
      "ks:\t 0.5576 ks_validation1:\t 0.5576\n",
      "time:  Sat Mar  3 10:49:16 2018 counter:  18  c:  0.00242446201708\n"
     ]
    },
    {
     "name": "stderr",
     "output_type": "stream",
     "text": [
      "C:\\Anaconda3\\lib\\site-packages\\woe\\eval.py:18: FutureWarning: in the future, boolean array-likes will be handled as a boolean array index\n",
      "  get_ks = lambda proba, target: ks_2samp(proba[target == 1], proba[target != 1]).statistic\n",
      "C:\\Anaconda3\\lib\\site-packages\\woe\\eval.py:18: FutureWarning: in the future, boolean array-likes will be handled as a boolean array index\n",
      "  get_ks = lambda proba, target: ks_2samp(proba[target == 1], proba[target != 1]).statistic\n",
      "C:\\Anaconda3\\lib\\site-packages\\woe\\eval.py:18: FutureWarning: in the future, boolean array-likes will be handled as a boolean array index\n",
      "  get_ks = lambda proba, target: ks_2samp(proba[target == 1], proba[target != 1]).statistic\n"
     ]
    },
    {
     "name": "stdout",
     "output_type": "stream",
     "text": [
      "ks:\t 0.5576 ks_validation1:\t 0.5576\n",
      "time:  Sat Mar  3 10:49:16 2018 counter:  19  c:  0.00289426612472\n",
      "ks:\t 0.5576 ks_validation1:\t 0.5576\n",
      "time:  Sat Mar  3 10:49:16 2018 counter:  20  c:  0.00345510729459\n",
      "ks:\t 0.5576 ks_validation1:\t 0.5576\n",
      "time:  Sat Mar  3 10:49:16 2018 counter:  21  c:  0.0041246263829\n"
     ]
    },
    {
     "name": "stderr",
     "output_type": "stream",
     "text": [
      "C:\\Anaconda3\\lib\\site-packages\\woe\\eval.py:18: FutureWarning: in the future, boolean array-likes will be handled as a boolean array index\n",
      "  get_ks = lambda proba, target: ks_2samp(proba[target == 1], proba[target != 1]).statistic\n",
      "C:\\Anaconda3\\lib\\site-packages\\woe\\eval.py:18: FutureWarning: in the future, boolean array-likes will be handled as a boolean array index\n",
      "  get_ks = lambda proba, target: ks_2samp(proba[target == 1], proba[target != 1]).statistic\n",
      "C:\\Anaconda3\\lib\\site-packages\\woe\\eval.py:18: FutureWarning: in the future, boolean array-likes will be handled as a boolean array index\n",
      "  get_ks = lambda proba, target: ks_2samp(proba[target == 1], proba[target != 1]).statistic\n"
     ]
    },
    {
     "name": "stdout",
     "output_type": "stream",
     "text": [
      "ks:\t 0.5576 ks_validation1:\t 0.5576\n",
      "time:  Sat Mar  3 10:49:16 2018 counter:  22  c:  0.00492388263171\n",
      "ks:\t 0.5576 ks_validation1:\t 0.5576\n",
      "time:  Sat Mar  3 10:49:16 2018 counter:  23  c:  0.00587801607227\n",
      "ks:\t 0.5576 ks_validation1:\t 0.5576\n",
      "time:  Sat Mar  3 10:49:16 2018 counter:  24  c:  0.0070170382867\n"
     ]
    },
    {
     "name": "stderr",
     "output_type": "stream",
     "text": [
      "C:\\Anaconda3\\lib\\site-packages\\woe\\eval.py:18: FutureWarning: in the future, boolean array-likes will be handled as a boolean array index\n",
      "  get_ks = lambda proba, target: ks_2samp(proba[target == 1], proba[target != 1]).statistic\n",
      "C:\\Anaconda3\\lib\\site-packages\\woe\\eval.py:18: FutureWarning: in the future, boolean array-likes will be handled as a boolean array index\n",
      "  get_ks = lambda proba, target: ks_2samp(proba[target == 1], proba[target != 1]).statistic\n"
     ]
    },
    {
     "name": "stdout",
     "output_type": "stream",
     "text": [
      "ks:\t 0.5576 ks_validation1:\t 0.5576\n",
      "time:  Sat Mar  3 10:49:16 2018 counter:  25  c:  0.00837677640068\n",
      "ks:\t 0.5576 ks_validation1:\t 0.5576\n",
      "time:  Sat Mar  3 10:49:16 2018 counter:  26  c:  0.01\n"
     ]
    },
    {
     "name": "stderr",
     "output_type": "stream",
     "text": [
      "C:\\Anaconda3\\lib\\site-packages\\woe\\eval.py:18: FutureWarning: in the future, boolean array-likes will be handled as a boolean array index\n",
      "  get_ks = lambda proba, target: ks_2samp(proba[target == 1], proba[target != 1]).statistic\n",
      "C:\\Anaconda3\\lib\\site-packages\\woe\\eval.py:18: FutureWarning: in the future, boolean array-likes will be handled as a boolean array index\n",
      "  get_ks = lambda proba, target: ks_2samp(proba[target == 1], proba[target != 1]).statistic\n"
     ]
    },
    {
     "name": "stdout",
     "output_type": "stream",
     "text": [
      "ks:\t 0.5576 ks_validation1:\t 0.5576\n",
      "time:  Sat Mar  3 10:49:17 2018 counter:  27  c:  0.0119377664171\n",
      "ks:\t 0.5576 ks_validation1:\t 0.5576\n",
      "time:  Sat Mar  3 10:49:17 2018 counter:  28  c:  0.014251026703\n"
     ]
    },
    {
     "name": "stderr",
     "output_type": "stream",
     "text": [
      "C:\\Anaconda3\\lib\\site-packages\\woe\\eval.py:18: FutureWarning: in the future, boolean array-likes will be handled as a boolean array index\n",
      "  get_ks = lambda proba, target: ks_2samp(proba[target == 1], proba[target != 1]).statistic\n",
      "C:\\Anaconda3\\lib\\site-packages\\woe\\eval.py:18: FutureWarning: in the future, boolean array-likes will be handled as a boolean array index\n",
      "  get_ks = lambda proba, target: ks_2samp(proba[target == 1], proba[target != 1]).statistic\n"
     ]
    },
    {
     "name": "stdout",
     "output_type": "stream",
     "text": [
      "ks:\t 0.5576 ks_validation1:\t 0.5576\n",
      "time:  Sat Mar  3 10:49:17 2018 counter:  29  c:  0.0170125427985\n",
      "ks:\t 0.5576 ks_validation1:\t 0.5576\n",
      "time:  Sat Mar  3 10:49:17 2018 counter:  30  c:  0.020309176209\n"
     ]
    },
    {
     "name": "stderr",
     "output_type": "stream",
     "text": [
      "C:\\Anaconda3\\lib\\site-packages\\woe\\eval.py:18: FutureWarning: in the future, boolean array-likes will be handled as a boolean array index\n",
      "  get_ks = lambda proba, target: ks_2samp(proba[target == 1], proba[target != 1]).statistic\n",
      "C:\\Anaconda3\\lib\\site-packages\\woe\\eval.py:18: FutureWarning: in the future, boolean array-likes will be handled as a boolean array index\n",
      "  get_ks = lambda proba, target: ks_2samp(proba[target == 1], proba[target != 1]).statistic\n",
      "C:\\Anaconda3\\lib\\site-packages\\woe\\eval.py:18: FutureWarning: in the future, boolean array-likes will be handled as a boolean array index\n",
      "  get_ks = lambda proba, target: ks_2samp(proba[target == 1], proba[target != 1]).statistic\n"
     ]
    },
    {
     "name": "stdout",
     "output_type": "stream",
     "text": [
      "ks:\t 0.5576 ks_validation1:\t 0.5576\n",
      "time:  Sat Mar  3 10:49:17 2018 counter:  31  c:  0.0242446201708\n",
      "ks:\t 0.5576 ks_validation1:\t 0.5576\n",
      "time:  Sat Mar  3 10:49:17 2018 counter:  32  c:  0.0289426612472\n",
      "ks:\t 0.5576 ks_validation1:\t 0.5576\n",
      "time:  Sat Mar  3 10:49:17 2018 counter:  33  c:  0.0345510729459\n"
     ]
    },
    {
     "name": "stderr",
     "output_type": "stream",
     "text": [
      "C:\\Anaconda3\\lib\\site-packages\\woe\\eval.py:18: FutureWarning: in the future, boolean array-likes will be handled as a boolean array index\n",
      "  get_ks = lambda proba, target: ks_2samp(proba[target == 1], proba[target != 1]).statistic\n",
      "C:\\Anaconda3\\lib\\site-packages\\woe\\eval.py:18: FutureWarning: in the future, boolean array-likes will be handled as a boolean array index\n",
      "  get_ks = lambda proba, target: ks_2samp(proba[target == 1], proba[target != 1]).statistic\n",
      "C:\\Anaconda3\\lib\\site-packages\\woe\\eval.py:18: FutureWarning: in the future, boolean array-likes will be handled as a boolean array index\n",
      "  get_ks = lambda proba, target: ks_2samp(proba[target == 1], proba[target != 1]).statistic\n"
     ]
    },
    {
     "name": "stdout",
     "output_type": "stream",
     "text": [
      "ks:\t 0.5576 ks_validation1:\t 0.5576\n",
      "time:  Sat Mar  3 10:49:17 2018 counter:  34  c:  0.041246263829\n",
      "ks:\t 0.5576 ks_validation1:\t 0.5576\n",
      "time:  Sat Mar  3 10:49:17 2018 counter:  35  c:  0.0492388263171\n",
      "ks:\t 0.5576 ks_validation1:\t 0.5576\n",
      "time:  Sat Mar  3 10:49:18 2018 counter:  36  c:  0.0587801607227\n"
     ]
    },
    {
     "name": "stderr",
     "output_type": "stream",
     "text": [
      "C:\\Anaconda3\\lib\\site-packages\\woe\\eval.py:18: FutureWarning: in the future, boolean array-likes will be handled as a boolean array index\n",
      "  get_ks = lambda proba, target: ks_2samp(proba[target == 1], proba[target != 1]).statistic\n",
      "C:\\Anaconda3\\lib\\site-packages\\woe\\eval.py:18: FutureWarning: in the future, boolean array-likes will be handled as a boolean array index\n",
      "  get_ks = lambda proba, target: ks_2samp(proba[target == 1], proba[target != 1]).statistic\n",
      "C:\\Anaconda3\\lib\\site-packages\\woe\\eval.py:18: FutureWarning: in the future, boolean array-likes will be handled as a boolean array index\n",
      "  get_ks = lambda proba, target: ks_2samp(proba[target == 1], proba[target != 1]).statistic\n"
     ]
    },
    {
     "name": "stdout",
     "output_type": "stream",
     "text": [
      "ks:\t 0.5576 ks_validation1:\t 0.5576\n",
      "time:  Sat Mar  3 10:49:18 2018 counter:  37  c:  0.070170382867\n",
      "ks:\t 0.5576 ks_validation1:\t 0.5576\n",
      "time:  Sat Mar  3 10:49:18 2018 counter:  38  c:  0.0837677640068\n",
      "ks:\t 0.5576 ks_validation1:\t 0.5576\n",
      "time:  Sat Mar  3 10:49:18 2018 counter:  39  c:  0.1\n"
     ]
    },
    {
     "name": "stderr",
     "output_type": "stream",
     "text": [
      "C:\\Anaconda3\\lib\\site-packages\\woe\\eval.py:18: FutureWarning: in the future, boolean array-likes will be handled as a boolean array index\n",
      "  get_ks = lambda proba, target: ks_2samp(proba[target == 1], proba[target != 1]).statistic\n"
     ]
    },
    {
     "name": "stdout",
     "output_type": "stream",
     "text": [
      "ks:\t 0.5576 ks_validation1:\t 0.5576\n",
      "2018-03-03 10:49:18.417076\n",
      "This took  0:00:04.197240\n",
      "pic_coefpath:\n",
      " output/model_coefpath.png\n",
      "pic_performance:\n",
      " output/model_performance_path.png\n",
      "ks performance on the c:\n",
      "0.000170125427985 0.5576\n"
     ]
    },
    {
     "data": {
      "text/plain": [
       "(0.00017012542798525892, 0.5576000000000001)"
      ]
     },
     "execution_count": 16,
     "metadata": {},
     "output_type": "execute_result"
    }
   ],
   "source": [
    "import numpy as np\n",
    "\n",
    "# here i take the same dataset as test dataset\n",
    "woe_test_path = \"input/dataset_test_woed.csv\"\n",
    "fp.process_woe_trans(data_path, rst_pkl_path, woe_test_path, config_path)\n",
    "\n",
    "print(\"###TRAIN SCORECARD MODEL\")\n",
    "params = {}\n",
    "params['dataset_path'] = woe_train_path\n",
    "params['validation_path'] = woe_test_path\n",
    "params['config_path'] = config_path\n",
    "\n",
    "params['df_coef_path'] = \"output/df_model_coef_path.csv\"\n",
    "params['pic_coefpath'] = \"output/model_coefpath.png\"\n",
    "params['pic_performance'] = \"output/model_performance_path.png\"\n",
    "params['pic_coefpath_title'] = \"output/model_coefpath\"\n",
    "params['pic_performance_title'] = \"output/model_performance_path\"\n",
    "\n",
    "params['var_list_specfied'] = []\n",
    "params['cs'] = np.logspace(-4, -1,40)\n",
    "for key,value in params.items():\n",
    "    print(key,': ',value)\n",
    "gs.grid_search_lr_c_main(params)\n"
   ]
  },
  {
   "cell_type": "code",
   "execution_count": null,
   "metadata": {
    "collapsed": true
   },
   "outputs": [],
   "source": []
  }
 ],
 "metadata": {
  "anaconda-cloud": {},
  "kernelspec": {
   "display_name": "Python [Root]",
   "language": "python",
   "name": "Python [Root]"
  },
  "language_info": {
   "codemirror_mode": {
    "name": "ipython",
    "version": 3
   },
   "file_extension": ".py",
   "mimetype": "text/x-python",
   "name": "python",
   "nbconvert_exporter": "python",
   "pygments_lexer": "ipython3",
   "version": "3.5.1"
  },
  "toc": {
   "nav_menu": {},
   "number_sections": true,
   "sideBar": true,
   "skip_h1_title": false,
   "toc_cell": false,
   "toc_position": {},
   "toc_section_display": "block",
   "toc_window_display": false
  }
 },
 "nbformat": 4,
 "nbformat_minor": 0
}
