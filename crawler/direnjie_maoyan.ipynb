{
 "cells": [
  {
   "cell_type": "code",
   "execution_count": 22,
   "metadata": {
    "collapsed": true
   },
   "outputs": [],
   "source": [
    "import requests\n",
    "import json\n",
    "import time\n",
    "import random"
   ]
  },
  {
   "cell_type": "markdown",
   "metadata": {},
   "source": [
    "## 下载一页数据"
   ]
  },
  {
   "cell_type": "code",
   "execution_count": 23,
   "metadata": {
    "collapsed": true
   },
   "outputs": [],
   "source": [
    "def get_one_page(url):\n",
    "    headers = {\n",
    "       \"User-Agent\": \"Mozilla/5.0 (Windows NT 6.1; Win64; x64) AppleWebKit/537.36 (KHTML, like Gecko) Chrome/64.0.3282.140 Safari/537.36\"\n",
    "    }\n",
    "    response = requests.get(url, headers=headers)\n",
    "    if response.status_code == 200:\n",
    "        return response.text\n",
    "    return None"
   ]
  },
  {
   "cell_type": "markdown",
   "metadata": {},
   "source": [
    "## 解析一页数据"
   ]
  },
  {
   "cell_type": "code",
   "execution_count": 24,
   "metadata": {
    "collapsed": true
   },
   "outputs": [],
   "source": [
    "def parse_no_page(html):\n",
    "    data = json.loads(html)[\"cmts\"]\n",
    "    for item in data:\n",
    "        yield {    # 该方法返回一个字典\n",
    "            \"comment\": item[\"content\"],\n",
    "            \"date\": item[\"time\"],\n",
    "            \"rate\": item[\"score\"],\n",
    "            \"city\": item[\"cityName\"],\n",
    "            \"nickname\": item[\"nickName\"]\n",
    "        }"
   ]
  },
  {
   "cell_type": "markdown",
   "metadata": {},
   "source": [
    "## 保存数据到文本"
   ]
  },
  {
   "cell_type": "code",
   "execution_count": 28,
   "metadata": {
    "collapsed": true
   },
   "outputs": [],
   "source": [
    "def save_to_txt():\n",
    "    for i in range(42, 101):\n",
    "        url = \"http://m.maoyan.com/mmdb/comments/movie/341516.json?_v_=yes&offset=\" + str(i)\n",
    "        html = get_one_page(url)\n",
    "        print(\"正在保存第{}页\".format(i))\n",
    "        for item in parse_no_page(html):\n",
    "            with open(\"狄仁杰.txt\", \"a\", encoding=\"utf-8\") as f:\n",
    "                f.write(item[\"date\"] + \",\" + item[\"nickname\"] + \",\" + item[\"city\"] + \",\" + str(item[\"rate\"]) + \",\" + item[\"comment\"] + \"\\n\")\n",
    "        # 反爬\n",
    "        time.sleep(5 + float(random.randint(1, 100)) / 20)"
   ]
  },
  {
   "cell_type": "markdown",
   "metadata": {},
   "source": [
    "## 去重"
   ]
  },
  {
   "cell_type": "code",
   "execution_count": 29,
   "metadata": {
    "collapsed": true
   },
   "outputs": [],
   "source": [
    "def delete_repeat(old, new):\n",
    "    old_file = open(old, \"r\", encoding=\"utf-8\")\n",
    "    new_file = open(new, \"w\", encoding=\"utf-8\")\n",
    "    content_list = old_file.readlines()\n",
    "    content_alreadly_distinct = []\n",
    "    for line in content_list:\n",
    "        if line not in content_alreadly_distinct:\n",
    "            new_file.write(line)\n",
    "            content_alreadly_distinct.append(line)"
   ]
  },
  {
   "cell_type": "code",
   "execution_count": 30,
   "metadata": {
    "collapsed": false
   },
   "outputs": [
    {
     "name": "stdout",
     "output_type": "stream",
     "text": [
      "正在保存第42页\n",
      "正在保存第43页\n",
      "正在保存第44页\n",
      "正在保存第45页\n",
      "正在保存第46页\n",
      "正在保存第47页\n",
      "正在保存第48页\n",
      "正在保存第49页\n",
      "正在保存第50页\n",
      "正在保存第51页\n",
      "正在保存第52页\n",
      "正在保存第53页\n",
      "正在保存第54页\n",
      "正在保存第55页\n",
      "正在保存第56页\n",
      "正在保存第57页\n",
      "正在保存第58页\n",
      "正在保存第59页\n",
      "正在保存第60页\n",
      "正在保存第61页\n",
      "正在保存第62页\n",
      "正在保存第63页\n",
      "正在保存第64页\n",
      "正在保存第65页\n",
      "正在保存第66页\n",
      "正在保存第67页\n",
      "正在保存第68页\n",
      "正在保存第69页\n",
      "正在保存第70页\n",
      "正在保存第71页\n",
      "正在保存第72页\n",
      "正在保存第73页\n",
      "正在保存第74页\n",
      "正在保存第75页\n",
      "正在保存第76页\n",
      "正在保存第77页\n",
      "正在保存第78页\n",
      "正在保存第79页\n",
      "正在保存第80页\n",
      "正在保存第81页\n",
      "正在保存第82页\n",
      "正在保存第83页\n",
      "正在保存第84页\n",
      "正在保存第85页\n",
      "正在保存第86页\n",
      "正在保存第87页\n",
      "正在保存第88页\n",
      "正在保存第89页\n",
      "正在保存第90页\n",
      "正在保存第91页\n",
      "正在保存第92页\n",
      "正在保存第93页\n",
      "正在保存第94页\n",
      "正在保存第95页\n",
      "正在保存第96页\n",
      "正在保存第97页\n",
      "正在保存第98页\n",
      "正在保存第99页\n",
      "正在保存第100页\n"
     ]
    }
   ],
   "source": [
    "save_to_txt()"
   ]
  },
  {
   "cell_type": "code",
   "execution_count": 31,
   "metadata": {
    "collapsed": true
   },
   "outputs": [],
   "source": [
    "delete_repeat(r\"狄仁杰.txt\", \"狄仁杰_new.txt\")"
   ]
  },
  {
   "cell_type": "code",
   "execution_count": null,
   "metadata": {
    "collapsed": true
   },
   "outputs": [],
   "source": []
  }
 ],
 "metadata": {
  "anaconda-cloud": {},
  "kernelspec": {
   "display_name": "Python [Anaconda3]",
   "language": "python",
   "name": "Python [Anaconda3]"
  },
  "language_info": {
   "codemirror_mode": {
    "name": "ipython",
    "version": 3
   },
   "file_extension": ".py",
   "mimetype": "text/x-python",
   "name": "python",
   "nbconvert_exporter": "python",
   "pygments_lexer": "ipython3",
   "version": "3.5.1"
  },
  "toc": {
   "nav_menu": {},
   "number_sections": true,
   "sideBar": true,
   "skip_h1_title": false,
   "toc_cell": false,
   "toc_position": {},
   "toc_section_display": "block",
   "toc_window_display": false
  }
 },
 "nbformat": 4,
 "nbformat_minor": 0
}
