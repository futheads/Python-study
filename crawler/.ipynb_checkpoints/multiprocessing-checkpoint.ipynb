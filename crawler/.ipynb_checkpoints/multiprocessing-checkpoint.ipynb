{
 "cells": [
  {
   "cell_type": "markdown",
   "metadata": {},
   "source": [
    "# 一个简单的多线程爬虫"
   ]
  },
  {
   "cell_type": "code",
   "execution_count": 16,
   "metadata": {
    "collapsed": false
   },
   "outputs": [
    {
     "name": "stdout",
     "output_type": "stream",
     "text": [
      "多线程耗时： 4.215241193771362\n"
     ]
    }
   ],
   "source": [
    "# -*-coding:utf8-*-\n",
    "\n",
    "from multiprocessing.dummy import Pool as ThreadPool\n",
    "import requests\n",
    "import time\n",
    "\n",
    "def get_source(url):\n",
    "    return requests.get(url)\n",
    "\n",
    "urls = []\n",
    "\n",
    "for i in range(1, 21):\n",
    "    newpage = \"https://tieba.baidu.com/p/3522395718?pn=\" + str(i)\n",
    "    urls.append(newpage)\n",
    "    \n",
    "time1 = time.time()\n",
    "for i in urls:\n",
    "    print(i)\n",
    "    get_source(i)\n",
    "time2 = time.time()\n",
    "print(\"单线程耗时：\", time2 - time1)\n",
    "\n",
    "pool = ThreadPool(4)\n",
    "time3 = time.time()\n",
    "requestse = pool.map(get_source, urls)\n",
    "pool.close()\n",
    "pool.join()\n",
    "time4 = time.time()\n",
    "print(\"多线程耗时：\", time4 - time3)"
   ]
  },
  {
   "cell_type": "markdown",
   "metadata": {},
   "source": [
    "# 多线程 + XPath爬百度贴吧"
   ]
  },
  {
   "cell_type": "code",
   "execution_count": 17,
   "metadata": {
    "collapsed": true
   },
   "outputs": [],
   "source": [
    "from lxml import etree\n",
    "from multiprocessing.dummy import Pool as ThreadPool\n",
    "import requests\n",
    "import json\n",
    "\n",
    "\n",
    "def to_write(content_dict):\n",
    "    f.writelines(\"回帖人：\" + str(content_dict[\"author\"]) + \"\\n\")\n",
    "    f.writelines(\"回帖内容：\" + str(content_dict[\"content\"]) + \"\\n\")\n",
    "    f.writelines(\"回帖时间：\" + str(content_dict[\"reply_time\"]) + \"\\n\")\n",
    "\n",
    "def spider(url):\n",
    "    html = requests.get(url)\n",
    "    selector = etree.HTML(html.text)\n",
    "    content_field = selector.xpath('//*[@class=\"l_post j_l_post l_post_bright  \"]')\n",
    "    item = {}\n",
    "    for each in content_field:\n",
    "        reply_info = json.loads(each.xpath(\"@data-field\")[0])\n",
    "        author = reply_info[\"author\"][\"user_name\"]\n",
    "        content = each.xpath(\n",
    "            'div[@class=\"d_post_content_main\"]/div/cc/div[@class=\"d_post_content j_d_post_content  clearfix\"]')[0].xpath('string(.)')\n",
    "        reply_time = reply_info[\"content\"][\"date\"]\n",
    "\n",
    "        item[\"author\"] = author\n",
    "        item[\"content\"] = content.strip()\n",
    "        item[\"reply_time\"] = reply_time\n",
    "        to_write(item)\n",
    "\n",
    "pool = ThreadPool(4)\n",
    "f = open(\"content.txt\", \"a\", encoding=\"utf-8\")\n",
    "page = []\n",
    "for i in range(1, 11):\n",
    "    new_page = 'https://tieba.baidu.com/p/3522395718?pn=' + str(i)\n",
    "    page.append(new_page)\n",
    "results = pool.map(spider, page)\n",
    "pool.close()\n",
    "pool.join()\n",
    "f.close()"
   ]
  },
  {
   "cell_type": "code",
   "execution_count": null,
   "metadata": {
    "collapsed": true
   },
   "outputs": [],
   "source": []
  }
 ],
 "metadata": {
  "anaconda-cloud": {},
  "kernelspec": {
   "display_name": "Python [Anaconda3]",
   "language": "python",
   "name": "Python [Anaconda3]"
  },
  "language_info": {
   "codemirror_mode": {
    "name": "ipython",
    "version": 3
   },
   "file_extension": ".py",
   "mimetype": "text/x-python",
   "name": "python",
   "nbconvert_exporter": "python",
   "pygments_lexer": "ipython3",
   "version": "3.5.1"
  },
  "toc": {
   "nav_menu": {},
   "number_sections": true,
   "sideBar": true,
   "skip_h1_title": false,
   "toc_cell": false,
   "toc_position": {},
   "toc_section_display": "block",
   "toc_window_display": false
  }
 },
 "nbformat": 4,
 "nbformat_minor": 0
}
