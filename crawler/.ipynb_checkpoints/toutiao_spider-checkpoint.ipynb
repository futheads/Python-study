{
 "cells": [
  {
   "cell_type": "code",
   "execution_count": 1,
   "metadata": {
    "collapsed": true
   },
   "outputs": [],
   "source": [
    "import requests\n",
    "from urllib.parse import urlencode\n",
    "import os\n",
    "from hashlib import md5\n",
    "from multiprocessing.pool import Pool\n",
    "\n",
    "# https://www.toutiao.com/search_content/?\n",
    "# offset=20&format=json&keyword=%E8%A1%97%E6%8B%8D&autoload=true&count=20&cur_tab=3&from=gallery\n",
    "def get_page(offset):\n",
    "    params = {\n",
    "        \"offset\": offset,\n",
    "        \"format\": \"json\",\n",
    "        \"keyword\": \"街拍\",\n",
    "        \"autoload\": \"true\",\n",
    "        \"count\": 20,\n",
    "        \"cur_tab\": \"3\",\n",
    "        \"from\": \"gallery\"\n",
    "    }\n",
    "    url = \"https://www.toutiao.com/search_content/?\" + urlencode(params)\n",
    "    try:\n",
    "        response = requests.get(url)\n",
    "        if response.status_code == 200:\n",
    "            return response.json()\n",
    "    except requests.ConnectionError:\n",
    "        return None\n",
    "\n",
    "def get_images(json):\n",
    "    data = json.get(\"data\")\n",
    "    if data:\n",
    "        for item in data:\n",
    "            image_list = item.get(\"image_list\")\n",
    "            title = item.get(\"title\")\n",
    "            for image in image_list:\n",
    "                yield {\n",
    "                    \"image\": image.get(\"url\"),\n",
    "                    \"title\": title\n",
    "                }\n",
    "\n",
    "def save_image(item):\n",
    "    if not os.path.exists(item.get(\"title\")):\n",
    "        os.mkdir(item.get(\"title\"))\n",
    "    try:\n",
    "        local_image_url = item.get(\"image\")\n",
    "        new_image_url = local_image_url.replace(\"list\", \"origin\")\n",
    "        response = requests.get(\"http:\" + new_image_url)\n",
    "        if response.status_code == 200:\n",
    "            file_path = \"{0}/{1}.{2}\".format(item.get(\"title\"), md5(response.content).hexdigest(), \"jpg\")\n",
    "            if not os.path.exists(file_path):\n",
    "                with open(file_path, \"wb\") as f:\n",
    "                    f.write(response.content)\n",
    "            else:\n",
    "                print(\"Already Download\", file_path)\n",
    "    except requests.ConnectionError:\n",
    "        print(\"Failed to Save Image\")\n",
    "\n",
    "def main(offset):\n",
    "    json = get_page(offset)\n",
    "    for item in get_images(json):\n",
    "        print(item)\n",
    "        save_image(item)"
   ]
  },
  {
   "cell_type": "code",
   "execution_count": null,
   "metadata": {
    "collapsed": true
   },
   "outputs": [],
   "source": [
    "pool = Pool()\n",
    "groups = [x * 20 for x in range(GROUP_START, GROUP_END)]\n",
    "pool.map(main, groups)\n",
    "pool.close()\n",
    "pool.join()"
   ]
  }
 ],
 "metadata": {
  "anaconda-cloud": {},
  "kernelspec": {
   "display_name": "Python [Anaconda3]",
   "language": "python",
   "name": "Python [Anaconda3]"
  },
  "language_info": {
   "codemirror_mode": {
    "name": "ipython",
    "version": 3
   },
   "file_extension": ".py",
   "mimetype": "text/x-python",
   "name": "python",
   "nbconvert_exporter": "python",
   "pygments_lexer": "ipython3",
   "version": "3.5.1"
  },
  "toc": {
   "nav_menu": {},
   "number_sections": true,
   "sideBar": true,
   "skip_h1_title": false,
   "toc_cell": false,
   "toc_position": {},
   "toc_section_display": "block",
   "toc_window_display": false
  }
 },
 "nbformat": 4,
 "nbformat_minor": 0
}
