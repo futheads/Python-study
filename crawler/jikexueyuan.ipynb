{
 "cells": [
  {
   "cell_type": "markdown",
   "metadata": {},
   "source": [
    "# 抓取极客学院课程信息"
   ]
  },
  {
   "cell_type": "code",
   "execution_count": null,
   "metadata": {
    "collapsed": true
   },
   "outputs": [],
   "source": [
    "classinfo = []\n",
    "url = \"http://\"\n",
    "jikespider = spider()\n",
    "all_links = jikespider.changepage(url, 20)\n",
    "for link in all_links:\n",
    "    print(\"正在处理页面：\" + link)\n",
    "    html = jikespider.getsource(link)\n",
    "    everyclass = jikespider.geteveryclass(html)\n",
    "    for each in everyclass:\n",
    "        info = jikespider.getinfo(each)\n",
    "        classinfo.appen(info)\n",
    "jikespider.saveinfo(classinfo)"
   ]
  }
 ],
 "metadata": {
  "kernelspec": {
   "display_name": "Python [Anaconda3]",
   "language": "python",
   "name": "Python [Anaconda3]"
  },
  "language_info": {
   "codemirror_mode": {
    "name": "ipython",
    "version": 3
   },
   "file_extension": ".py",
   "mimetype": "text/x-python",
   "name": "python",
   "nbconvert_exporter": "python",
   "pygments_lexer": "ipython3",
   "version": "3.5.1"
  },
  "toc": {
   "nav_menu": {},
   "number_sections": true,
   "sideBar": true,
   "skip_h1_title": false,
   "toc_cell": false,
   "toc_position": {},
   "toc_section_display": "block",
   "toc_window_display": false
  }
 },
 "nbformat": 4,
 "nbformat_minor": 0
}
