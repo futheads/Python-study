{
 "cells": [
  {
   "cell_type": "code",
   "execution_count": null,
   "metadata": {
    "collapsed": true
   },
   "outputs": [],
   "source": [
    "import execjs\n",
    "import requests\n",
    "import json\n",
    "\n",
    "# init environment\n",
    "node = execjs.get()\n",
    "\n",
    "method = \"GETCITYWEATHER\"\n",
    "city = \"宝鸡\"\n",
    "type = \"HOUR\"\n",
    "start_time = '2018-01-25 00:00:00'\n",
    "end_time = '2018-01-25 23:00:00'\n",
    "\n",
    "# Compile javascript\n",
    "file = \"js/encryption.js\"\n",
    "ctx = node.compile(open(file, encoding=\"utf-8\").read())\n",
    "\n",
    "js = 'getEncryptedData(\"{0}\", \"{1}\", \"{2}\", \"{3}\", \"{4}\")'.format(method, city, type, start_time, end_time)\n",
    "params = ctx.eval(js)\n",
    "\n",
    "api = \"https://www.aqistudy.cn/apinew/aqistudyapi.php\"\n",
    "response = requests.post(api, data={\"d\": params})\n",
    "js = 'decodeData(\"{0}\")'.format(response.text)\n",
    "decrypted_data = ctx.eval(js)\n",
    "data = json.loads(decrypted_data)\n",
    "print(data)"
   ]
  }
 ],
 "metadata": {
  "anaconda-cloud": {},
  "kernelspec": {
   "display_name": "Python [Anaconda3]",
   "language": "python",
   "name": "Python [Anaconda3]"
  },
  "language_info": {
   "codemirror_mode": {
    "name": "ipython",
    "version": 3
   },
   "file_extension": ".py",
   "mimetype": "text/x-python",
   "name": "python",
   "nbconvert_exporter": "python",
   "pygments_lexer": "ipython3",
   "version": "3.5.1"
  },
  "toc": {
   "nav_menu": {},
   "number_sections": true,
   "sideBar": true,
   "skip_h1_title": false,
   "toc_cell": false,
   "toc_position": {},
   "toc_section_display": "block",
   "toc_window_display": false
  }
 },
 "nbformat": 4,
 "nbformat_minor": 0
}
