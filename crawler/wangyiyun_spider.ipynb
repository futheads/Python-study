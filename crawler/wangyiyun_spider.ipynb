{
 "cells": [
  {
   "cell_type": "code",
   "execution_count": 20,
   "metadata": {
    "collapsed": true
   },
   "outputs": [],
   "source": [
    "import sys\n",
    "import codecs\n",
    "import requests,json,os\n",
    "import base64\n",
    "import Crypto\n",
    "from Crypto.Cipher import AES"
   ]
  },
  {
   "cell_type": "code",
   "execution_count": 30,
   "metadata": {
    "collapsed": true
   },
   "outputs": [],
   "source": [
    "class Spider():\n",
    "    \n",
    "    def __init__(self, id_num):\n",
    "        self.header = {\n",
    "           \"User-Agent\": \"Mozilla/5.0 (Windows NT 6.1; Win64; x64) AppleWebKit/537.36 (KHTML, like Gecko) Chrome/67.0.3396.99 Safari/537.36\"\n",
    "        }\n",
    "        self.url = \"https://music.163.com/weapi/v1/resource/comments/R_SO_4_{}?csrf_token=\".format(id_num)\n",
    "        \n",
    "    def __get_jsons(self,url,page):\n",
    "        # 获取两个参数\n",
    "        music = WangYiYun()\n",
    "        text = music.create_random_16()\n",
    "        params = music.get_params(text,page)\n",
    "\n",
    "        encSecKey = music.get_encSEcKey(text)\n",
    "        fromdata = {'params' : params,'encSecKey' : encSecKey}\n",
    "        jsons = requests.post(url, data=fromdata, headers=self.header)\n",
    "        return jsons.text\n",
    "        \n",
    "    def json2list(self,jsons):\n",
    "        '''把json转成字典，并把他重要的信息获取出来存入列表'''\n",
    "        # 可以用json.loads()把它转成字典\n",
    "        #print(json.loads(jsons.text))\n",
    "        users = json.loads(jsons)\n",
    "        comments = []\n",
    "        for user in users['comments']:\n",
    "            # print(user['user']['nickname']+' : '+user['content']+'   点赞数：'+str(user['likedCount']))\n",
    "            name = user['user']['nickname']\n",
    "            content = user['content']\n",
    "            # 点赞数\n",
    "            likedCount = user['likedCount']\n",
    "            #提取所需json中所需的字段构造字典\n",
    "            user_dict = {'name': name, 'content': content, 'likedCount': likedCount}\n",
    "            #将提取的字典信息追加到列表中\n",
    "            comments.append(user_dict)\n",
    "        return comments\n",
    "    \n",
    "    def run(self,idNum):\n",
    "        self.page = 1\n",
    "        while True:\n",
    "            jsons = self.__get_jsons(self.url,self.page)\n",
    "            comments = self.json2list(jsons)\n",
    "            non_bmp_map = dict.fromkeys(range(0x10000, sys.maxunicode + 1), 0xfffd)\n",
    "            print('self.page = '+str(self.page)) #控制台打印正在爬取的页码数\n",
    "            print(idNum) #打印正在爬取的歌曲id\n",
    "            #在该脚本同级目录下生成“comments”文件夹\n",
    "            dirName = u'{}'.format('comments')\n",
    "            if not os.path.exists(dirName):\n",
    "                os.makedirs(dirName)\n",
    "            with open(\".\\comments\\\\\"+idNum+\".txt\",\"a\",encoding='utf-8') as f:  #结果写入txt文件\n",
    "                for ii in range(len(comments)):\n",
    "                    f.write(str(comments[ii]).translate(non_bmp_map))\n",
    "                    f.write('\\n')\n",
    "                f.close()\n",
    "            # 当这一页的评论数少于20条时，证明已经获取完\n",
    "            if len(comments) < 100 :   #当limits设置为100时，默认每次服务器请求结果100条comments，当小于此数，意味爬到最后一页。\n",
    "                print('评论已经获取完')\n",
    "                break\n",
    "            self.page +=1"
   ]
  },
  {
   "cell_type": "code",
   "execution_count": 37,
   "metadata": {
    "collapsed": true
   },
   "outputs": [],
   "source": [
    "class WangYiYun():\n",
    "    \n",
    "    def __init__(self):\n",
    "        self.second_param = '010001'\n",
    "        self.third_param = '00e0b509f6259df8642dbc35662901477df22677ec152b5ff68ace615bb7b725152b3ab17a876aea8a5aa76d2e417629ec4ee341f56135fccf695280104e0312ecbda92557c93870114af6c9d05c4f7f0c3685b7a46bee255932575cce10b424d813cfe4875d3e82047b97ddef52741d546b8e289dc6935b3ece0462db0a22b8e7'\n",
    "        self.fourth_param = '0CoJUm6Qyw8W8jud'\n",
    "        \n",
    "    def create_random_16(self):\n",
    "        \"\"\"获取随机十六个字母拼接成的字符串'\"\"\"\n",
    "        return (''.join(map(lambda xx: (hex(ord(xx))[2:]), str(os.urandom(16)))))[0:16]\n",
    "    \n",
    "    def aesEncrypt(self, text, key):\n",
    "        iv = '0102030405060708'\n",
    "        pad = 16 - len(text) % 16\n",
    "        text = text + pad * chr(pad)  #补齐文本长度\n",
    "        encryptor = AES.new(key, AES.MODE_CBC, iv)\n",
    "        ciphertext = encryptor.encrypt(text)\n",
    "        ciphertext = base64.b64encode(ciphertext)\n",
    "        return ciphertext\n",
    "    \n",
    "    def get_params(self,text,page):\n",
    "        '''获取网易云第一个参数'''\n",
    "        # 第一个参数\n",
    "        if page == 1:\n",
    "            self.first_param = '{rid: \"\", offset: \"0\", total: \"true\", limit: \"100\", csrf_token: \"\"}'\n",
    "        else:\n",
    "            self.first_param = '{rid: \"\", offset:%s, total: \"false\", limit: \"100\", csrf_token: \"\"}'%str((page-1)*20)  #limit参数可以灵活设置，默认为20，设置为100，爬取效率可以提高\n",
    "        params = self.aesEncrypt(self.first_param, self.fourth_param).decode('utf-8')\n",
    "        params = self.aesEncrypt(params, text)\n",
    "        return params\n",
    "    \n",
    "    def rsaEncrypt(self, pubKey, text, modulus):\n",
    "        '''进行rsa加密'''\n",
    "        text = text[::-1]\n",
    "        rs = int(codecs.encode(text.encode('utf-8'), 'hex_codec'), 16) ** int(pubKey, 16) % int(modulus, 16)\n",
    "        return format(rs, 'x').zfill(256)\n",
    "    \n",
    "    def get_encSEcKey(self,text):\n",
    "        '''获取第二个参数'''\n",
    "        pubKey = self.second_param\n",
    "        moudulus = self.third_param\n",
    "        encSecKey = self.rsaEncrypt(pubKey, text, moudulus)\n",
    "        return encSecKey"
   ]
  },
  {
   "cell_type": "code",
   "execution_count": 38,
   "metadata": {
    "collapsed": true
   },
   "outputs": [],
   "source": [
    "def main():\n",
    "    ids = [\"31445772\"]\n",
    "    for id_num in  ids:\n",
    "        spider = Spider(id_num)\n",
    "        spider.run(id_num)"
   ]
  },
  {
   "cell_type": "code",
   "execution_count": 41,
   "metadata": {
    "collapsed": false
   },
   "outputs": [
    {
     "name": "stdout",
     "output_type": "stream",
     "text": [
      "self.page = 1\n",
      "31445772\n",
      "self.page = 2\n",
      "31445772\n",
      "self.page = 3\n",
      "31445772\n",
      "self.page = 4\n",
      "31445772\n"
     ]
    },
    {
     "ename": "KeyboardInterrupt",
     "evalue": "",
     "output_type": "error",
     "traceback": [
      "\u001b[1;31m\u001b[0m",
      "\u001b[1;31mKeyboardInterrupt\u001b[0mTraceback (most recent call last)",
      "\u001b[1;32m<ipython-input-41-58ca95c5b364>\u001b[0m in \u001b[0;36m<module>\u001b[1;34m()\u001b[0m\n\u001b[1;32m----> 1\u001b[1;33m \u001b[0mmain\u001b[0m\u001b[1;33m(\u001b[0m\u001b[1;33m)\u001b[0m\u001b[1;33m\u001b[0m\u001b[0m\n\u001b[0m",
      "\u001b[1;32m<ipython-input-38-2ad2553d129c>\u001b[0m in \u001b[0;36mmain\u001b[1;34m()\u001b[0m\n\u001b[0;32m      3\u001b[0m     \u001b[1;32mfor\u001b[0m \u001b[0mid_num\u001b[0m \u001b[1;32min\u001b[0m  \u001b[0mids\u001b[0m\u001b[1;33m:\u001b[0m\u001b[1;33m\u001b[0m\u001b[0m\n\u001b[0;32m      4\u001b[0m         \u001b[0mspider\u001b[0m \u001b[1;33m=\u001b[0m \u001b[0mSpider\u001b[0m\u001b[1;33m(\u001b[0m\u001b[0mid_num\u001b[0m\u001b[1;33m)\u001b[0m\u001b[1;33m\u001b[0m\u001b[0m\n\u001b[1;32m----> 5\u001b[1;33m         \u001b[0mspider\u001b[0m\u001b[1;33m.\u001b[0m\u001b[0mrun\u001b[0m\u001b[1;33m(\u001b[0m\u001b[0mid_num\u001b[0m\u001b[1;33m)\u001b[0m\u001b[1;33m\u001b[0m\u001b[0m\n\u001b[0m",
      "\u001b[1;32m<ipython-input-30-4c7d1f167d1d>\u001b[0m in \u001b[0;36mrun\u001b[1;34m(self, idNum)\u001b[0m\n\u001b[0;32m     39\u001b[0m         \u001b[0mself\u001b[0m\u001b[1;33m.\u001b[0m\u001b[0mpage\u001b[0m \u001b[1;33m=\u001b[0m \u001b[1;36m1\u001b[0m\u001b[1;33m\u001b[0m\u001b[0m\n\u001b[0;32m     40\u001b[0m         \u001b[1;32mwhile\u001b[0m \u001b[1;32mTrue\u001b[0m\u001b[1;33m:\u001b[0m\u001b[1;33m\u001b[0m\u001b[0m\n\u001b[1;32m---> 41\u001b[1;33m             \u001b[0mjsons\u001b[0m \u001b[1;33m=\u001b[0m \u001b[0mself\u001b[0m\u001b[1;33m.\u001b[0m\u001b[0m__get_jsons\u001b[0m\u001b[1;33m(\u001b[0m\u001b[0mself\u001b[0m\u001b[1;33m.\u001b[0m\u001b[0murl\u001b[0m\u001b[1;33m,\u001b[0m\u001b[0mself\u001b[0m\u001b[1;33m.\u001b[0m\u001b[0mpage\u001b[0m\u001b[1;33m)\u001b[0m\u001b[1;33m\u001b[0m\u001b[0m\n\u001b[0m\u001b[0;32m     42\u001b[0m             \u001b[0mcomments\u001b[0m \u001b[1;33m=\u001b[0m \u001b[0mself\u001b[0m\u001b[1;33m.\u001b[0m\u001b[0mjson2list\u001b[0m\u001b[1;33m(\u001b[0m\u001b[0mjsons\u001b[0m\u001b[1;33m)\u001b[0m\u001b[1;33m\u001b[0m\u001b[0m\n\u001b[0;32m     43\u001b[0m             \u001b[0mnon_bmp_map\u001b[0m \u001b[1;33m=\u001b[0m \u001b[0mdict\u001b[0m\u001b[1;33m.\u001b[0m\u001b[0mfromkeys\u001b[0m\u001b[1;33m(\u001b[0m\u001b[0mrange\u001b[0m\u001b[1;33m(\u001b[0m\u001b[1;36m0x10000\u001b[0m\u001b[1;33m,\u001b[0m \u001b[0msys\u001b[0m\u001b[1;33m.\u001b[0m\u001b[0mmaxunicode\u001b[0m \u001b[1;33m+\u001b[0m \u001b[1;36m1\u001b[0m\u001b[1;33m)\u001b[0m\u001b[1;33m,\u001b[0m \u001b[1;36m0xfffd\u001b[0m\u001b[1;33m)\u001b[0m\u001b[1;33m\u001b[0m\u001b[0m\n",
      "\u001b[1;32m<ipython-input-30-4c7d1f167d1d>\u001b[0m in \u001b[0;36m__get_jsons\u001b[1;34m(self, url, page)\u001b[0m\n\u001b[0;32m     13\u001b[0m         \u001b[0mparams\u001b[0m \u001b[1;33m=\u001b[0m \u001b[0mmusic\u001b[0m\u001b[1;33m.\u001b[0m\u001b[0mget_params\u001b[0m\u001b[1;33m(\u001b[0m\u001b[0mtext\u001b[0m\u001b[1;33m,\u001b[0m\u001b[0mpage\u001b[0m\u001b[1;33m)\u001b[0m\u001b[1;33m\u001b[0m\u001b[0m\n\u001b[0;32m     14\u001b[0m \u001b[1;33m\u001b[0m\u001b[0m\n\u001b[1;32m---> 15\u001b[1;33m         \u001b[0mencSecKey\u001b[0m \u001b[1;33m=\u001b[0m \u001b[0mmusic\u001b[0m\u001b[1;33m.\u001b[0m\u001b[0mget_encSEcKey\u001b[0m\u001b[1;33m(\u001b[0m\u001b[0mtext\u001b[0m\u001b[1;33m)\u001b[0m\u001b[1;33m\u001b[0m\u001b[0m\n\u001b[0m\u001b[0;32m     16\u001b[0m         \u001b[0mfromdata\u001b[0m \u001b[1;33m=\u001b[0m \u001b[1;33m{\u001b[0m\u001b[1;34m'params'\u001b[0m \u001b[1;33m:\u001b[0m \u001b[0mparams\u001b[0m\u001b[1;33m,\u001b[0m\u001b[1;34m'encSecKey'\u001b[0m \u001b[1;33m:\u001b[0m \u001b[0mencSecKey\u001b[0m\u001b[1;33m}\u001b[0m\u001b[1;33m\u001b[0m\u001b[0m\n\u001b[0;32m     17\u001b[0m         \u001b[0mjsons\u001b[0m \u001b[1;33m=\u001b[0m \u001b[0mrequests\u001b[0m\u001b[1;33m.\u001b[0m\u001b[0mpost\u001b[0m\u001b[1;33m(\u001b[0m\u001b[0murl\u001b[0m\u001b[1;33m,\u001b[0m \u001b[0mdata\u001b[0m\u001b[1;33m=\u001b[0m\u001b[0mfromdata\u001b[0m\u001b[1;33m,\u001b[0m \u001b[0mheaders\u001b[0m\u001b[1;33m=\u001b[0m\u001b[0mself\u001b[0m\u001b[1;33m.\u001b[0m\u001b[0mheader\u001b[0m\u001b[1;33m)\u001b[0m\u001b[1;33m\u001b[0m\u001b[0m\n",
      "\u001b[1;32m<ipython-input-37-2af2d302394e>\u001b[0m in \u001b[0;36mget_encSEcKey\u001b[1;34m(self, text)\u001b[0m\n\u001b[0;32m     40\u001b[0m         \u001b[0mpubKey\u001b[0m \u001b[1;33m=\u001b[0m \u001b[0mself\u001b[0m\u001b[1;33m.\u001b[0m\u001b[0msecond_param\u001b[0m\u001b[1;33m\u001b[0m\u001b[0m\n\u001b[0;32m     41\u001b[0m         \u001b[0mmoudulus\u001b[0m \u001b[1;33m=\u001b[0m \u001b[0mself\u001b[0m\u001b[1;33m.\u001b[0m\u001b[0mthird_param\u001b[0m\u001b[1;33m\u001b[0m\u001b[0m\n\u001b[1;32m---> 42\u001b[1;33m         \u001b[0mencSecKey\u001b[0m \u001b[1;33m=\u001b[0m \u001b[0mself\u001b[0m\u001b[1;33m.\u001b[0m\u001b[0mrsaEncrypt\u001b[0m\u001b[1;33m(\u001b[0m\u001b[0mpubKey\u001b[0m\u001b[1;33m,\u001b[0m \u001b[0mtext\u001b[0m\u001b[1;33m,\u001b[0m \u001b[0mmoudulus\u001b[0m\u001b[1;33m)\u001b[0m\u001b[1;33m\u001b[0m\u001b[0m\n\u001b[0m\u001b[0;32m     43\u001b[0m         \u001b[1;32mreturn\u001b[0m \u001b[0mencSecKey\u001b[0m\u001b[1;33m\u001b[0m\u001b[0m\n",
      "\u001b[1;32m<ipython-input-37-2af2d302394e>\u001b[0m in \u001b[0;36mrsaEncrypt\u001b[1;34m(self, pubKey, text, modulus)\u001b[0m\n\u001b[0;32m     33\u001b[0m         \u001b[1;34m'''进行rsa加密'''\u001b[0m\u001b[1;33m\u001b[0m\u001b[0m\n\u001b[0;32m     34\u001b[0m         \u001b[0mtext\u001b[0m \u001b[1;33m=\u001b[0m \u001b[0mtext\u001b[0m\u001b[1;33m[\u001b[0m\u001b[1;33m:\u001b[0m\u001b[1;33m:\u001b[0m\u001b[1;33m-\u001b[0m\u001b[1;36m1\u001b[0m\u001b[1;33m]\u001b[0m\u001b[1;33m\u001b[0m\u001b[0m\n\u001b[1;32m---> 35\u001b[1;33m         \u001b[0mrs\u001b[0m \u001b[1;33m=\u001b[0m \u001b[0mint\u001b[0m\u001b[1;33m(\u001b[0m\u001b[0mcodecs\u001b[0m\u001b[1;33m.\u001b[0m\u001b[0mencode\u001b[0m\u001b[1;33m(\u001b[0m\u001b[0mtext\u001b[0m\u001b[1;33m.\u001b[0m\u001b[0mencode\u001b[0m\u001b[1;33m(\u001b[0m\u001b[1;34m'utf-8'\u001b[0m\u001b[1;33m)\u001b[0m\u001b[1;33m,\u001b[0m \u001b[1;34m'hex_codec'\u001b[0m\u001b[1;33m)\u001b[0m\u001b[1;33m,\u001b[0m \u001b[1;36m16\u001b[0m\u001b[1;33m)\u001b[0m \u001b[1;33m**\u001b[0m \u001b[0mint\u001b[0m\u001b[1;33m(\u001b[0m\u001b[0mpubKey\u001b[0m\u001b[1;33m,\u001b[0m \u001b[1;36m16\u001b[0m\u001b[1;33m)\u001b[0m \u001b[1;33m%\u001b[0m \u001b[0mint\u001b[0m\u001b[1;33m(\u001b[0m\u001b[0mmodulus\u001b[0m\u001b[1;33m,\u001b[0m \u001b[1;36m16\u001b[0m\u001b[1;33m)\u001b[0m\u001b[1;33m\u001b[0m\u001b[0m\n\u001b[0m\u001b[0;32m     36\u001b[0m         \u001b[1;32mreturn\u001b[0m \u001b[0mformat\u001b[0m\u001b[1;33m(\u001b[0m\u001b[0mrs\u001b[0m\u001b[1;33m,\u001b[0m \u001b[1;34m'x'\u001b[0m\u001b[1;33m)\u001b[0m\u001b[1;33m.\u001b[0m\u001b[0mzfill\u001b[0m\u001b[1;33m(\u001b[0m\u001b[1;36m256\u001b[0m\u001b[1;33m)\u001b[0m\u001b[1;33m\u001b[0m\u001b[0m\n\u001b[0;32m     37\u001b[0m \u001b[1;33m\u001b[0m\u001b[0m\n",
      "\u001b[1;31mKeyboardInterrupt\u001b[0m: "
     ]
    }
   ],
   "source": [
    "main()"
   ]
  },
  {
   "cell_type": "code",
   "execution_count": null,
   "metadata": {
    "collapsed": true
   },
   "outputs": [],
   "source": []
  },
  {
   "cell_type": "code",
   "execution_count": null,
   "metadata": {
    "collapsed": true
   },
   "outputs": [],
   "source": []
  }
 ],
 "metadata": {
  "anaconda-cloud": {},
  "kernelspec": {
   "display_name": "Python [Anaconda3]",
   "language": "python",
   "name": "Python [Anaconda3]"
  },
  "language_info": {
   "codemirror_mode": {
    "name": "ipython",
    "version": 3
   },
   "file_extension": ".py",
   "mimetype": "text/x-python",
   "name": "python",
   "nbconvert_exporter": "python",
   "pygments_lexer": "ipython3",
   "version": "3.5.1"
  },
  "toc": {
   "nav_menu": {},
   "number_sections": true,
   "sideBar": true,
   "skip_h1_title": false,
   "toc_cell": false,
   "toc_position": {},
   "toc_section_display": "block",
   "toc_window_display": false
  }
 },
 "nbformat": 4,
 "nbformat_minor": 0
}
