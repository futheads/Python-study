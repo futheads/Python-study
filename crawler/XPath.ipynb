{
 "cells": [
  {
   "cell_type": "markdown",
   "metadata": {},
   "source": [
    "# XPath是什么"
   ]
  },
  {
   "cell_type": "markdown",
   "metadata": {},
   "source": [
    "- XPath 是一门语言\n",
    "- XPath可以在XML文档中查找信息\n",
    "- XPath支持HTML\n",
    "- XPath通过元素和属性进行导航\n",
    "- XPath可以用来提取信息\n",
    "- XPath比正则表达式厉害\n",
    "- XPath比正则表达式简单"
   ]
  },
  {
   "cell_type": "markdown",
   "metadata": {},
   "source": [
    "# 安装lxml库"
   ]
  },
  {
   "cell_type": "code",
   "execution_count": 3,
   "metadata": {
    "collapsed": false
   },
   "outputs": [
    {
     "data": {
      "text/plain": [
       "[]"
      ]
     },
     "execution_count": 3,
     "metadata": {},
     "output_type": "execute_result"
    }
   ],
   "source": [
    "from lxml import etree\n",
    "Selector = etree.HTML(\"网页源代码\")\n",
    "Selector.xpath(\"一段神奇的符号\")"
   ]
  },
  {
   "cell_type": "markdown",
   "metadata": {},
   "source": [
    "# 应用XPath提取内容"
   ]
  },
  {
   "cell_type": "markdown",
   "metadata": {},
   "source": [
    "- // 定位根节点\n",
    "- / 往下层寻找\n",
    "- 提取文本内容：/text()\n",
    "- 提取属性内容: /@xxxx"
   ]
  },
  {
   "cell_type": "markdown",
   "metadata": {},
   "source": [
    "# XPath的特殊用法"
   ]
  },
  {
   "cell_type": "markdown",
   "metadata": {},
   "source": [
    "## 以相同的字符开头"
   ]
  },
  {
   "cell_type": "markdown",
   "metadata": {},
   "source": [
    "starts-with(@属性名称，属性字符相同的部分)"
   ]
  },
  {
   "cell_type": "code",
   "execution_count": 13,
   "metadata": {
    "collapsed": false
   },
   "outputs": [
    {
     "name": "stdout",
     "output_type": "stream",
     "text": [
      "需要的内容1\n",
      "需要的内容2\n",
      "需要的内容3\n"
     ]
    }
   ],
   "source": [
    "html1 = '''\n",
    "<!DOCTYPE html>\n",
    "<html>\n",
    "<head lang=\"en\">\n",
    "    <meta charset=\"UTF-8\">\n",
    "    <title></title>\n",
    "</head>\n",
    "<body>\n",
    "    <div id=\"test-1\">需要的内容1</div>\n",
    "    <div id=\"test-2\">需要的内容2</div>\n",
    "    <div id=\"testfault\">需要的内容3</div>\n",
    "</body>\n",
    "</html>\n",
    "'''\n",
    "\n",
    "selector = etree.HTML(html1)\n",
    "content = selector.xpath('//div[starts-with(@id, \"test\")]/text()')\n",
    "for each in content:\n",
    "    print(each)"
   ]
  },
  {
   "cell_type": "markdown",
   "metadata": {},
   "source": [
    "## 标签套标签"
   ]
  },
  {
   "cell_type": "markdown",
   "metadata": {},
   "source": [
    "string(.)"
   ]
  },
  {
   "cell_type": "code",
   "execution_count": 15,
   "metadata": {
    "collapsed": false
   },
   "outputs": [
    {
     "name": "stdout",
     "output_type": "stream",
     "text": [
      "我左青龙，右白虎，上朱雀，下玄武。老牛在当中，龙头在胸口。\n"
     ]
    }
   ],
   "source": [
    "html2 = '''\n",
    "<!DOCTYPE html>\n",
    "<html>\n",
    "<head lang=\"en\">\n",
    "    <meta charset=\"UTF-8\">\n",
    "    <title></title>\n",
    "</head>\n",
    "<body>\n",
    "    <div id=\"test3\">\n",
    "        我左青龙，\n",
    "        <span id=\"tiger\">\n",
    "            右白虎，\n",
    "            <ul>上朱雀，\n",
    "                <li>下玄武。</li>\n",
    "            </ul>\n",
    "            老牛在当中，\n",
    "        </span>\n",
    "        龙头在胸口。\n",
    "    </div>\n",
    "</body>\n",
    "</html>\n",
    "'''\n",
    "selector = etree.HTML(html2)\n",
    "data = selector.xpath('//div[@id=\"test3\"]')[0]\n",
    "info = data.xpath('string(.)')\n",
    "content_2 = info.replace('\\n', '').replace(' ', '')\n",
    "print(content_2)"
   ]
  },
  {
   "cell_type": "markdown",
   "metadata": {},
   "source": [
    "# 提取文本和属性的例子"
   ]
  },
  {
   "cell_type": "code",
   "execution_count": 7,
   "metadata": {
    "collapsed": true
   },
   "outputs": [],
   "source": [
    "from lxml import etree\n",
    "\n",
    "html = '''\n",
    "<!DOCTYPE html>\n",
    "<html>\n",
    "<head lang=\"en\">\n",
    "    <meta charset=\"UTF-8\">\n",
    "    <title>测试-常规用法</title>\n",
    "</head>\n",
    "<body>\n",
    "<div id=\"content\">\n",
    "    <ul id=\"useful\">\n",
    "        <li>这是第一条信息</li>\n",
    "        <li>这是第二条信息</li>\n",
    "        <li>这是第三条信息</li>\n",
    "    </ul>\n",
    "    <ul id=\"useless\">\n",
    "        <li>不需要的信息1</li>\n",
    "        <li>不需要的信息2</li>\n",
    "        <li>不需要的信息3</li>\n",
    "    </ul>\n",
    "\n",
    "    <div id=\"url\">\n",
    "        <a href=\"http://jikexueyuan.com\">极客学院</a>\n",
    "        <a href=\"http://jikexueyuan.com/course/\" title=\"极客学院课程库\">点我打开课程库</a>\n",
    "    </div>\n",
    "</div>\n",
    "\n",
    "</body>\n",
    "</html>\n",
    "'''\n",
    "selector = etree.HTML(html)"
   ]
  },
  {
   "cell_type": "markdown",
   "metadata": {},
   "source": [
    "## 提取文本"
   ]
  },
  {
   "cell_type": "code",
   "execution_count": 10,
   "metadata": {
    "collapsed": false
   },
   "outputs": [
    {
     "name": "stdout",
     "output_type": "stream",
     "text": [
      "这是第一条信息\n",
      "这是第二条信息\n",
      "这是第三条信息\n"
     ]
    }
   ],
   "source": [
    "content = selector.xpath('//ul[@id=\"useful\"]/li/text()')\n",
    "for each in content:\n",
    "    print(each)"
   ]
  },
  {
   "cell_type": "markdown",
   "metadata": {},
   "source": [
    "## 提取属性"
   ]
  },
  {
   "cell_type": "code",
   "execution_count": 11,
   "metadata": {
    "collapsed": false
   },
   "outputs": [
    {
     "name": "stdout",
     "output_type": "stream",
     "text": [
      "http://jikexueyuan.com\n",
      "http://jikexueyuan.com/course/\n"
     ]
    }
   ],
   "source": [
    "link = selector.xpath('//a/@href')\n",
    "for each in link:\n",
    "    print(each)"
   ]
  },
  {
   "cell_type": "code",
   "execution_count": null,
   "metadata": {
    "collapsed": true
   },
   "outputs": [],
   "source": [
    ""
   ]
  }
 ],
 "metadata": {
  "anaconda-cloud": {},
  "kernelspec": {
   "display_name": "Python [Anaconda3]",
   "language": "python",
   "name": "Python [Anaconda3]"
  },
  "language_info": {
   "codemirror_mode": {
    "name": "ipython",
    "version": 3.0
   },
   "file_extension": ".py",
   "mimetype": "text/x-python",
   "name": "python",
   "nbconvert_exporter": "python",
   "pygments_lexer": "ipython3",
   "version": "3.5.1"
  },
  "toc": {
   "nav_menu": {},
   "number_sections": true,
   "sideBar": true,
   "skip_h1_title": false,
   "toc_cell": false,
   "toc_position": {},
   "toc_section_display": "block",
   "toc_window_display": false
  }
 },
 "nbformat": 4,
 "nbformat_minor": 0
}