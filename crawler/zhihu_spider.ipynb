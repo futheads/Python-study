{
 "cells": [
  {
   "cell_type": "code",
   "execution_count": 18,
   "metadata": {
    "collapsed": true
   },
   "outputs": [],
   "source": [
    "import json\n",
    "import requests\n",
    "import pymongo"
   ]
  },
  {
   "cell_type": "code",
   "execution_count": 19,
   "metadata": {
    "collapsed": true
   },
   "outputs": [],
   "source": [
    "def get_answers_by_page(topic_id, page_no):\n",
    "    offset = page_no * 10\n",
    "    url = \"https://www.zhihu.com/api/v4/topics/\" + str(topic_id) + \"/feeds/essence?include=data%5B%3F(target.type%3Dtopic_sticky_module)%5D.target.data%5B%3F(target.type%3Danswer)%5D.target.content%2Crelationship.is_authorized%2Cis_author%2Cvoting%2Cis_thanked%2Cis_nothelp%3Bdata%5B%3F(target.type%3Dtopic_sticky_module)%5D.target.data%5B%3F(target.type%3Danswer)%5D.target.is_normal%2Ccomment_count%2Cvoteup_count%2Ccontent%2Crelevant_info%2Cexcerpt.author.badge%5B%3F(type%3Dbest_answerer)%5D.topics%3Bdata%5B%3F(target.type%3Dtopic_sticky_module)%5D.target.data%5B%3F(target.type%3Darticle)%5D.target.content%2Cvoteup_count%2Ccomment_count%2Cvoting%2Cauthor.badge%5B%3F(type%3Dbest_answerer)%5D.topics%3Bdata%5B%3F(target.type%3Dtopic_sticky_module)%5D.target.data%5B%3F(target.type%3Dpeople)%5D.target.answer_count%2Carticles_count%2Cgender%2Cfollower_count%2Cis_followed%2Cis_following%2Cbadge%5B%3F(type%3Dbest_answerer)%5D.topics%3Bdata%5B%3F(target.type%3Danswer)%5D.target.annotation_detail%2Ccontent%2Crelationship.is_authorized%2Cis_author%2Cvoting%2Cis_thanked%2Cis_nothelp%3Bdata%5B%3F(target.type%3Danswer)%5D.target.author.badge%5B%3F(type%3Dbest_answerer)%5D.topics%3Bdata%5B%3F(target.type%3Darticle)%5D.target.annotation_detail%2Ccontent%2Cauthor.badge%5B%3F(type%3Dbest_answerer)%5D.topics%3Bdata%5B%3F(target.type%3Dquestion)%5D.target.annotation_detail%2Ccomment_count&limit=10&offset=\" + str(page_no)\n",
    "    headers = {\n",
    "        \"User-Agent\": \"Mozilla/5.0 (Macintosh; Intel Mac OS X 10_13_6) AppleWebKit/537.36 (KHTML, like Gecko) Chrome/69.0.3497.100 Safari/537.36\",\n",
    "    }\n",
    "    r = requests.get(url, headers=headers)\n",
    "    content = r.content.decode(\"utf-8\")\n",
    "    data = json.loads(content)\n",
    "    is_end = data[\"paging\"][\"is_end\"]\n",
    "    items = data[\"data\"]\n",
    "    client = pymongo.MongoClient()\n",
    "    db = client[\"zhihu\"]\n",
    "    if len(items) > 0:\n",
    "        db.answers.insert_many(items)\n",
    "        db.saved_topics.insert_one({\"topic_id\": topic_id, \"page_no\": page_no})\n",
    "    return is_end"
   ]
  },
  {
   "cell_type": "code",
   "execution_count": null,
   "metadata": {
    "collapsed": true
   },
   "outputs": [],
   "source": [
    "def get_answers(topic_id):\n",
    "    page_no = 0\n",
    "    client = pymongo.MongoClient()\n",
    "    db = client[\"zhihu\"]\n",
    "    while True:\n",
    "        is_saved = db.saved_topics.find({\"topic_id\": topic_id, \"page_no\": page_no}).count()\n",
    "        if is_saved:\n",
    "            print(\"{} {} already saved\".format(topic_id, page_no))\n",
    "            page_no += 1\n",
    "            continue\n",
    "        is_end = get_answers_by_page(topic_id, page_no)\n",
    "        page_no += 1\n",
    "        if is_end:\n",
    "            break"
   ]
  },
  {
   "cell_type": "code",
   "execution_count": null,
   "metadata": {
    "collapsed": true
   },
   "outputs": [],
   "source": [
    "def query():\n",
    "    client = pymongo.MongoClient()\n",
    "    db = client.zhihu\n",
    "    items = db.answers.aggregate([\n",
    "            {\"$addFields\": {\"answer_len\": {\"$strLenCP\": \"$target.content\"}}},\n",
    "            {\"$match\": {\"answer_len\": {\"$lte\": 50}}}\n",
    "        ])\n",
    "    answer_ids = []\n",
    "    for item in items:\n",
    "        item_type = item[\"target\"][\"type\"]\n",
    "        if item_type != \"answer\":\n",
    "            continue\n",
    "        question = item[\"target\"][\"question\"][\"title\"]\n",
    "        answer = item[\"target\"][\"content\"]\n",
    "        vote_num = item[\"target\"][\"voteup_count\"]\n",
    "        if vote_num < 1000:\n",
    "            continue\n",
    "        answer_id = item[\"target\"][\"id\"]\n",
    "        if answer_id in answer_ids:\n",
    "            continue\n",
    "        url = item[\"target\"][\"url\"]\n",
    "        print(\"=\" * 50)\n",
    "        print(\"Q: {}\\nA: {}\\nvote: {}\".format(question, answer, vote_num))\n",
    "        answer_ids.append(answer_id)"
   ]
  },
  {
   "cell_type": "code",
   "execution_count": null,
   "metadata": {
    "collapsed": false
   },
   "outputs": [],
   "source": [
    "topic_ids = [19554298, 19552330, 19565652, 19580349, 19939299, 19555547, 19594551, 19552832, 19577377, 19552826, 19615452]\n",
    "for topic_id in topic_ids:\n",
    "    get_answers(topic_id)"
   ]
  },
  {
   "cell_type": "code",
   "execution_count": 31,
   "metadata": {
    "collapsed": false
   },
   "outputs": [
    {
     "name": "stdout",
     "output_type": "stream",
     "text": [
      "==================================================\n",
      "Q: 如果软件正在占领全世界，为什么程序员得不到尊重？\n",
      "A: 遍身罗绮者，不是养蚕人。 \n",
      "vote: 8550\n",
      "==================================================\n",
      "Q: 码农们最常说的「谎言」有哪些？\n",
      "A: //TODO\n",
      "vote: 2943\n",
      "==================================================\n",
      "Q: 在 GitHub 上保持 365 天全绿是怎样一种体验？\n",
      "A: <p>曾经保持了200多天全绿，但是冷落了女朋友，一直绿到现在。</p>\n",
      "vote: 2206\n",
      "==================================================\n",
      "Q: 如何反驳「程序员离开电脑就是废物」这个观点？\n",
      "A: 不不不，很多程序员在电脑前也是废物。\n",
      "vote: 2067\n",
      "==================================================\n",
      "Q: 假如有一天所有的人都使用计算机语言说话，会是怎样的场景？\n",
      "A: <p>hello, world.烫烫烫烫烫烫烫�d}��R�0:�v�?.</p>\n",
      "vote: 2066\n",
      "==================================================\n",
      "Q: 突然想开一家程序员主题的餐馆，名字就叫程序员的菜，菜名就叫各种语言中的关键字，各位指点一哈，有前途没？\n",
      "A: 进门一个大大的 hello world <br>招牌菜叫“红烧产品经理”<br>一定会爆满的\n",
      "vote: 1967\n",
      "==================================================\n",
      "Q: 什么是递归？\n",
      "A: 「不宜公开讨论的政治内容」的定义和范畴本身也属于「不宜公开讨论的政治内容」\n",
      "vote: 1707\n",
      "==================================================\n",
      "Q: 编程最基本的术语 “bug” 该怎么翻译？\n",
      "A: <p>幺蛾子，你的程序又出幺蛾子了。</p>\n",
      "vote: 1677\n",
      "==================================================\n",
      "Q: 编程的乐趣是什么？\n",
      "A: 人的成就感来源于两样东西，创造和毁灭。\n",
      "vote: 1240\n",
      "==================================================\n",
      "Q: 如何反驳「程序员离开电脑就是废物」这个观点？\n",
      "A: 老实说 跟这种女人都能聊下去 你是不是想上她？\n",
      "vote: 1188\n",
      "==================================================\n",
      "Q: 作为程序员，你在编程时吃了哪些数学的亏？\n",
      "A: 看论文时候一个\"显然\"推了我一下午\n",
      "vote: 1050\n",
      "==================================================\n",
      "Q: 土豪程序员的设备都有啥？\n",
      "A: 女朋友。。。\n",
      "vote: 1018\n"
     ]
    }
   ],
   "source": [
    "query()"
   ]
  },
  {
   "cell_type": "code",
   "execution_count": null,
   "metadata": {
    "collapsed": true
   },
   "outputs": [],
   "source": []
  }
 ],
 "metadata": {
  "anaconda-cloud": {},
  "kernelspec": {
   "display_name": "Python [Anaconda3]",
   "language": "python",
   "name": "Python [Anaconda3]"
  },
  "language_info": {
   "codemirror_mode": {
    "name": "ipython",
    "version": 3
   },
   "file_extension": ".py",
   "mimetype": "text/x-python",
   "name": "python",
   "nbconvert_exporter": "python",
   "pygments_lexer": "ipython3",
   "version": "3.5.1"
  },
  "toc": {
   "nav_menu": {},
   "number_sections": true,
   "sideBar": true,
   "skip_h1_title": false,
   "toc_cell": false,
   "toc_position": {},
   "toc_section_display": "block",
   "toc_window_display": false
  }
 },
 "nbformat": 4,
 "nbformat_minor": 0
}
