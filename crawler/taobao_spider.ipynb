{
 "cells": [
  {
   "cell_type": "code",
   "execution_count": null,
   "metadata": {
    "collapsed": true
   },
   "outputs": [],
   "source": [
    "from selenium import webdriver\n",
    "from selenium.webdriver.support.wait import WebDriverWait\n",
    "from urllib.parse import quote\n",
    "from selenium.webdriver.support import expected_conditions as EC\n",
    "from selenium.webdriver.common.by import By\n",
    "from pyquery import PyQuery as pq\n",
    "\n",
    "browser = webdriver.Firefox()\n",
    "wait = WebDriverWait(browser, 10)\n",
    "KEYWORD = \"iPad\"\n",
    "MAX_PAGE = 3\n",
    "\n",
    "def index_page(page):\n",
    "    \"\"\"\n",
    "    抓取索引页\n",
    "    :param page:页码 \n",
    "    \"\"\"\n",
    "    print(\"正在抓取第{0}页\".format(page))\n",
    "    try:\n",
    "        url = \"https://s.taobao.com/search?q=\" + quote(KEYWORD)\n",
    "        browser.get(url)\n",
    "        if page > 1:\n",
    "            input = wait.until(EC.presence_of_element_located((By.CSS_SELECTOR,\n",
    "                                                                    \"#mainsrp-pager > div > div > div > div.form > input\")))\n",
    "            submit = wait.until(EC.element_to_be_clickable((By.CSS_SELECTOR,\n",
    "                                                            \"#mainsrp-pager > div > div > div > div.form > span.btn.J_Submit\")))\n",
    "            input.clear()\n",
    "            input.send_keys(page)\n",
    "            submit.click()\n",
    "        wait.until(EC.text_to_be_present_in_element((By.CSS_SELECTOR,\n",
    "                                                     \"#mainsrp-pager > div > div > div > ul > li.item.active > span\"),str(page)))\n",
    "        wait.until(EC.presence_of_element_located((By.CSS_SELECTOR, \"#mainsrp-itemlist .items .item\")))\n",
    "        get_products()\n",
    "    except TimeoutError:\n",
    "        index_page(page)\n",
    "\n",
    "def get_products():\n",
    "    \"\"\"\n",
    "    提取商品数据\n",
    "    \"\"\"\n",
    "    html = browser.page_source\n",
    "    doc = pq(html)\n",
    "    items = doc(\"#mainsrp-itemlist .items .item\").items()\n",
    "    for item in items:\n",
    "        product = {\n",
    "            \"image\": item.find(\".pic .img\").attr(\"data-src\"),\n",
    "            \"price\": item.find(\".price\").text(),\n",
    "            \"deal\": item.find(\".deal-cnt\").text(),\n",
    "            \"title\": item.find(\".title\").text(),\n",
    "            \"shop\": item.find(\".shop\").text(),\n",
    "            \"location\": item.find(\".location\").text()\n",
    "        }\n",
    "        print(product)\n",
    "\n",
    "def main():\n",
    "    \"\"\"\n",
    "    遍历每一页\n",
    "    \"\"\"\n",
    "    for i in range(1, MAX_PAGE + 1):\n",
    "        index_page(i)\n",
    "    browser.close()"
   ]
  },
  {
   "cell_type": "code",
   "execution_count": null,
   "metadata": {
    "collapsed": true
   },
   "outputs": [],
   "source": [
    "main()"
   ]
  }
 ],
 "metadata": {
  "anaconda-cloud": {},
  "kernelspec": {
   "display_name": "Python [Anaconda3]",
   "language": "python",
   "name": "Python [Anaconda3]"
  },
  "language_info": {
   "codemirror_mode": {
    "name": "ipython",
    "version": 3
   },
   "file_extension": ".py",
   "mimetype": "text/x-python",
   "name": "python",
   "nbconvert_exporter": "python",
   "pygments_lexer": "ipython3",
   "version": "3.5.1"
  },
  "toc": {
   "nav_menu": {},
   "number_sections": true,
   "sideBar": true,
   "skip_h1_title": false,
   "toc_cell": false,
   "toc_position": {},
   "toc_section_display": "block",
   "toc_window_display": false
  }
 },
 "nbformat": 4,
 "nbformat_minor": 0
}
