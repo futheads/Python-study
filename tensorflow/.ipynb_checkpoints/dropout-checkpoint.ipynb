{
 "cells": [
  {
   "cell_type": "code",
   "execution_count": 1,
   "metadata": {
    "collapsed": true
   },
   "outputs": [],
   "source": [
    "import tensorflow as tf\n",
    "import numpy as np\n",
    "import matplotlib.pyplot as plt"
   ]
  },
  {
   "cell_type": "code",
   "execution_count": 2,
   "metadata": {
    "collapsed": true
   },
   "outputs": [],
   "source": [
    "tf.set_random_seed(1)\n",
    "np.random.seed(1)"
   ]
  },
  {
   "cell_type": "code",
   "execution_count": 3,
   "metadata": {
    "collapsed": true
   },
   "outputs": [],
   "source": [
    "N_SAMPLES = 20\n",
    "N_HIDDEN = 300\n",
    "LR = 0.01"
   ]
  },
  {
   "cell_type": "code",
   "execution_count": 4,
   "metadata": {
    "collapsed": true
   },
   "outputs": [],
   "source": [
    "x = np.linspace(-1, 1, N_SAMPLES)[:, np.newaxis]\n",
    "y = x + 0.3 * np.random.randn(N_SAMPLES)[:, np.newaxis]"
   ]
  },
  {
   "cell_type": "code",
   "execution_count": 6,
   "metadata": {
    "collapsed": false
   },
   "outputs": [],
   "source": [
    "test_x = x.copy()\n",
    "test_y = test_x + 0.3 * np.random.randn(N_SAMPLES)[:, np.newaxis]"
   ]
  },
  {
   "cell_type": "code",
   "execution_count": 7,
   "metadata": {
    "collapsed": true
   },
   "outputs": [],
   "source": [
    "%matplotlib inline"
   ]
  },
  {
   "cell_type": "code",
   "execution_count": 17,
   "metadata": {
    "collapsed": false
   },
   "outputs": [
    {
     "data": {
      "text/plain": [
       "(-2.5, 2.5)"
      ]
     },
     "execution_count": 17,
     "metadata": {},
     "output_type": "execute_result"
    },
    {
     "data": {
      "image/png": "[encoded data removed]",
      "text/plain": [
       "<matplotlib.figure.Figure at 0xf13bda0>"
      ]
     },
     "metadata": {},
     "output_type": "display_data"
    }
   ],
   "source": [
    "plt.scatter(x, y, alpha=0.5, label=\"train\")\n",
    "plt.scatter(test_x, test_y, alpha=0.5, label=\"test\")\n",
    "plt.legend(loc=\"best\")\n",
    "plt.ylim((-2.5, 2.5))"
   ]
  },
  {
   "cell_type": "code",
   "execution_count": 19,
   "metadata": {
    "collapsed": true
   },
   "outputs": [],
   "source": [
    "tf_x = tf.placeholder(tf.float32, [None, 1])\n",
    "tf_y = tf.placeholder(tf.float32, [None, 1])\n",
    "tf_is_training = tf.placeholder(tf.bool, None)"
   ]
  },
  {
   "cell_type": "markdown",
   "metadata": {},
   "source": [
    "overfitting net"
   ]
  },
  {
   "cell_type": "code",
   "execution_count": 21,
   "metadata": {
    "collapsed": true
   },
   "outputs": [],
   "source": [
    "o1 = tf.layers.dense(tf_x, N_HIDDEN, tf.nn.relu)\n",
    "o2 = tf.layers.dense(o1, N_HIDDEN, tf.nn.relu)\n",
    "o_out = tf.layers.dense(o2, 1)\n",
    "o_loss = tf.losses.mean_squared_error(tf_y, o_out)\n",
    "o_train = tf.train.AdamOptimizer(LR).minimize(o_loss)"
   ]
  },
  {
   "cell_type": "markdown",
   "metadata": {},
   "source": [
    "dropout net"
   ]
  },
  {
   "cell_type": "code",
   "execution_count": 22,
   "metadata": {
    "collapsed": true
   },
   "outputs": [],
   "source": [
    "d1 = tf.layers.dense(tf_x, N_HIDDEN, tf.nn.relu)\n",
    "d1 = tf.layers.dropout(d1, rate=0.5, training=tf_is_training)\n",
    "d2 = tf.layers.dense(d1, N_HIDDEN, tf.nn.relu)\n",
    "d2 = tf.layers.dropout(d2, rate=0.5, training=tf_is_training)\n",
    "d_out = tf.layers.dense(d2, 1)\n",
    "d_loss = tf.losses.mean_squared_error(tf_y, d_out)\n",
    "d_train = tf.train.AdamOptimizer(LR).minimize(d_loss)"
   ]
  },
  {
   "cell_type": "code",
   "execution_count": 25,
   "metadata": {
    "collapsed": false
   },
   "outputs": [
    {
     "data": {
      "image/png": "[encoded data removed]",
      "text/plain": [
       "<matplotlib.figure.Figure at 0xf133f28>"
      ]
     },
     "metadata": {},
     "output_type": "display_data"
    }
   ],
   "source": [
    "with tf.Session() as sess:\n",
    "    sess.run(tf.global_variables_initializer())\n",
    "    \n",
    "    plt.ion()\n",
    "    for t in range(500):\n",
    "        sess.run([o_train, d_train], {tf_x: x, tf_y: y, tf_is_training: True})\n",
    "        \n",
    "        if t % 10 == 0:\n",
    "            plt.cla()\n",
    "            o_loss_, d_loss_, o_out_, d_out_ = sess.run(\n",
    "                [o_loss, d_loss, o_out, d_out], {tf_x: test_x, tf_y: test_y, tf_is_training: False}\n",
    "            )\n",
    "            plt.scatter(x, y, alpha=0.5, label=\"train\")\n",
    "            plt.scatter(test_x, test_y, alpha=0.5, label=\"test\")\n",
    "            plt.plot(test_x, o_out_, \"r-\", label=\"overfitting\")\n",
    "            plt.plot(test_x, d_out_, \"b--\", label=\"dropout(50%)\")\n",
    "            plt.legend(loc=\"best\")\n",
    "            plt.ylim((-2.5, 2.5))"
   ]
  },
  {
   "cell_type": "code",
   "execution_count": null,
   "metadata": {
    "collapsed": true
   },
   "outputs": [],
   "source": []
  }
 ],
 "metadata": {
  "anaconda-cloud": {},
  "kernelspec": {
   "display_name": "Python [Anaconda3]",
   "language": "python",
   "name": "Python [Anaconda3]"
  },
  "language_info": {
   "codemirror_mode": {
    "name": "ipython",
    "version": 3
   },
   "file_extension": ".py",
   "mimetype": "text/x-python",
   "name": "python",
   "nbconvert_exporter": "python",
   "pygments_lexer": "ipython3",
   "version": "3.5.1"
  },
  "toc": {
   "nav_menu": {},
   "number_sections": true,
   "sideBar": true,
   "skip_h1_title": false,
   "toc_cell": false,
   "toc_position": {},
   "toc_section_display": "block",
   "toc_window_display": false
  }
 },
 "nbformat": 4,
 "nbformat_minor": 0
}
