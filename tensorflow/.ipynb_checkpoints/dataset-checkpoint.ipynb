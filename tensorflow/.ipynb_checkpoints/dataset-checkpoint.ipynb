{
 "cells": [
  {
   "cell_type": "code",
   "execution_count": 3,
   "metadata": {
    "collapsed": true
   },
   "outputs": [],
   "source": [
    "import tensorflow as tf\n",
    "import numpy as np\n",
    "import matplotlib.pyplot as plt"
   ]
  },
  {
   "cell_type": "code",
   "execution_count": 4,
   "metadata": {
    "collapsed": true
   },
   "outputs": [],
   "source": [
    "npx = np.random.uniform(-1, 1, (1000, 1))\n",
    "npy = np.power(npx, 2) + np.random.normal(0, 0.1, size=npx.shape)"
   ]
  },
  {
   "cell_type": "code",
   "execution_count": 5,
   "metadata": {
    "collapsed": true
   },
   "outputs": [],
   "source": [
    "%matplotlib inline"
   ]
  },
  {
   "cell_type": "code",
   "execution_count": 6,
   "metadata": {
    "collapsed": false
   },
   "outputs": [
    {
     "data": {
      "text/plain": [
       "<matplotlib.collections.PathCollection at 0xe4ad0f0>"
      ]
     },
     "execution_count": 6,
     "metadata": {},
     "output_type": "execute_result"
    },
    {
     "data": {
      "image/png": "[encoded data removed]",
      "text/plain": [
       "<matplotlib.figure.Figure at 0xc8f8470>"
      ]
     },
     "metadata": {},
     "output_type": "display_data"
    }
   ],
   "source": [
    "plt.scatter(npx, npy)"
   ]
  },
  {
   "cell_type": "code",
   "execution_count": 7,
   "metadata": {
    "collapsed": true
   },
   "outputs": [],
   "source": [
    "npx_train, npx_test = np.split(npx, [800])\n",
    "npy_train, npy_test = np.split(npy, [800])"
   ]
  },
  {
   "cell_type": "code",
   "execution_count": 8,
   "metadata": {
    "collapsed": true
   },
   "outputs": [],
   "source": [
    "tfx = tf.placeholder(npx.dtype, npx_train.shape)\n",
    "tfy = tf.placeholder(npy.dtype, npy_train.shape)"
   ]
  },
  {
   "cell_type": "markdown",
   "metadata": {},
   "source": [
    "create dataload"
   ]
  },
  {
   "cell_type": "code",
   "execution_count": 10,
   "metadata": {
    "collapsed": true
   },
   "outputs": [],
   "source": [
    "dataset = tf.data.Dataset.from_tensor_slices((tfx, tfy))\n",
    "dataset = dataset.shuffle(buffer_size=1000) # choose data randomly from this buffer\n",
    "dataset = dataset.batch(32)\n",
    "dataset = dataset.repeat(3)\n",
    "iterator = dataset.make_initializable_iterator()"
   ]
  },
  {
   "cell_type": "code",
   "execution_count": 12,
   "metadata": {
    "collapsed": false
   },
   "outputs": [],
   "source": [
    "bx, by = iterator.get_next() # use batch to update\n",
    "l1 = tf.layers.dense(bx, 10, tf.nn.relu)\n",
    "out = tf.layers.dense(l1, npy.shape[1])\n",
    "loss = tf.losses.mean_squared_error(by, out)\n",
    "train = tf.train.GradientDescentOptimizer(0.1).minimize(loss)"
   ]
  },
  {
   "cell_type": "code",
   "execution_count": 14,
   "metadata": {
    "collapsed": false
   },
   "outputs": [
    {
     "name": "stdout",
     "output_type": "stream",
     "text": [
      "step: 0/200 |train loss: 0.1819586 |test loss 0.17968002\n",
      "step: 10/200 |train loss: 0.07675488 |test loss 0.08810434\n",
      "step: 20/200 |train loss: 0.047867745 |test loss 0.07987966\n",
      "step: 30/200 |train loss: 0.069564424 |test loss 0.07728145\n",
      "step: 40/200 |train loss: 0.049223013 |test loss 0.07281642\n",
      "step: 50/200 |train loss: 0.053666063 |test loss 0.070042826\n",
      "step: 60/200 |train loss: 0.03780418 |test loss 0.06708453\n",
      "step: 70/200 |train loss: 0.056218956 |test loss 0.06428503\n",
      "Finish the last epoch\n"
     ]
    }
   ],
   "source": [
    "with tf.Session() as sess:\n",
    "    sess.run([iterator.initializer, tf.global_variables_initializer()], feed_dict={tfx: npx_train, tfy: npy_train})\n",
    "    for step in range(201):\n",
    "        try:\n",
    "            _, trainl = sess.run([train, loss])\n",
    "            if step % 10 == 0:\n",
    "                testl = sess.run(loss, {bx: npx_test, by: npy_test})\n",
    "                print(\"step: %i/200\" % step, \"|train loss:\", trainl, \"|test loss\", testl)\n",
    "        except tf.errors.OutOfRangeError:\n",
    "            print(\"Finish the last epoch\")\n",
    "            break"
   ]
  },
  {
   "cell_type": "code",
   "execution_count": null,
   "metadata": {
    "collapsed": true
   },
   "outputs": [],
   "source": []
  }
 ],
 "metadata": {
  "kernelspec": {
   "display_name": "Python [Anaconda3]",
   "language": "python",
   "name": "Python [Anaconda3]"
  },
  "language_info": {
   "codemirror_mode": {
    "name": "ipython",
    "version": 3
   },
   "file_extension": ".py",
   "mimetype": "text/x-python",
   "name": "python",
   "nbconvert_exporter": "python",
   "pygments_lexer": "ipython3",
   "version": "3.5.1"
  },
  "toc": {
   "nav_menu": {},
   "number_sections": true,
   "sideBar": true,
   "skip_h1_title": false,
   "toc_cell": false,
   "toc_position": {},
   "toc_section_display": "block",
   "toc_window_display": false
  }
 },
 "nbformat": 4,
 "nbformat_minor": 0
}
