{
 "cells": [
  {
   "cell_type": "markdown",
   "metadata": {},
   "source": [
    "Batch Normalization, 和普通的数据标准化类似, 是将分散的数据统一的一种做法。具有统一规格的数据,能让机器学习更容易学习到数据之中的规律."
   ]
  },
  {
   "cell_type": "markdown",
   "metadata": {},
   "source": [
    "每层都做标准化"
   ]
  },
  {
   "cell_type": "markdown",
   "metadata": {},
   "source": [
    "接近于 1 的部已经处在了 激励函数的饱和阶段, 也就是如果 x 无论再怎么扩大, tanh 激励函数输出值也还是接近1。换句话说,神经网络在初始阶段已经不对那些比较大的 x 特征范围敏感了."
   ]
  },
  {
   "cell_type": "markdown",
   "metadata": {},
   "source": [
    "这个不敏感问题不仅仅发生在神经网络的输入层, 而且在隐藏层中也经常会发生"
   ]
  },
  {
   "cell_type": "markdown",
   "metadata": {},
   "source": [
    "Batch Normalization (BN) 就被添加在每一个全连接和激励函数之间."
   ]
  },
  {
   "cell_type": "code",
   "execution_count": 1,
   "metadata": {
    "collapsed": true
   },
   "outputs": [],
   "source": [
    "import tensorflow as tf\n",
    "import numpy as np\n",
    "import matplotlib.pyplot as plt"
   ]
  },
  {
   "cell_type": "code",
   "execution_count": 2,
   "metadata": {
    "collapsed": true
   },
   "outputs": [],
   "source": [
    "tf.set_random_seed(1)\n",
    "np.random.seed(1)"
   ]
  },
  {
   "cell_type": "code",
   "execution_count": 4,
   "metadata": {
    "collapsed": true
   },
   "outputs": [],
   "source": [
    "N_SAMPLES = 2000\n",
    "BATCH_SIZE = 64\n",
    "EPOCH = 12\n",
    "LR = 0.03\n",
    "N_HIDDEN = 8\n",
    "ACTIVATION = tf.nn.tanh\n",
    "B_INIT = tf.constant_initializer(-0.2) # use a bad bias initialization"
   ]
  },
  {
   "cell_type": "markdown",
   "metadata": {},
   "source": [
    "training data"
   ]
  },
  {
   "cell_type": "code",
   "execution_count": 6,
   "metadata": {
    "collapsed": true
   },
   "outputs": [],
   "source": [
    "x = np.linspace(-7, 10, N_SAMPLES)[:, np.newaxis]\n",
    "np.random.shuffle(x)\n",
    "noise = np.random.normal(0, 2, x.shape)\n",
    "y = np.square(x) - 5 + noise\n",
    "train_data = np.hstack((x, y))"
   ]
  },
  {
   "cell_type": "markdown",
   "metadata": {},
   "source": [
    "test data"
   ]
  },
  {
   "cell_type": "code",
   "execution_count": 7,
   "metadata": {
    "collapsed": true
   },
   "outputs": [],
   "source": [
    "test_x = np.linspace(-7, 10, 200)[:, np.newaxis]\n",
    "noise = np.random.normal(0, 2, test_x.shape)\n",
    "test_y = np.square(test_x) - 5 + noise"
   ]
  },
  {
   "cell_type": "code",
   "execution_count": 8,
   "metadata": {
    "collapsed": true
   },
   "outputs": [],
   "source": [
    "%matplotlib inline"
   ]
  },
  {
   "cell_type": "code",
   "execution_count": 10,
   "metadata": {
    "collapsed": false
   },
   "outputs": [
    {
     "data": {
      "text/plain": [
       "<matplotlib.legend.Legend at 0x56a40b8>"
      ]
     },
     "execution_count": 10,
     "metadata": {},
     "output_type": "execute_result"
    },
    {
     "data": {
      "image/png": "[encoded data removed]",
      "text/plain": [
       "<matplotlib.figure.Figure at 0x56a0eb8>"
      ]
     },
     "metadata": {},
     "output_type": "display_data"
    }
   ],
   "source": [
    "plt.scatter(x, y, alpha=0.5, label=\"train\")\n",
    "plt.legend(loc=\"best\")"
   ]
  },
  {
   "cell_type": "code",
   "execution_count": 11,
   "metadata": {
    "collapsed": true
   },
   "outputs": [],
   "source": [
    "tf_x = tf.placeholder(tf.float32, [None, 1])\n",
    "tf_y = tf.placeholder(tf.float32, [None, 1])\n",
    "tf_is_train = tf.placeholder(tf.bool, None)"
   ]
  },
  {
   "cell_type": "code",
   "execution_count": 14,
   "metadata": {
    "collapsed": true
   },
   "outputs": [],
   "source": [
    "class NN(object):\n",
    "    def __init__(self, batch_normalization=False):\n",
    "        self.is_bn = batch_normalization\n",
    "        \n",
    "        self.w_init = tf.random_normal_initializer(0., .1)  # weights initialization\n",
    "        self.pre_activation = [tf_x]\n",
    "        if self.is_bn:\n",
    "            self.layer_input = [tf.layers.batch_normalization(tf_x, training=tf_is_train)]  # for input data\n",
    "        else:\n",
    "            self.layer_input = [tf_x]\n",
    "        \n",
    "        # adding hidden layers\n",
    "        for i in range(N_HIDDEN):\n",
    "            self.layer_input.append(self.add_layer(self.layer_input[-1], 10, ac=ACTIVATION))\n",
    "        self.out = tf.layers.dense(self.layer_input[-1], 1, kernel_initializer=self.w_init, bias_initializer=B_INIT)\n",
    "        self.loss = tf.losses.mean_squared_error(tf_y, self.out)\n",
    "        \n",
    "        # Important: the moving_mean and moving_variance need to be updated\n",
    "        # pass the update_ops with control_dependencies to the train_op\n",
    "        update_ops = tf.get_collection(tf.GraphKeys.UPDATE_OPS)\n",
    "        with tf.control_dependencies(update_ops):\n",
    "            self.train = tf.train.AdamOptimizer(LR).minimize(self.loss)\n",
    "            \n",
    "    def add_layer(self, x, out_size, ac=None):\n",
    "        x = tf.layers.dense(x, out_size, kernel_initializer=self.w_init, bias_initializer=B_INIT)\n",
    "        self.pre_activation.append(x)\n",
    "        if self.is_bn:\n",
    "            x = tf.layers.batch_normalization(x, momentum=0.4, training=tf_is_train)\n",
    "        out = x if ac is None else ac(x)\n",
    "        return out"
   ]
  },
  {
   "cell_type": "code",
   "execution_count": 15,
   "metadata": {
    "collapsed": false
   },
   "outputs": [],
   "source": [
    "nets = [NN(batch_normalization=False), NN(batch_normalization=True)]"
   ]
  },
  {
   "cell_type": "code",
   "execution_count": 20,
   "metadata": {
    "collapsed": true
   },
   "outputs": [],
   "source": [
    "def plot_histogram(l_in, l_in_bn, pre_ac, pre_ac_bn):\n",
    "    for i, (ax_pa, ax_pa_bn, ax,  ax_bn) in enumerate(zip(axs[0, :], axs[1, :], axs[2, :], axs[3, :])):\n",
    "        [a.clear() for a in [ax_pa, ax_pa_bn, ax, ax_bn]]\n",
    "        if i == 0: p_range = (-7, 10); the_range = (-7, 10)\n",
    "        else: p_range = (-4, 4); the_range = (-1, 1)\n",
    "        ax_pa.set_title('L' + str(i))\n",
    "        ax_pa.hist(pre_ac[i].ravel(), bins=10, range=p_range, color='#FF9359', alpha=0.5)\n",
    "        ax_pa_bn.hist(pre_ac_bn[i].ravel(), bins=10, range=p_range, color='#74BCFF', alpha=0.5)\n",
    "        ax.hist(l_in[i].ravel(), bins=10, range=the_range, color='#FF9359')\n",
    "        ax_bn.hist(l_in_bn[i].ravel(), bins=10, range=the_range, color='#74BCFF')\n",
    "        for a in [ax_pa, ax, ax_pa_bn, ax_bn]:\n",
    "            a.set_yticks(()); a.set_xticks(())\n",
    "        ax_pa_bn.set_xticks(p_range); ax_bn.set_xticks(the_range); axs[2, 0].set_ylabel('Act'); axs[3, 0].set_ylabel('BN Act')\n",
    "    plt.pause(0.01)"
   ]
  },
  {
   "cell_type": "code",
   "execution_count": 23,
   "metadata": {
    "collapsed": false
   },
   "outputs": [
    {
     "name": "stdout",
     "output_type": "stream",
     "text": [
      "Epoch:  0\n"
     ]
    },
    {
     "data": {
      "image/png": "[encoded data removed]",
      "text/plain": [
       "<matplotlib.figure.Figure at 0x19024550>"
      ]
     },
     "metadata": {},
     "output_type": "display_data"
    },
    {
     "name": "stdout",
     "output_type": "stream",
     "text": [
      "Epoch:  1\n",
      "Epoch:  2\n",
      "Epoch:  3\n",
      "Epoch:  4\n",
      "Epoch:  5\n",
      "Epoch:  6\n",
      "Epoch:  7\n",
      "Epoch:  8\n",
      "Epoch:  9\n",
      "Epoch:  10\n",
      "Epoch:  11\n"
     ]
    },
    {
     "data": {
      "image/png": "[encoded data removed]",
      "text/plain": [
       "<matplotlib.figure.Figure at 0x1ba205c0>"
      ]
     },
     "metadata": {},
     "output_type": "display_data"
    },
    {
     "data": {
      "image/png": "[encoded data removed]",
      "text/plain": [
       "<matplotlib.figure.Figure at 0x1768dc18>"
      ]
     },
     "metadata": {},
     "output_type": "display_data"
    }
   ],
   "source": [
    "with tf.Session() as sess:\n",
    "    sess.run(tf.global_variables_initializer())\n",
    "    f, axs = plt.subplots(4, N_HIDDEN + 1, figsize=(10, 5))\n",
    "    plt.ion()\n",
    "    \n",
    "    losses = [[], []]   # record test loss\n",
    "    for epoch in range(EPOCH):\n",
    "        print('Epoch: ', epoch)\n",
    "        np.random.shuffle(train_data)\n",
    "        step = 0\n",
    "        in_epoch = True\n",
    "        while in_epoch:\n",
    "            b_s, b_f = (step*BATCH_SIZE) % len(train_data), ((step+1)*BATCH_SIZE) % len(train_data) # batch index\n",
    "            step += 1\n",
    "            if b_f < b_s:\n",
    "                b_f = len(train_data)\n",
    "                in_epoch = False\n",
    "            b_x, b_y = train_data[b_s: b_f, 0:1], train_data[b_s: b_f, 1:2]         # batch training data\n",
    "            sess.run([nets[0].train, nets[1].train], {tf_x: b_x, tf_y: b_y, tf_is_train: True})     # train\n",
    "\n",
    "            if step == 1:\n",
    "                l0, l1, l_in, l_in_bn, pa, pa_bn = sess.run(\n",
    "                    [nets[0].loss, nets[1].loss, nets[0].layer_input, nets[1].layer_input,\n",
    "                     nets[0].pre_activation, nets[1].pre_activation],\n",
    "                    {tf_x: test_x, tf_y: test_y, tf_is_train: False})\n",
    "                [loss.append(l) for loss, l in zip(losses, [l0, l1])]   # recode test loss\n",
    "                plot_histogram(l_in, l_in_bn, pa, pa_bn)     # plot histogram\n",
    "                \n",
    "    # plot test loss\n",
    "    plt.figure(2)\n",
    "    plt.plot(losses[0], c='#FF9359', lw=3, label='Original')\n",
    "    plt.plot(losses[1], c='#74BCFF', lw=3, label='Batch Normalization')\n",
    "    plt.ylabel('test loss'); plt.ylim((0, 2000)); plt.legend(loc='best')\n",
    "\n",
    "    # plot prediction line\n",
    "    pred, pred_bn = sess.run([nets[0].out, nets[1].out], {tf_x: test_x, tf_is_train: False})\n",
    "    plt.figure(3)\n",
    "    plt.plot(test_x, pred, c='#FF9359', lw=4, label='Original')\n",
    "    plt.plot(test_x, pred_bn, c='#74BCFF', lw=4, label='Batch Normalization')\n",
    "    plt.scatter(x[:200], y[:200], c='r', s=50, alpha=0.2, label='train')\n",
    "    plt.legend(loc='best'); plt.show()"
   ]
  },
  {
   "cell_type": "code",
   "execution_count": null,
   "metadata": {
    "collapsed": true
   },
   "outputs": [],
   "source": []
  }
 ],
 "metadata": {
  "anaconda-cloud": {},
  "kernelspec": {
   "display_name": "Python [Anaconda3]",
   "language": "python",
   "name": "Python [Anaconda3]"
  },
  "language_info": {
   "codemirror_mode": {
    "name": "ipython",
    "version": 3
   },
   "file_extension": ".py",
   "mimetype": "text/x-python",
   "name": "python",
   "nbconvert_exporter": "python",
   "pygments_lexer": "ipython3",
   "version": "3.5.1"
  },
  "toc": {
   "nav_menu": {},
   "number_sections": true,
   "sideBar": true,
   "skip_h1_title": false,
   "toc_cell": false,
   "toc_position": {},
   "toc_section_display": "block",
   "toc_window_display": false
  }
 },
 "nbformat": 4,
 "nbformat_minor": 0
}
