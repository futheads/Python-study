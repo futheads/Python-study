{
 "cells": [
  {
   "cell_type": "markdown",
   "metadata": {},
   "source": [
    "# 连接MongoDB"
   ]
  },
  {
   "cell_type": "code",
   "execution_count": 1,
   "metadata": {
    "collapsed": false
   },
   "outputs": [],
   "source": [
    "import pymongo\n",
    "\n",
    "client = pymongo.MongoClient(host=\"localhost\", port=27017)"
   ]
  },
  {
   "cell_type": "markdown",
   "metadata": {},
   "source": [
    "# 指定数据库"
   ]
  },
  {
   "cell_type": "code",
   "execution_count": 9,
   "metadata": {
    "collapsed": false
   },
   "outputs": [],
   "source": [
    "db = client.test"
   ]
  },
  {
   "cell_type": "markdown",
   "metadata": {},
   "source": [
    "# 指定集合"
   ]
  },
  {
   "cell_type": "code",
   "execution_count": 10,
   "metadata": {
    "collapsed": true
   },
   "outputs": [],
   "source": [
    "collection = db.students"
   ]
  },
  {
   "cell_type": "markdown",
   "metadata": {},
   "source": [
    "# 插入数据"
   ]
  },
  {
   "cell_type": "markdown",
   "metadata": {},
   "source": [
    "## 插入单条数据"
   ]
  },
  {
   "cell_type": "code",
   "execution_count": 12,
   "metadata": {
    "collapsed": false
   },
   "outputs": [
    {
     "data": {
      "text/plain": [
       "ObjectId('5bd542b48cfead2940af4e8f')"
      ]
     },
     "execution_count": 12,
     "metadata": {},
     "output_type": "execute_result"
    }
   ],
   "source": [
    "student = {\n",
    "    'id': '20170101',\n",
    "    'name': 'Jordan',\n",
    "    'age': 20,\n",
    "    'gender': 'male'\n",
    "}\n",
    "result = collection.insert_one(student)\n",
    "result.inserted_id"
   ]
  },
  {
   "cell_type": "markdown",
   "metadata": {},
   "source": [
    "## 插入多条数据"
   ]
  },
  {
   "cell_type": "code",
   "execution_count": 13,
   "metadata": {
    "collapsed": false
   },
   "outputs": [
    {
     "data": {
      "text/plain": [
       "<pymongo.results.InsertManyResult at 0x48fde88>"
      ]
     },
     "execution_count": 13,
     "metadata": {},
     "output_type": "execute_result"
    }
   ],
   "source": [
    "student1 = {\n",
    "    'id': '20170101',\n",
    "    'name': 'Jordan',\n",
    "    'age': 20,\n",
    "    'gender': 'male'\n",
    "}\n",
    " \n",
    "student2 = {\n",
    "    'id': '20170202',\n",
    "    'name': 'Mike',\n",
    "    'age': 21,\n",
    "    'gender': 'male'\n",
    "}\n",
    "\n",
    "result = collection.insert_many([student1, student2])\n",
    "result"
   ]
  },
  {
   "cell_type": "code",
   "execution_count": 14,
   "metadata": {
    "collapsed": false
   },
   "outputs": [
    {
     "data": {
      "text/plain": [
       "[ObjectId('5bd5433d8cfead2940af4e90'), ObjectId('5bd5433d8cfead2940af4e91')]"
      ]
     },
     "execution_count": 14,
     "metadata": {},
     "output_type": "execute_result"
    }
   ],
   "source": [
    "result.inserted_ids"
   ]
  },
  {
   "cell_type": "markdown",
   "metadata": {},
   "source": [
    "# 查询"
   ]
  },
  {
   "cell_type": "markdown",
   "metadata": {},
   "source": [
    "## 查询单条"
   ]
  },
  {
   "cell_type": "code",
   "execution_count": 15,
   "metadata": {
    "collapsed": false
   },
   "outputs": [
    {
     "data": {
      "text/plain": [
       "dict"
      ]
     },
     "execution_count": 15,
     "metadata": {},
     "output_type": "execute_result"
    }
   ],
   "source": [
    "result = collection.find_one({\"name\": \"Mike\"})\n",
    "type(result)"
   ]
  },
  {
   "cell_type": "code",
   "execution_count": 16,
   "metadata": {
    "collapsed": false
   },
   "outputs": [
    {
     "data": {
      "text/plain": [
       "{'_id': ObjectId('5bd5433d8cfead2940af4e91'),\n",
       " 'age': 21,\n",
       " 'gender': 'male',\n",
       " 'id': '20170202',\n",
       " 'name': 'Mike'}"
      ]
     },
     "execution_count": 16,
     "metadata": {},
     "output_type": "execute_result"
    }
   ],
   "source": [
    "result"
   ]
  },
  {
   "cell_type": "code",
   "execution_count": 19,
   "metadata": {
    "collapsed": false
   },
   "outputs": [
    {
     "data": {
      "text/plain": [
       "{'_id': ObjectId('5bd5433d8cfead2940af4e91'),\n",
       " 'age': 21,\n",
       " 'gender': 'male',\n",
       " 'id': '20170202',\n",
       " 'name': 'Mike'}"
      ]
     },
     "execution_count": 19,
     "metadata": {},
     "output_type": "execute_result"
    }
   ],
   "source": [
    "from bson.objectid import ObjectId\n",
    "\n",
    "\n",
    "result = collection.find_one({\"_id\": ObjectId('5bd5433d8cfead2940af4e91')})\n",
    "result"
   ]
  },
  {
   "cell_type": "markdown",
   "metadata": {},
   "source": [
    "## 查询多条数据"
   ]
  },
  {
   "cell_type": "markdown",
   "metadata": {},
   "source": [
    "### 精确匹配"
   ]
  },
  {
   "cell_type": "code",
   "execution_count": 20,
   "metadata": {
    "collapsed": false
   },
   "outputs": [
    {
     "name": "stdout",
     "output_type": "stream",
     "text": [
      "{'name': 'Jordan', 'age': 20, '_id': ObjectId('5bd542678cfead2940af4e8e'), 'id': '20170101', 'gender': 'male'}\n",
      "{'name': 'Jordan', 'age': 20, '_id': ObjectId('5bd542b48cfead2940af4e8f'), 'id': '20170101', 'gender': 'male'}\n",
      "{'name': 'Jordan', 'age': 20, '_id': ObjectId('5bd5433d8cfead2940af4e90'), 'id': '20170101', 'gender': 'male'}\n"
     ]
    }
   ],
   "source": [
    "results = collection.find({\"age\": 20})\n",
    "for result in results:\n",
    "    print(result)"
   ]
  },
  {
   "cell_type": "markdown",
   "metadata": {},
   "source": [
    "### 范围匹配"
   ]
  },
  {
   "cell_type": "code",
   "execution_count": 24,
   "metadata": {
    "collapsed": false
   },
   "outputs": [
    {
     "name": "stdout",
     "output_type": "stream",
     "text": [
      "{'name': 'Mike', 'age': 21, '_id': ObjectId('5bd5433d8cfead2940af4e91'), 'id': '20170202', 'gender': 'male'}\n"
     ]
    }
   ],
   "source": [
    "results = collection.find({\"age\": {\"$gt\": 20}})\n",
    "for result in results:\n",
    "    print(result)"
   ]
  },
  {
   "cell_type": "markdown",
   "metadata": {},
   "source": [
    "### 正则匹配"
   ]
  },
  {
   "cell_type": "code",
   "execution_count": 26,
   "metadata": {
    "collapsed": false
   },
   "outputs": [
    {
     "name": "stdout",
     "output_type": "stream",
     "text": [
      "{'name': 'Mike', 'age': 21, '_id': ObjectId('5bd5433d8cfead2940af4e91'), 'id': '20170202', 'gender': 'male'}\n"
     ]
    }
   ],
   "source": [
    "results = collection.find({\"name\": {\"$regex\": \"^M.*\"}})\n",
    "for result in results:\n",
    "    print(result)"
   ]
  },
  {
   "cell_type": "markdown",
   "metadata": {},
   "source": [
    "# 计数"
   ]
  },
  {
   "cell_type": "code",
   "execution_count": 28,
   "metadata": {
    "collapsed": false
   },
   "outputs": [
    {
     "data": {
      "text/plain": [
       "4"
      ]
     },
     "execution_count": 28,
     "metadata": {},
     "output_type": "execute_result"
    }
   ],
   "source": [
    "count = collection.find().count()\n",
    "count"
   ]
  },
  {
   "cell_type": "markdown",
   "metadata": {},
   "source": [
    "# 排序"
   ]
  },
  {
   "cell_type": "code",
   "execution_count": 30,
   "metadata": {
    "collapsed": false
   },
   "outputs": [
    {
     "name": "stdout",
     "output_type": "stream",
     "text": [
      "['Mike', 'Jordan', 'Jordan', 'Jordan']\n"
     ]
    }
   ],
   "source": [
    "results = collection.find().sort(\"name\", pymongo.DESCENDING)\n",
    "print([result[\"name\"] for result in results])"
   ]
  },
  {
   "cell_type": "markdown",
   "metadata": {},
   "source": [
    "# 偏移"
   ]
  },
  {
   "cell_type": "code",
   "execution_count": 31,
   "metadata": {
    "collapsed": false
   },
   "outputs": [
    {
     "name": "stdout",
     "output_type": "stream",
     "text": [
      "['Jordan', 'Mike']\n"
     ]
    }
   ],
   "source": [
    "results = collection.find().sort(\"name\", pymongo.ASCENDING).skip(2)\n",
    "print([result[\"name\"] for result in results])"
   ]
  },
  {
   "cell_type": "markdown",
   "metadata": {},
   "source": [
    "## 取结果个数"
   ]
  },
  {
   "cell_type": "code",
   "execution_count": 32,
   "metadata": {
    "collapsed": false
   },
   "outputs": [
    {
     "name": "stdout",
     "output_type": "stream",
     "text": [
      "['Jordan']\n"
     ]
    }
   ],
   "source": [
    "results = collection.find().sort(\"name\", pymongo.DESCENDING).skip(2).limit(1)\n",
    "print([result[\"name\"] for result in results])"
   ]
  },
  {
   "cell_type": "markdown",
   "metadata": {},
   "source": [
    "得注意的是，在数据库数量非常庞大的时候，如千万、亿级别，最好不要使用大的偏移量来查询数据，因为这样很可能导致内存溢出。此时可以使用类似如下操作来查询:"
   ]
  },
  {
   "cell_type": "markdown",
   "metadata": {},
   "source": [
    "Ps.这时需要记录好上次查询的_id"
   ]
  },
  {
   "cell_type": "code",
   "execution_count": 34,
   "metadata": {
    "collapsed": false
   },
   "outputs": [
    {
     "data": {
      "text/plain": [
       "<pymongo.cursor.Cursor at 0x4967a90>"
      ]
     },
     "execution_count": 34,
     "metadata": {},
     "output_type": "execute_result"
    }
   ],
   "source": [
    "from bson.objectid import ObjectId\n",
    "collection.find({\"_id\": {\"$gt\": ObjectId(\"5bd5433d8cfead2940af4e91\")}})"
   ]
  },
  {
   "cell_type": "markdown",
   "metadata": {},
   "source": [
    "# 更新"
   ]
  },
  {
   "cell_type": "markdown",
   "metadata": {},
   "source": [
    "## 一般操作"
   ]
  },
  {
   "cell_type": "code",
   "execution_count": 43,
   "metadata": {
    "collapsed": false
   },
   "outputs": [
    {
     "data": {
      "text/plain": [
       "<pymongo.results.UpdateResult at 0x49e4b08>"
      ]
     },
     "execution_count": 43,
     "metadata": {},
     "output_type": "execute_result"
    }
   ],
   "source": [
    "condition = {\"name\": \"Mike\"}\n",
    "student = collection.find_one(condition)\n",
    "student[\"age\"] = 28\n",
    "result = collection.update_one(condition, {\"$set\": student})\n",
    "result"
   ]
  },
  {
   "cell_type": "code",
   "execution_count": 44,
   "metadata": {
    "collapsed": false
   },
   "outputs": [
    {
     "data": {
      "text/plain": [
       "1"
      ]
     },
     "execution_count": 44,
     "metadata": {},
     "output_type": "execute_result"
    }
   ],
   "source": [
    "result.matched_count"
   ]
  },
  {
   "cell_type": "code",
   "execution_count": 45,
   "metadata": {
    "collapsed": false
   },
   "outputs": [
    {
     "data": {
      "text/plain": [
       "1"
      ]
     },
     "execution_count": 45,
     "metadata": {},
     "output_type": "execute_result"
    }
   ],
   "source": [
    "result.modified_count"
   ]
  },
  {
   "cell_type": "markdown",
   "metadata": {},
   "source": [
    "## 更新一条"
   ]
  },
  {
   "cell_type": "code",
   "execution_count": null,
   "metadata": {
    "collapsed": true
   },
   "outputs": [],
   "source": [
    "condition = {\"age\": {\"$gt\": 20}}\n",
    "result = collection.update_one(condition, {\"$inc\": {\"age\": 1}})\n",
    "print(result.modified_count, result.matched_count)"
   ]
  },
  {
   "cell_type": "markdown",
   "metadata": {},
   "source": [
    "## 更新多条"
   ]
  },
  {
   "cell_type": "code",
   "execution_count": 47,
   "metadata": {
    "collapsed": false
   },
   "outputs": [
    {
     "name": "stdout",
     "output_type": "stream",
     "text": [
      "3 3\n"
     ]
    }
   ],
   "source": [
    "condition = {\"age\": {\"$lt\": 21}}\n",
    "result = collection.update_many(condition, {\"$inc\": {\"age\": 1}})\n",
    "print(result.matched_count, result.modified_count)"
   ]
  },
  {
   "cell_type": "markdown",
   "metadata": {},
   "source": [
    "# 删除"
   ]
  },
  {
   "cell_type": "markdown",
   "metadata": {},
   "source": [
    "## 删一条"
   ]
  },
  {
   "cell_type": "code",
   "execution_count": null,
   "metadata": {
    "collapsed": true
   },
   "outputs": [],
   "source": [
    "result = collection.delete_one({\"name\": \"Mike\"})\n",
    "result.deleted_count"
   ]
  },
  {
   "cell_type": "markdown",
   "metadata": {},
   "source": [
    "## 删多条"
   ]
  },
  {
   "cell_type": "code",
   "execution_count": 51,
   "metadata": {
    "collapsed": false
   },
   "outputs": [
    {
     "data": {
      "text/plain": [
       "3"
      ]
     },
     "execution_count": 51,
     "metadata": {},
     "output_type": "execute_result"
    }
   ],
   "source": [
    "result = collection.delete_many({\"age\": {\"$lt\": 25}})\n",
    "result.deleted_count"
   ]
  },
  {
   "cell_type": "markdown",
   "metadata": {
    "collapsed": true
   },
   "source": [
    "# 聚合"
   ]
  },
  {
   "cell_type": "markdown",
   "metadata": {},
   "source": [
    "## 管道"
   ]
  },
  {
   "cell_type": "code",
   "execution_count": 26,
   "metadata": {
    "collapsed": true
   },
   "outputs": [],
   "source": [
    "db = client.article"
   ]
  },
  {
   "cell_type": "markdown",
   "metadata": {},
   "source": [
    "- project：修改输入文档的结构。可以用来重命名、增加或删除域，也可以用于创建计算结果以及嵌套文档。\n",
    "- match：用于过滤数据，只输出符合条件的文档。$match使用MongoDB的标准查询操作。\n",
    "- limit：用来限制MongoDB聚合管道返回的文档数。\n",
    "- skip：在聚合管道中跳过指定数量的文档，并返回余下的文档。\n",
    "- unwind：将文档中的某一个数组类型字段拆分成多条，每条包含数组中的一个值。\n",
    "- group：将集合中的文档分组，可用于统计结果。\n",
    "- sort：将输入文档排序后输出。\n",
    "- geoNear：输出接近某一地理位置的有序文档。"
   ]
  },
  {
   "cell_type": "code",
   "execution_count": 33,
   "metadata": {
    "collapsed": false
   },
   "outputs": [],
   "source": [
    "result = db.things.insert_many([{\"x\": 1, \"tags\": [\"dog\", \"cat\"]},\n",
    "                              {\"x\": 2, \"tags\": [\"cat\"]},\n",
    "                              {\"x\": 2, \"tags\": [\"mouse\", \"cat\", \"dog\"]},\n",
    "                              {\"x\": 3, \"tags\": []}])"
   ]
  },
  {
   "cell_type": "code",
   "execution_count": 35,
   "metadata": {
    "collapsed": false
   },
   "outputs": [
    {
     "name": "stdout",
     "output_type": "stream",
     "text": [
      "[{'_id': 'cat', 'count': 3}, {'_id': 'dog', 'count': 2}, {'_id': 'mouse', 'count': 1}]\n"
     ]
    }
   ],
   "source": [
    "from bson import SON\n",
    "\n",
    "pipeline = [\n",
    "    {\"$unwind\": \"$tags\"},\n",
    "    {\"$group\": {\"_id\": \"$tags\", \"count\": {\"$sum\": 1}}},\n",
    "    {\"$sort\": SON([(\"count\", pymongo.DESCENDING), (\"_id\", pymongo.DESCENDING)])}\n",
    "]\n",
    "print(list(db.things.aggregate(pipeline)))"
   ]
  }
 ],
 "metadata": {
  "anaconda-cloud": {},
  "kernelspec": {
   "display_name": "Python [Anaconda3]",
   "language": "python",
   "name": "Python [Anaconda3]"
  },
  "language_info": {
   "codemirror_mode": {
    "name": "ipython",
    "version": 3
   },
   "file_extension": ".py",
   "mimetype": "text/x-python",
   "name": "python",
   "nbconvert_exporter": "python",
   "pygments_lexer": "ipython3",
   "version": "3.5.1"
  },
  "toc": {
   "nav_menu": {},
   "number_sections": true,
   "sideBar": true,
   "skip_h1_title": false,
   "toc_cell": false,
   "toc_position": {},
   "toc_section_display": "block",
   "toc_window_display": false
  }
 },
 "nbformat": 4,
 "nbformat_minor": 0
}
