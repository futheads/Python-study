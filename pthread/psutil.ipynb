{
 "cells": [
  {
   "cell_type": "markdown",
   "metadata": {},
   "source": [
    "psutil = process and system utilities"
   ]
  },
  {
   "cell_type": "markdown",
   "metadata": {},
   "source": [
    "# 获取CPU信息"
   ]
  },
  {
   "cell_type": "code",
   "execution_count": 2,
   "metadata": {
    "collapsed": false
   },
   "outputs": [
    {
     "data": {
      "text/plain": [
       "8"
      ]
     },
     "execution_count": 2,
     "metadata": {},
     "output_type": "execute_result"
    }
   ],
   "source": [
    "import psutil\n",
    "\n",
    "psutil.cpu_count() # CPU逻辑核数"
   ]
  },
  {
   "cell_type": "code",
   "execution_count": 3,
   "metadata": {
    "collapsed": false
   },
   "outputs": [
    {
     "data": {
      "text/plain": [
       "4"
      ]
     },
     "execution_count": 3,
     "metadata": {},
     "output_type": "execute_result"
    }
   ],
   "source": [
    "psutil.cpu_count(logical=False) # cpu物理核数"
   ]
  },
  {
   "cell_type": "markdown",
   "metadata": {},
   "source": [
    "# 统计CPU的用户/核数/空闲时间"
   ]
  },
  {
   "cell_type": "code",
   "execution_count": 4,
   "metadata": {
    "collapsed": false
   },
   "outputs": [
    {
     "data": {
      "text/plain": [
       "scputimes(user=45482.203125, system=53773.25, idle=1800293.625, interrupt=685.7648000717163, dpc=803.4363670349121)"
      ]
     },
     "execution_count": 4,
     "metadata": {},
     "output_type": "execute_result"
    }
   ],
   "source": [
    "psutil.cpu_times()"
   ]
  },
  {
   "cell_type": "markdown",
   "metadata": {},
   "source": [
    "# 实现类似top命令的CPU使用率"
   ]
  },
  {
   "cell_type": "code",
   "execution_count": 6,
   "metadata": {
    "collapsed": false
   },
   "outputs": [
    {
     "name": "stdout",
     "output_type": "stream",
     "text": [
      "[10.8, 3.2, 7.7, 0.0, 13.8, 0.0, 0.0, 6.2]\n",
      "[9.4, 1.5, 6.2, 0.0, 9.4, 0.0, 0.0, 6.2]\n",
      "[6.3, 0.0, 4.6, 0.0, 10.9, 0.0, 0.0, 4.7]\n",
      "[6.2, 0.0, 3.1, 0.0, 9.4, 0.0, 0.0, 6.2]\n",
      "[9.4, 0.0, 7.7, 0.0, 15.9, 0.0, 0.0, 6.2]\n",
      "[10.8, 0.0, 9.2, 0.0, 7.7, 0.0, 0.0, 7.7]\n",
      "[3.1, 0.0, 4.8, 0.0, 4.7, 0.0, 1.7, 6.2]\n",
      "[7.8, 0.0, 7.8, 0.0, 6.2, 0.0, 0.0, 7.8]\n",
      "[7.8, 0.0, 3.1, 1.5, 10.9, 0.0, 0.0, 10.9]\n",
      "[7.8, 0.0, 6.2, 0.0, 9.4, 0.0, 0.0, 9.4]\n"
     ]
    }
   ],
   "source": [
    "for x in range(10):\n",
    "    print(psutil.cpu_percent(interval=1, percpu=True))"
   ]
  },
  {
   "cell_type": "markdown",
   "metadata": {},
   "source": [
    "# 获取内存信息"
   ]
  },
  {
   "cell_type": "markdown",
   "metadata": {},
   "source": [
    "## 物理内存"
   ]
  },
  {
   "cell_type": "code",
   "execution_count": 7,
   "metadata": {
    "collapsed": false
   },
   "outputs": [
    {
     "data": {
      "text/plain": [
       "svmem(total=17082687488, available=8342171648, percent=51.2, used=8740515840, free=8342171648)"
      ]
     },
     "execution_count": 7,
     "metadata": {},
     "output_type": "execute_result"
    }
   ],
   "source": [
    "psutil.virtual_memory()"
   ]
  },
  {
   "cell_type": "markdown",
   "metadata": {},
   "source": [
    "## 交换内存"
   ]
  },
  {
   "cell_type": "code",
   "execution_count": 8,
   "metadata": {
    "collapsed": false
   },
   "outputs": [
    {
     "data": {
      "text/plain": [
       "sswap(total=34163466240, used=13330440192, free=20833026048, percent=39.0, sin=0, sout=0)"
      ]
     },
     "execution_count": 8,
     "metadata": {},
     "output_type": "execute_result"
    }
   ],
   "source": [
    "psutil.swap_memory()"
   ]
  },
  {
   "cell_type": "markdown",
   "metadata": {},
   "source": [
    "# 获取磁盘信息"
   ]
  },
  {
   "cell_type": "markdown",
   "metadata": {},
   "source": [
    "## 磁盘分区信息"
   ]
  },
  {
   "cell_type": "code",
   "execution_count": 9,
   "metadata": {
    "collapsed": false
   },
   "outputs": [
    {
     "data": {
      "text/plain": [
       "[sdiskpart(device='C:\\\\', mountpoint='C:\\\\', fstype='NTFS', opts='rw,fixed'),\n",
       " sdiskpart(device='D:\\\\', mountpoint='D:\\\\', fstype='NTFS', opts='rw,fixed'),\n",
       " sdiskpart(device='E:\\\\', mountpoint='E:\\\\', fstype='NTFS', opts='rw,fixed'),\n",
       " sdiskpart(device='F:\\\\', mountpoint='F:\\\\', fstype='NTFS', opts='rw,fixed'),\n",
       " sdiskpart(device='G:\\\\', mountpoint='G:\\\\', fstype='NTFS', opts='rw,fixed'),\n",
       " sdiskpart(device='H:\\\\', mountpoint='H:\\\\', fstype='CDFS', opts='ro,cdrom')]"
      ]
     },
     "execution_count": 9,
     "metadata": {},
     "output_type": "execute_result"
    }
   ],
   "source": [
    "psutil.disk_partitions()"
   ]
  },
  {
   "cell_type": "markdown",
   "metadata": {},
   "source": [
    "## 磁盘使用情况"
   ]
  },
  {
   "cell_type": "code",
   "execution_count": 10,
   "metadata": {
    "collapsed": false
   },
   "outputs": [
    {
     "data": {
      "text/plain": [
       "sdiskusage(total=536870907904, used=249292099584, free=287578808320, percent=46.4)"
      ]
     },
     "execution_count": 10,
     "metadata": {},
     "output_type": "execute_result"
    }
   ],
   "source": [
    "psutil.disk_usage(\"/\")"
   ]
  },
  {
   "cell_type": "markdown",
   "metadata": {},
   "source": [
    "## 磁盘IO"
   ]
  },
  {
   "cell_type": "code",
   "execution_count": 11,
   "metadata": {
    "collapsed": false
   },
   "outputs": [
    {
     "data": {
      "text/plain": [
       "sdiskio(read_count=1274613, write_count=2425835, read_bytes=27769537024, write_bytes=89811540480, read_time=6690523880, write_time=420304443740)"
      ]
     },
     "execution_count": 11,
     "metadata": {},
     "output_type": "execute_result"
    }
   ],
   "source": [
    "psutil.disk_io_counters()"
   ]
  },
  {
   "cell_type": "markdown",
   "metadata": {},
   "source": [
    "# 获取网络信息"
   ]
  },
  {
   "cell_type": "markdown",
   "metadata": {},
   "source": [
    "## 获取网络读写字节/包的个数"
   ]
  },
  {
   "cell_type": "code",
   "execution_count": 12,
   "metadata": {
    "collapsed": false
   },
   "outputs": [
    {
     "data": {
      "text/plain": [
       "snetio(bytes_sent=746326369, bytes_recv=2984626407, packets_sent=2772071, packets_recv=2876324, errin=0, errout=4, dropin=0, dropout=0)"
      ]
     },
     "execution_count": 12,
     "metadata": {},
     "output_type": "execute_result"
    }
   ],
   "source": [
    "psutil.net_io_counters()"
   ]
  },
  {
   "cell_type": "markdown",
   "metadata": {},
   "source": [
    "## 获取网口信息"
   ]
  },
  {
   "cell_type": "code",
   "execution_count": 14,
   "metadata": {
    "collapsed": false
   },
   "outputs": [
    {
     "data": {
      "text/plain": [
       "{'Bluetooth 网络连接 3': [snic(family=<AddressFamily.AF_LINK: -1>, address='D0-7E-35-4D-36-F3', netmask=None, broadcast=None, ptp=None),\n",
       "  snic(family=<AddressFamily.AF_INET: 2>, address='169.254.244.13', netmask=None, broadcast=None, ptp=None),\n",
       "  snic(family=<AddressFamily.AF_INET6: 23>, address='fe80::b0da:915a:bdc8:f40d', netmask=None, broadcast=None, ptp=None)],\n",
       " 'Loopback Pseudo-Interface 1': [snic(family=<AddressFamily.AF_INET: 2>, address='127.0.0.1', netmask=None, broadcast=None, ptp=None),\n",
       "  snic(family=<AddressFamily.AF_INET6: 23>, address='::1', netmask=None, broadcast=None, ptp=None)],\n",
       " 'VMware Network Adapter VMnet1': [snic(family=<AddressFamily.AF_LINK: -1>, address='00-50-56-C0-00-01', netmask=None, broadcast=None, ptp=None),\n",
       "  snic(family=<AddressFamily.AF_INET: 2>, address='192.168.80.1', netmask=None, broadcast=None, ptp=None),\n",
       "  snic(family=<AddressFamily.AF_INET6: 23>, address='fe80::50d0:90cf:6359:1bbc', netmask=None, broadcast=None, ptp=None)],\n",
       " 'VMware Network Adapter VMnet8': [snic(family=<AddressFamily.AF_LINK: -1>, address='00-50-56-C0-00-08', netmask=None, broadcast=None, ptp=None),\n",
       "  snic(family=<AddressFamily.AF_INET: 2>, address='192.168.47.1', netmask=None, broadcast=None, ptp=None),\n",
       "  snic(family=<AddressFamily.AF_INET6: 23>, address='fe80::651d:1996:e204:a3cd', netmask=None, broadcast=None, ptp=None)],\n",
       " 'VirtualBox Host-Only Network': [snic(family=<AddressFamily.AF_LINK: -1>, address='0A-00-27-00-00-18', netmask=None, broadcast=None, ptp=None),\n",
       "  snic(family=<AddressFamily.AF_INET: 2>, address='192.168.56.1', netmask=None, broadcast=None, ptp=None),\n",
       "  snic(family=<AddressFamily.AF_INET6: 23>, address='fe80::2916:378d:25dd:6e08', netmask=None, broadcast=None, ptp=None)],\n",
       " 'VirtualBox Host-Only Network #2': [snic(family=<AddressFamily.AF_LINK: -1>, address='0A-00-27-00-00-19', netmask=None, broadcast=None, ptp=None),\n",
       "  snic(family=<AddressFamily.AF_INET: 2>, address='192.168.59.3', netmask=None, broadcast=None, ptp=None),\n",
       "  snic(family=<AddressFamily.AF_INET6: 23>, address='fe80::b9cc:9e1c:9776:d1a3', netmask=None, broadcast=None, ptp=None)],\n",
       " 'VirtualBox Host-Only Network #3': [snic(family=<AddressFamily.AF_LINK: -1>, address='0A-00-27-00-00-1C', netmask=None, broadcast=None, ptp=None),\n",
       "  snic(family=<AddressFamily.AF_INET: 2>, address='192.168.99.1', netmask=None, broadcast=None, ptp=None),\n",
       "  snic(family=<AddressFamily.AF_INET6: 23>, address='fe80::8c6e:713:3df6:7fd', netmask=None, broadcast=None, ptp=None)],\n",
       " 'isatap.{16F9782A-6D66-4476-9C92-6CB4D0101A35}': [snic(family=<AddressFamily.AF_LINK: -1>, address='00-00-00-00-00-00-00-E0', netmask=None, broadcast=None, ptp=None)],\n",
       " 'isatap.{174A0635-2826-4C37-A684-BAD9CDB1CA8D}': [snic(family=<AddressFamily.AF_LINK: -1>, address='00-00-00-00-00-00-00-E0', netmask=None, broadcast=None, ptp=None)],\n",
       " 'isatap.{5DA5CCA0-CD8D-41DF-A5AC-EF049B8FF728}': [snic(family=<AddressFamily.AF_LINK: -1>, address='00-00-00-00-00-00-00-E0', netmask=None, broadcast=None, ptp=None)],\n",
       " 'isatap.{80793BDD-B70F-412E-B839-3B5AD9A27F3F}': [snic(family=<AddressFamily.AF_LINK: -1>, address='00-00-00-00-00-00-00-E0', netmask=None, broadcast=None, ptp=None)],\n",
       " 'isatap.{9E34228D-D436-4AC7-8CDE-CC83DF0E1336}': [snic(family=<AddressFamily.AF_LINK: -1>, address='00-00-00-00-00-00-00-E0', netmask=None, broadcast=None, ptp=None),\n",
       "  snic(family=<AddressFamily.AF_INET6: 23>, address='fe80::5efe:192.168.1.100', netmask=None, broadcast=None, ptp=None)],\n",
       " 'isatap.{AB934568-AE0F-49A4-930D-DB02938278FA}': [snic(family=<AddressFamily.AF_LINK: -1>, address='00-00-00-00-00-00-00-E0', netmask=None, broadcast=None, ptp=None)],\n",
       " 'isatap.{B2B18A14-03F5-4853-9994-7AB1E7CEEBDB}': [snic(family=<AddressFamily.AF_LINK: -1>, address='00-00-00-00-00-00-00-E0', netmask=None, broadcast=None, ptp=None),\n",
       "  snic(family=<AddressFamily.AF_INET6: 23>, address='fe80::5efe:192.168.47.1', netmask=None, broadcast=None, ptp=None)],\n",
       " 'isatap.{E2841165-736D-4C94-B95D-605FB381FCFF}': [snic(family=<AddressFamily.AF_LINK: -1>, address='00-00-00-00-00-00-00-E0', netmask=None, broadcast=None, ptp=None)],\n",
       " 'isatap.{FF07E9E6-038D-4516-8169-87B551D3E0AD}': [snic(family=<AddressFamily.AF_LINK: -1>, address='00-00-00-00-00-00-00-E0', netmask=None, broadcast=None, ptp=None)],\n",
       " '无线网络连接': [snic(family=<AddressFamily.AF_LINK: -1>, address='D0-7E-35-4D-36-EF', netmask=None, broadcast=None, ptp=None),\n",
       "  snic(family=<AddressFamily.AF_INET: 2>, address='192.168.1.100', netmask=None, broadcast=None, ptp=None),\n",
       "  snic(family=<AddressFamily.AF_INET6: 23>, address='fe80::7937:ec9d:3fd1:1195', netmask=None, broadcast=None, ptp=None)],\n",
       " '无线网络连接 2': [snic(family=<AddressFamily.AF_LINK: -1>, address='D2-7E-35-4D-36-EF', netmask=None, broadcast=None, ptp=None),\n",
       "  snic(family=<AddressFamily.AF_INET: 2>, address='169.254.206.52', netmask=None, broadcast=None, ptp=None),\n",
       "  snic(family=<AddressFamily.AF_INET6: 23>, address='fe80::2cc3:3de3:fb22:ce34', netmask=None, broadcast=None, ptp=None)],\n",
       " '本地连接': [snic(family=<AddressFamily.AF_LINK: -1>, address='20-47-47-6F-44-E4', netmask=None, broadcast=None, ptp=None),\n",
       "  snic(family=<AddressFamily.AF_INET: 2>, address='169.254.5.188', netmask=None, broadcast=None, ptp=None),\n",
       "  snic(family=<AddressFamily.AF_INET6: 23>, address='fe80::7446:daf1:bf8d:5bc', netmask=None, broadcast=None, ptp=None)],\n",
       " '本地连接* 5': [snic(family=<AddressFamily.AF_LINK: -1>, address='00-00-00-00-00-00-00-E0', netmask=None, broadcast=None, ptp=None),\n",
       "  snic(family=<AddressFamily.AF_INET6: 23>, address='fe80::244a:3c7f:c505:b4e', netmask=None, broadcast=None, ptp=None)]}"
      ]
     },
     "execution_count": 14,
     "metadata": {},
     "output_type": "execute_result"
    }
   ],
   "source": [
    "psutil.net_if_addrs()"
   ]
  },
  {
   "cell_type": "markdown",
   "metadata": {},
   "source": [
    "## 获取网络接口状态"
   ]
  },
  {
   "cell_type": "code",
   "execution_count": 15,
   "metadata": {
    "collapsed": false
   },
   "outputs": [
    {
     "data": {
      "text/plain": [
       "{'Bluetooth 网络连接 3': snicstats(isup=False, duplex=<NicDuplex.NIC_DUPLEX_FULL: 2>, speed=0, mtu=0),\n",
       " 'Loopback Pseudo-Interface 1': snicstats(isup=True, duplex=<NicDuplex.NIC_DUPLEX_FULL: 2>, speed=1073, mtu=1500),\n",
       " 'VMware Network Adapter VMnet1': snicstats(isup=True, duplex=<NicDuplex.NIC_DUPLEX_FULL: 2>, speed=100, mtu=1500),\n",
       " 'VMware Network Adapter VMnet8': snicstats(isup=True, duplex=<NicDuplex.NIC_DUPLEX_FULL: 2>, speed=100, mtu=1500),\n",
       " 'VirtualBox Host-Only Network': snicstats(isup=True, duplex=<NicDuplex.NIC_DUPLEX_FULL: 2>, speed=1000, mtu=1500),\n",
       " 'VirtualBox Host-Only Network #2': snicstats(isup=True, duplex=<NicDuplex.NIC_DUPLEX_FULL: 2>, speed=1000, mtu=1500),\n",
       " 'VirtualBox Host-Only Network #3': snicstats(isup=True, duplex=<NicDuplex.NIC_DUPLEX_FULL: 2>, speed=1000, mtu=1500),\n",
       " 'isatap.{16F9782A-6D66-4476-9C92-6CB4D0101A35}': snicstats(isup=False, duplex=<NicDuplex.NIC_DUPLEX_FULL: 2>, speed=0, mtu=1280),\n",
       " 'isatap.{174A0635-2826-4C37-A684-BAD9CDB1CA8D}': snicstats(isup=False, duplex=<NicDuplex.NIC_DUPLEX_FULL: 2>, speed=0, mtu=1280),\n",
       " 'isatap.{5DA5CCA0-CD8D-41DF-A5AC-EF049B8FF728}': snicstats(isup=False, duplex=<NicDuplex.NIC_DUPLEX_FULL: 2>, speed=0, mtu=1280),\n",
       " 'isatap.{80793BDD-B70F-412E-B839-3B5AD9A27F3F}': snicstats(isup=False, duplex=<NicDuplex.NIC_DUPLEX_FULL: 2>, speed=0, mtu=1280),\n",
       " 'isatap.{9E34228D-D436-4AC7-8CDE-CC83DF0E1336}': snicstats(isup=False, duplex=<NicDuplex.NIC_DUPLEX_FULL: 2>, speed=0, mtu=1280),\n",
       " 'isatap.{AB934568-AE0F-49A4-930D-DB02938278FA}': snicstats(isup=False, duplex=<NicDuplex.NIC_DUPLEX_FULL: 2>, speed=0, mtu=1280),\n",
       " 'isatap.{B2B18A14-03F5-4853-9994-7AB1E7CEEBDB}': snicstats(isup=False, duplex=<NicDuplex.NIC_DUPLEX_FULL: 2>, speed=0, mtu=1280),\n",
       " 'isatap.{E2841165-736D-4C94-B95D-605FB381FCFF}': snicstats(isup=False, duplex=<NicDuplex.NIC_DUPLEX_FULL: 2>, speed=0, mtu=1280),\n",
       " 'isatap.{FF07E9E6-038D-4516-8169-87B551D3E0AD}': snicstats(isup=False, duplex=<NicDuplex.NIC_DUPLEX_FULL: 2>, speed=0, mtu=1280),\n",
       " '无线网络连接': snicstats(isup=True, duplex=<NicDuplex.NIC_DUPLEX_FULL: 2>, speed=150, mtu=1500),\n",
       " '无线网络连接 2': snicstats(isup=False, duplex=<NicDuplex.NIC_DUPLEX_FULL: 2>, speed=0, mtu=1500),\n",
       " '本地连接': snicstats(isup=False, duplex=<NicDuplex.NIC_DUPLEX_FULL: 2>, speed=0, mtu=1500),\n",
       " '本地连接* 5': snicstats(isup=False, duplex=<NicDuplex.NIC_DUPLEX_FULL: 2>, speed=0, mtu=1472)}"
      ]
     },
     "execution_count": 15,
     "metadata": {},
     "output_type": "execute_result"
    }
   ],
   "source": [
    "psutil.net_if_stats()"
   ]
  },
  {
   "cell_type": "markdown",
   "metadata": {},
   "source": [
    "## 获取当前网络连接信息"
   ]
  },
  {
   "cell_type": "code",
   "execution_count": 16,
   "metadata": {
    "collapsed": false
   },
   "outputs": [
    {
     "data": {
      "text/plain": [
       "[sconn(fd=-1, family=<AddressFamily.AF_INET: 2>, type=1, laddr=('127.0.0.1', 60083), raddr=('127.0.0.1', 60048), status='ESTABLISHED', pid=14936),\n",
       " sconn(fd=-1, family=<AddressFamily.AF_INET: 2>, type=2, laddr=('127.0.0.1', 57285), raddr=(), status='NONE', pid=4020),\n",
       " sconn(fd=-1, family=<AddressFamily.AF_INET: 2>, type=1, laddr=('0.0.0.0', 5357), raddr=(), status='LISTEN', pid=4),\n",
       " sconn(fd=-1, family=<AddressFamily.AF_INET: 2>, type=1, laddr=('127.0.0.1', 61291), raddr=('127.0.0.1', 61290), status='TIME_WAIT', pid=0),\n",
       " sconn(fd=-1, family=<AddressFamily.AF_INET: 2>, type=1, laddr=('127.0.0.1', 61327), raddr=('127.0.0.1', 61326), status='TIME_WAIT', pid=0),\n",
       " sconn(fd=-1, family=<AddressFamily.AF_INET: 2>, type=1, laddr=('127.0.0.1', 5905), raddr=('127.0.0.1', 60075), status='ESTABLISHED', pid=20412),\n",
       " sconn(fd=-1, family=<AddressFamily.AF_INET: 2>, type=1, laddr=('0.0.0.0', 25672), raddr=(), status='LISTEN', pid=3396),\n",
       " sconn(fd=-1, family=<AddressFamily.AF_INET: 2>, type=2, laddr=('0.0.0.0', 54680), raddr=(), status='NONE', pid=15176),\n",
       " sconn(fd=-1, family=<AddressFamily.AF_INET: 2>, type=2, laddr=('192.168.1.100', 1900), raddr=(), status='NONE', pid=2024),\n",
       " sconn(fd=-1, family=<AddressFamily.AF_INET: 2>, type=1, laddr=('127.0.0.1', 56678), raddr=('127.0.0.1', 5905), status='ESTABLISHED', pid=2172),\n",
       " sconn(fd=-1, family=<AddressFamily.AF_INET: 2>, type=1, laddr=('127.0.0.1', 5905), raddr=('127.0.0.1', 60081), status='ESTABLISHED', pid=14936),\n",
       " sconn(fd=-1, family=<AddressFamily.AF_INET: 2>, type=1, laddr=('192.168.1.100', 51488), raddr=('36.110.147.35', 80), status='CLOSE_WAIT', pid=17984),\n",
       " sconn(fd=-1, family=<AddressFamily.AF_INET: 2>, type=1, laddr=('127.0.0.1', 60047), raddr=('127.0.0.1', 60082), status='ESTABLISHED', pid=20412),\n",
       " sconn(fd=-1, family=<AddressFamily.AF_INET: 2>, type=1, laddr=('127.0.0.1', 55327), raddr=(), status='LISTEN', pid=20344),\n",
       " sconn(fd=-1, family=<AddressFamily.AF_INET: 2>, type=1, laddr=('127.0.0.1', 56674), raddr=('127.0.0.1', 5905), status='ESTABLISHED', pid=2172),\n",
       " sconn(fd=-1, family=<AddressFamily.AF_INET: 2>, type=1, laddr=('127.0.0.1', 5905), raddr=('127.0.0.1', 55330), status='ESTABLISHED', pid=14936),\n",
       " sconn(fd=-1, family=<AddressFamily.AF_INET: 2>, type=1, laddr=('127.0.0.1', 61329), raddr=('127.0.0.1', 61328), status='TIME_WAIT', pid=0),\n",
       " sconn(fd=-1, family=<AddressFamily.AF_INET: 2>, type=1, laddr=('127.0.0.1', 5905), raddr=('127.0.0.1', 56672), status='ESTABLISHED', pid=2172),\n",
       " sconn(fd=-1, family=<AddressFamily.AF_INET: 2>, type=1, laddr=('192.168.1.100', 61400), raddr=('64.233.189.102', 443), status='ESTABLISHED', pid=1464),\n",
       " sconn(fd=-1, family=<AddressFamily.AF_INET: 2>, type=1, laddr=('192.168.1.100', 60201), raddr=('220.181.76.83', 80), status='CLOSE_WAIT', pid=15176),\n",
       " sconn(fd=-1, family=<AddressFamily.AF_INET6: 23>, type=2, laddr=('::1', 5353), raddr=(), status='NONE', pid=12496),\n",
       " sconn(fd=-1, family=<AddressFamily.AF_INET: 2>, type=1, laddr=('127.0.0.1', 5905), raddr=('127.0.0.1', 60080), status='ESTABLISHED', pid=14936),\n",
       " sconn(fd=-1, family=<AddressFamily.AF_INET6: 23>, type=2, laddr=('fe80::2916:378d:25dd:6e08', 2177), raddr=(), status='NONE', pid=2024),\n",
       " sconn(fd=-1, family=<AddressFamily.AF_INET: 2>, type=1, laddr=('127.0.0.1', 55339), raddr=('127.0.0.1', 5905), status='ESTABLISHED', pid=20344),\n",
       " sconn(fd=-1, family=<AddressFamily.AF_INET: 2>, type=1, laddr=('127.0.0.1', 5905), raddr=('127.0.0.1', 55344), status='ESTABLISHED', pid=20344),\n",
       " sconn(fd=-1, family=<AddressFamily.AF_INET: 2>, type=2, laddr=('192.168.99.1', 5353), raddr=(), status='NONE', pid=12496),\n",
       " sconn(fd=-1, family=<AddressFamily.AF_INET: 2>, type=2, laddr=('192.168.80.1', 5353), raddr=(), status='NONE', pid=12496),\n",
       " sconn(fd=-1, family=<AddressFamily.AF_INET: 2>, type=1, laddr=('127.0.0.1', 60079), raddr=('127.0.0.1', 60046), status='ESTABLISHED', pid=14936),\n",
       " sconn(fd=-1, family=<AddressFamily.AF_INET: 2>, type=1, laddr=('192.168.1.100', 51492), raddr=('180.149.156.143', 80), status='CLOSE_WAIT', pid=17984),\n",
       " sconn(fd=-1, family=<AddressFamily.AF_INET6: 23>, type=1, laddr=('::', 135), raddr=(), status='LISTEN', pid=1020),\n",
       " sconn(fd=-1, family=<AddressFamily.AF_INET: 2>, type=1, laddr=('127.0.0.1', 52450), raddr=('127.0.0.1', 52451), status='ESTABLISHED', pid=13104),\n",
       " sconn(fd=-1, family=<AddressFamily.AF_INET: 2>, type=2, laddr=('192.168.1.100', 5353), raddr=(), status='NONE', pid=3172),\n",
       " sconn(fd=-1, family=<AddressFamily.AF_INET6: 23>, type=1, laddr=('::', 5672), raddr=(), status='LISTEN', pid=3396),\n",
       " sconn(fd=-1, family=<AddressFamily.AF_INET: 2>, type=1, laddr=('127.0.0.1', 60051), raddr=('127.0.0.1', 5905), status='ESTABLISHED', pid=14936),\n",
       " sconn(fd=-1, family=<AddressFamily.AF_INET: 2>, type=2, laddr=('0.0.0.0', 3702), raddr=(), status='NONE', pid=1072),\n",
       " sconn(fd=-1, family=<AddressFamily.AF_INET6: 23>, type=2, laddr=('::1', 1900), raddr=(), status='NONE', pid=2024),\n",
       " sconn(fd=-1, family=<AddressFamily.AF_INET: 2>, type=1, laddr=('127.0.0.1', 61188), raddr=('127.0.0.1', 61187), status='TIME_WAIT', pid=0),\n",
       " sconn(fd=-1, family=<AddressFamily.AF_INET: 2>, type=1, laddr=('192.168.1.100', 61232), raddr=('192.168.1.100', 1103), status='TIME_WAIT', pid=0),\n",
       " sconn(fd=-1, family=<AddressFamily.AF_INET: 2>, type=1, laddr=('127.0.0.1', 55488), raddr=('127.0.0.1', 5905), status='ESTABLISHED', pid=20344),\n",
       " sconn(fd=-1, family=<AddressFamily.AF_INET: 2>, type=1, laddr=('127.0.0.1', 61273), raddr=('127.0.0.1', 61272), status='TIME_WAIT', pid=0),\n",
       " sconn(fd=-1, family=<AddressFamily.AF_INET: 2>, type=2, laddr=('0.0.0.0', 5005), raddr=(), status='NONE', pid=16096),\n",
       " sconn(fd=-1, family=<AddressFamily.AF_INET: 2>, type=1, laddr=('127.0.0.1', 52448), raddr=('127.0.0.1', 52449), status='ESTABLISHED', pid=13104),\n",
       " sconn(fd=-1, family=<AddressFamily.AF_INET: 2>, type=1, laddr=('127.0.0.1', 5905), raddr=('127.0.0.1', 56666), status='ESTABLISHED', pid=14936),\n",
       " sconn(fd=-1, family=<AddressFamily.AF_INET: 2>, type=1, laddr=('127.0.0.1', 61184), raddr=('127.0.0.1', 61183), status='TIME_WAIT', pid=0),\n",
       " sconn(fd=-1, family=<AddressFamily.AF_INET: 2>, type=1, laddr=('127.0.0.1', 61346), raddr=('127.0.0.1', 61345), status='TIME_WAIT', pid=0),\n",
       " sconn(fd=-1, family=<AddressFamily.AF_INET: 2>, type=1, laddr=('127.0.0.1', 49157), raddr=('127.0.0.1', 49158), status='ESTABLISHED', pid=1728),\n",
       " sconn(fd=-1, family=<AddressFamily.AF_INET: 2>, type=1, laddr=('127.0.0.1', 55490), raddr=('127.0.0.1', 5905), status='ESTABLISHED', pid=20344),\n",
       " sconn(fd=-1, family=<AddressFamily.AF_INET: 2>, type=1, laddr=('127.0.0.1', 60078), raddr=('127.0.0.1', 5905), status='ESTABLISHED', pid=14936),\n",
       " sconn(fd=-1, family=<AddressFamily.AF_INET: 2>, type=1, laddr=('127.0.0.1', 5905), raddr=('127.0.0.1', 56678), status='ESTABLISHED', pid=2172),\n",
       " sconn(fd=-1, family=<AddressFamily.AF_INET: 2>, type=1, laddr=('127.0.0.1', 61309), raddr=('127.0.0.1', 61308), status='TIME_WAIT', pid=0),\n",
       " sconn(fd=-1, family=<AddressFamily.AF_INET: 2>, type=1, laddr=('192.168.1.100', 61219), raddr=('192.168.1.100', 1103), status='TIME_WAIT', pid=0),\n",
       " sconn(fd=-1, family=<AddressFamily.AF_INET: 2>, type=1, laddr=('127.0.0.1', 5905), raddr=('127.0.0.1', 60073), status='ESTABLISHED', pid=20412),\n",
       " sconn(fd=-1, family=<AddressFamily.AF_INET: 2>, type=1, laddr=('127.0.0.1', 60281), raddr=('127.0.0.1', 60280), status='ESTABLISHED', pid=19840),\n",
       " sconn(fd=-1, family=<AddressFamily.AF_INET: 2>, type=2, laddr=('127.0.0.1', 51230), raddr=(), status='NONE', pid=2024),\n",
       " sconn(fd=-1, family=<AddressFamily.AF_INET: 2>, type=1, laddr=('127.0.0.1', 49163), raddr=('127.0.0.1', 4369), status='ESTABLISHED', pid=3396),\n",
       " sconn(fd=-1, family=<AddressFamily.AF_INET: 2>, type=2, laddr=('127.0.0.1', 1900), raddr=(), status='NONE', pid=2024),\n",
       " sconn(fd=-1, family=<AddressFamily.AF_INET: 2>, type=1, laddr=('127.0.0.1', 61378), raddr=('127.0.0.1', 61377), status='TIME_WAIT', pid=0),\n",
       " sconn(fd=-1, family=<AddressFamily.AF_INET: 2>, type=1, laddr=('192.168.1.100', 51455), raddr=('220.181.124.36', 80), status='CLOSE_WAIT', pid=17984),\n",
       " sconn(fd=-1, family=<AddressFamily.AF_INET: 2>, type=1, laddr=('127.0.0.1', 61236), raddr=('127.0.0.1', 61235), status='TIME_WAIT', pid=0),\n",
       " sconn(fd=-1, family=<AddressFamily.AF_INET: 2>, type=1, laddr=('127.0.0.1', 56665), raddr=(), status='LISTEN', pid=2172),\n",
       " sconn(fd=-1, family=<AddressFamily.AF_INET: 2>, type=1, laddr=('127.0.0.1', 8890), raddr=(), status='LISTEN', pid=1728),\n",
       " sconn(fd=-1, family=<AddressFamily.AF_INET: 2>, type=2, laddr=('0.0.0.0', 68), raddr=(), status='NONE', pid=564),\n",
       " sconn(fd=-1, family=<AddressFamily.AF_INET6: 23>, type=2, laddr=('fe80::b9cc:9e1c:9776:d1a3', 1900), raddr=(), status='NONE', pid=2024),\n",
       " sconn(fd=-1, family=<AddressFamily.AF_INET: 2>, type=2, laddr=('192.168.47.1', 1900), raddr=(), status='NONE', pid=2024),\n",
       " sconn(fd=-1, family=<AddressFamily.AF_INET: 2>, type=1, laddr=('127.0.0.1', 55328), raddr=(), status='LISTEN', pid=20344),\n",
       " sconn(fd=-1, family=<AddressFamily.AF_INET: 2>, type=1, laddr=('192.168.1.100', 61380), raddr=('122.193.207.23', 80), status='TIME_WAIT', pid=0),\n",
       " sconn(fd=-1, family=<AddressFamily.AF_INET: 2>, type=1, laddr=('127.0.0.1', 60075), raddr=('127.0.0.1', 5905), status='ESTABLISHED', pid=20412),\n",
       " sconn(fd=-1, family=<AddressFamily.AF_INET6: 23>, type=2, laddr=('::', 5355), raddr=(), status='NONE', pid=1612),\n",
       " sconn(fd=-1, family=<AddressFamily.AF_INET: 2>, type=1, laddr=('127.0.0.1', 5905), raddr=('127.0.0.1', 55489), status='ESTABLISHED', pid=20344),\n",
       " sconn(fd=-1, family=<AddressFamily.AF_INET: 2>, type=1, laddr=('127.0.0.1', 55487), raddr=('127.0.0.1', 5905), status='ESTABLISHED', pid=20344),\n",
       " sconn(fd=-1, family=<AddressFamily.AF_INET: 2>, type=1, laddr=('127.0.0.1', 49551), raddr=(), status='LISTEN', pid=3980),\n",
       " sconn(fd=-1, family=<AddressFamily.AF_INET6: 23>, type=2, laddr=('::', 58583), raddr=(), status='NONE', pid=12496),\n",
       " sconn(fd=-1, family=<AddressFamily.AF_INET: 2>, type=1, laddr=('127.0.0.1', 61224), raddr=('127.0.0.1', 61223), status='TIME_WAIT', pid=0),\n",
       " sconn(fd=-1, family=<AddressFamily.AF_INET: 2>, type=1, laddr=('127.0.0.1', 5905), raddr=('127.0.0.1', 60066), status='ESTABLISHED', pid=20412),\n",
       " sconn(fd=-1, family=<AddressFamily.AF_INET: 2>, type=1, laddr=('127.0.0.1', 56667), raddr=('127.0.0.1', 56664), status='ESTABLISHED', pid=14936),\n",
       " sconn(fd=-1, family=<AddressFamily.AF_INET: 2>, type=1, laddr=('127.0.0.1', 61306), raddr=('127.0.0.1', 61307), status='TIME_WAIT', pid=0),\n",
       " sconn(fd=-1, family=<AddressFamily.AF_INET: 2>, type=2, laddr=('127.0.0.1', 63787), raddr=(), status='NONE', pid=12904),\n",
       " sconn(fd=-1, family=<AddressFamily.AF_INET: 2>, type=1, laddr=('127.0.0.1', 2869), raddr=('127.0.0.1', 61209), status='TIME_WAIT', pid=0),\n",
       " sconn(fd=-1, family=<AddressFamily.AF_INET: 2>, type=2, laddr=('127.0.0.1', 52235), raddr=(), status='NONE', pid=3172),\n",
       " sconn(fd=-1, family=<AddressFamily.AF_INET: 2>, type=1, laddr=('127.0.0.1', 52197), raddr=('127.0.0.1', 65001), status='ESTABLISHED', pid=3172),\n",
       " sconn(fd=-1, family=<AddressFamily.AF_INET: 2>, type=1, laddr=('127.0.0.1', 5905), raddr=('127.0.0.1', 55488), status='ESTABLISHED', pid=20344),\n",
       " sconn(fd=-1, family=<AddressFamily.AF_INET: 2>, type=1, laddr=('127.0.0.1', 61261), raddr=('127.0.0.1', 61260), status='TIME_WAIT', pid=0),\n",
       " sconn(fd=-1, family=<AddressFamily.AF_INET: 2>, type=1, laddr=('127.0.0.1', 61293), raddr=('127.0.0.1', 61292), status='TIME_WAIT', pid=0),\n",
       " sconn(fd=-1, family=<AddressFamily.AF_INET: 2>, type=1, laddr=('127.0.0.1', 61234), raddr=('127.0.0.1', 61233), status='TIME_WAIT', pid=0),\n",
       " sconn(fd=-1, family=<AddressFamily.AF_INET: 2>, type=1, laddr=('127.0.0.1', 61394), raddr=('127.0.0.1', 61393), status='TIME_WAIT', pid=0),\n",
       " sconn(fd=-1, family=<AddressFamily.AF_INET: 2>, type=2, laddr=('0.0.0.0', 5355), raddr=(), status='NONE', pid=1612),\n",
       " sconn(fd=-1, family=<AddressFamily.AF_INET: 2>, type=1, laddr=('127.0.0.1', 8888), raddr=('127.0.0.1', 60054), status='ESTABLISHED', pid=14936),\n",
       " sconn(fd=-1, family=<AddressFamily.AF_INET: 2>, type=1, laddr=('192.168.1.100', 61213), raddr=('192.168.1.100', 1103), status='TIME_WAIT', pid=0),\n",
       " sconn(fd=-1, family=<AddressFamily.AF_INET: 2>, type=1, laddr=('127.0.0.1', 61289), raddr=('127.0.0.1', 61288), status='TIME_WAIT', pid=0),\n",
       " sconn(fd=-1, family=<AddressFamily.AF_INET: 2>, type=1, laddr=('127.0.0.1', 56673), raddr=('127.0.0.1', 5905), status='ESTABLISHED', pid=2172),\n",
       " sconn(fd=-1, family=<AddressFamily.AF_INET6: 23>, type=2, laddr=('fe80::50d0:90cf:6359:1bbc', 2177), raddr=(), status='NONE', pid=2024),\n",
       " sconn(fd=-1, family=<AddressFamily.AF_INET: 2>, type=1, laddr=('127.0.0.1', 5905), raddr=('127.0.0.1', 56686), status='ESTABLISHED', pid=2172),\n",
       " sconn(fd=-1, family=<AddressFamily.AF_INET: 2>, type=1, laddr=('127.0.0.1', 6942), raddr=(), status='LISTEN', pid=19840),\n",
       " sconn(fd=-1, family=<AddressFamily.AF_INET: 2>, type=1, laddr=('127.0.0.1', 56688), raddr=('127.0.0.1', 56687), status='ESTABLISHED', pid=2172),\n",
       " sconn(fd=-1, family=<AddressFamily.AF_INET: 2>, type=1, laddr=('127.0.0.1', 60061), raddr=('127.0.0.1', 5905), status='ESTABLISHED', pid=20412),\n",
       " sconn(fd=-1, family=<AddressFamily.AF_INET: 2>, type=1, laddr=('192.168.1.100', 51458), raddr=('121.195.187.54', 80), status='CLOSE_WAIT', pid=17984),\n",
       " sconn(fd=-1, family=<AddressFamily.AF_INET: 2>, type=1, laddr=('127.0.0.1', 5905), raddr=('127.0.0.1', 60074), status='ESTABLISHED', pid=20412),\n",
       " sconn(fd=-1, family=<AddressFamily.AF_INET: 2>, type=1, laddr=('0.0.0.0', 443), raddr=(), status='LISTEN', pid=3092),\n",
       " sconn(fd=-1, family=<AddressFamily.AF_INET: 2>, type=1, laddr=('192.168.1.100', 61364), raddr=('122.193.207.31', 80), status='TIME_WAIT', pid=0),\n",
       " sconn(fd=-1, family=<AddressFamily.AF_INET: 2>, type=1, laddr=('127.0.0.1', 56661), raddr=(), status='LISTEN', pid=2172),\n",
       " sconn(fd=-1, family=<AddressFamily.AF_INET: 2>, type=2, laddr=('127.0.0.1', 48201), raddr=(), status='NONE', pid=3980),\n",
       " sconn(fd=-1, family=<AddressFamily.AF_INET: 2>, type=2, laddr=('127.0.0.1', 51916), raddr=(), status='NONE', pid=3980),\n",
       " sconn(fd=-1, family=<AddressFamily.AF_INET6: 23>, type=1, laddr=('::', 49165), raddr=(), status='LISTEN', pid=764),\n",
       " sconn(fd=-1, family=<AddressFamily.AF_INET: 2>, type=1, laddr=('127.0.0.1', 61361), raddr=('127.0.0.1', 61360), status='TIME_WAIT', pid=0),\n",
       " sconn(fd=-1, family=<AddressFamily.AF_INET: 2>, type=1, laddr=('192.168.1.100', 54660), raddr=('192.30.253.124', 443), status='ESTABLISHED', pid=1464),\n",
       " sconn(fd=-1, family=<AddressFamily.AF_INET: 2>, type=1, laddr=('127.0.0.1', 61370), raddr=('127.0.0.1', 61369), status='TIME_WAIT', pid=0),\n",
       " sconn(fd=-1, family=<AddressFamily.AF_INET: 2>, type=1, laddr=('127.0.0.1', 2869), raddr=('127.0.0.1', 61231), status='ESTABLISHED', pid=4),\n",
       " sconn(fd=-1, family=<AddressFamily.AF_INET: 2>, type=2, laddr=('0.0.0.0', 500), raddr=(), status='NONE', pid=464),\n",
       " sconn(fd=-1, family=<AddressFamily.AF_INET: 2>, type=1, laddr=('127.0.0.1', 61277), raddr=('127.0.0.1', 61276), status='TIME_WAIT', pid=0),\n",
       " sconn(fd=-1, family=<AddressFamily.AF_INET: 2>, type=1, laddr=('127.0.0.1', 60049), raddr=(), status='LISTEN', pid=20412),\n",
       " sconn(fd=-1, family=<AddressFamily.AF_INET6: 23>, type=2, laddr=('::', 5004), raddr=(), status='NONE', pid=16096),\n",
       " sconn(fd=-1, family=<AddressFamily.AF_INET: 2>, type=1, laddr=('127.0.0.1', 61249), raddr=('127.0.0.1', 61248), status='TIME_WAIT', pid=0),\n",
       " sconn(fd=-1, family=<AddressFamily.AF_INET: 2>, type=1, laddr=('127.0.0.1', 55333), raddr=('127.0.0.1', 5905), status='ESTABLISHED', pid=14936),\n",
       " sconn(fd=-1, family=<AddressFamily.AF_INET: 2>, type=1, laddr=('127.0.0.1', 61239), raddr=('127.0.0.1', 61238), status='TIME_WAIT', pid=0),\n",
       " sconn(fd=-1, family=<AddressFamily.AF_INET: 2>, type=1, laddr=('127.0.0.1', 5905), raddr=('127.0.0.1', 55343), status='ESTABLISHED', pid=20344),\n",
       " sconn(fd=-1, family=<AddressFamily.AF_INET: 2>, type=1, laddr=('127.0.0.1', 61305), raddr=('127.0.0.1', 61304), status='TIME_WAIT', pid=0),\n",
       " sconn(fd=-1, family=<AddressFamily.AF_INET: 2>, type=2, laddr=('192.168.99.1', 2177), raddr=(), status='NONE', pid=2024),\n",
       " sconn(fd=-1, family=<AddressFamily.AF_INET: 2>, type=1, laddr=('127.0.0.1', 61374), raddr=('127.0.0.1', 61373), status='TIME_WAIT', pid=0),\n",
       " sconn(fd=-1, family=<AddressFamily.AF_INET: 2>, type=2, laddr=('192.168.47.1', 5353), raddr=(), status='NONE', pid=12496),\n",
       " sconn(fd=-1, family=<AddressFamily.AF_INET6: 23>, type=2, laddr=('fe80::651d:1996:e204:a3cd', 1900), raddr=(), status='NONE', pid=2024),\n",
       " sconn(fd=-1, family=<AddressFamily.AF_INET: 2>, type=1, laddr=('192.168.1.100', 61259), raddr=('192.168.1.100', 1103), status='TIME_WAIT', pid=0),\n",
       " sconn(fd=-1, family=<AddressFamily.AF_INET: 2>, type=1, laddr=('127.0.0.1', 55330), raddr=('127.0.0.1', 5905), status='ESTABLISHED', pid=14936),\n",
       " sconn(fd=-1, family=<AddressFamily.AF_INET: 2>, type=1, laddr=('127.0.0.1', 61386), raddr=('127.0.0.1', 61385), status='TIME_WAIT', pid=0),\n",
       " sconn(fd=-1, family=<AddressFamily.AF_INET: 2>, type=1, laddr=('0.0.0.0', 51490), raddr=(), status='LISTEN', pid=17984),\n",
       " sconn(fd=-1, family=<AddressFamily.AF_INET: 2>, type=1, laddr=('127.0.0.1', 61269), raddr=('127.0.0.1', 61268), status='TIME_WAIT', pid=0),\n",
       " sconn(fd=-1, family=<AddressFamily.AF_INET: 2>, type=1, laddr=('127.0.0.1', 60050), raddr=(), status='LISTEN', pid=20412),\n",
       " sconn(fd=-1, family=<AddressFamily.AF_INET: 2>, type=1, laddr=('127.0.0.1', 55348), raddr=('127.0.0.1', 5905), status='ESTABLISHED', pid=20344),\n",
       " sconn(fd=-1, family=<AddressFamily.AF_INET: 2>, type=1, laddr=('127.0.0.1', 5905), raddr=('127.0.0.1', 60051), status='ESTABLISHED', pid=14936),\n",
       " sconn(fd=-1, family=<AddressFamily.AF_INET: 2>, type=1, laddr=('127.0.0.1', 61193), raddr=('127.0.0.1', 61192), status='TIME_WAIT', pid=0),\n",
       " sconn(fd=-1, family=<AddressFamily.AF_INET6: 23>, type=1, laddr=('::', 4369), raddr=(), status='LISTEN', pid=3436),\n",
       " sconn(fd=-1, family=<AddressFamily.AF_INET: 2>, type=1, laddr=('192.168.1.100', 61222), raddr=('192.168.1.100', 1103), status='TIME_WAIT', pid=0),\n",
       " sconn(fd=-1, family=<AddressFamily.AF_INET: 2>, type=1, laddr=('127.0.0.1', 61376), raddr=('127.0.0.1', 61375), status='TIME_WAIT', pid=0),\n",
       " sconn(fd=-1, family=<AddressFamily.AF_INET: 2>, type=1, laddr=('0.0.0.0', 49154), raddr=(), status='LISTEN', pid=464),\n",
       " sconn(fd=-1, family=<AddressFamily.AF_INET: 2>, type=1, laddr=('127.0.0.1', 5905), raddr=('127.0.0.1', 55333), status='ESTABLISHED', pid=14936),\n",
       " sconn(fd=-1, family=<AddressFamily.AF_INET: 2>, type=1, laddr=('127.0.0.1', 61311), raddr=('127.0.0.1', 61310), status='TIME_WAIT', pid=0),\n",
       " sconn(fd=-1, family=<AddressFamily.AF_INET: 2>, type=2, laddr=('192.168.47.1', 5353), raddr=(), status='NONE', pid=3172),\n",
       " sconn(fd=-1, family=<AddressFamily.AF_INET: 2>, type=1, laddr=('0.0.0.0', 5672), raddr=(), status='LISTEN', pid=3396),\n",
       " sconn(fd=-1, family=<AddressFamily.AF_INET: 2>, type=1, laddr=('127.0.0.1', 61197), raddr=('127.0.0.1', 61196), status='TIME_WAIT', pid=0),\n",
       " sconn(fd=-1, family=<AddressFamily.AF_INET: 2>, type=1, laddr=('127.0.0.1', 55346), raddr=('127.0.0.1', 55347), status='ESTABLISHED', pid=20344),\n",
       " sconn(fd=-1, family=<AddressFamily.AF_INET: 2>, type=1, laddr=('0.0.0.0', 554), raddr=(), status='LISTEN', pid=16096),\n",
       " sconn(fd=-1, family=<AddressFamily.AF_INET: 2>, type=1, laddr=('192.168.1.100', 61206), raddr=('192.168.1.100', 1103), status='TIME_WAIT', pid=0),\n",
       " sconn(fd=-1, family=<AddressFamily.AF_INET: 2>, type=1, laddr=('192.168.1.100', 61396), raddr=('64.233.189.102', 443), status='ESTABLISHED', pid=1464),\n",
       " sconn(fd=-1, family=<AddressFamily.AF_INET: 2>, type=1, laddr=('127.0.0.1', 61316), raddr=('127.0.0.1', 61314), status='TIME_WAIT', pid=0),\n",
       " sconn(fd=-1, family=<AddressFamily.AF_INET: 2>, type=1, laddr=('127.0.0.1', 60070), raddr=('127.0.0.1', 5905), status='ESTABLISHED', pid=20412),\n",
       " sconn(fd=-1, family=<AddressFamily.AF_INET: 2>, type=1, laddr=('127.0.0.1', 60072), raddr=('127.0.0.1', 5905), status='ESTABLISHED', pid=20412),\n",
       " sconn(fd=-1, family=<AddressFamily.AF_INET6: 23>, type=1, laddr=('::', 10243), raddr=(), status='LISTEN', pid=4),\n",
       " sconn(fd=-1, family=<AddressFamily.AF_INET: 2>, type=1, laddr=('127.0.0.1', 61351), raddr=('127.0.0.1', 61350), status='TIME_WAIT', pid=0),\n",
       " sconn(fd=-1, family=<AddressFamily.AF_INET: 2>, type=1, laddr=('127.0.0.1', 60280), raddr=('127.0.0.1', 60281), status='ESTABLISHED', pid=19840),\n",
       " sconn(fd=-1, family=<AddressFamily.AF_INET: 2>, type=2, laddr=('127.0.0.1', 52234), raddr=(), status='NONE', pid=3172),\n",
       " sconn(fd=-1, family=<AddressFamily.AF_INET: 2>, type=1, laddr=('127.0.0.1', 61205), raddr=('127.0.0.1', 61204), status='TIME_WAIT', pid=0),\n",
       " sconn(fd=-1, family=<AddressFamily.AF_INET: 2>, type=1, laddr=('192.168.1.100', 61401), raddr=('64.233.189.102', 443), status='ESTABLISHED', pid=1464),\n",
       " sconn(fd=-1, family=<AddressFamily.AF_INET: 2>, type=1, laddr=('127.0.0.1', 61209), raddr=('127.0.0.1', 2869), status='TIME_WAIT', pid=0),\n",
       " sconn(fd=-1, family=<AddressFamily.AF_INET: 2>, type=2, laddr=('192.168.56.1', 5353), raddr=(), status='NONE', pid=12496),\n",
       " sconn(fd=-1, family=<AddressFamily.AF_INET: 2>, type=1, laddr=('127.0.0.1', 60054), raddr=('127.0.0.1', 8888), status='ESTABLISHED', pid=1464),\n",
       " sconn(fd=-1, family=<AddressFamily.AF_INET: 2>, type=1, laddr=('192.168.1.100', 51456), raddr=('111.202.102.39', 80), status='CLOSE_WAIT', pid=17984),\n",
       " sconn(fd=-1, family=<AddressFamily.AF_INET: 2>, type=1, laddr=('127.0.0.1', 60067), raddr=('127.0.0.1', 5905), status='ESTABLISHED', pid=20412),\n",
       " sconn(fd=-1, family=<AddressFamily.AF_INET: 2>, type=1, laddr=('0.0.0.0', 49152), raddr=(), status='LISTEN', pid=708),\n",
       " sconn(fd=-1, family=<AddressFamily.AF_INET6: 23>, type=2, laddr=('fe80::7937:ec9d:3fd1:1195', 1900), raddr=(), status='NONE', pid=2024),\n",
       " sconn(fd=-1, family=<AddressFamily.AF_INET: 2>, type=1, laddr=('127.0.0.1', 5905), raddr=('127.0.0.1', 55341), status='ESTABLISHED', pid=20344),\n",
       " sconn(fd=-1, family=<AddressFamily.AF_INET: 2>, type=1, laddr=('192.168.1.100', 61397), raddr=('64.233.189.102', 443), status='ESTABLISHED', pid=1464),\n",
       " sconn(fd=-1, family=<AddressFamily.AF_INET: 2>, type=1, laddr=('127.0.0.1', 5905), raddr=('127.0.0.1', 55350), status='ESTABLISHED', pid=20344),\n",
       " sconn(fd=-1, family=<AddressFamily.AF_INET: 2>, type=2, laddr=('0.0.0.0', 1900), raddr=(), status='NONE', pid=13104),\n",
       " sconn(fd=-1, family=<AddressFamily.AF_INET: 2>, type=1, laddr=('127.0.0.1', 61180), raddr=('127.0.0.1', 61179), status='TIME_WAIT', pid=0),\n",
       " sconn(fd=-1, family=<AddressFamily.AF_INET: 2>, type=1, laddr=('127.0.0.1', 61340), raddr=('127.0.0.1', 61339), status='TIME_WAIT', pid=0),\n",
       " sconn(fd=-1, family=<AddressFamily.AF_INET: 2>, type=1, laddr=('127.0.0.1', 61199), raddr=('127.0.0.1', 61198), status='TIME_WAIT', pid=0),\n",
       " sconn(fd=-1, family=<AddressFamily.AF_INET: 2>, type=1, laddr=('127.0.0.1', 61355), raddr=('127.0.0.1', 61354), status='TIME_WAIT', pid=0),\n",
       " sconn(fd=-1, family=<AddressFamily.AF_INET: 2>, type=1, laddr=('127.0.0.1', 5905), raddr=('127.0.0.1', 60063), status='ESTABLISHED', pid=20412),\n",
       " sconn(fd=-1, family=<AddressFamily.AF_INET: 2>, type=1, laddr=('127.0.0.1', 5905), raddr=('127.0.0.1', 56677), status='ESTABLISHED', pid=2172),\n",
       " sconn(fd=-1, family=<AddressFamily.AF_INET: 2>, type=1, laddr=('192.168.1.100', 61402), raddr=('221.228.204.34', 80), status='TIME_WAIT', pid=0),\n",
       " sconn(fd=-1, family=<AddressFamily.AF_INET6: 23>, type=1, laddr=('::', 49167), raddr=(), status='LISTEN', pid=780),\n",
       " sconn(fd=-1, family=<AddressFamily.AF_INET: 2>, type=1, laddr=('127.0.0.1', 60076), raddr=('127.0.0.1', 60077), status='ESTABLISHED', pid=20412),\n",
       " sconn(fd=-1, family=<AddressFamily.AF_INET: 2>, type=1, laddr=('192.168.1.100', 51457), raddr=('36.110.171.43', 80), status='CLOSE_WAIT', pid=17984),\n",
       " sconn(fd=-1, family=<AddressFamily.AF_INET: 2>, type=1, laddr=('127.0.0.1', 61255), raddr=('127.0.0.1', 61254), status='TIME_WAIT', pid=0),\n",
       " sconn(fd=-1, family=<AddressFamily.AF_INET: 2>, type=1, laddr=('192.168.1.100', 61399), raddr=('122.193.207.9', 80), status='TIME_WAIT', pid=0),\n",
       " sconn(fd=-1, family=<AddressFamily.AF_INET: 2>, type=1, laddr=('127.0.0.1', 55332), raddr=('127.0.0.1', 5905), status='ESTABLISHED', pid=14936),\n",
       " sconn(fd=-1, family=<AddressFamily.AF_INET: 2>, type=1, laddr=('127.0.0.1', 61301), raddr=('127.0.0.1', 61300), status='TIME_WAIT', pid=0),\n",
       " sconn(fd=-1, family=<AddressFamily.AF_INET6: 23>, type=1, laddr=('::', 443), raddr=(), status='LISTEN', pid=3092),\n",
       " sconn(fd=-1, family=<AddressFamily.AF_INET: 2>, type=1, laddr=('127.0.0.1', 60082), raddr=('127.0.0.1', 60047), status='ESTABLISHED', pid=14936),\n",
       " sconn(fd=-1, family=<AddressFamily.AF_INET: 2>, type=1, laddr=('127.0.0.1', 5905), raddr=('127.0.0.1', 55339), status='ESTABLISHED', pid=20344),\n",
       " sconn(fd=-1, family=<AddressFamily.AF_INET6: 23>, type=2, laddr=('::1', 51228), raddr=(), status='NONE', pid=2024),\n",
       " sconn(fd=-1, family=<AddressFamily.AF_INET: 2>, type=1, laddr=('127.0.0.1', 60066), raddr=('127.0.0.1', 5905), status='ESTABLISHED', pid=20412),\n",
       " sconn(fd=-1, family=<AddressFamily.AF_INET: 2>, type=1, laddr=('127.0.0.1', 8990), raddr=(), status='LISTEN', pid=1728),\n",
       " sconn(fd=-1, family=<AddressFamily.AF_INET: 2>, type=2, laddr=('127.0.0.1', 56125), raddr=(), status='NONE', pid=740),\n",
       " sconn(fd=-1, family=<AddressFamily.AF_INET: 2>, type=1, laddr=('127.0.0.1', 61275), raddr=('127.0.0.1', 61274), status='TIME_WAIT', pid=0),\n",
       " sconn(fd=-1, family=<AddressFamily.AF_INET: 2>, type=1, laddr=('127.0.0.1', 61178), raddr=('127.0.0.1', 61177), status='TIME_WAIT', pid=0),\n",
       " sconn(fd=-1, family=<AddressFamily.AF_INET: 2>, type=1, laddr=('127.0.0.1', 56677), raddr=('127.0.0.1', 5905), status='ESTABLISHED', pid=2172),\n",
       " sconn(fd=-1, family=<AddressFamily.AF_INET: 2>, type=1, laddr=('127.0.0.1', 5905), raddr=('127.0.0.1', 56681), status='ESTABLISHED', pid=2172),\n",
       " sconn(fd=-1, family=<AddressFamily.AF_INET6: 23>, type=2, laddr=('::', 500), raddr=(), status='NONE', pid=464),\n",
       " sconn(fd=-1, family=<AddressFamily.AF_INET: 2>, type=1, laddr=('127.0.0.1', 5905), raddr=('127.0.0.1', 60061), status='ESTABLISHED', pid=20412),\n",
       " sconn(fd=-1, family=<AddressFamily.AF_INET6: 23>, type=1, laddr=('::', 49154), raddr=(), status='LISTEN', pid=464),\n",
       " sconn(fd=-1, family=<AddressFamily.AF_INET: 2>, type=1, laddr=('127.0.0.1', 61353), raddr=('127.0.0.1', 61352), status='TIME_WAIT', pid=0),\n",
       " sconn(fd=-1, family=<AddressFamily.AF_INET: 2>, type=1, laddr=('127.0.0.1', 65001), raddr=('127.0.0.1', 52197), status='ESTABLISHED', pid=3172),\n",
       " sconn(fd=-1, family=<AddressFamily.AF_INET: 2>, type=1, laddr=('0.0.0.0', 4369), raddr=(), status='LISTEN', pid=3436),\n",
       " sconn(fd=-1, family=<AddressFamily.AF_INET6: 23>, type=2, laddr=('::', 57436), raddr=(), status='NONE', pid=2024),\n",
       " sconn(fd=-1, family=<AddressFamily.AF_INET: 2>, type=1, laddr=('0.0.0.0', 2869), raddr=(), status='LISTEN', pid=4),\n",
       " sconn(fd=-1, family=<AddressFamily.AF_INET: 2>, type=1, laddr=('192.168.1.100', 60134), raddr=('64.233.189.188', 5228), status='ESTABLISHED', pid=1464),\n",
       " sconn(fd=-1, family=<AddressFamily.AF_INET: 2>, type=1, laddr=('127.0.0.1', 61251), raddr=('127.0.0.1', 61250), status='TIME_WAIT', pid=0),\n",
       " sconn(fd=-1, family=<AddressFamily.AF_INET: 2>, type=2, laddr=('192.168.56.1', 1900), raddr=(), status='NONE', pid=2024),\n",
       " sconn(fd=-1, family=<AddressFamily.AF_INET6: 23>, type=1, laddr=('::', 49153), raddr=(), status='LISTEN', pid=564),\n",
       " sconn(fd=-1, family=<AddressFamily.AF_INET: 2>, type=2, laddr=('192.168.59.3', 5353), raddr=(), status='NONE', pid=3172),\n",
       " sconn(fd=-1, family=<AddressFamily.AF_INET6: 23>, type=2, laddr=('::', 58001), raddr=(), status='NONE', pid=3172),\n",
       " sconn(fd=-1, family=<AddressFamily.AF_INET: 2>, type=1, laddr=('127.0.0.1', 60047), raddr=(), status='LISTEN', pid=20412),\n",
       " sconn(fd=-1, family=<AddressFamily.AF_INET: 2>, type=2, laddr=('127.0.0.1', 51612), raddr=(), status='NONE', pid=14444),\n",
       " sconn(fd=-1, family=<AddressFamily.AF_INET: 2>, type=1, laddr=('127.0.0.1', 61321), raddr=('127.0.0.1', 61319), status='TIME_WAIT', pid=0),\n",
       " sconn(fd=-1, family=<AddressFamily.AF_INET: 2>, type=1, laddr=('127.0.0.1', 60069), raddr=('127.0.0.1', 60068), status='ESTABLISHED', pid=20412),\n",
       " sconn(fd=-1, family=<AddressFamily.AF_INET: 2>, type=2, laddr=('127.0.0.1', 63951), raddr=(), status='NONE', pid=8972),\n",
       " sconn(fd=-1, family=<AddressFamily.AF_INET: 2>, type=1, laddr=('127.0.0.1', 56663), raddr=(), status='LISTEN', pid=2172),\n",
       " sconn(fd=-1, family=<AddressFamily.AF_INET6: 23>, type=2, laddr=('fe80::2916:378d:25dd:6e08', 1900), raddr=(), status='NONE', pid=2024),\n",
       " sconn(fd=-1, family=<AddressFamily.AF_INET: 2>, type=1, laddr=('127.0.0.1', 61382), raddr=('127.0.0.1', 61381), status='TIME_WAIT', pid=0),\n",
       " sconn(fd=-1, family=<AddressFamily.AF_INET: 2>, type=1, laddr=('127.0.0.1', 60062), raddr=('127.0.0.1', 5905), status='ESTABLISHED', pid=20412),\n",
       " sconn(fd=-1, family=<AddressFamily.AF_INET: 2>, type=1, laddr=('192.168.1.100', 1103), raddr=('192.168.1.100', 61228), status='TIME_WAIT', pid=0),\n",
       " sconn(fd=-1, family=<AddressFamily.AF_INET: 2>, type=1, laddr=('127.0.0.1', 55328), raddr=('127.0.0.1', 55334), status='ESTABLISHED', pid=20344),\n",
       " sconn(fd=-1, family=<AddressFamily.AF_INET: 2>, type=1, laddr=('127.0.0.1', 55350), raddr=('127.0.0.1', 5905), status='ESTABLISHED', pid=20344),\n",
       " sconn(fd=-1, family=<AddressFamily.AF_INET: 2>, type=1, laddr=('127.0.0.1', 56684), raddr=('127.0.0.1', 5905), status='ESTABLISHED', pid=2172),\n",
       " sconn(fd=-1, family=<AddressFamily.AF_INET: 2>, type=1, laddr=('0.0.0.0', 49167), raddr=(), status='LISTEN', pid=780),\n",
       " sconn(fd=-1, family=<AddressFamily.AF_INET: 2>, type=1, laddr=('127.0.0.1', 60074), raddr=('127.0.0.1', 5905), status='ESTABLISHED', pid=20412),\n",
       " sconn(fd=-1, family=<AddressFamily.AF_INET6: 23>, type=1, laddr=('::', 2869), raddr=(), status='LISTEN', pid=4),\n",
       " sconn(fd=-1, family=<AddressFamily.AF_INET: 2>, type=1, laddr=('127.0.0.1', 61212), raddr=('127.0.0.1', 61211), status='TIME_WAIT', pid=0),\n",
       " sconn(fd=-1, family=<AddressFamily.AF_INET: 2>, type=1, laddr=('192.168.1.100', 61153), raddr=('64.233.189.102', 443), status='FIN_WAIT1', pid=1464),\n",
       " sconn(fd=-1, family=<AddressFamily.AF_INET: 2>, type=2, laddr=('127.0.0.1', 65000), raddr=(), status='NONE', pid=3172),\n",
       " sconn(fd=-1, family=<AddressFamily.AF_INET: 2>, type=1, laddr=('192.168.1.100', 51493), raddr=('106.120.151.145', 80), status='CLOSE_WAIT', pid=17984),\n",
       " sconn(fd=-1, family=<AddressFamily.AF_INET: 2>, type=1, laddr=('127.0.0.1', 61241), raddr=('127.0.0.1', 61240), status='TIME_WAIT', pid=0),\n",
       " sconn(fd=-1, family=<AddressFamily.AF_INET: 2>, type=1, laddr=('127.0.0.1', 61182), raddr=('127.0.0.1', 61181), status='TIME_WAIT', pid=0),\n",
       " sconn(fd=-1, family=<AddressFamily.AF_INET: 2>, type=1, laddr=('127.0.0.1', 61342), raddr=('127.0.0.1', 61341), status='TIME_WAIT', pid=0),\n",
       " sconn(fd=-1, family=<AddressFamily.AF_INET: 2>, type=1, laddr=('127.0.0.1', 5905), raddr=('127.0.0.1', 56673), status='ESTABLISHED', pid=2172),\n",
       " sconn(fd=-1, family=<AddressFamily.AF_INET6: 23>, type=2, laddr=('::', 5005), raddr=(), status='NONE', pid=16096),\n",
       " sconn(fd=-1, family=<AddressFamily.AF_INET: 2>, type=1, laddr=('127.0.0.1', 60279), raddr=('127.0.0.1', 60278), status='ESTABLISHED', pid=19840),\n",
       " sconn(fd=-1, family=<AddressFamily.AF_INET: 2>, type=2, laddr=('127.0.0.1', 51915), raddr=(), status='NONE', pid=3980),\n",
       " sconn(fd=-1, family=<AddressFamily.AF_INET: 2>, type=2, laddr=('0.0.0.0', 52341), raddr=(), status='NONE', pid=15176),\n",
       " sconn(fd=-1, family=<AddressFamily.AF_INET: 2>, type=1, laddr=('127.0.0.1', 61283), raddr=('127.0.0.1', 61282), status='TIME_WAIT', pid=0),\n",
       " sconn(fd=-1, family=<AddressFamily.AF_INET6: 23>, type=2, laddr=('fe80::7937:ec9d:3fd1:1195', 546), raddr=(), status='NONE', pid=564),\n",
       " sconn(fd=-1, family=<AddressFamily.AF_INET: 2>, type=1, laddr=('192.168.1.100', 4369), raddr=('192.168.1.100', 61395), status='TIME_WAIT', pid=0),\n",
       " sconn(fd=-1, family=<AddressFamily.AF_INET: 2>, type=1, laddr=('127.0.0.1', 55355), raddr=('127.0.0.1', 55354), status='ESTABLISHED', pid=20344),\n",
       " sconn(fd=-1, family=<AddressFamily.AF_INET: 2>, type=1, laddr=('127.0.0.1', 61384), raddr=('127.0.0.1', 61383), status='TIME_WAIT', pid=0),\n",
       " sconn(fd=-1, family=<AddressFamily.AF_INET: 2>, type=1, laddr=('127.0.0.1', 5905), raddr=('127.0.0.1', 56674), status='ESTABLISHED', pid=2172),\n",
       " sconn(fd=-1, family=<AddressFamily.AF_INET: 2>, type=1, laddr=('127.0.0.1', 61334), raddr=('127.0.0.1', 61333), status='TIME_WAIT', pid=0),\n",
       " sconn(fd=-1, family=<AddressFamily.AF_INET: 2>, type=1, laddr=('127.0.0.1', 60153), raddr=('127.0.0.1', 8888), status='ESTABLISHED', pid=1464),\n",
       " sconn(fd=-1, family=<AddressFamily.AF_INET6: 23>, type=2, laddr=('fe80::8c6e:713:3df6:7fd', 2177), raddr=(), status='NONE', pid=2024),\n",
       " sconn(fd=-1, family=<AddressFamily.AF_INET: 2>, type=2, laddr=('0.0.0.0', 54144), raddr=(), status='NONE', pid=3312),\n",
       " sconn(fd=-1, family=<AddressFamily.AF_INET: 2>, type=1, laddr=('192.168.1.100', 61114), raddr=('123.58.182.251', 443), status='CLOSE_WAIT', pid=12872),\n",
       " sconn(fd=-1, family=<AddressFamily.AF_INET: 2>, type=1, laddr=('127.0.0.1', 60049), raddr=('127.0.0.1', 60052), status='ESTABLISHED', pid=20412),\n",
       " sconn(fd=-1, family=<AddressFamily.AF_INET: 2>, type=1, laddr=('127.0.0.1', 61243), raddr=('127.0.0.1', 61242), status='TIME_WAIT', pid=0),\n",
       " sconn(fd=-1, family=<AddressFamily.AF_INET: 2>, type=1, laddr=('127.0.0.1', 61307), raddr=('127.0.0.1', 61306), status='TIME_WAIT', pid=0),\n",
       " sconn(fd=-1, family=<AddressFamily.AF_INET: 2>, type=2, laddr=('192.168.47.1', 2177), raddr=(), status='NONE', pid=2024),\n",
       " sconn(fd=-1, family=<AddressFamily.AF_INET6: 23>, type=1, laddr=('::', 49166), raddr=(), status='LISTEN', pid=5952),\n",
       " sconn(fd=-1, family=<AddressFamily.AF_INET: 2>, type=1, laddr=('127.0.0.1', 5905), raddr=('127.0.0.1', 55342), status='ESTABLISHED', pid=20344),\n",
       " sconn(fd=-1, family=<AddressFamily.AF_INET: 2>, type=2, laddr=('192.168.99.1', 5353), raddr=(), status='NONE', pid=3172),\n",
       " sconn(fd=-1, family=<AddressFamily.AF_INET: 2>, type=1, laddr=('127.0.0.1', 60080), raddr=('127.0.0.1', 5905), status='ESTABLISHED', pid=14936),\n",
       " sconn(fd=-1, family=<AddressFamily.AF_INET: 2>, type=1, laddr=('127.0.0.1', 61313), raddr=('127.0.0.1', 61312), status='TIME_WAIT', pid=0),\n",
       " sconn(fd=-1, family=<AddressFamily.AF_INET: 2>, type=2, laddr=('127.0.0.1', 55962), raddr=(), status='NONE', pid=18148),\n",
       " sconn(fd=-1, family=<AddressFamily.AF_INET: 2>, type=2, laddr=('0.0.0.0', 5004), raddr=(), status='NONE', pid=16096),\n",
       " sconn(fd=-1, family=<AddressFamily.AF_INET: 2>, type=1, laddr=('127.0.0.1', 61230), raddr=('127.0.0.1', 61229), status='TIME_WAIT', pid=0),\n",
       " sconn(fd=-1, family=<AddressFamily.AF_INET: 2>, type=2, laddr=('127.0.0.1', 52236), raddr=(), status='NONE', pid=4020),\n",
       " sconn(fd=-1, family=<AddressFamily.AF_INET: 2>, type=1, laddr=('127.0.0.1', 60065), raddr=('127.0.0.1', 5905), status='ESTABLISHED', pid=20412),\n",
       " sconn(fd=-1, family=<AddressFamily.AF_INET: 2>, type=2, laddr=('0.0.0.0', 57435), raddr=(), status='NONE', pid=2024),\n",
       " sconn(fd=-1, family=<AddressFamily.AF_INET: 2>, type=1, laddr=('127.0.0.1', 55334), raddr=('127.0.0.1', 55328), status='ESTABLISHED', pid=14936),\n",
       " sconn(fd=-1, family=<AddressFamily.AF_INET: 2>, type=1, laddr=('127.0.0.1', 60063), raddr=('127.0.0.1', 5905), status='ESTABLISHED', pid=20412),\n",
       " sconn(fd=-1, family=<AddressFamily.AF_INET6: 23>, type=2, laddr=('::1', 5353), raddr=(), status='NONE', pid=3172),\n",
       " sconn(fd=-1, family=<AddressFamily.AF_INET: 2>, type=1, laddr=('127.0.0.1', 52451), raddr=('127.0.0.1', 52450), status='ESTABLISHED', pid=13104),\n",
       " sconn(fd=-1, family=<AddressFamily.AF_INET: 2>, type=1, laddr=('127.0.0.1', 55349), raddr=(), status='LISTEN', pid=20344),\n",
       " sconn(fd=-1, family=<AddressFamily.AF_INET: 2>, type=1, laddr=('127.0.0.1', 50000), raddr=('127.0.0.1', 61166), status='TIME_WAIT', pid=0),\n",
       " sconn(fd=-1, family=<AddressFamily.AF_INET: 2>, type=1, laddr=('0.0.0.0', 49166), raddr=(), status='LISTEN', pid=5952),\n",
       " sconn(fd=-1, family=<AddressFamily.AF_INET: 2>, type=1, laddr=('0.0.0.0', 6691), raddr=(), status='LISTEN', pid=10728),\n",
       " sconn(fd=-1, family=<AddressFamily.AF_INET: 2>, type=1, laddr=('192.168.1.100', 61161), raddr=('64.233.189.102', 443), status='FIN_WAIT1', pid=1464),\n",
       " sconn(fd=-1, family=<AddressFamily.AF_INET: 2>, type=1, laddr=('127.0.0.1', 4369), raddr=('127.0.0.1', 49163), status='ESTABLISHED', pid=3436),\n",
       " sconn(fd=-1, family=<AddressFamily.AF_INET: 2>, type=1, laddr=('192.168.1.100', 61256), raddr=('192.168.1.100', 1103), status='TIME_WAIT', pid=0),\n",
       " sconn(fd=-1, family=<AddressFamily.AF_INET: 2>, type=1, laddr=('127.0.0.1', 61217), raddr=('127.0.0.1', 61216), status='TIME_WAIT', pid=0),\n",
       " sconn(fd=-1, family=<AddressFamily.AF_INET: 2>, type=1, laddr=('127.0.0.1', 61359), raddr=('127.0.0.1', 61358), status='TIME_WAIT', pid=0),\n",
       " sconn(fd=-1, family=<AddressFamily.AF_INET: 2>, type=1, laddr=('127.0.0.1', 55352), raddr=('127.0.0.1', 5905), status='ESTABLISHED', pid=20344),\n",
       " sconn(fd=-1, family=<AddressFamily.AF_INET: 2>, type=2, laddr=('0.0.0.0', 3702), raddr=(), status='NONE', pid=2024),\n",
       " sconn(fd=-1, family=<AddressFamily.AF_INET: 2>, type=2, laddr=('127.0.0.1', 53951), raddr=(), status='NONE', pid=9492),\n",
       " sconn(fd=-1, family=<AddressFamily.AF_INET: 2>, type=1, laddr=('127.0.0.1', 61208), raddr=('127.0.0.1', 61207), status='TIME_WAIT', pid=0),\n",
       " sconn(fd=-1, family=<AddressFamily.AF_INET: 2>, type=1, laddr=('192.168.1.100', 2869), raddr=('192.168.1.100', 61218), status='TIME_WAIT', pid=0),\n",
       " sconn(fd=-1, family=<AddressFamily.AF_INET: 2>, type=1, laddr=('127.0.0.1', 5905), raddr=('127.0.0.1', 60064), status='ESTABLISHED', pid=20412),\n",
       " sconn(fd=-1, family=<AddressFamily.AF_INET6: 23>, type=2, laddr=('fe80::50d0:90cf:6359:1bbc', 1900), raddr=(), status='NONE', pid=2024),\n",
       " sconn(fd=-1, family=<AddressFamily.AF_INET: 2>, type=1, laddr=('127.0.0.1', 49158), raddr=('127.0.0.1', 49157), status='ESTABLISHED', pid=1728),\n",
       " sconn(fd=-1, family=<AddressFamily.AF_INET: 2>, type=1, laddr=('127.0.0.1', 55353), raddr=('127.0.0.1', 5905), status='ESTABLISHED', pid=20344),\n",
       " sconn(fd=-1, family=<AddressFamily.AF_INET: 2>, type=1, laddr=('127.0.0.1', 61245), raddr=('127.0.0.1', 61244), status='TIME_WAIT', pid=0),\n",
       " sconn(fd=-1, family=<AddressFamily.AF_INET: 2>, type=2, laddr=('0.0.0.0', 63617), raddr=(), status='NONE', pid=1072),\n",
       " sconn(fd=-1, family=<AddressFamily.AF_INET: 2>, type=1, laddr=('127.0.0.1', 61263), raddr=('127.0.0.1', 61262), status='TIME_WAIT', pid=0),\n",
       " sconn(fd=-1, family=<AddressFamily.AF_INET: 2>, type=1, laddr=('127.0.0.1', 61303), raddr=('127.0.0.1', 61302), status='TIME_WAIT', pid=0),\n",
       " sconn(fd=-1, family=<AddressFamily.AF_INET: 2>, type=1, laddr=('192.168.1.100', 61172), raddr=('115.159.241.223', 443), status='ESTABLISHED', pid=1464),\n",
       " sconn(fd=-1, family=<AddressFamily.AF_INET: 2>, type=1, laddr=('127.0.0.1', 5905), raddr=('127.0.0.1', 55345), status='ESTABLISHED', pid=20344),\n",
       " sconn(fd=-1, family=<AddressFamily.AF_INET6: 23>, type=2, laddr=('::', 3702), raddr=(), status='NONE', pid=2024),\n",
       " sconn(fd=-1, family=<AddressFamily.AF_INET: 2>, type=1, laddr=('127.0.0.1', 56680), raddr=('127.0.0.1', 56679), status='ESTABLISHED', pid=2172),\n",
       " sconn(fd=-1, family=<AddressFamily.AF_INET: 2>, type=1, laddr=('127.0.0.1', 60046), raddr=(), status='LISTEN', pid=20412),\n",
       " sconn(fd=-1, family=<AddressFamily.AF_INET: 2>, type=1, laddr=('127.0.0.1', 5939), raddr=(), status='LISTEN', pid=12496),\n",
       " sconn(fd=-1, family=<AddressFamily.AF_INET: 2>, type=1, laddr=('127.0.0.1', 55340), raddr=('127.0.0.1', 5905), status='ESTABLISHED', pid=20344),\n",
       " sconn(fd=-1, family=<AddressFamily.AF_INET: 2>, type=1, laddr=('127.0.0.1', 55326), raddr=(), status='LISTEN', pid=20344),\n",
       " sconn(fd=-1, family=<AddressFamily.AF_INET: 2>, type=1, laddr=('127.0.0.1', 56681), raddr=('127.0.0.1', 5905), status='ESTABLISHED', pid=2172),\n",
       " sconn(fd=-1, family=<AddressFamily.AF_INET: 2>, type=1, laddr=('127.0.0.1', 60052), raddr=('127.0.0.1', 60049), status='ESTABLISHED', pid=14936),\n",
       " sconn(fd=-1, family=<AddressFamily.AF_INET: 2>, type=1, laddr=('127.0.0.1', 60278), raddr=('127.0.0.1', 60279), status='ESTABLISHED', pid=19840),\n",
       " sconn(fd=-1, family=<AddressFamily.AF_INET: 2>, type=1, laddr=('127.0.0.1', 61295), raddr=('127.0.0.1', 61294), status='TIME_WAIT', pid=0),\n",
       " sconn(fd=-1, family=<AddressFamily.AF_INET: 2>, type=1, laddr=('127.0.0.1', 5905), raddr=('127.0.0.1', 60072), status='ESTABLISHED', pid=20412),\n",
       " sconn(fd=-1, family=<AddressFamily.AF_INET: 2>, type=1, laddr=('127.0.0.1', 61368), raddr=('127.0.0.1', 61367), status='TIME_WAIT', pid=0),\n",
       " sconn(fd=-1, family=<AddressFamily.AF_INET: 2>, type=1, laddr=('127.0.0.1', 61190), raddr=('127.0.0.1', 61189), status='TIME_WAIT', pid=0),\n",
       " sconn(fd=-1, family=<AddressFamily.AF_INET: 2>, type=2, laddr=('192.168.59.3', 1900), raddr=(), status='NONE', pid=2024),\n",
       " sconn(fd=-1, family=<AddressFamily.AF_INET: 2>, type=1, laddr=('127.0.0.1', 61320), raddr=('127.0.0.1', 61318), status='TIME_WAIT', pid=0),\n",
       " sconn(fd=-1, family=<AddressFamily.AF_INET6: 23>, type=2, laddr=('::', 4500), raddr=(), status='NONE', pid=464),\n",
       " sconn(fd=-1, family=<AddressFamily.AF_INET: 2>, type=1, laddr=('192.168.1.100', 61332), raddr=('59.111.179.141', 80), status='ESTABLISHED', pid=15176),\n",
       " sconn(fd=-1, family=<AddressFamily.AF_INET6: 23>, type=2, laddr=('::', 3702), raddr=(), status='NONE', pid=1072),\n",
       " sconn(fd=-1, family=<AddressFamily.AF_INET: 2>, type=1, laddr=('127.0.0.1', 55329), raddr=(), status='LISTEN', pid=20344),\n",
       " sconn(fd=-1, family=<AddressFamily.AF_INET: 2>, type=1, laddr=('127.0.0.1', 55325), raddr=(), status='LISTEN', pid=20344),\n",
       " sconn(fd=-1, family=<AddressFamily.AF_INET: 2>, type=2, laddr=('192.168.1.100', 51229), raddr=(), status='NONE', pid=2024),\n",
       " sconn(fd=-1, family=<AddressFamily.AF_INET: 2>, type=2, laddr=('0.0.0.0', 22313), raddr=(), status='NONE', pid=17984),\n",
       " sconn(fd=-1, family=<AddressFamily.AF_INET: 2>, type=1, laddr=('127.0.0.1', 5905), raddr=('127.0.0.1', 60078), status='ESTABLISHED', pid=14936),\n",
       " sconn(fd=-1, family=<AddressFamily.AF_INET: 2>, type=1, laddr=('127.0.0.1', 5905), raddr=('127.0.0.1', 56683), status='ESTABLISHED', pid=2172),\n",
       " sconn(fd=-1, family=<AddressFamily.AF_INET: 2>, type=1, laddr=('127.0.0.1', 55345), raddr=('127.0.0.1', 5905), status='ESTABLISHED', pid=20344),\n",
       " sconn(fd=-1, family=<AddressFamily.AF_INET: 2>, type=1, laddr=('127.0.0.1', 55343), raddr=('127.0.0.1', 5905), status='ESTABLISHED', pid=20344),\n",
       " sconn(fd=-1, family=<AddressFamily.AF_INET: 2>, type=1, laddr=('127.0.0.1', 61344), raddr=('127.0.0.1', 61343), status='TIME_WAIT', pid=0),\n",
       " sconn(fd=-1, family=<AddressFamily.AF_INET: 2>, type=1, laddr=('127.0.0.1', 61317), raddr=('127.0.0.1', 61315), status='TIME_WAIT', pid=0),\n",
       " sconn(fd=-1, family=<AddressFamily.AF_INET: 2>, type=1, laddr=('127.0.0.1', 56666), raddr=('127.0.0.1', 5905), status='ESTABLISHED', pid=14936),\n",
       " sconn(fd=-1, family=<AddressFamily.AF_INET: 2>, type=1, laddr=('127.0.0.1', 60071), raddr=(), status='LISTEN', pid=20412),\n",
       " sconn(fd=-1, family=<AddressFamily.AF_INET: 2>, type=1, laddr=('127.0.0.1', 55347), raddr=('127.0.0.1', 55346), status='ESTABLISHED', pid=20344),\n",
       " sconn(fd=-1, family=<AddressFamily.AF_INET: 2>, type=2, laddr=('0.0.0.0', 52342), raddr=(), status='NONE', pid=15176),\n",
       " sconn(fd=-1, family=<AddressFamily.AF_INET: 2>, type=2, laddr=('0.0.0.0', 55251), raddr=(), status='NONE', pid=17984),\n",
       " sconn(fd=-1, family=<AddressFamily.AF_INET: 2>, type=1, laddr=('127.0.0.1', 60068), raddr=('127.0.0.1', 60069), status='ESTABLISHED', pid=20412),\n",
       " sconn(fd=-1, family=<AddressFamily.AF_INET: 2>, type=1, laddr=('127.0.0.1', 5905), raddr=('127.0.0.1', 56684), status='ESTABLISHED', pid=2172),\n",
       " sconn(fd=-1, family=<AddressFamily.AF_INET: 2>, type=1, laddr=('127.0.0.1', 5905), raddr=('127.0.0.1', 55353), status='ESTABLISHED', pid=20344),\n",
       " sconn(fd=-1, family=<AddressFamily.AF_INET: 2>, type=1, laddr=('127.0.0.1', 56672), raddr=('127.0.0.1', 5905), status='ESTABLISHED', pid=2172),\n",
       " sconn(fd=-1, family=<AddressFamily.AF_INET: 2>, type=1, laddr=('127.0.0.1', 60048), raddr=(), status='LISTEN', pid=20412),\n",
       " sconn(fd=-1, family=<AddressFamily.AF_INET: 2>, type=1, laddr=('192.168.1.100', 2869), raddr=('192.168.1.100', 61227), status='TIME_WAIT', pid=0),\n",
       " sconn(fd=-1, family=<AddressFamily.AF_INET: 2>, type=1, laddr=('127.0.0.1', 60073), raddr=('127.0.0.1', 5905), status='ESTABLISHED', pid=20412),\n",
       " sconn(fd=-1, family=<AddressFamily.AF_INET: 2>, type=2, laddr=('192.168.80.1', 1900), raddr=(), status='NONE', pid=2024),\n",
       " sconn(fd=-1, family=<AddressFamily.AF_INET: 2>, type=1, laddr=('127.0.0.1', 49155), raddr=('127.0.0.1', 49156), status='ESTABLISHED', pid=1728),\n",
       " sconn(fd=-1, family=<AddressFamily.AF_INET: 2>, type=1, laddr=('127.0.0.1', 55489), raddr=('127.0.0.1', 5905), status='ESTABLISHED', pid=20344),\n",
       " sconn(fd=-1, family=<AddressFamily.AF_INET6: 23>, type=2, laddr=('::', 63618), raddr=(), status='NONE', pid=1072),\n",
       " sconn(fd=-1, family=<AddressFamily.AF_INET: 2>, type=1, laddr=('127.0.0.1', 61366), raddr=('127.0.0.1', 61365), status='TIME_WAIT', pid=0),\n",
       " sconn(fd=-1, family=<AddressFamily.AF_INET: 2>, type=1, laddr=('127.0.0.1', 56675), raddr=('127.0.0.1', 5905), status='ESTABLISHED', pid=2172),\n",
       " sconn(fd=-1, family=<AddressFamily.AF_INET: 2>, type=1, laddr=('127.0.0.1', 8888), raddr=('127.0.0.1', 60153), status='ESTABLISHED', pid=14936),\n",
       " sconn(fd=-1, family=<AddressFamily.AF_INET: 2>, type=1, laddr=('127.0.0.1', 60046), raddr=('127.0.0.1', 60079), status='ESTABLISHED', pid=20412),\n",
       " sconn(fd=-1, family=<AddressFamily.AF_INET: 2>, type=1, laddr=('192.168.1.100', 61173), raddr=('115.159.241.223', 443), status='ESTABLISHED', pid=1464),\n",
       " sconn(fd=-1, family=<AddressFamily.AF_INET: 2>, type=2, laddr=('0.0.0.0', 56482), raddr=(), status='NONE', pid=3312),\n",
       " sconn(fd=-1, family=<AddressFamily.AF_INET: 2>, type=1, laddr=('127.0.0.1', 61326), raddr=('127.0.0.1', 61327), status='TIME_WAIT', pid=0),\n",
       " sconn(fd=-1, family=<AddressFamily.AF_INET: 2>, type=1, laddr=('127.0.0.1', 5905), raddr=('127.0.0.1', 55352), status='ESTABLISHED', pid=20344),\n",
       " sconn(fd=-1, family=<AddressFamily.AF_INET: 2>, type=1, laddr=('127.0.0.1', 5905), raddr=('127.0.0.1', 60070), status='ESTABLISHED', pid=20412),\n",
       " sconn(fd=-1, family=<AddressFamily.AF_INET: 2>, type=1, laddr=('127.0.0.1', 49156), raddr=('127.0.0.1', 49155), status='ESTABLISHED', pid=1728),\n",
       " sconn(fd=-1, family=<AddressFamily.AF_INET: 2>, type=1, laddr=('127.0.0.1', 56664), raddr=('127.0.0.1', 56667), status='ESTABLISHED', pid=2172),\n",
       " sconn(fd=-1, family=<AddressFamily.AF_INET: 2>, type=1, laddr=('127.0.0.1', 61372), raddr=('127.0.0.1', 61371), status='TIME_WAIT', pid=0),\n",
       " sconn(fd=-1, family=<AddressFamily.AF_INET: 2>, type=2, laddr=('192.168.1.100', 2177), raddr=(), status='NONE', pid=2024),\n",
       " sconn(fd=-1, family=<AddressFamily.AF_INET: 2>, type=1, laddr=('127.0.0.1', 5905), raddr=('127.0.0.1', 55348), status='ESTABLISHED', pid=20344),\n",
       " sconn(fd=-1, family=<AddressFamily.AF_INET: 2>, type=1, laddr=('127.0.0.1', 60077), raddr=('127.0.0.1', 60076), status='ESTABLISHED', pid=20412),\n",
       " sconn(fd=-1, family=<AddressFamily.AF_INET: 2>, type=2, laddr=('192.168.99.1', 1900), raddr=(), status='NONE', pid=2024),\n",
       " sconn(fd=-1, family=<AddressFamily.AF_INET: 2>, type=1, laddr=('127.0.0.1', 61231), raddr=('127.0.0.1', 2869), status='ESTABLISHED', pid=16096),\n",
       " sconn(fd=-1, family=<AddressFamily.AF_INET: 2>, type=1, laddr=('0.0.0.0', 15672), raddr=(), status='LISTEN', pid=3396),\n",
       " sconn(fd=-1, family=<AddressFamily.AF_INET: 2>, type=1, laddr=('127.0.0.1', 55354), raddr=('127.0.0.1', 55355), status='ESTABLISHED', pid=20344),\n",
       " sconn(fd=-1, family=<AddressFamily.AF_INET: 2>, type=1, laddr=('127.0.0.1', 61258), raddr=('127.0.0.1', 61257), status='TIME_WAIT', pid=0),\n",
       " sconn(fd=-1, family=<AddressFamily.AF_INET: 2>, type=1, laddr=('127.0.0.1', 56687), raddr=('127.0.0.1', 56688), status='ESTABLISHED', pid=2172),\n",
       " sconn(fd=-1, family=<AddressFamily.AF_INET: 2>, type=1, laddr=('192.168.1.100', 61171), raddr=('221.228.204.34', 80), status='TIME_WAIT', pid=0),\n",
       " sconn(fd=-1, family=<AddressFamily.AF_INET: 2>, type=1, laddr=('192.168.1.100', 61253), raddr=('192.168.1.100', 1103), status='TIME_WAIT', pid=0),\n",
       " sconn(fd=-1, family=<AddressFamily.AF_INET: 2>, type=1, laddr=('127.0.0.1', 5905), raddr=('127.0.0.1', 56685), status='ESTABLISHED', pid=2172),\n",
       " sconn(fd=-1, family=<AddressFamily.AF_INET: 2>, type=1, laddr=('127.0.0.1', 60064), raddr=('127.0.0.1', 5905), status='ESTABLISHED', pid=20412),\n",
       " sconn(fd=-1, family=<AddressFamily.AF_INET: 2>, type=1, laddr=('192.168.1.100', 4369), raddr=('192.168.1.100', 61165), status='TIME_WAIT', pid=0),\n",
       " sconn(fd=-1, family=<AddressFamily.AF_INET: 2>, type=1, laddr=('127.0.0.1', 61195), raddr=('127.0.0.1', 61194), status='TIME_WAIT', pid=0),\n",
       " sconn(fd=-1, family=<AddressFamily.AF_INET: 2>, type=1, laddr=('127.0.0.1', 61299), raddr=('127.0.0.1', 61298), status='TIME_WAIT', pid=0),\n",
       " sconn(fd=-1, family=<AddressFamily.AF_INET: 2>, type=1, laddr=('0.0.0.0', 49165), raddr=(), status='LISTEN', pid=764),\n",
       " sconn(fd=-1, family=<AddressFamily.AF_INET6: 23>, type=2, laddr=('fe80::8c6e:713:3df6:7fd', 1900), raddr=(), status='NONE', pid=2024),\n",
       " sconn(fd=-1, family=<AddressFamily.AF_INET: 2>, type=1, laddr=('127.0.0.1', 61229), raddr=('127.0.0.1', 61230), status='TIME_WAIT', pid=0),\n",
       " sconn(fd=-1, family=<AddressFamily.AF_INET: 2>, type=1, laddr=('127.0.0.1', 5905), raddr=('127.0.0.1', 56676), status='ESTABLISHED', pid=2172),\n",
       " sconn(fd=-1, family=<AddressFamily.AF_INET: 2>, type=2, laddr=('192.168.59.3', 2177), raddr=(), status='NONE', pid=2024),\n",
       " sconn(fd=-1, family=<AddressFamily.AF_INET: 2>, type=2, laddr=('127.0.0.1', 50689), raddr=(), status='NONE', pid=12948),\n",
       " sconn(fd=-1, family=<AddressFamily.AF_INET: 2>, type=1, laddr=('127.0.0.1', 61247), raddr=('127.0.0.1', 61246), status='TIME_WAIT', pid=0),\n",
       " sconn(fd=-1, family=<AddressFamily.AF_INET6: 23>, type=2, laddr=('fe80::651d:1996:e204:a3cd', 2177), raddr=(), status='NONE', pid=2024),\n",
       " sconn(fd=-1, family=<AddressFamily.AF_INET: 2>, type=1, laddr=('127.0.0.1', 5905), raddr=('127.0.0.1', 55331), status='ESTABLISHED', pid=14936),\n",
       " sconn(fd=-1, family=<AddressFamily.AF_INET: 2>, type=1, laddr=('127.0.0.1', 50000), raddr=(), status='LISTEN', pid=15176),\n",
       " sconn(fd=-1, family=<AddressFamily.AF_INET: 2>, type=2, laddr=('0.0.0.0', 58582), raddr=(), status='NONE', pid=12496),\n",
       " sconn(fd=-1, family=<AddressFamily.AF_INET: 2>, type=1, laddr=('127.0.0.1', 5905), raddr=('127.0.0.1', 55340), status='ESTABLISHED', pid=20344),\n",
       " sconn(fd=-1, family=<AddressFamily.AF_INET: 2>, type=1, laddr=('127.0.0.1', 56676), raddr=('127.0.0.1', 5905), status='ESTABLISHED', pid=2172),\n",
       " sconn(fd=-1, family=<AddressFamily.AF_INET: 2>, type=1, laddr=('127.0.0.1', 55341), raddr=('127.0.0.1', 5905), status='ESTABLISHED', pid=20344),\n",
       " sconn(fd=-1, family=<AddressFamily.AF_INET: 2>, type=2, laddr=('192.168.56.1', 2177), raddr=(), status='NONE', pid=2024),\n",
       " sconn(fd=-1, family=<AddressFamily.AF_INET: 2>, type=1, laddr=('127.0.0.1', 61388), raddr=('127.0.0.1', 61387), status='TIME_WAIT', pid=0),\n",
       " sconn(fd=-1, family=<AddressFamily.AF_INET: 2>, type=1, laddr=('127.0.0.1', 52449), raddr=('127.0.0.1', 52448), status='ESTABLISHED', pid=13104),\n",
       " sconn(fd=-1, family=<AddressFamily.AF_INET: 2>, type=1, laddr=('127.0.0.1', 60081), raddr=('127.0.0.1', 5905), status='ESTABLISHED', pid=14936),\n",
       " sconn(fd=-1, family=<AddressFamily.AF_INET: 2>, type=1, laddr=('127.0.0.1', 61221), raddr=('127.0.0.1', 61220), status='TIME_WAIT', pid=0),\n",
       " sconn(fd=-1, family=<AddressFamily.AF_INET: 2>, type=1, laddr=('127.0.0.1', 61392), raddr=('127.0.0.1', 61391), status='TIME_WAIT', pid=0),\n",
       " sconn(fd=-1, family=<AddressFamily.AF_INET: 2>, type=1, laddr=('192.168.1.100', 61210), raddr=('192.168.1.100', 1103), status='TIME_WAIT', pid=0),\n",
       " sconn(fd=-1, family=<AddressFamily.AF_INET: 2>, type=1, laddr=('127.0.0.1', 61281), raddr=('127.0.0.1', 61280), status='TIME_WAIT', pid=0),\n",
       " sconn(fd=-1, family=<AddressFamily.AF_INET: 2>, type=1, laddr=('127.0.0.1', 8888), raddr=(), status='LISTEN', pid=14936),\n",
       " sconn(fd=-1, family=<AddressFamily.AF_INET6: 23>, type=1, laddr=('::', 554), raddr=(), status='LISTEN', pid=16096),\n",
       " sconn(fd=-1, family=<AddressFamily.AF_INET: 2>, type=1, laddr=('127.0.0.1', 61265), raddr=('127.0.0.1', 61264), status='TIME_WAIT', pid=0),\n",
       " sconn(fd=-1, family=<AddressFamily.AF_INET: 2>, type=1, laddr=('192.168.1.100', 61174), raddr=('115.159.241.223', 443), status='ESTABLISHED', pid=1464),\n",
       " sconn(fd=-1, family=<AddressFamily.AF_INET: 2>, type=2, laddr=('0.0.0.0', 58000), raddr=(), status='NONE', pid=3172),\n",
       " sconn(fd=-1, family=<AddressFamily.AF_INET: 2>, type=1, laddr=('127.0.0.1', 61226), raddr=('127.0.0.1', 61225), status='TIME_WAIT', pid=0),\n",
       " sconn(fd=-1, family=<AddressFamily.AF_INET: 2>, type=1, laddr=('0.0.0.0', 1103), raddr=(), status='LISTEN', pid=13104),\n",
       " sconn(fd=-1, family=<AddressFamily.AF_INET6: 23>, type=2, laddr=('fe80::7937:ec9d:3fd1:1195', 51227), raddr=(), status='NONE', pid=2024),\n",
       " sconn(fd=-1, family=<AddressFamily.AF_INET6: 23>, type=2, laddr=('fe80::7937:ec9d:3fd1:1195', 2177), raddr=(), status='NONE', pid=2024),\n",
       " sconn(fd=-1, family=<AddressFamily.AF_INET: 2>, type=1, laddr=('127.0.0.1', 54952), raddr=('127.0.0.1', 54951), status='ESTABLISHED', pid=14936),\n",
       " sconn(fd=-1, family=<AddressFamily.AF_INET: 2>, type=2, laddr=('192.168.59.3', 5353), raddr=(), status='NONE', pid=12496),\n",
       " sconn(fd=-1, family=<AddressFamily.AF_INET: 2>, type=1, laddr=('127.0.0.1', 65123), raddr=(), status='LISTEN', pid=15176),\n",
       " sconn(fd=-1, family=<AddressFamily.AF_INET: 2>, type=1, laddr=('127.0.0.1', 56664), raddr=(), status='LISTEN', pid=2172),\n",
       " sconn(fd=-1, family=<AddressFamily.AF_INET: 2>, type=1, laddr=('127.0.0.1', 65001), raddr=(), status='LISTEN', pid=3172),\n",
       " sconn(fd=-1, family=<AddressFamily.AF_INET: 2>, type=1, laddr=('127.0.0.1', 61186), raddr=('127.0.0.1', 61185), status='TIME_WAIT', pid=0),\n",
       " sconn(fd=-1, family=<AddressFamily.AF_INET: 2>, type=1, laddr=('127.0.0.1', 61287), raddr=('127.0.0.1', 61286), status='TIME_WAIT', pid=0),\n",
       " sconn(fd=-1, family=<AddressFamily.AF_INET: 2>, type=1, laddr=('127.0.0.1', 5905), raddr=('127.0.0.1', 56675), status='ESTABLISHED', pid=2172),\n",
       " sconn(fd=-1, family=<AddressFamily.AF_INET: 2>, type=1, laddr=('127.0.0.1', 65000), raddr=(), status='LISTEN', pid=3172),\n",
       " sconn(fd=-1, family=<AddressFamily.AF_INET: 2>, type=1, laddr=('127.0.0.1', 6379), raddr=(), status='LISTEN', pid=3404),\n",
       " sconn(fd=-1, family=<AddressFamily.AF_INET: 2>, type=1, laddr=('127.0.0.1', 61285), raddr=('127.0.0.1', 61284), status='TIME_WAIT', pid=0),\n",
       " sconn(fd=-1, family=<AddressFamily.AF_INET: 2>, type=1, laddr=('127.0.0.1', 56683), raddr=('127.0.0.1', 5905), status='ESTABLISHED', pid=2172),\n",
       " sconn(fd=-1, family=<AddressFamily.AF_INET: 2>, type=2, laddr=('192.168.80.1', 2177), raddr=(), status='NONE', pid=2024),\n",
       " sconn(fd=-1, family=<AddressFamily.AF_INET6: 23>, type=1, laddr=('::', 5357), raddr=(), status='LISTEN', pid=4),\n",
       " sconn(fd=-1, family=<AddressFamily.AF_INET: 2>, type=1, laddr=('127.0.0.1', 61323), raddr=('127.0.0.1', 61322), status='TIME_WAIT', pid=0),\n",
       " sconn(fd=-1, family=<AddressFamily.AF_INET: 2>, type=1, laddr=('127.0.0.1', 61271), raddr=('127.0.0.1', 61270), status='TIME_WAIT', pid=0),\n",
       " sconn(fd=-1, family=<AddressFamily.AF_INET: 2>, type=1, laddr=('0.0.0.0', 49153), raddr=(), status='LISTEN', pid=564),\n",
       " sconn(fd=-1, family=<AddressFamily.AF_INET: 2>, type=2, laddr=('0.0.0.0', 4500), raddr=(), status='NONE', pid=464),\n",
       " sconn(fd=-1, family=<AddressFamily.AF_INET: 2>, type=1, laddr=('192.168.1.100', 2869), raddr=('192.168.1.100', 61237), status='TIME_WAIT', pid=0),\n",
       " sconn(fd=-1, family=<AddressFamily.AF_INET: 2>, type=1, laddr=('127.0.0.1', 60048), raddr=('127.0.0.1', 60083), status='ESTABLISHED', pid=20412),\n",
       " sconn(fd=-1, family=<AddressFamily.AF_INET: 2>, type=1, laddr=('127.0.0.1', 56685), raddr=('127.0.0.1', 5905), status='ESTABLISHED', pid=2172),\n",
       " sconn(fd=-1, family=<AddressFamily.AF_INET: 2>, type=1, laddr=('192.168.1.100', 51225), raddr=('14.119.124.107', 80), status='CLOSE_WAIT', pid=17984),\n",
       " sconn(fd=-1, family=<AddressFamily.AF_INET: 2>, type=1, laddr=('127.0.0.1', 55344), raddr=('127.0.0.1', 5905), status='ESTABLISHED', pid=20344),\n",
       " sconn(fd=-1, family=<AddressFamily.AF_INET: 2>, type=1, laddr=('127.0.0.1', 55351), raddr=('127.0.0.1', 5905), status='ESTABLISHED', pid=20344),\n",
       " sconn(fd=-1, family=<AddressFamily.AF_INET: 2>, type=1, laddr=('127.0.0.1', 5905), raddr=('127.0.0.1', 55490), status='ESTABLISHED', pid=20344),\n",
       " sconn(fd=-1, family=<AddressFamily.AF_INET: 2>, type=1, laddr=('127.0.0.1', 61201), raddr=('127.0.0.1', 61200), status='TIME_WAIT', pid=0),\n",
       " sconn(fd=-1, family=<AddressFamily.AF_INET: 2>, type=1, laddr=('127.0.0.1', 61297), raddr=('127.0.0.1', 61296), status='TIME_WAIT', pid=0),\n",
       " sconn(fd=-1, family=<AddressFamily.AF_INET: 2>, type=1, laddr=('0.0.0.0', 10243), raddr=(), status='LISTEN', pid=4),\n",
       " sconn(fd=-1, family=<AddressFamily.AF_INET: 2>, type=1, laddr=('127.0.0.1', 61215), raddr=('127.0.0.1', 61214), status='TIME_WAIT', pid=0),\n",
       " sconn(fd=-1, family=<AddressFamily.AF_INET: 2>, type=1, laddr=('127.0.0.1', 61279), raddr=('127.0.0.1', 61278), status='TIME_WAIT', pid=0),\n",
       " sconn(fd=-1, family=<AddressFamily.AF_INET: 2>, type=2, laddr=('127.0.0.1', 63914), raddr=(), status='NONE', pid=1412),\n",
       " sconn(fd=-1, family=<AddressFamily.AF_INET: 2>, type=2, laddr=('192.168.56.1', 5353), raddr=(), status='NONE', pid=3172),\n",
       " sconn(fd=-1, family=<AddressFamily.AF_INET: 2>, type=1, laddr=('127.0.0.1', 61325), raddr=('127.0.0.1', 61324), status='TIME_WAIT', pid=0),\n",
       " sconn(fd=-1, family=<AddressFamily.AF_INET: 2>, type=1, laddr=('127.0.0.1', 61357), raddr=('127.0.0.1', 61356), status='TIME_WAIT', pid=0),\n",
       " sconn(fd=-1, family=<AddressFamily.AF_INET: 2>, type=1, laddr=('0.0.0.0', 3306), raddr=(), status='LISTEN', pid=1660),\n",
       " sconn(fd=-1, family=<AddressFamily.AF_INET: 2>, type=1, laddr=('127.0.0.1', 54951), raddr=('127.0.0.1', 54952), status='ESTABLISHED', pid=14936),\n",
       " sconn(fd=-1, family=<AddressFamily.AF_INET: 2>, type=1, laddr=('127.0.0.1', 61203), raddr=('127.0.0.1', 61202), status='TIME_WAIT', pid=0),\n",
       " sconn(fd=-1, family=<AddressFamily.AF_INET: 2>, type=1, laddr=('127.0.0.1', 61267), raddr=('127.0.0.1', 61266), status='TIME_WAIT', pid=0),\n",
       " sconn(fd=-1, family=<AddressFamily.AF_INET: 2>, type=1, laddr=('127.0.0.1', 61331), raddr=('127.0.0.1', 61330), status='TIME_WAIT', pid=0),\n",
       " sconn(fd=-1, family=<AddressFamily.AF_INET: 2>, type=1, laddr=('127.0.0.1', 56686), raddr=('127.0.0.1', 5905), status='ESTABLISHED', pid=2172),\n",
       " sconn(fd=-1, family=<AddressFamily.AF_INET6: 23>, type=2, laddr=('fe80::b9cc:9e1c:9776:d1a3', 2177), raddr=(), status='NONE', pid=2024),\n",
       " sconn(fd=-1, family=<AddressFamily.AF_INET: 2>, type=1, laddr=('127.0.0.1', 61390), raddr=('127.0.0.1', 61389), status='TIME_WAIT', pid=0),\n",
       " sconn(fd=-1, family=<AddressFamily.AF_INET: 2>, type=1, laddr=('127.0.0.1', 63342), raddr=(), status='LISTEN', pid=19840),\n",
       " sconn(fd=-1, family=<AddressFamily.AF_INET: 2>, type=1, laddr=('127.0.0.1', 5905), raddr=('127.0.0.1', 60065), status='ESTABLISHED', pid=20412),\n",
       " sconn(fd=-1, family=<AddressFamily.AF_INET: 2>, type=2, laddr=('192.168.1.100', 5353), raddr=(), status='NONE', pid=12496),\n",
       " sconn(fd=-1, family=<AddressFamily.AF_INET: 2>, type=1, laddr=('0.0.0.0', 135), raddr=(), status='LISTEN', pid=1020),\n",
       " sconn(fd=-1, family=<AddressFamily.AF_INET: 2>, type=1, laddr=('127.0.0.1', 5905), raddr=('127.0.0.1', 60067), status='ESTABLISHED', pid=20412),\n",
       " sconn(fd=-1, family=<AddressFamily.AF_INET: 2>, type=1, laddr=('192.168.1.100', 61142), raddr=('123.58.182.253', 80), status='ESTABLISHED', pid=12872),\n",
       " sconn(fd=-1, family=<AddressFamily.AF_INET: 2>, type=1, laddr=('127.0.0.1', 55331), raddr=('127.0.0.1', 5905), status='ESTABLISHED', pid=14936),\n",
       " sconn(fd=-1, family=<AddressFamily.AF_INET: 2>, type=1, laddr=('127.0.0.1', 61338), raddr=('127.0.0.1', 61337), status='TIME_WAIT', pid=0),\n",
       " sconn(fd=-1, family=<AddressFamily.AF_INET: 2>, type=1, laddr=('127.0.0.1', 56662), raddr=(), status='LISTEN', pid=2172),\n",
       " sconn(fd=-1, family=<AddressFamily.AF_INET: 2>, type=1, laddr=('127.0.0.1', 5905), raddr=('127.0.0.1', 60062), status='ESTABLISHED', pid=20412),\n",
       " sconn(fd=-1, family=<AddressFamily.AF_INET: 2>, type=1, laddr=('127.0.0.1', 5905), raddr=('127.0.0.1', 55487), status='ESTABLISHED', pid=20344),\n",
       " sconn(fd=-1, family=<AddressFamily.AF_INET: 2>, type=1, laddr=('127.0.0.1', 61349), raddr=('127.0.0.1', 61348), status='TIME_WAIT', pid=0),\n",
       " sconn(fd=-1, family=<AddressFamily.AF_INET: 2>, type=1, laddr=('127.0.0.1', 5905), raddr=('127.0.0.1', 55332), status='ESTABLISHED', pid=14936),\n",
       " sconn(fd=-1, family=<AddressFamily.AF_INET: 2>, type=1, laddr=('0.0.0.0', 51489), raddr=(), status='LISTEN', pid=17984),\n",
       " sconn(fd=-1, family=<AddressFamily.AF_INET: 2>, type=1, laddr=('127.0.0.1', 61336), raddr=('127.0.0.1', 61335), status='TIME_WAIT', pid=0),\n",
       " sconn(fd=-1, family=<AddressFamily.AF_INET: 2>, type=1, laddr=('127.0.0.1', 5905), raddr=('127.0.0.1', 55351), status='ESTABLISHED', pid=20344),\n",
       " sconn(fd=-1, family=<AddressFamily.AF_INET: 2>, type=1, laddr=('127.0.0.1', 55342), raddr=('127.0.0.1', 5905), status='ESTABLISHED', pid=20344),\n",
       " sconn(fd=-1, family=<AddressFamily.AF_INET: 2>, type=1, laddr=('192.168.1.100', 60585), raddr=('123.58.182.251', 80), status='CLOSE_WAIT', pid=12872),\n",
       " sconn(fd=-1, family=<AddressFamily.AF_INET6: 23>, type=1, laddr=('::', 49152), raddr=(), status='LISTEN', pid=708),\n",
       " sconn(fd=-1, family=<AddressFamily.AF_INET: 2>, type=1, laddr=('127.0.0.1', 56682), raddr=(), status='LISTEN', pid=2172),\n",
       " sconn(fd=-1, family=<AddressFamily.AF_INET: 2>, type=2, laddr=('192.168.80.1', 5353), raddr=(), status='NONE', pid=3172),\n",
       " sconn(fd=-1, family=<AddressFamily.AF_INET: 2>, type=1, laddr=('127.0.0.1', 56679), raddr=('127.0.0.1', 56680), status='ESTABLISHED', pid=2172)]"
      ]
     },
     "execution_count": 16,
     "metadata": {},
     "output_type": "execute_result"
    }
   ],
   "source": [
    "psutil.net_connections()"
   ]
  },
  {
   "cell_type": "markdown",
   "metadata": {},
   "source": [
    "# 获取进程信息"
   ]
  },
  {
   "cell_type": "markdown",
   "metadata": {},
   "source": [
    "## 所有进程"
   ]
  },
  {
   "cell_type": "code",
   "execution_count": 17,
   "metadata": {
    "collapsed": false
   },
   "outputs": [
    {
     "data": {
      "text/plain": [
       "[0,\n",
       " 4,\n",
       " 340,\n",
       " 572,\n",
       " 708,\n",
       " 716,\n",
       " 764,\n",
       " 780,\n",
       " 788,\n",
       " 884,\n",
       " 960,\n",
       " 1020,\n",
       " 564,\n",
       " 644,\n",
       " 464,\n",
       " 1072,\n",
       " 1120,\n",
       " 1160,\n",
       " 1196,\n",
       " 1320,\n",
       " 1340,\n",
       " 1380,\n",
       " 1412,\n",
       " 1612,\n",
       " 1728,\n",
       " 1964,\n",
       " 1972,\n",
       " 2024,\n",
       " 1156,\n",
       " 2112,\n",
       " 2144,\n",
       " 2228,\n",
       " 2264,\n",
       " 2320,\n",
       " 2332,\n",
       " 2428,\n",
       " 2768,\n",
       " 2796,\n",
       " 2864,\n",
       " 2836,\n",
       " 3172,\n",
       " 3220,\n",
       " 3244,\n",
       " 3312,\n",
       " 3368,\n",
       " 3396,\n",
       " 3404,\n",
       " 3412,\n",
       " 3436,\n",
       " 3568,\n",
       " 4020,\n",
       " 3092,\n",
       " 4200,\n",
       " 4372,\n",
       " 5228,\n",
       " 5316,\n",
       " 5652,\n",
       " 5952,\n",
       " 6028,\n",
       " 6036,\n",
       " 6180,\n",
       " 6344,\n",
       " 6908,\n",
       " 7052,\n",
       " 2676,\n",
       " 6560,\n",
       " 7096,\n",
       " 1464,\n",
       " 6456,\n",
       " 7248,\n",
       " 7460,\n",
       " 7712,\n",
       " 7928,\n",
       " 7944,\n",
       " 7952,\n",
       " 7960,\n",
       " 3980,\n",
       " 6980,\n",
       " 8396,\n",
       " 1660,\n",
       " 9008,\n",
       " 6136,\n",
       " 6276,\n",
       " 12872,\n",
       " 11828,\n",
       " 12628,\n",
       " 12976,\n",
       " 13016,\n",
       " 12412,\n",
       " 14196,\n",
       " 9660,\n",
       " 15176,\n",
       " 14444,\n",
       " 11884,\n",
       " 14872,\n",
       " 14384,\n",
       " 12984,\n",
       " 9924,\n",
       " 14868,\n",
       " 7476,\n",
       " 14952,\n",
       " 9492,\n",
       " 1404,\n",
       " 6732,\n",
       " 11684,\n",
       " 15952,\n",
       " 15080,\n",
       " 5256,\n",
       " 17320,\n",
       " 16340,\n",
       " 12904,\n",
       " 9240,\n",
       " 12948,\n",
       " 11616,\n",
       " 13256,\n",
       " 15884,\n",
       " 6376,\n",
       " 13176,\n",
       " 16256,\n",
       " 19076,\n",
       " 15488,\n",
       " 16364,\n",
       " 10464,\n",
       " 16464,\n",
       " 740,\n",
       " 16136,\n",
       " 12496,\n",
       " 15552,\n",
       " 16096,\n",
       " 17984,\n",
       " 13104,\n",
       " 21364,\n",
       " 14248,\n",
       " 15796,\n",
       " 17872,\n",
       " 18148,\n",
       " 19840,\n",
       " 19852,\n",
       " 18712,\n",
       " 21260,\n",
       " 8972,\n",
       " 3076,\n",
       " 17688,\n",
       " 20304,\n",
       " 17896,\n",
       " 16932,\n",
       " 13420,\n",
       " 20428,\n",
       " 14936,\n",
       " 20236,\n",
       " 13384,\n",
       " 20344,\n",
       " 2172,\n",
       " 1360,\n",
       " 14164,\n",
       " 5688,\n",
       " 19704,\n",
       " 10728,\n",
       " 20412,\n",
       " 18116,\n",
       " 15600,\n",
       " 7480]"
      ]
     },
     "execution_count": 17,
     "metadata": {},
     "output_type": "execute_result"
    }
   ],
   "source": [
    "psutil.pids()"
   ]
  },
  {
   "cell_type": "markdown",
   "metadata": {},
   "source": [
    "## 获取指定进程"
   ]
  },
  {
   "cell_type": "code",
   "execution_count": 18,
   "metadata": {
    "collapsed": true
   },
   "outputs": [],
   "source": [
    "p = psutil.Process(9660)"
   ]
  },
  {
   "cell_type": "markdown",
   "metadata": {},
   "source": [
    "## 进程名称"
   ]
  },
  {
   "cell_type": "code",
   "execution_count": 19,
   "metadata": {
    "collapsed": false
   },
   "outputs": [
    {
     "data": {
      "text/plain": [
       "'TGitCache.exe'"
      ]
     },
     "execution_count": 19,
     "metadata": {},
     "output_type": "execute_result"
    }
   ],
   "source": [
    "p.name()"
   ]
  },
  {
   "cell_type": "markdown",
   "metadata": {},
   "source": [
    "## 进程执行路径"
   ]
  },
  {
   "cell_type": "code",
   "execution_count": 20,
   "metadata": {
    "collapsed": false
   },
   "outputs": [
    {
     "data": {
      "text/plain": [
       "'C:\\\\Program Files\\\\TortoiseGit\\\\bin\\\\TGitCache.exe'"
      ]
     },
     "execution_count": 20,
     "metadata": {},
     "output_type": "execute_result"
    }
   ],
   "source": [
    "p.exe()"
   ]
  },
  {
   "cell_type": "markdown",
   "metadata": {},
   "source": [
    "## 进程工作路径"
   ]
  },
  {
   "cell_type": "code",
   "execution_count": 21,
   "metadata": {
    "collapsed": false
   },
   "outputs": [
    {
     "data": {
      "text/plain": [
       "'C:\\\\Program Files\\\\Everything'"
      ]
     },
     "execution_count": 21,
     "metadata": {},
     "output_type": "execute_result"
    }
   ],
   "source": [
    "p.cwd()"
   ]
  },
  {
   "cell_type": "markdown",
   "metadata": {},
   "source": [
    "## 进程启动路径"
   ]
  },
  {
   "cell_type": "code",
   "execution_count": 22,
   "metadata": {
    "collapsed": false
   },
   "outputs": [
    {
     "data": {
      "text/plain": [
       "['C:\\\\Program Files\\\\TortoiseGit\\\\bin\\\\TGitCache.exe']"
      ]
     },
     "execution_count": 22,
     "metadata": {},
     "output_type": "execute_result"
    }
   ],
   "source": [
    "p.cmdline()"
   ]
  },
  {
   "cell_type": "markdown",
   "metadata": {},
   "source": [
    "## 父进程ID"
   ]
  },
  {
   "cell_type": "code",
   "execution_count": 23,
   "metadata": {
    "collapsed": false
   },
   "outputs": [
    {
     "data": {
      "text/plain": [
       "12412"
      ]
     },
     "execution_count": 23,
     "metadata": {},
     "output_type": "execute_result"
    }
   ],
   "source": [
    "p.ppid()"
   ]
  },
  {
   "cell_type": "markdown",
   "metadata": {},
   "source": [
    "## 子进程列表"
   ]
  },
  {
   "cell_type": "code",
   "execution_count": 24,
   "metadata": {
    "collapsed": false
   },
   "outputs": [
    {
     "data": {
      "text/plain": [
       "[]"
      ]
     },
     "execution_count": 24,
     "metadata": {},
     "output_type": "execute_result"
    }
   ],
   "source": [
    "p.children()"
   ]
  },
  {
   "cell_type": "markdown",
   "metadata": {},
   "source": [
    "> 更多请参考https://www.liaoxuefeng.com/wiki/0014316089557264a6b348958f449949df42a6d3a2e542c000/001511052957192bb91a56a2339485c8a8c79812b400d49000"
   ]
  }
 ],
 "metadata": {
  "anaconda-cloud": {},
  "kernelspec": {
   "display_name": "Python [Anaconda3]",
   "language": "python",
   "name": "Python [Anaconda3]"
  },
  "language_info": {
   "codemirror_mode": {
    "name": "ipython",
    "version": 3
   },
   "file_extension": ".py",
   "mimetype": "text/x-python",
   "name": "python",
   "nbconvert_exporter": "python",
   "pygments_lexer": "ipython3",
   "version": "3.5.1"
  },
  "toc": {
   "nav_menu": {},
   "number_sections": true,
   "sideBar": true,
   "skip_h1_title": false,
   "toc_cell": false,
   "toc_position": {},
   "toc_section_display": "block",
   "toc_window_display": false
  }
 },
 "nbformat": 4,
 "nbformat_minor": 0
}
