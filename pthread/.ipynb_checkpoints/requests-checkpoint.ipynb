{
 "cells": [
  {
   "cell_type": "markdown",
   "metadata": {},
   "source": [
    "requests是一个Python第三方库，处理URL资源特别方便。"
   ]
  },
  {
   "cell_type": "code",
   "execution_count": 1,
   "metadata": {
    "collapsed": false
   },
   "outputs": [
    {
     "data": {
      "text/plain": [
       "200"
      ]
     },
     "execution_count": 1,
     "metadata": {},
     "output_type": "execute_result"
    }
   ],
   "source": [
    "import requests\n",
    "\n",
    "r = requests.get(\"https://www.douban.com/\")\n",
    "r.status_code"
   ]
  },
  {
   "cell_type": "code",
   "execution_count": 3,
   "metadata": {
    "collapsed": false
   },
   "outputs": [
    {
     "data": {
      "text/plain": [
       "'<!DOCTYPE HTML>\\n<html lang=\"zh-cmn-Hans\" class=\"\">\\n<head>\\n<meta charset=\"UTF-8\">\\n<meta name=\"description\" content=\"提供图书、电影、音乐唱片的推荐、评论和价格比较，以及城市独特的文化生活。\">\\n<meta name=\"keywords\" content=\"豆瓣,广播,登陆豆瓣\">\\n<meta property=\"qc:admins\" content=\"2554215131764752166375\" />\\n<meta property=\"wb:webmaster\" content=\"375d4a17a4fa24c2\" />\\n<meta name=\"mobile-agent\" content=\"format=html5; url=https://m.douban.com\">\\n<title>豆瓣</title>\\n<script>\\nfunction set_cookie(t,e,o,n){var i,a,r=new Date;r.setTime(r.getTime()+24*(e||30)*60*60*1e3),i=\"; expires=\"+r.toGMTString();for(a in t)document.cookie=a+\"=\"+t[a]+i+\"; domain=\"+(o||\"douban.com\")+\"; path=\"+(n||\"/\")}function get_cookie(t){var e,o,n=t+\"=\",i=document.cookie.split(\";\");for(e=0;e<i.length;e++){for(o=i[e];\" \"==o.charAt(0);)o=o.substring(1,o.length);if(0===o.indexOf(n))return o.substring(n.length,o.length).replace(/\\\\\"/g,\"\")}return null}window.Douban=window.Douban||{};var Do=function(){Do.actions.push([].slice.call(arguments))};Do.ready=function(){Do.actions.push('"
      ]
     },
     "execution_count": 3,
     "metadata": {},
     "output_type": "execute_result"
    }
   ],
   "source": [
    "r.text[:1000]"
   ]
  },
  {
   "cell_type": "markdown",
   "metadata": {},
   "source": [
    "# 带参数"
   ]
  },
  {
   "cell_type": "markdown",
   "metadata": {},
   "source": [
    "传入一个dict作为params参数："
   ]
  },
  {
   "cell_type": "code",
   "execution_count": 4,
   "metadata": {
    "collapsed": false
   },
   "outputs": [
    {
     "data": {
      "text/plain": [
       "'https://www.douban.com/search?cat=1001&q=python'"
      ]
     },
     "execution_count": 4,
     "metadata": {},
     "output_type": "execute_result"
    }
   ],
   "source": [
    "r = requests.get(\"https://www.douban.com/search\", params={\"q\":\"python\", \"cat\":\"1001\"})\n",
    "r.url"
   ]
  },
  {
   "cell_type": "code",
   "execution_count": 5,
   "metadata": {
    "collapsed": false
   },
   "outputs": [
    {
     "data": {
      "text/plain": [
       "'utf-8'"
      ]
     },
     "execution_count": 5,
     "metadata": {},
     "output_type": "execute_result"
    }
   ],
   "source": [
    "r.encoding"
   ]
  },
  {
   "cell_type": "code",
   "execution_count": 6,
   "metadata": {
    "collapsed": false
   },
   "outputs": [
    {
     "data": {
      "text/plain": [
       "b'<!DOCTYPE html>\\n<html lang=\"zh-cmn-Hans\" class=\"\">\\n<head>\\n    <meta http-equiv=\"Content-Type\" content=\"text/html; charset=utf-8\">\\n    <meta name=\"renderer\" content=\"webkit\">\\n    <meta name=\"referrer\" content=\"always\">\\n    <title>\\n  \\xe6\\x90\\x9c\\xe7\\xb4\\xa2: python\\n</title>\\n    \\n  \\n    <meta http-equiv=\"Pragma\" content=\"no-cache\">\\n    <meta http-equiv=\"Expires\" content=\"Sun, 6 Mar 2005 01:00:00 GMT\">\\n    \\n<link rel=\"search\" type=\"application/opensearchdescription+xml\" title=\"\\xe8\\xb1\\x86\\xe7\\x93\\xa3\\xe6\\x90\\x9c\\xe7\\xb4\\xa2\" href=\"/opensearch\">\\n\\n    <script >var _head_start = new Date();</script>\\n    <script src=\"https://img3.doubanio.com/f/shire/72ced6df41d4d158420cebdd254f9562942464e3/js/jquery.min.js\"></script>\\n    <script src=\"https://img3.doubanio.com/f/shire/40e5fd47dadd542654d9421d954f5296266c2e25/js/douban.js\"></script>\\n    <link href=\"https://img3.doubanio.com/f/shire/bf61b1fa02f564a4a8f809da7c7179b883a56146/css/douban.css\" rel=\"stylesheet\" type=\"text/css\">\\n    <style type=\"text/css\">\\n    \\n        \\n  h1{display:none}.mod-search{pos'"
      ]
     },
     "execution_count": 6,
     "metadata": {},
     "output_type": "execute_result"
    }
   ],
   "source": [
    "r.content[:1000]"
   ]
  },
  {
   "cell_type": "markdown",
   "metadata": {},
   "source": [
    "# 获取json"
   ]
  },
  {
   "cell_type": "code",
   "execution_count": 9,
   "metadata": {
    "collapsed": false
   },
   "outputs": [
    {
     "data": {
      "text/plain": [
       "{'query': {'count': 1,\n",
       "  'created': '2018-04-23T13:08:13Z',\n",
       "  'lang': 'en-US',\n",
       "  'results': {'channel': {'astronomy': {'sunrise': '5:25 am',\n",
       "     'sunset': '7:1 pm'},\n",
       "    'atmosphere': {'humidity': '58',\n",
       "     'pressure': '1016.0',\n",
       "     'rising': '0',\n",
       "     'visibility': '16.1'},\n",
       "    'description': 'Yahoo! Weather for Beijing, Beijing, CN',\n",
       "    'image': {'height': '18',\n",
       "     'link': 'http://weather.yahoo.com',\n",
       "     'title': 'Yahoo! Weather',\n",
       "     'url': 'http://l.yimg.com/a/i/brand/purplelogo//uh/us/news-wea.gif',\n",
       "     'width': '142'},\n",
       "    'item': {'condition': {'code': '29',\n",
       "      'date': 'Mon, 23 Apr 2018 08:00 PM CST',\n",
       "      'temp': '57',\n",
       "      'text': 'Partly Cloudy'},\n",
       "     'description': '<![CDATA[<img src=\"http://l.yimg.com/a/i/us/we/52/29.gif\"/>\\n<BR />\\n<b>Current Conditions:</b>\\n<BR />Partly Cloudy\\n<BR />\\n<BR />\\n<b>Forecast:</b>\\n<BR /> Mon - Scattered Showers. High: 68Low: 51\\n<BR /> Tue - Partly Cloudy. High: 72Low: 49\\n<BR /> Wed - Partly Cloudy. High: 76Low: 49\\n<BR /> Thu - Mostly Sunny. High: 78Low: 54\\n<BR /> Fri - Sunny. High: 80Low: 56\\n<BR />\\n<BR />\\n<a href=\"http://us.rd.yahoo.com/dailynews/rss/weather/Country__Country/*https://weather.yahoo.com/country/state/city-2151330/\">Full Forecast at Yahoo! Weather</a>\\n<BR />\\n<BR />\\n<BR />\\n]]>',\n",
       "     'forecast': [{'code': '39',\n",
       "       'date': '23 Apr 2018',\n",
       "       'day': 'Mon',\n",
       "       'high': '68',\n",
       "       'low': '51',\n",
       "       'text': 'Scattered Showers'},\n",
       "      {'code': '30',\n",
       "       'date': '24 Apr 2018',\n",
       "       'day': 'Tue',\n",
       "       'high': '72',\n",
       "       'low': '49',\n",
       "       'text': 'Partly Cloudy'},\n",
       "      {'code': '30',\n",
       "       'date': '25 Apr 2018',\n",
       "       'day': 'Wed',\n",
       "       'high': '76',\n",
       "       'low': '49',\n",
       "       'text': 'Partly Cloudy'},\n",
       "      {'code': '34',\n",
       "       'date': '26 Apr 2018',\n",
       "       'day': 'Thu',\n",
       "       'high': '78',\n",
       "       'low': '54',\n",
       "       'text': 'Mostly Sunny'},\n",
       "      {'code': '32',\n",
       "       'date': '27 Apr 2018',\n",
       "       'day': 'Fri',\n",
       "       'high': '80',\n",
       "       'low': '56',\n",
       "       'text': 'Sunny'},\n",
       "      {'code': '32',\n",
       "       'date': '28 Apr 2018',\n",
       "       'day': 'Sat',\n",
       "       'high': '86',\n",
       "       'low': '58',\n",
       "       'text': 'Sunny'},\n",
       "      {'code': '30',\n",
       "       'date': '29 Apr 2018',\n",
       "       'day': 'Sun',\n",
       "       'high': '85',\n",
       "       'low': '65',\n",
       "       'text': 'Partly Cloudy'},\n",
       "      {'code': '47',\n",
       "       'date': '30 Apr 2018',\n",
       "       'day': 'Mon',\n",
       "       'high': '84',\n",
       "       'low': '65',\n",
       "       'text': 'Scattered Thunderstorms'},\n",
       "      {'code': '12',\n",
       "       'date': '01 May 2018',\n",
       "       'day': 'Tue',\n",
       "       'high': '75',\n",
       "       'low': '62',\n",
       "       'text': 'Rain'},\n",
       "      {'code': '30',\n",
       "       'date': '02 May 2018',\n",
       "       'day': 'Wed',\n",
       "       'high': '80',\n",
       "       'low': '60',\n",
       "       'text': 'Partly Cloudy'}],\n",
       "     'guid': {'isPermaLink': 'false'},\n",
       "     'lat': '39.90601',\n",
       "     'link': 'http://us.rd.yahoo.com/dailynews/rss/weather/Country__Country/*https://weather.yahoo.com/country/state/city-2151330/',\n",
       "     'long': '116.387909',\n",
       "     'pubDate': 'Mon, 23 Apr 2018 08:00 PM CST',\n",
       "     'title': 'Conditions for Beijing, Beijing, CN at 08:00 PM CST'},\n",
       "    'language': 'en-us',\n",
       "    'lastBuildDate': 'Mon, 23 Apr 2018 09:08 PM CST',\n",
       "    'link': 'http://us.rd.yahoo.com/dailynews/rss/weather/Country__Country/*https://weather.yahoo.com/country/state/city-2151330/',\n",
       "    'location': {'city': 'Beijing', 'country': 'China', 'region': ' Beijing'},\n",
       "    'title': 'Yahoo! Weather - Beijing, Beijing, CN',\n",
       "    'ttl': '60',\n",
       "    'units': {'distance': 'mi',\n",
       "     'pressure': 'in',\n",
       "     'speed': 'mph',\n",
       "     'temperature': 'F'},\n",
       "    'wind': {'chill': '57', 'direction': '295', 'speed': '4'}}}}}"
      ]
     },
     "execution_count": 9,
     "metadata": {},
     "output_type": "execute_result"
    }
   ],
   "source": [
    "r = requests.get('https://query.yahooapis.com/v1/public/yql?q=select%20*%20from%20weather.forecast%20where%20woeid%20%3D%202151330&format=json')\n",
    "r.json()"
   ]
  },
  {
   "cell_type": "markdown",
   "metadata": {},
   "source": [
    "# 传入Header"
   ]
  },
  {
   "cell_type": "code",
   "execution_count": 12,
   "metadata": {
    "collapsed": false
   },
   "outputs": [
    {
     "data": {
      "text/plain": [
       "'\\n\\n\\n<!DOCTYPE html>\\n<html itemscope itemtype=\"http://schema.org/WebPage\">\\n    <head>\\n        <meta charset=\"UTF-8\">\\n        <title>豆瓣(手机版)</title>\\n        <meta name=\"viewport\" content=\"width=device-width, height=device-height, user-scalable=no, initial-scale=1.0, minimum-scale=1.0, maximum-scale=1.0\">\\n        <meta name=\"format-detection\" content=\"telephone=no\">\\n        <link rel=\"canonical\" href=\"\\nhttp://m.douban.com/\">\\n        <link href=\"https://img3.doubanio.com/f/talion/454d91e5b3534c7d91d7cb911cefe2b33042958f/css/card/base.css\" rel=\"stylesheet\">\\n        \\n    <meta name=\"description\" content=\"读书、看电影、涨知识、学穿搭...，加入兴趣小组，获得达人们的高质量生活经验，找到有相同爱好的小伙伴。\">\\n    <meta name=\"keywords\" content=\"豆瓣,手机豆瓣,豆瓣手机版,豆瓣电影,豆瓣读书,豆瓣同城\">\\n    \\n    \\n\\n    <!-- Schema.org markup for Google+ -->\\n    <meta itemprop=\"name\" content=\"豆瓣\">\\n    <meta itemprop=\"description\" content=\"读书、看电影、涨知识、学穿搭...，加入兴趣小组，获得达人们的高质量生活经验，找到有相同爱好的小伙伴。\">\\n    <meta itemprop=\"image\" content=\"https://img3.doubanio.com/f/talion/8e7b9cbd097c02'"
      ]
     },
     "execution_count": 12,
     "metadata": {},
     "output_type": "execute_result"
    }
   ],
   "source": [
    "r = requests.get(\"https://www.douban.com/\", headers={\"User-Agent\": \"Mozilla/5.0 (iPhone; CPU iPhone OS 11_0 like Mac OS X) AppleWebKit\"})\n",
    "r.text[:1000]"
   ]
  },
  {
   "cell_type": "markdown",
   "metadata": {},
   "source": [
    "# 发送post请求"
   ]
  },
  {
   "cell_type": "code",
   "execution_count": 14,
   "metadata": {
    "collapsed": false
   },
   "outputs": [
    {
     "data": {
      "text/plain": [
       "'<!DOCTYPE HTML>\\n<!--[if lte IE 7 ]>\\n<!--\\nContent-Type: multipart/related; boundary=\"_\"\\n--_\\nContent-Location:logo\\nContent-Transfer-Encoding:base64\\n\\niVBORw0KGgoAAAANSUhEUgAAANcAAAAeCAMAAACIRHv7AAAAYFBMVEWq1LBksW/3xpDQ6fVhs9v8/fz61KuKxJLF4srj8eT96NJHolQ8odObzaM4m0bm8/aJxuXz+fTX69qv2O1Xq2P+9Op6vITy+fzM5dC73b8xl0D/+/gkls0mkzculj3/////+nwbAAAAIHRSTlP/////////////////////////////////////////AFxcG+0AAAVlSURBVHja1Zhvm6osEMahJCUCw4jUjsP3/5bPDH+S07q1Z1+c5+y9pYhi8+MeRq9lut0UCyivWtoJOWquGDYcdvwMMQObckH0UoGTtvNqBtLUDzNw2YsfwcXVpnywBnHmmTtAGYUf6oDZ2B/BJezWnxXBZuM4eA96BOUh6Wdwhc8kEKhTMHGYJmDINVCHAS1+CFfLPyhWBw06KJAeGIt+lY4Pt3BuDF/QpNz4F7mEgw/i8RS0wsw9+sXILyNyR3iSBujCG5Xr/jKXUZVM5prA29nYh19igtaCsRvxjn+Hy3bDn3F5UYknLjEC75Gm+KXsCF5ix//H1S063Snt5UqhK7GKK1TKXBOVdgDnil+tgpk+wz/A1ZF7s36EvFTir7kYkJCj+MUhafxHuPjiV671zu+4xtbPYNr24RdLHV6+4LoJ8Z7LincAQrznmhZn33FxWSlykYQBF8K6vqiD17/eac596wrX7dycTqfmkoI6Ho/3kHQ9Hq+Fy2qnXGtDUX9pmuaMuoRwxzF0+eGwO1CjKMNkJS5pZhneccFcCQpXQC5hk18DmGeu0UFS5rqcfiU1ezo87HYIkxB3u2Pm6hSQyiK9n'"
      ]
     },
     "execution_count": 14,
     "metadata": {},
     "output_type": "execute_result"
    }
   ],
   "source": [
    "r = requests.post('https://accounts.douban.com/login', data={'form_email': 'abc@example.com', 'form_password': '123456'})\n",
    "r.text[:1000]"
   ]
  },
  {
   "cell_type": "markdown",
   "metadata": {},
   "source": [
    "requests默认使用application/x-www-form-urlencoded对POST数据编码"
   ]
  },
  {
   "cell_type": "markdown",
   "metadata": {},
   "source": [
    "# 可以直接传入json参数："
   ]
  },
  {
   "cell_type": "code",
   "execution_count": 18,
   "metadata": {
    "collapsed": false
   },
   "outputs": [],
   "source": [
    "params = {'key': 'value'}\n",
    "r = requests.post(\"https://accounts.douban.com/login\", json=params) # 内部自动序列化为JSON"
   ]
  },
  {
   "cell_type": "markdown",
   "metadata": {},
   "source": [
    "# 文件上传"
   ]
  },
  {
   "cell_type": "code",
   "execution_count": 21,
   "metadata": {
    "collapsed": false
   },
   "outputs": [],
   "source": [
    "#'rb'即二进制模式读取，这样获取的bytes长度才是文件的长度\n",
    "upload_files = {'file': open('requests.ipynb', 'rb')}\n",
    "r = requests.post(\"https://accounts.douban.com/login\", files=upload_files)"
   ]
  },
  {
   "cell_type": "markdown",
   "metadata": {},
   "source": [
    "> 把post()方法替换为put()，delete()等，就可以以PUT或DELETE方式请求资源"
   ]
  },
  {
   "cell_type": "markdown",
   "metadata": {},
   "source": [
    "# 获取请求头"
   ]
  },
  {
   "cell_type": "code",
   "execution_count": 22,
   "metadata": {
    "collapsed": false
   },
   "outputs": [
    {
     "data": {
      "text/plain": [
       "{'Date': 'Mon, 23 Apr 2018 13:16:02 GMT', 'X-DAE-App': 'accounts', 'Server': 'dae', 'Transfer-Encoding': 'chunked', 'Strict-Transport-Security': 'max-age=15552000;', 'X-Content-Type-Options': 'nosniff', 'Content-Type': 'text/html; charset=utf-8', 'Connection': 'keep-alive', 'X-Douban-Mobileapp': '0', 'Content-Encoding': 'gzip', 'Cache-Control': 'must-revalidate, no-cache, private', 'Expires': 'Sun, 1 Jan 2006 01:00:00 GMT', 'X-Frame-Options': 'SAMEORIGIN', 'Vary': 'Accept-Encoding', 'X-Xss-Protection': '1; mode=block', 'X-DAE-Node': 'sindar26d', 'Keep-Alive': 'timeout=30', 'Pragma': 'no-cache'}"
      ]
     },
     "execution_count": 22,
     "metadata": {},
     "output_type": "execute_result"
    }
   ],
   "source": [
    "r.headers"
   ]
  },
  {
   "cell_type": "code",
   "execution_count": 23,
   "metadata": {
    "collapsed": false
   },
   "outputs": [
    {
     "data": {
      "text/plain": [
       "'text/html; charset=utf-8'"
      ]
     },
     "execution_count": 23,
     "metadata": {},
     "output_type": "execute_result"
    }
   ],
   "source": [
    "r.headers[\"Content-Type\"]"
   ]
  },
  {
   "cell_type": "markdown",
   "metadata": {},
   "source": [
    "# 操作cookie"
   ]
  },
  {
   "cell_type": "markdown",
   "metadata": {},
   "source": [
    "只需准备一个dict传入cookies参数"
   ]
  },
  {
   "cell_type": "code",
   "execution_count": 26,
   "metadata": {
    "collapsed": false
   },
   "outputs": [],
   "source": [
    "cs = {'token': '12345', 'status': 'working'}\n",
    "r = requests.get(\"https://accounts.douban.com/login\", cookies=cs)"
   ]
  },
  {
   "cell_type": "markdown",
   "metadata": {},
   "source": [
    "# 指定超时"
   ]
  },
  {
   "cell_type": "code",
   "execution_count": null,
   "metadata": {
    "collapsed": true
   },
   "outputs": [],
   "source": [
    "r = requests.get(\"https://accounts.douban.com/login\", timeout=2.5) # 2.5秒后超时"
   ]
  }
 ],
 "metadata": {
  "anaconda-cloud": {},
  "kernelspec": {
   "display_name": "Python [Anaconda3]",
   "language": "python",
   "name": "Python [Anaconda3]"
  },
  "language_info": {
   "codemirror_mode": {
    "name": "ipython",
    "version": 3
   },
   "file_extension": ".py",
   "mimetype": "text/x-python",
   "name": "python",
   "nbconvert_exporter": "python",
   "pygments_lexer": "ipython3",
   "version": "3.5.1"
  },
  "toc": {
   "nav_menu": {},
   "number_sections": true,
   "sideBar": true,
   "skip_h1_title": false,
   "toc_cell": false,
   "toc_position": {},
   "toc_section_display": "block",
   "toc_window_display": false
  }
 },
 "nbformat": 4,
 "nbformat_minor": 0
}
