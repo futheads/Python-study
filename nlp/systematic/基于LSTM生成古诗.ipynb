{
 "cells": [
  {
   "cell_type": "markdown",
   "metadata": {},
   "source": [
    "# 配置类"
   ]
  },
  {
   "cell_type": "code",
   "execution_count": 162,
   "metadata": {
    "collapsed": true
   },
   "outputs": [],
   "source": [
    "class Config(object):\n",
    "    poetry_file = \"data/poetry.txt\"\n",
    "    weight_file = \"data/poetry_model.h5\"\n",
    "    # 根据前六个字预测第七个字\n",
    "    max_len = 6\n",
    "    batch_size = 512\n",
    "    learning_rate = 0.001"
   ]
  },
  {
   "cell_type": "markdown",
   "metadata": {},
   "source": [
    "# 语料预处理"
   ]
  },
  {
   "cell_type": "code",
   "execution_count": 163,
   "metadata": {
    "collapsed": false
   },
   "outputs": [],
   "source": [
    "puncs = [']', '[', '（', '）', '{', '}', '：', '《', '》']\n",
    "\n",
    "def preprocess_file(Config):\n",
    "    file_content = \"\"\n",
    "    with open(Config.poetry_file, \"r\", encoding=\"utf-8\") as f:\n",
    "        for line in f:\n",
    "            for char in puncs:\n",
    "                line.replace(char, \"\")\n",
    "            file_content += line.strip() + \"]\"\n",
    "    \n",
    "    words = sorted(list(file_content))\n",
    "    counted_words = {}\n",
    "    for word in words:\n",
    "        if word in counted_words:\n",
    "            counted_words[word] += 1\n",
    "        else:\n",
    "            counted_words[word] = 1\n",
    "            \n",
    "    # 去掉低频字\n",
    "    erase = []\n",
    "    for key in counted_words:\n",
    "        if counted_words[key] <= 2:\n",
    "            erase.append(key)        \n",
    "    for key in erase:\n",
    "        del counted_words[key]\n",
    "        \n",
    "    del counted_words[\"]\"]\n",
    "    \n",
    "    wordPairs = sorted(counted_words.items(), key=lambda x: -x[1])\n",
    "    words, _ = zip(*wordPairs)\n",
    "    # word到id的映射\n",
    "    word2num = dict((c, i + 1)for i, c in enumerate(words))\n",
    "    num2word = dict((i, c) for i, c in enumerate(words))\n",
    "    word2numF = lambda x: word2num.get(x, 0)\n",
    "    return word2numF, num2word, words, file_content"
   ]
  },
  {
   "cell_type": "markdown",
   "metadata": {},
   "source": [
    "# 构建模型"
   ]
  },
  {
   "cell_type": "code",
   "execution_count": 164,
   "metadata": {
    "collapsed": false
   },
   "outputs": [],
   "source": [
    "import os\n",
    "from keras.layers import Input, Embedding, Bidirectional, Dropout, Flatten, Dense, GRU\n",
    "from keras.models import Model, load_model\n",
    "from keras.optimizers import Adam\n",
    "import numpy as np\n",
    "import keras\n",
    "from keras.callbacks import LambdaCallback\n",
    "import random"
   ]
  },
  {
   "cell_type": "code",
   "execution_count": 165,
   "metadata": {
    "collapsed": false
   },
   "outputs": [],
   "source": [
    "class PoetryModel(object):\n",
    "    def __init__(self, config):\n",
    "        self.model = None\n",
    "        self.do_train = True\n",
    "        self.loaded_model = False\n",
    "        self.config = config\n",
    "\n",
    "        # 文件预处理\n",
    "        self.word2numF, self.num2word, self.words, self.files_content = preprocess_file(self.config)\n",
    "        if os.path.exists(self.config.weight_file):\n",
    "            self.model = load_model(self.config.weight_file)\n",
    "            self.model.summary()\n",
    "        else:\n",
    "            self.train()\n",
    "        self.do_train = False\n",
    "        self.loaded_model = True\n",
    "    \n",
    "    def build_model(self):\n",
    "        \"\"\"建立模型\"\"\"\n",
    "        input_tensor = Input(shape=(self.config.max_len,))\n",
    "        embedd = Embedding(len(self.num2word)+1, 300, input_length=self.config.max_len)(input_tensor)\n",
    "        lstm = Bidirectional(GRU(128, return_sequences=True))(embedd)\n",
    "        dropout = Dropout(0.6)(lstm)\n",
    "        lstm = Bidirectional(GRU(128, return_sequences=True))(embedd)\n",
    "        dropout = Dropout(0.6)(lstm)\n",
    "        flatten = Flatten()(lstm)\n",
    "        dense = Dense(len(self.words), activation='softmax')(flatten)\n",
    "        self.model = Model(inputs=input_tensor, outputs=dense)\n",
    "        optimizer = Adam(lr=self.config.learning_rate)\n",
    "        self.model.compile(loss='categorical_crossentropy', optimizer=optimizer, metrics=['accuracy'])\n",
    "    \n",
    "    def sample(self, preds, temperature=1.0):\n",
    "        \"\"\"\n",
    "        当temperature=1.0时，模型输出正常\n",
    "        当temperature=0.5时，模型输出比较open\n",
    "        当temperature=1.5时，模型输出比较保守\n",
    "        \"\"\"\n",
    "        preds = np.asarray(preds).astype('float64')\n",
    "        preds = np.log(preds) / temperature\n",
    "        exp_preds = np.exp(preds)\n",
    "        preds = exp_preds / np.sum(exp_preds)\n",
    "        probas = np.random.multinomial(1, preds, 1)\n",
    "        return np.argmax(probas)\n",
    "    \n",
    "    def generate_sample_result(self, epoch, logs):\n",
    "        print(\"\\n==================Epoch {}=====================\".format(epoch))\n",
    "        for diversity in [0.5, 1.0, 1.5]:\n",
    "            print(\"------------Diversity {}--------------\".format(diversity))\n",
    "            start_index = random.randint(0, len(self.files_content) - self.config.max_len - 1)\n",
    "            generated = ''\n",
    "            sentence = self.files_content[start_index: start_index + self.config.max_len]\n",
    "            generated += sentence\n",
    "            for i in range(20):\n",
    "                x_pred = np.zeros((1, self.config.max_len))\n",
    "                for t, char in enumerate(sentence[-6:]):\n",
    "                    x_pred[0, t] = self.word2numF(char)\n",
    "\n",
    "                preds = self.model.predict(x_pred, verbose=0)[0]\n",
    "                next_index = self.sample(preds, diversity)\n",
    "                next_char = self.num2word[next_index]\n",
    "                generated += next_char\n",
    "                sentence = sentence + next_char\n",
    "            print(sentence)\n",
    "        \n",
    "    def predict(self, text):\n",
    "        if not self.loaded_model:\n",
    "            return\n",
    "        with open(self.config.poetry_file, 'r', encoding='utf-8') as f:\n",
    "            file_list = f.readlines()\n",
    "        random_line = random.choice(file_list)\n",
    "        # 如果给的text不到四个字，则随机补全\n",
    "        if not text or len(text) != 4:\n",
    "            for _ in range(4 - len(text)):\n",
    "                random_str_index = random.randrange(0, len(self.words))\n",
    "                text += self.num2word.get(random_str_index) if self.num2word.get(random_str_index) not in [',', '。',\n",
    "                                                                                                           '，'] else self.num2word.get(\n",
    "                    random_str_index + 1)\n",
    "        seed = random_line[-(self.config.max_len):-1]\n",
    "        res = ''\n",
    "        seed = 'c' + seed\n",
    "        for c in text:\n",
    "            seed = seed[1:] + c\n",
    "            for j in range(5):\n",
    "                x_pred = np.zeros((1, self.config.max_len))\n",
    "                for t, char in enumerate(seed):\n",
    "                    x_pred[0, t] = self.word2numF(char)\n",
    "                preds = self.model.predict(x_pred, verbose=0)[0]\n",
    "                next_index = self.sample(preds, 1.0)\n",
    "                next_char = self.num2word[next_index]\n",
    "                seed = seed[1:] + next_char\n",
    "            res += seed\n",
    "        return res\n",
    "        \n",
    "    \n",
    "    def data_generator(self):\n",
    "        \"\"\"生成数据，提供给模型训练时使用\"\"\"\n",
    "        i = 0\n",
    "        while 1:\n",
    "            x = self.files_content[i: i + self.config.max_len]\n",
    "            y = self.files_content[i + self.config.max_len]\n",
    "            puncs = [']', '[', '（', '）', '{', '}', '：', '《', '》', ':']\n",
    "            if len([i for i in puncs if i in x]) != 0:\n",
    "                i += 1\n",
    "                continue\n",
    "            if len([i for i in puncs if i in y]) != 0:\n",
    "                i += 1\n",
    "                continue\n",
    "            y_vec = np.zeros(\n",
    "                shape=(1, len(self.words)),\n",
    "                dtype=np.bool\n",
    "            )\n",
    "            y_vec[0, self.word2numF(y)] = 1.0\n",
    "            x_vec = np.zeros(\n",
    "                shape=(1, self.config.max_len),\n",
    "                dtype=np.int32\n",
    "            )\n",
    "            for t, char in enumerate(x):\n",
    "                x_vec[0, t] = self.word2numF(char)\n",
    "            yield x_vec, y_vec\n",
    "            i += 1\n",
    "    \n",
    "    def train(self):\n",
    "        #number_of_epoch = len(self.files_content) // self.config.batch_size\n",
    "        number_of_epoch = 10\n",
    "        if not self.model:\n",
    "            self.build_model()\n",
    "        self.model.summary()\n",
    "        self.model.fit_generator(\n",
    "            generator=self.data_generator(),\n",
    "            verbose=True,\n",
    "            steps_per_epoch=self.config.batch_size,\n",
    "            epochs=number_of_epoch,\n",
    "            callbacks=[\n",
    "                keras.callbacks.ModelCheckpoint(self.config.weight_file, save_weights_only=False),\n",
    "                LambdaCallback(on_epoch_end=self.generate_sample_result)\n",
    "            ]\n",
    "        )"
   ]
  },
  {
   "cell_type": "markdown",
   "metadata": {},
   "source": [
    "# 开始训练模型"
   ]
  },
  {
   "cell_type": "code",
   "execution_count": 166,
   "metadata": {
    "collapsed": false
   },
   "outputs": [
    {
     "name": "stdout",
     "output_type": "stream",
     "text": [
      "_________________________________________________________________\n",
      "Layer (type)                 Output Shape              Param #   \n",
      "=================================================================\n",
      "input_8 (InputLayer)         (None, 6)                 0         \n",
      "_________________________________________________________________\n",
      "embedding_8 (Embedding)      (None, 6, 300)            1798800   \n",
      "_________________________________________________________________\n",
      "bidirectional_8 (Bidirection (None, 6, 256)            329472    \n",
      "_________________________________________________________________\n",
      "flatten_7 (Flatten)          (None, 1536)              0         \n",
      "_________________________________________________________________\n",
      "dense_6 (Dense)              (None, 5995)              9214315   \n",
      "=================================================================\n",
      "Total params: 11,342,587\n",
      "Trainable params: 11,342,587\n",
      "Non-trainable params: 0\n",
      "_________________________________________________________________\n",
      "Epoch 1/10\n",
      "512/512 [==============================] - 86s 168ms/step - loss: 7.4454 - acc: 0.1504\n",
      "\n",
      "==================Epoch 0=====================\n",
      "------------Diversity 0.5--------------\n",
      "俯觉座隅空。照丘。之与。夸意。路关。池若。声桃。怨竿\n",
      "------------Diversity 1.0--------------\n",
      "清唱云不去，鞮乱贬锯岝不塞征水馁闯案醨锧帘惶皇厨袈踦\n",
      "------------Diversity 1.5--------------\n",
      "破。自言本是漼蜊磑璧驰漫壒虽视弟纣断鹤滪掞酸遨岱甔晔\n",
      "Epoch 2/10\n",
      "512/512 [==============================] - 91s 178ms/step - loss: 6.9066 - acc: 0.1680\n",
      "\n",
      "==================Epoch 1=====================\n",
      "------------Diversity 0.5--------------\n",
      "色树还曛，何良佛门欲不。天生标春。。性极春。。。惜亏\n",
      "------------Diversity 1.0--------------\n",
      "置芳筵。家酝霅高统。住幡壶僻睨。础倦缘汉谓。铺麋灵曚\n",
      "------------Diversity 1.5--------------\n",
      "。初因无象外贾旰崩菲玕亚甫原黮鹯柱惜得梓胄桴报旋毅晻\n",
      "Epoch 3/10\n",
      "512/512 [==============================] - 94s 183ms/step - loss: 6.8922 - acc: 0.1680\n",
      "\n",
      "==================Epoch 2=====================\n",
      "------------Diversity 0.5--------------\n",
      "还向月，梦来子无初不忱鹤茫良不乡辛黯捧不莎不阴欲舞返\n",
      "------------Diversity 1.0--------------\n",
      "，吁嗟不少留不庭蒟子乳嵬秣衔识近有好开误咤温供地片衩\n",
      "------------Diversity 1.5--------------\n",
      "没旧名。天悲刁愿尘。他巷罛祥洋。侍榴助酉滢彼劫赋思駸\n",
      "Epoch 4/10\n",
      "512/512 [==============================] - 89s 174ms/step - loss: 6.4187 - acc: 0.1719\n",
      "\n",
      "==================Epoch 3=====================\n",
      "------------Diversity 0.5--------------\n",
      "宝髻花簇鸣珰不。泉镜际迟南。畏迟曾柳食。尺云雪不雾。\n",
      "------------Diversity 1.0--------------\n",
      "。芍药与君为句庾欤凤路大奠识决喜。鲋令欺南相。见绕寐\n",
      "------------Diversity 1.5--------------\n",
      "起，沙漠收奇蕨不谂舒稠璀朗矶对狐。麦昔惯剑闻翻皓掷亹\n",
      "Epoch 5/10\n",
      "512/512 [==============================] - 83s 162ms/step - loss: 6.6633 - acc: 0.1719\n",
      "\n",
      "==================Epoch 4=====================\n",
      "------------Diversity 0.5--------------\n",
      "屏帏。抚稚再宽首。响露供莫却。扇霜轩有昔。。枯何许不\n",
      "------------Diversity 1.0--------------\n",
      "。手自移蒲柳。汉重渡鸳汉。四泉一岑阴。升闻仙妻增。门\n",
      "------------Diversity 1.5--------------\n",
      "天。浮生自是诗。储稀泉武乡公女楹郊疏瓯簳馥摵淙肯琳麦\n",
      "Epoch 6/10\n",
      "512/512 [==============================] - 82s 161ms/step - loss: 6.4447 - acc: 0.1719\n",
      "\n",
      "==================Epoch 5=====================\n",
      "------------Diversity 0.5--------------\n",
      "带垂苍玉佩，不感应。汉不不晚归。绿紫乖旅思。。喜时入\n",
      "------------Diversity 1.0--------------\n",
      "差肩。]润气眠士。修经灸春赫。丹仞入国净。役瀑女效思\n",
      "------------Diversity 1.5--------------\n",
      "]行潦散轻沤艹胥者舆遮花铭津醨耳芗仙溷欲酥锄边辛绕祆\n",
      "Epoch 7/10\n",
      "512/512 [==============================] - 82s 161ms/step - loss: 6.6604 - acc: 0.1660\n",
      "\n",
      "==================Epoch 6=====================\n",
      "------------Diversity 0.5--------------\n",
      "去花如此。蝶吾闭风蒸。曾逐渐骏衣。。时入丘宋。。入后\n",
      "------------Diversity 1.0--------------\n",
      "，荒溪众树分不路游幸须宽然暝潮子□妻礼违唱榛节将明听\n",
      "------------Diversity 1.5--------------\n",
      "音同舍郎，如绮窥叟无不露恨不捍梅惧儿惨风池库岌怠有杆\n",
      "Epoch 8/10\n",
      "512/512 [==============================] - 82s 161ms/step - loss: 6.2952 - acc: 0.1719\n",
      "\n",
      "==================Epoch 7=====================\n",
      "------------Diversity 0.5--------------\n",
      "将升。腾绛霄云马。有来骨噬辈。包夫开殊云。原虽捕捧开\n",
      "------------Diversity 1.0--------------\n",
      "相见，旱久多时帽不折却履鸣唳万亘刁舞妆梁僻夔时凤因悠\n",
      "------------Diversity 1.5--------------\n",
      "延疏光。仲夏愁叱照赵酿掣嶮阖翰珮缰出昨瑾际攫烟圮閤照\n",
      "Epoch 9/10\n",
      "512/512 [==============================] - 82s 161ms/step - loss: 5.9481 - acc: 0.1816\n",
      "\n",
      "==================Epoch 8=====================\n",
      "------------Diversity 0.5--------------\n",
      "心生软草，灌浊日衣实不塔不自九眦走不敌门对须下虑踞。\n",
      "------------Diversity 1.0--------------\n",
      "装束轻鸿意态香槱尺欺守芦沔响腰改菊诗诉三悔孝侈篷封狂\n",
      "------------Diversity 1.5--------------\n",
      "光华比使车。媭肯配闻骨。基企攀鸳绿。稀钱佗流著锒辫荚\n",
      "Epoch 10/10\n",
      "512/512 [==============================] - 82s 161ms/step - loss: 5.9237 - acc: 0.1914\n",
      "\n",
      "==================Epoch 9=====================\n",
      "------------Diversity 0.5--------------\n",
      "妾身未分明，锁时彩半半不膏。诞小春春翰。再开与庐换。\n",
      "------------Diversity 1.0--------------\n",
      "]零落桐叶雨不烝踞荆磨。竿院秋巾眠。重狡丛酸用。勿分\n",
      "------------Diversity 1.5--------------\n",
      "不可度。上有钲杖敌忱香圄参粘阒景畏偷此鬘雾春伏沉时视\n"
     ]
    }
   ],
   "source": [
    "model = PoetryModel(Config)"
   ]
  },
  {
   "cell_type": "markdown",
   "metadata": {},
   "source": [
    "# 模型作诗"
   ]
  },
  {
   "cell_type": "code",
   "execution_count": 167,
   "metadata": {
    "collapsed": false
   },
   "outputs": [
    {
     "name": "stdout",
     "output_type": "stream",
     "text": [
      "小干谔醆椹。船电欺廒吾。旱勋能劳亲。忌贷滩蝶换。\n"
     ]
    }
   ],
   "source": [
    "input = \"小船\"\n",
    "sentence = model.predict(input)\n",
    "print(sentence)"
   ]
  },
  {
   "cell_type": "code",
   "execution_count": 168,
   "metadata": {
    "collapsed": false
   },
   "outputs": [
    {
     "name": "stdout",
     "output_type": "stream",
     "text": [
      "小平佛獠近。雨见默关祛。越乖得当盖。怙忠咋未春。\n"
     ]
    }
   ],
   "source": [
    "print(model.predict(\"小雨\"))"
   ]
  },
  {
   "cell_type": "code",
   "execution_count": null,
   "metadata": {
    "collapsed": true
   },
   "outputs": [],
   "source": []
  }
 ],
 "metadata": {
  "kernelspec": {
   "display_name": "Python [Anaconda3]",
   "language": "python",
   "name": "Python [Anaconda3]"
  },
  "language_info": {
   "codemirror_mode": {
    "name": "ipython",
    "version": 3
   },
   "file_extension": ".py",
   "mimetype": "text/x-python",
   "name": "python",
   "nbconvert_exporter": "python",
   "pygments_lexer": "ipython3",
   "version": "3.5.1"
  },
  "toc": {
   "nav_menu": {},
   "number_sections": true,
   "sideBar": true,
   "skip_h1_title": false,
   "toc_cell": false,
   "toc_position": {},
   "toc_section_display": "block",
   "toc_window_display": false
  }
 },
 "nbformat": 4,
 "nbformat_minor": 0
}
