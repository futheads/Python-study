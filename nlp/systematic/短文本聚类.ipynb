{
 "cells": [
  {
   "cell_type": "markdown",
   "metadata": {},
   "source": [
    "# 语料加载"
   ]
  },
  {
   "cell_type": "code",
   "execution_count": 34,
   "metadata": {
    "collapsed": true
   },
   "outputs": [],
   "source": [
    "import jieba\n",
    "import random\n",
    "import pandas as pd"
   ]
  },
  {
   "cell_type": "code",
   "execution_count": 35,
   "metadata": {
    "collapsed": true
   },
   "outputs": [],
   "source": [
    "stopwords = pd.read_csv(\"data/stopwords.txt\", quoting=3, index_col=False, sep=\"\\t\", names=[\"stopword\"], encoding=\"utf-8\")\n",
    "stopwords = stopwords[\"stopword\"].values"
   ]
  },
  {
   "cell_type": "code",
   "execution_count": 36,
   "metadata": {
    "collapsed": true
   },
   "outputs": [],
   "source": [
    "laogong_df = pd.read_csv(\"data/beilaogongda.csv\", encoding=\"utf-8\")\n",
    "laopo_df = pd.read_csv(\"data/beilaopoda.csv\", encoding=\"utf-8\")\n",
    "erzi_df = pd.read_csv(\"data/beierzida.csv\", encoding=\"utf-8\")\n",
    "nver_df = pd.read_csv(\"data/beinverda.csv\", encoding=\"utf-8\")"
   ]
  },
  {
   "cell_type": "code",
   "execution_count": 37,
   "metadata": {
    "collapsed": true
   },
   "outputs": [],
   "source": [
    "laogong_df.dropna(inplace=True)\n",
    "laopo_df.dropna(inplace=True)\n",
    "erzi_df.dropna(inplace=True)\n",
    "nver_df.dropna(inplace=True)"
   ]
  },
  {
   "cell_type": "code",
   "execution_count": 38,
   "metadata": {
    "collapsed": true
   },
   "outputs": [],
   "source": [
    "laogong = laogong_df.segment.values.tolist()\n",
    "laopo = laopo_df.segment.values.tolist()\n",
    "erzi = erzi_df.segment.values.tolist()\n",
    "nver = nver_df.segment.values.tolist()"
   ]
  },
  {
   "cell_type": "markdown",
   "metadata": {},
   "source": [
    "# 分词和去停用词"
   ]
  },
  {
   "cell_type": "code",
   "execution_count": 39,
   "metadata": {
    "collapsed": true
   },
   "outputs": [],
   "source": [
    "def preprocess_text(content_lines, sentences):\n",
    "    for line in content_lines:\n",
    "        try:\n",
    "            segs = jieba.lcut(line)\n",
    "            # 去空格\n",
    "            segs = list(filter(lambda x: x.strip(), segs))\n",
    "            # 去数字\n",
    "            segs = [v for v in segs if not str(v).isdigit()]\n",
    "            # 去长度为1的字符\n",
    "            segs = list(filter(lambda x: len(x) > 1, segs))\n",
    "            # 去掉停用词\n",
    "            segs = list(filter(lambda x: x not in stopwords, segs))\n",
    "            sentences.append((\" \").join(segs))\n",
    "        except Exception as e:\n",
    "            print(line, str(e))\n",
    "            continue"
   ]
  },
  {
   "cell_type": "code",
   "execution_count": 40,
   "metadata": {
    "collapsed": false
   },
   "outputs": [],
   "source": [
    "sentences = []\n",
    "preprocess_text(laogong, sentences)\n",
    "preprocess_text(laopo, sentences)\n",
    "preprocess_text(erzi, sentences)\n",
    "preprocess_text(nver, sentences)"
   ]
  },
  {
   "cell_type": "code",
   "execution_count": 41,
   "metadata": {
    "collapsed": true
   },
   "outputs": [],
   "source": [
    "random.shuffle(sentences)"
   ]
  },
  {
   "cell_type": "code",
   "execution_count": 42,
   "metadata": {
    "collapsed": false
   },
   "outputs": [
    {
     "data": {
      "text/plain": [
       "['报警 女儿 民警 到场',\n",
       " '报警 儿子 民警 到场',\n",
       " '报警 儿子 持械 人伤 无需 救护 民警 到场 民警 携带 防护 设备',\n",
       " '儿子 人无伤 持械 民警 到场',\n",
       " '报警 老婆 民警 到场']"
      ]
     },
     "execution_count": 42,
     "metadata": {},
     "output_type": "execute_result"
    }
   ],
   "source": [
    "sentences[:5]"
   ]
  },
  {
   "cell_type": "markdown",
   "metadata": {},
   "source": [
    "# 抽取词向量特征"
   ]
  },
  {
   "cell_type": "code",
   "execution_count": 43,
   "metadata": {
    "collapsed": true
   },
   "outputs": [],
   "source": [
    "from sklearn.feature_extraction.text import TfidfVectorizer, TfidfTransformer"
   ]
  },
  {
   "cell_type": "code",
   "execution_count": 44,
   "metadata": {
    "collapsed": false
   },
   "outputs": [
    {
     "name": "stderr",
     "output_type": "stream",
     "text": [
      "C:\\Anaconda3\\lib\\site-packages\\sklearn\\feature_extraction\\text.py:1059: FutureWarning: Conversion of the second argument of issubdtype from `float` to `np.floating` is deprecated. In future, it will be treated as `np.float64 == np.dtype(float).type`.\n",
      "  if hasattr(X, 'dtype') and np.issubdtype(X.dtype, np.float):\n"
     ]
    }
   ],
   "source": [
    "# 将文本中的词语转换为词频矩阵 矩阵元素a[i][j] 表示j词在i类文本下的词频\n",
    "vectorizer = TfidfVectorizer(sublinear_tf=True, max_df=0.5)\n",
    "# 统计每个词的tf-idf权重\n",
    "transformer = TfidfTransformer()\n",
    "# 先计算tf-idf, 再讲文本转为词频矩阵\n",
    "tfidf = transformer.fit_transform(vectorizer.fit_transform(sentences))\n",
    "# 获取词袋中的所有词语\n",
    "word = vectorizer.get_feature_names()\n",
    "weight = tfidf.toarray()"
   ]
  },
  {
   "cell_type": "code",
   "execution_count": 45,
   "metadata": {
    "collapsed": false
   },
   "outputs": [
    {
     "data": {
      "text/plain": [
       "476"
      ]
     },
     "execution_count": 45,
     "metadata": {},
     "output_type": "execute_result"
    }
   ],
   "source": [
    "len(word)"
   ]
  },
  {
   "cell_type": "markdown",
   "metadata": {},
   "source": [
    "# 聚类"
   ]
  },
  {
   "cell_type": "markdown",
   "metadata": {},
   "source": [
    "## 建模"
   ]
  },
  {
   "cell_type": "code",
   "execution_count": 46,
   "metadata": {
    "collapsed": true
   },
   "outputs": [],
   "source": [
    "from sklearn.cluster import KMeans\n",
    "from sklearn.decomposition import PCA"
   ]
  },
  {
   "cell_type": "code",
   "execution_count": 47,
   "metadata": {
    "collapsed": true
   },
   "outputs": [],
   "source": [
    "numClass = 4\n",
    "# 也可以用init=\"random\"\n",
    "clf = KMeans(n_clusters=numClass, max_iter=10000, init=\"k-means++\", tol=1e-6)\n",
    "# 降维\n",
    "pca = PCA(n_components=10)\n",
    "# 载入N维\n",
    "TnewData = pca.fit_transform(weight)\n",
    "s = clf.fit(TnewData)"
   ]
  },
  {
   "cell_type": "markdown",
   "metadata": {},
   "source": [
    "## 可视化"
   ]
  },
  {
   "cell_type": "code",
   "execution_count": 48,
   "metadata": {
    "collapsed": true
   },
   "outputs": [],
   "source": [
    "import matplotlib.pylab as plt\n",
    "\n",
    "%matplotlib inline"
   ]
  },
  {
   "cell_type": "code",
   "execution_count": 49,
   "metadata": {
    "collapsed": true
   },
   "outputs": [],
   "source": [
    "def plot_cluster(result, newData, numClass):\n",
    "    plt.figure(2)\n",
    "    Lab = [[] for i in range(numClass)]\n",
    "    index = 0\n",
    "    for labi in result:\n",
    "        Lab[labi].append(index)\n",
    "        index += 1\n",
    "    color = ['oy', 'ob', 'og', 'cs', 'ms', 'bs', 'ks', 'ys', 'yv', 'mv', 'bv', 'kv', 'gv', 'y^', 'm^', 'b^', 'k^',\n",
    "                 'g^'] * 3 \n",
    "    for i in range(numClass):\n",
    "        x1 = []\n",
    "        y1 = []\n",
    "        for ind1 in newData[Lab[i]]:\n",
    "            try:\n",
    "                y1.append(ind1[1])\n",
    "                x1.append(ind1[0])\n",
    "            except:\n",
    "                pass\n",
    "        plt.plot(x1, y1, color[i])\n",
    "    \n",
    "    # 绘制中心点\n",
    "    x1 = []\n",
    "    y1 = []\n",
    "    for ind1 in clf.cluster_centers_:\n",
    "        try:\n",
    "            y1.append(ind1[1])\n",
    "            x1.append(ind1[0])\n",
    "        except:\n",
    "            pass\n",
    "    plt.plot(x1, y1, \"rv\")\n",
    "    plt.show()"
   ]
  },
  {
   "cell_type": "markdown",
   "metadata": {},
   "source": [
    "## 降到2维"
   ]
  },
  {
   "cell_type": "code",
   "execution_count": 51,
   "metadata": {
    "collapsed": false
   },
   "outputs": [],
   "source": [
    "pca = PCA(n_components=2)\n",
    "newData = pca.fit_transform(weight)\n",
    "result = list(clf.predict(TnewData))"
   ]
  },
  {
   "cell_type": "markdown",
   "metadata": {},
   "source": [
    "## 绘图"
   ]
  },
  {
   "cell_type": "code",
   "execution_count": 52,
   "metadata": {
    "collapsed": false
   },
   "outputs": [
    {
     "data": {
      "image/png": "[encoded data removed]",
      "text/plain": [
       "<matplotlib.figure.Figure at 0xe53f908>"
      ]
     },
     "metadata": {},
     "output_type": "display_data"
    }
   ],
   "source": [
    "plot_cluster(result, newData, numClass)"
   ]
  },
  {
   "cell_type": "markdown",
   "metadata": {},
   "source": [
    "## 试试TSNE降维"
   ]
  },
  {
   "cell_type": "code",
   "execution_count": 53,
   "metadata": {
    "collapsed": true
   },
   "outputs": [],
   "source": [
    "from sklearn.manifold import TSNE"
   ]
  },
  {
   "cell_type": "code",
   "execution_count": 54,
   "metadata": {
    "collapsed": false
   },
   "outputs": [
    {
     "data": {
      "image/png": "[encoded data removed]",
      "text/plain": [
       "<matplotlib.figure.Figure at 0x107c9828>"
      ]
     },
     "metadata": {},
     "output_type": "display_data"
    }
   ],
   "source": [
    "ts = TSNE(2)\n",
    "newData = ts.fit_transform(weight)\n",
    "result = list(clf.predict(TnewData))\n",
    "plot_cluster(result, newData, numClass)"
   ]
  },
  {
   "cell_type": "markdown",
   "metadata": {},
   "source": [
    "## 先用PCA，再用TSNE"
   ]
  },
  {
   "cell_type": "code",
   "execution_count": 55,
   "metadata": {
    "collapsed": false
   },
   "outputs": [
    {
     "data": {
      "image/png": "[encoded data removed]",
      "text/plain": [
       "<matplotlib.figure.Figure at 0xd5cccc0>"
      ]
     },
     "metadata": {},
     "output_type": "display_data"
    }
   ],
   "source": [
    "newData = PCA(n_components=4).fit_transform(weight)\n",
    "newData = TSNE(2).fit_transform(newData)\n",
    "result = list(clf.predict(TnewData))\n",
    "plot_cluster(result, newData, numClass)"
   ]
  },
  {
   "cell_type": "markdown",
   "metadata": {},
   "source": [
    "# 总结"
   ]
  },
  {
   "cell_type": "code",
   "execution_count": null,
   "metadata": {
    "collapsed": true
   },
   "outputs": [],
   "source": []
  }
 ],
 "metadata": {
  "anaconda-cloud": {},
  "kernelspec": {
   "display_name": "Python [Anaconda3]",
   "language": "python",
   "name": "Python [Anaconda3]"
  },
  "language_info": {
   "codemirror_mode": {
    "name": "ipython",
    "version": 3
   },
   "file_extension": ".py",
   "mimetype": "text/x-python",
   "name": "python",
   "nbconvert_exporter": "python",
   "pygments_lexer": "ipython3",
   "version": "3.5.1"
  },
  "toc": {
   "nav_menu": {},
   "number_sections": true,
   "sideBar": true,
   "skip_h1_title": false,
   "toc_cell": false,
   "toc_position": {},
   "toc_section_display": "block",
   "toc_window_display": false
  }
 },
 "nbformat": 4,
 "nbformat_minor": 0
}
