{
 "cells": [
  {
   "cell_type": "markdown",
   "metadata": {},
   "source": [
    "# 语料加载"
   ]
  },
  {
   "cell_type": "code",
   "execution_count": 1,
   "metadata": {
    "collapsed": true
   },
   "outputs": [],
   "source": [
    "import jieba\n",
    "import random\n",
    "import pandas as pd\n",
    "\n",
    "stopwords = pd.read_csv(\"data/stopwords.txt\", quoting=3, index_col=False, sep=\"\\t\", names=[\"stopword\"], encoding=\"utf-8\")\n",
    "stopwords = stopwords[\"stopword\"].values\n",
    "\n",
    "laogong_df = pd.read_csv(\"data/beilaogongda.csv\", encoding=\"utf-8\")\n",
    "laopo_df = pd.read_csv(\"data/beilaopoda.csv\", encoding=\"utf-8\")\n",
    "erzi_df = pd.read_csv(\"data/beierzida.csv\", encoding=\"utf-8\")\n",
    "nver_df = pd.read_csv(\"data/beinverda.csv\", encoding=\"utf-8\")\n",
    "\n",
    "laogong_df.dropna(inplace=True)\n",
    "laopo_df.dropna(inplace=True)\n",
    "erzi_df.dropna(inplace=True)\n",
    "nver_df.dropna(inplace=True)\n",
    "\n",
    "laogong = laogong_df.segment.values.tolist()\n",
    "laopo = laopo_df.segment.values.tolist()\n",
    "erzi = erzi_df.segment.values.tolist()\n",
    "nver = nver_df.segment.values.tolist()"
   ]
  },
  {
   "cell_type": "markdown",
   "metadata": {},
   "source": [
    "# 分词和去停用词"
   ]
  },
  {
   "cell_type": "code",
   "execution_count": 2,
   "metadata": {
    "collapsed": true
   },
   "outputs": [],
   "source": [
    "def preprocess_text(content_lines, sentences, category):\n",
    "    for line in content_lines:\n",
    "        try:\n",
    "            segs = jieba.lcut(line)\n",
    "            # 去空格\n",
    "            segs = list(filter(lambda x: x.strip(), segs))\n",
    "            # 去数字\n",
    "            segs = [v for v in segs if not str(v).isdigit()]\n",
    "            # 去长度为1的字符\n",
    "            segs = list(filter(lambda x: len(x) > 1, segs))\n",
    "            # 去掉停用词\n",
    "            segs = list(filter(lambda x: x not in stopwords, segs))\n",
    "            sentences.append(((\" \").join(segs), category))\n",
    "        except Exception as e:\n",
    "            print(line, str(e))\n",
    "            continue"
   ]
  },
  {
   "cell_type": "code",
   "execution_count": 3,
   "metadata": {
    "collapsed": false
   },
   "outputs": [
    {
     "name": "stderr",
     "output_type": "stream",
     "text": [
      "Building prefix dict from the default dictionary ...\n",
      "Loading model from cache C:\\Users\\ADMINI~1\\AppData\\Local\\Temp\\jieba.cache\n",
      "Loading model cost 0.869 seconds.\n",
      "Prefix dict has been built succesfully.\n"
     ]
    }
   ],
   "source": [
    "sentences = []\n",
    "preprocess_text(laogong, sentences, 0)\n",
    "preprocess_text(laopo, sentences, 1)\n",
    "preprocess_text(erzi, sentences, 2)\n",
    "preprocess_text(nver, sentences, 3)"
   ]
  },
  {
   "cell_type": "code",
   "execution_count": 4,
   "metadata": {
    "collapsed": false
   },
   "outputs": [
    {
     "data": {
      "text/plain": [
       "[('母亲 女儿 凳子 烟缸 人伤 在场 民警 到场 通知 民警 到场 确认 不需 通知', 3),\n",
       " ('老公 无需 救护 民警 到场', 0),\n",
       " ('老公 无需 救护 民警 到场 民警 携带 防护 装备', 0),\n",
       " ('女儿 报警 女儿 接听 老人 老年痴呆 民警 到场', 3),\n",
       " ('老公 皮带 人伤 无需 民警 到场', 0)]"
      ]
     },
     "execution_count": 4,
     "metadata": {},
     "output_type": "execute_result"
    }
   ],
   "source": [
    "random.shuffle(sentences)\n",
    "sentences[:5]"
   ]
  },
  {
   "cell_type": "code",
   "execution_count": 5,
   "metadata": {
    "collapsed": true
   },
   "outputs": [],
   "source": [
    "all_texts = [sentence[0] for sentence in sentences]\n",
    "all_labels = [sentence[1] for sentence in sentences]"
   ]
  },
  {
   "cell_type": "markdown",
   "metadata": {},
   "source": [
    "# 使用 LSTM 对数据进行分类"
   ]
  },
  {
   "cell_type": "code",
   "execution_count": 11,
   "metadata": {
    "collapsed": true
   },
   "outputs": [],
   "source": [
    "from keras_preprocessing.text import Tokenizer\n",
    "from keras_preprocessing.sequence import pad_sequences\n",
    "from keras.utils import to_categorical\n",
    "from keras.layers import Dense, Input, Flatten, Dropout\n",
    "from keras.layers import LSTM, Embedding, GRU\n",
    "from keras.models import Sequential\n",
    "\n",
    "import numpy as np"
   ]
  },
  {
   "cell_type": "markdown",
   "metadata": {},
   "source": [
    "## 预定义变量"
   ]
  },
  {
   "cell_type": "code",
   "execution_count": 8,
   "metadata": {
    "collapsed": true
   },
   "outputs": [],
   "source": [
    "MAX_SEQUENCE_LENGTH = 100\n",
    "EMBEDDING_DIM = 200\n",
    "VALIDATION_SPLIT = 0.16\n",
    "TEST_SPLIT = 0.2"
   ]
  },
  {
   "cell_type": "markdown",
   "metadata": {},
   "source": [
    "## keras的sequence模块文本序列填充"
   ]
  },
  {
   "cell_type": "code",
   "execution_count": 9,
   "metadata": {
    "collapsed": true
   },
   "outputs": [],
   "source": [
    "tokenizer = Tokenizer()\n",
    "tokenizer.fit_on_texts(all_texts)\n",
    "sequences = tokenizer.texts_to_sequences(all_texts)\n",
    "word_index = tokenizer.word_index"
   ]
  },
  {
   "cell_type": "code",
   "execution_count": 10,
   "metadata": {
    "collapsed": false
   },
   "outputs": [
    {
     "data": {
      "text/plain": [
       "480"
      ]
     },
     "execution_count": 10,
     "metadata": {},
     "output_type": "execute_result"
    }
   ],
   "source": [
    "len(word_index)"
   ]
  },
  {
   "cell_type": "code",
   "execution_count": 13,
   "metadata": {
    "collapsed": false
   },
   "outputs": [
    {
     "data": {
      "text/plain": [
       "(1674, 100)"
      ]
     },
     "execution_count": 13,
     "metadata": {},
     "output_type": "execute_result"
    }
   ],
   "source": [
    "data = pad_sequences(sequences, maxlen=MAX_SEQUENCE_LENGTH)\n",
    "labels = to_categorical(np.asarray(all_labels))\n",
    "\n",
    "data.shape"
   ]
  },
  {
   "cell_type": "code",
   "execution_count": 14,
   "metadata": {
    "collapsed": false
   },
   "outputs": [
    {
     "data": {
      "text/plain": [
       "(1674, 4)"
      ]
     },
     "execution_count": 14,
     "metadata": {},
     "output_type": "execute_result"
    }
   ],
   "source": [
    "labels.shape"
   ]
  },
  {
   "cell_type": "markdown",
   "metadata": {},
   "source": [
    "## 数据切分"
   ]
  },
  {
   "cell_type": "code",
   "execution_count": 15,
   "metadata": {
    "collapsed": true
   },
   "outputs": [],
   "source": [
    "p1 = int(len(data) * (1 - VALIDATION_SPLIT - TEST_SPLIT))\n",
    "p2 = int(len(data) * (1 - TEST_SPLIT))\n",
    "\n",
    "x_train = data[:p1]\n",
    "y_train = labels[:p1]\n",
    "x_val = data[p1:p2]\n",
    "y_val = labels[p1:p2]\n",
    "x_test = data[p2:]\n",
    "y_test = labels[p2:]"
   ]
  },
  {
   "cell_type": "markdown",
   "metadata": {},
   "source": [
    "## LSTM训练模型"
   ]
  },
  {
   "cell_type": "code",
   "execution_count": 16,
   "metadata": {
    "collapsed": false
   },
   "outputs": [
    {
     "name": "stdout",
     "output_type": "stream",
     "text": [
      "_________________________________________________________________\n",
      "Layer (type)                 Output Shape              Param #   \n",
      "=================================================================\n",
      "embedding_1 (Embedding)      (None, 100, 200)          96200     \n",
      "_________________________________________________________________\n",
      "lstm_1 (LSTM)                (None, 200)               320800    \n",
      "_________________________________________________________________\n",
      "dropout_1 (Dropout)          (None, 200)               0         \n",
      "_________________________________________________________________\n",
      "dense_1 (Dense)              (None, 64)                12864     \n",
      "_________________________________________________________________\n",
      "dense_2 (Dense)              (None, 4)                 260       \n",
      "=================================================================\n",
      "Total params: 430,124\n",
      "Trainable params: 430,124\n",
      "Non-trainable params: 0\n",
      "_________________________________________________________________\n"
     ]
    }
   ],
   "source": [
    "model = Sequential()\n",
    "model.add(Embedding(len(word_index) + 1, EMBEDDING_DIM, input_length=MAX_SEQUENCE_LENGTH))\n",
    "model.add(LSTM(200, dropout=0.2, recurrent_dropout=0.2))\n",
    "model.add(Dropout(0.2))\n",
    "model.add(Dense(64, activation=\"relu\"))\n",
    "model.add(Dense(labels.shape[1], activation=\"softmax\"))\n",
    "model.summary()"
   ]
  },
  {
   "cell_type": "markdown",
   "metadata": {},
   "source": [
    "## 模型编译"
   ]
  },
  {
   "cell_type": "code",
   "execution_count": 17,
   "metadata": {
    "collapsed": false
   },
   "outputs": [
    {
     "data": {
      "text/plain": [
       "['loss', 'acc']"
      ]
     },
     "execution_count": 17,
     "metadata": {},
     "output_type": "execute_result"
    }
   ],
   "source": [
    "model.compile(loss=\"categorical_crossentropy\", optimizer=\"rmsprop\", metrics=[\"acc\"])\n",
    "model.metrics_names"
   ]
  },
  {
   "cell_type": "code",
   "execution_count": 19,
   "metadata": {
    "collapsed": false,
    "scrolled": true
   },
   "outputs": [
    {
     "name": "stdout",
     "output_type": "stream",
     "text": [
      "Train on 1071 samples, validate on 268 samples\n",
      "Epoch 1/10\n",
      "1071/1071 [==============================] - 6s 6ms/step - loss: 1.3536 - acc: 0.3866 - val_loss: 1.2625 - val_acc: 0.7015\n",
      "Epoch 2/10\n",
      "1071/1071 [==============================] - 5s 5ms/step - loss: 1.1542 - acc: 0.6237 - val_loss: 1.0583 - val_acc: 0.4216\n",
      "Epoch 3/10\n",
      "1071/1071 [==============================] - 5s 5ms/step - loss: 0.8717 - acc: 0.7731 - val_loss: 0.6319 - val_acc: 0.9664\n",
      "Epoch 4/10\n",
      "1071/1071 [==============================] - 5s 5ms/step - loss: 0.4643 - acc: 0.9627 - val_loss: 0.2134 - val_acc: 0.9925\n",
      "Epoch 5/10\n",
      "1071/1071 [==============================] - 5s 5ms/step - loss: 0.1971 - acc: 0.9692 - val_loss: 0.0762 - val_acc: 0.9925\n",
      "Epoch 6/10\n",
      "1071/1071 [==============================] - 5s 5ms/step - loss: 0.0821 - acc: 0.9953 - val_loss: 0.0638 - val_acc: 0.9888\n",
      "Epoch 7/10\n",
      "1071/1071 [==============================] - 5s 5ms/step - loss: 0.0981 - acc: 0.9757 - val_loss: 0.0457 - val_acc: 1.0000\n",
      "Epoch 8/10\n",
      "1071/1071 [==============================] - 5s 5ms/step - loss: 0.0265 - acc: 0.9981 - val_loss: 0.0148 - val_acc: 1.0000\n",
      "Epoch 9/10\n",
      "1071/1071 [==============================] - 5s 5ms/step - loss: 0.0139 - acc: 0.9981 - val_loss: 0.0064 - val_acc: 1.0000\n",
      "Epoch 10/10\n",
      "1071/1071 [==============================] - 5s 5ms/step - loss: 0.0107 - acc: 0.9981 - val_loss: 0.0201 - val_acc: 0.9963\n"
     ]
    }
   ],
   "source": [
    "model.fit(x_train, y_train, validation_data=(x_val, y_val), epochs=10, batch_size=128)\n",
    "model.save(\"lstm.h5\")"
   ]
  },
  {
   "cell_type": "code",
   "execution_count": 20,
   "metadata": {
    "collapsed": false
   },
   "outputs": [
    {
     "name": "stdout",
     "output_type": "stream",
     "text": [
      "335/335 [==============================] - 1s 2ms/step\n"
     ]
    },
    {
     "data": {
      "text/plain": [
       "[0.062186394020247816, 0.9880597016704616]"
      ]
     },
     "execution_count": 20,
     "metadata": {},
     "output_type": "execute_result"
    }
   ],
   "source": [
    "model.evaluate(x_test, y_test)"
   ]
  },
  {
   "cell_type": "markdown",
   "metadata": {},
   "source": [
    "# 使用GRU进行文本分类"
   ]
  },
  {
   "cell_type": "code",
   "execution_count": 22,
   "metadata": {
    "collapsed": false
   },
   "outputs": [
    {
     "name": "stdout",
     "output_type": "stream",
     "text": [
      "_________________________________________________________________\n",
      "Layer (type)                 Output Shape              Param #   \n",
      "=================================================================\n",
      "embedding_2 (Embedding)      (None, 100, 200)          96200     \n",
      "_________________________________________________________________\n",
      "gru_1 (GRU)                  (None, 200)               240600    \n",
      "_________________________________________________________________\n",
      "dropout_2 (Dropout)          (None, 200)               0         \n",
      "_________________________________________________________________\n",
      "dense_3 (Dense)              (None, 64)                12864     \n",
      "_________________________________________________________________\n",
      "dense_4 (Dense)              (None, 4)                 260       \n",
      "=================================================================\n",
      "Total params: 349,924\n",
      "Trainable params: 349,924\n",
      "Non-trainable params: 0\n",
      "_________________________________________________________________\n"
     ]
    }
   ],
   "source": [
    "model = Sequential()\n",
    "model.add(Embedding(len(word_index) + 1, EMBEDDING_DIM, input_length=MAX_SEQUENCE_LENGTH))\n",
    "model.add(GRU(200, dropout=0.2, recurrent_dropout=0.2))\n",
    "model.add(Dropout(0.2))\n",
    "model.add(Dense(64, activation=\"relu\"))\n",
    "model.add(Dense(labels.shape[1], activation=\"softmax\"))\n",
    "model.summary()"
   ]
  },
  {
   "cell_type": "code",
   "execution_count": 23,
   "metadata": {
    "collapsed": false
   },
   "outputs": [
    {
     "data": {
      "text/plain": [
       "['loss', 'acc']"
      ]
     },
     "execution_count": 23,
     "metadata": {},
     "output_type": "execute_result"
    }
   ],
   "source": [
    "model.compile(loss=\"categorical_crossentropy\", optimizer=\"rmsprop\", metrics=[\"acc\"])\n",
    "model.metrics_names"
   ]
  },
  {
   "cell_type": "code",
   "execution_count": 24,
   "metadata": {
    "collapsed": false
   },
   "outputs": [
    {
     "name": "stdout",
     "output_type": "stream",
     "text": [
      "Train on 1071 samples, validate on 268 samples\n",
      "Epoch 1/10\n",
      "1071/1071 [==============================] - 5s 5ms/step - loss: 1.3322 - acc: 0.4174 - val_loss: 1.1677 - val_acc: 0.5858\n",
      "Epoch 2/10\n",
      "1071/1071 [==============================] - 4s 4ms/step - loss: 0.9783 - acc: 0.6975 - val_loss: 0.6094 - val_acc: 0.9478\n",
      "Epoch 3/10\n",
      "1071/1071 [==============================] - 4s 4ms/step - loss: 0.4392 - acc: 0.9421 - val_loss: 0.1568 - val_acc: 0.9925\n",
      "Epoch 4/10\n",
      "1071/1071 [==============================] - 4s 4ms/step - loss: 0.1488 - acc: 0.9823 - val_loss: 0.0453 - val_acc: 1.0000\n",
      "Epoch 5/10\n",
      "1071/1071 [==============================] - 4s 4ms/step - loss: 0.0427 - acc: 0.9944 - val_loss: 0.0535 - val_acc: 0.9888\n",
      "Epoch 6/10\n",
      "1071/1071 [==============================] - 4s 4ms/step - loss: 0.0773 - acc: 0.9841 - val_loss: 0.0305 - val_acc: 0.9925\n",
      "Epoch 7/10\n",
      "1071/1071 [==============================] - 4s 4ms/step - loss: 0.0199 - acc: 0.9972 - val_loss: 0.0142 - val_acc: 0.9963\n",
      "Epoch 8/10\n",
      "1071/1071 [==============================] - 4s 4ms/step - loss: 0.0121 - acc: 0.9972 - val_loss: 0.0072 - val_acc: 1.0000\n",
      "Epoch 9/10\n",
      "1071/1071 [==============================] - 4s 4ms/step - loss: 0.0168 - acc: 0.9963 - val_loss: 0.0076 - val_acc: 0.9963\n",
      "Epoch 10/10\n",
      "1071/1071 [==============================] - 4s 4ms/step - loss: 0.0084 - acc: 0.9981 - val_loss: 0.0051 - val_acc: 0.9963\n",
      "335/335 [==============================] - 0s 1ms/step\n"
     ]
    },
    {
     "data": {
      "text/plain": [
       "[0.016858730530505305, 0.9940298507462687]"
      ]
     },
     "execution_count": 24,
     "metadata": {},
     "output_type": "execute_result"
    }
   ],
   "source": [
    "model.fit(x_train, y_train, validation_data=(x_val, y_val), epochs=10, batch_size=128)\n",
    "model.save(\"gru.h5\")\n",
    "\n",
    "model.evaluate(x_test, y_test)"
   ]
  },
  {
   "cell_type": "code",
   "execution_count": null,
   "metadata": {
    "collapsed": true
   },
   "outputs": [],
   "source": [
    "model.evaluate(x_rt)"
   ]
  }
 ],
 "metadata": {
  "anaconda-cloud": {},
  "kernelspec": {
   "display_name": "Python [Anaconda3]",
   "language": "python",
   "name": "Python [Anaconda3]"
  },
  "language_info": {
   "codemirror_mode": {
    "name": "ipython",
    "version": 3
   },
   "file_extension": ".py",
   "mimetype": "text/x-python",
   "name": "python",
   "nbconvert_exporter": "python",
   "pygments_lexer": "ipython3",
   "version": "3.5.1"
  },
  "toc": {
   "nav_menu": {},
   "number_sections": true,
   "sideBar": true,
   "skip_h1_title": false,
   "toc_cell": false,
   "toc_position": {},
   "toc_section_display": "block",
   "toc_window_display": false
  }
 },
 "nbformat": 4,
 "nbformat_minor": 0
}
