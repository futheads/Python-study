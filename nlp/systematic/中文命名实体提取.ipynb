{
 "cells": [
  {
   "cell_type": "markdown",
   "metadata": {},
   "source": [
    "# jieba 进行命名实体识别和提取"
   ]
  },
  {
   "cell_type": "code",
   "execution_count": 1,
   "metadata": {
    "collapsed": true
   },
   "outputs": [],
   "source": [
    "import jieba\n",
    "import jieba.analyse\n",
    "import jieba.posseg as posg"
   ]
  },
  {
   "cell_type": "code",
   "execution_count": 3,
   "metadata": {
    "collapsed": false
   },
   "outputs": [
    {
     "name": "stdout",
     "output_type": "stream",
     "text": [
      "上市 1.437080435586\n",
      "上线 0.820694551317\n",
      "奇迹 0.775434839431\n",
      "互联网 0.712189275429\n",
      "平台 0.6244340485550001\n",
      "企业 0.422177218495\n",
      "美国 0.415659623166\n",
      "问题 0.39635135730800003\n"
     ]
    }
   ],
   "source": [
    "sentence = u'''上线三年就成功上市,拼多多上演了互联网企业的上市奇迹,却也放大平台上存在的诸多问题，拼多多在美国上市。'''\n",
    "kw = jieba.analyse.extract_tags(sentence, topK=10, withWeight=True, allowPOS=('n','ns'))\n",
    "for item in kw:\n",
    "    print(item[0], item[1])"
   ]
  },
  {
   "cell_type": "code",
   "execution_count": 4,
   "metadata": {
    "collapsed": false
   },
   "outputs": [
    {
     "name": "stdout",
     "output_type": "stream",
     "text": [
      "上市 1.0\n",
      "奇迹 0.572687398431635\n",
      "企业 0.5710407272273452\n",
      "互联网 0.5692560484441649\n",
      "上线 0.23481844682115297\n",
      "美国 0.23481844682115297\n"
     ]
    }
   ],
   "source": [
    "kw = jieba.analyse.textrank(sentence, topK=20, withWeight=True, allowPOS=('ns','n'))\n",
    "for item in kw:\n",
    "    print(item[0], item[1])"
   ]
  },
  {
   "cell_type": "markdown",
   "metadata": {},
   "source": [
    "# pyhanlp 进行命名实体识别和提取"
   ]
  },
  {
   "cell_type": "code",
   "execution_count": 5,
   "metadata": {
    "collapsed": true
   },
   "outputs": [],
   "source": [
    "from pyhanlp import *"
   ]
  },
  {
   "cell_type": "code",
   "execution_count": 8,
   "metadata": {
    "collapsed": true
   },
   "outputs": [],
   "source": [
    "sentence = u'''上线三年就成功上市,拼多多上演了互联网企业的上市奇迹,却也放大平台上存在的诸多问题，拼多多在美国上市。'''\n",
    "analyzer = PerceptronLexicalAnalyzer()\n",
    "segs = analyzer.analyze(sentence)\n",
    "arr = str(segs).split(\" \")"
   ]
  },
  {
   "cell_type": "code",
   "execution_count": 12,
   "metadata": {
    "collapsed": false
   },
   "outputs": [
    {
     "data": {
      "text/plain": [
       "'上线/n 三年/t 就/d 成功/ad 上市/v ,/w 拼/v 多多/d 上演/v 了/u 互联网/n 企业/n 的/u 上市/vn 奇迹/n ,/w 却/d 也/d 放大/v 平台/n 上/f 存在/v 的/u 诸多/m 问题/n ，/w 拼/v 多多/d 在/p 美国/ns 上市/v 。/w'"
      ]
     },
     "execution_count": 12,
     "metadata": {},
     "output_type": "execute_result"
    }
   ],
   "source": [
    "\" \".join(arr)"
   ]
  },
  {
   "cell_type": "code",
   "execution_count": 13,
   "metadata": {
    "collapsed": true
   },
   "outputs": [],
   "source": [
    "def get_result(arr):\n",
    "    re_list = []\n",
    "    ner = ['n', 'ns']\n",
    "    for x in arr:\n",
    "        temp = x.split(\"/\")\n",
    "        if(temp[1] in ner):\n",
    "            re_list.append(temp[0])\n",
    "    return re_list"
   ]
  },
  {
   "cell_type": "code",
   "execution_count": 14,
   "metadata": {
    "collapsed": false
   },
   "outputs": [
    {
     "data": {
      "text/plain": [
       "['上线', '互联网', '企业', '奇迹', '平台', '问题', '美国']"
      ]
     },
     "execution_count": 14,
     "metadata": {},
     "output_type": "execute_result"
    }
   ],
   "source": [
    "get_result(arr)"
   ]
  },
  {
   "cell_type": "code",
   "execution_count": null,
   "metadata": {
    "collapsed": true
   },
   "outputs": [],
   "source": []
  }
 ],
 "metadata": {
  "anaconda-cloud": {},
  "kernelspec": {
   "display_name": "Python [Anaconda3]",
   "language": "python",
   "name": "Python [Anaconda3]"
  },
  "language_info": {
   "codemirror_mode": {
    "name": "ipython",
    "version": 3
   },
   "file_extension": ".py",
   "mimetype": "text/x-python",
   "name": "python",
   "nbconvert_exporter": "python",
   "pygments_lexer": "ipython3",
   "version": "3.5.1"
  },
  "toc": {
   "nav_menu": {},
   "number_sections": true,
   "sideBar": true,
   "skip_h1_title": false,
   "toc_cell": false,
   "toc_position": {},
   "toc_section_display": "block",
   "toc_window_display": false
  }
 },
 "nbformat": 4,
 "nbformat_minor": 0
}
