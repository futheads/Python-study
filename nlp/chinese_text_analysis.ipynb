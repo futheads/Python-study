{
 "cells": [
  {
   "cell_type": "markdown",
   "metadata": {},
   "source": [
    "# 基于TF-IDF算法的关键词 抽取"
   ]
  },
  {
   "cell_type": "code",
   "execution_count": 53,
   "metadata": {
    "collapsed": true
   },
   "outputs": [],
   "source": [
    "import jieba.analyse as analyse\n",
    "import pandas as pd"
   ]
  },
  {
   "cell_type": "markdown",
   "metadata": {},
   "source": [
    "jieba.analyse.extract_tags(sentence, topK=20, withWeight=False, allowPOS=())"
   ]
  },
  {
   "cell_type": "markdown",
   "metadata": {},
   "source": [
    "- sentence 为待提取文本\n",
    "- topK 为返回几个 TF/IDF 权重最大的关键词，默认值为 20\n",
    "- withWeight为是否一并返回关键字权重，默认为False\n",
    "- allowPOS仅返回指定词性的词，默认值为空，即不筛选"
   ]
  },
  {
   "cell_type": "code",
   "execution_count": 54,
   "metadata": {
    "collapsed": false
   },
   "outputs": [
    {
     "data": {
      "text/html": [
       "<div>\n",
       "<table border=\"1\" class=\"dataframe\">\n",
       "  <thead>\n",
       "    <tr style=\"text-align: right;\">\n",
       "      <th></th>\n",
       "      <th>Unnamed: 0</th>\n",
       "      <th>content</th>\n",
       "    </tr>\n",
       "  </thead>\n",
       "  <tbody>\n",
       "    <tr>\n",
       "      <th>0</th>\n",
       "      <td>0</td>\n",
       "      <td>,中新网,1月7日电  恰逢CES 2017拉开大幕，却惊闻“AlphaGo升级版”的M...</td>\n",
       "    </tr>\n",
       "    <tr>\n",
       "      <th>1</th>\n",
       "      <td>1</td>\n",
       "      <td>徐立，商汤科技CEO在谈起本次参展时谈到：“作为一个成立刚刚两年的创业公司，这次参展，一...</td>\n",
       "    </tr>\n",
       "    <tr>\n",
       "      <th>2</th>\n",
       "      <td>2</td>\n",
       "      <td>正如最后挑战Master的古力在落败后发表的观点：“人类与人工智能共同探索围棋世界的大幕...</td>\n",
       "    </tr>\n",
       "    <tr>\n",
       "      <th>3</th>\n",
       "      <td>3</td>\n",
       "      <td>,　SenseFace人脸布控的“黑科技”</td>\n",
       "    </tr>\n",
       "    <tr>\n",
       "      <th>4</th>\n",
       "      <td>4</td>\n",
       "      <td>本届大展最大的看点，无疑是“被誉为2016全美科技第一神股”英伟达的首次CES主题演讲。...</td>\n",
       "    </tr>\n",
       "  </tbody>\n",
       "</table>\n",
       "</div>"
      ],
      "text/plain": [
       "   Unnamed: 0                                            content\n",
       "0           0  　　,中新网,1月7日电  恰逢CES 2017拉开大幕，却惊闻“AlphaGo升级版”的M...\n",
       "1           1  　　徐立，商汤科技CEO在谈起本次参展时谈到：“作为一个成立刚刚两年的创业公司，这次参展，一...\n",
       "2           2  　　正如最后挑战Master的古力在落败后发表的观点：“人类与人工智能共同探索围棋世界的大幕...\n",
       "3           3                             　,　SenseFace人脸布控的“黑科技”\n",
       "4           4  　　本届大展最大的看点，无疑是“被誉为2016全美科技第一神股”英伟达的首次CES主题演讲。..."
      ]
     },
     "execution_count": 54,
     "metadata": {},
     "output_type": "execute_result"
    }
   ],
   "source": [
    "df = pd.read_csv(\"./data/technology_news.csv\", encoding=\"utf-8\")\n",
    "df = df.dropna()\n",
    "df[:5]"
   ]
  },
  {
   "cell_type": "code",
   "execution_count": 55,
   "metadata": {
    "collapsed": false
   },
   "outputs": [
    {
     "name": "stdout",
     "output_type": "stream",
     "text": [
      "['用户', '2016', '互联网', '手机', '平台', '人工智能', '百度', '2017', '智能', '技术', '数据', '360', '服务', '直播', '产品', '企业', '安全', '视频', '移动', '应用', '网络', '行业', '游戏', '机器人', '电商', '内容', '中国', '领域', '通过', '发展']\n"
     ]
    }
   ],
   "source": [
    "lines = df.content.values.tolist()\n",
    "content = \"\".join(lines)\n",
    "print(analyse.extract_tags(content, topK=30, withWeight=False, allowPOS=()))"
   ]
  },
  {
   "cell_type": "code",
   "execution_count": 56,
   "metadata": {
    "collapsed": false
   },
   "outputs": [
    {
     "data": {
      "text/html": [
       "<div>\n",
       "<table border=\"1\" class=\"dataframe\">\n",
       "  <thead>\n",
       "    <tr style=\"text-align: right;\">\n",
       "      <th></th>\n",
       "      <th>Unnamed: 0</th>\n",
       "      <th>content</th>\n",
       "    </tr>\n",
       "  </thead>\n",
       "  <tbody>\n",
       "    <tr>\n",
       "      <th>0</th>\n",
       "      <td>0</td>\n",
       "      <td>新华社北京1月8日电(记者董瑞丰)军民融合发展已经上升为国家战略，但现阶段国防工业企业军...</td>\n",
       "    </tr>\n",
       "    <tr>\n",
       "      <th>1</th>\n",
       "      <td>1</td>\n",
       "      <td>中国国防工业企业军民融合产业联盟8日在北京宣布成立。刘东奎说，适时成立联盟，坚持“军民融...</td>\n",
       "    </tr>\n",
       "    <tr>\n",
       "      <th>2</th>\n",
       "      <td>2</td>\n",
       "      <td>数据显示，我国目前有十几万家民营高新技术企业，很多高新技术企业在新能源、新材料、电子信息...</td>\n",
       "    </tr>\n",
       "    <tr>\n",
       "      <th>3</th>\n",
       "      <td>3</td>\n",
       "      <td>对于现阶段军民融合面临的问题，刘东奎列举：从企业外部来看，军民融合管理体制不够顺畅，军民...</td>\n",
       "    </tr>\n",
       "    <tr>\n",
       "      <th>4</th>\n",
       "      <td>4</td>\n",
       "      <td>“国防科技工业是军民融合的天然载体和核心领域。”刘东奎说，未来要着力搭建军民协同创新展示...</td>\n",
       "    </tr>\n",
       "  </tbody>\n",
       "</table>\n",
       "</div>"
      ],
      "text/plain": [
       "   Unnamed: 0                                            content\n",
       "0           0  　　新华社北京1月8日电(记者董瑞丰)军民融合发展已经上升为国家战略，但现阶段国防工业企业军...\n",
       "1           1  　　中国国防工业企业军民融合产业联盟8日在北京宣布成立。刘东奎说，适时成立联盟，坚持“军民融...\n",
       "2           2  　　数据显示，我国目前有十几万家民营高新技术企业，很多高新技术企业在新能源、新材料、电子信息...\n",
       "3           3  　　对于现阶段军民融合面临的问题，刘东奎列举：从企业外部来看，军民融合管理体制不够顺畅，军民...\n",
       "4           4  　　“国防科技工业是军民融合的天然载体和核心领域。”刘东奎说，未来要着力搭建军民协同创新展示..."
      ]
     },
     "execution_count": 56,
     "metadata": {},
     "output_type": "execute_result"
    }
   ],
   "source": [
    "df = pd.read_csv(\"./data/military_news.csv\", encoding=\"utf-8\")\n",
    "df = df.dropna()\n",
    "df[:5]"
   ]
  },
  {
   "cell_type": "code",
   "execution_count": 57,
   "metadata": {
    "collapsed": false
   },
   "outputs": [
    {
     "data": {
      "text/plain": [
       "'航母 训练 海军 中国 官兵 部队 编队 作战 10 任务 美国 导弹 能力 20 2016 军事 无人机 装备 进行 记者 我们 军队 安全 保障 12 战略 军人 日本 南海 战机'"
      ]
     },
     "execution_count": 57,
     "metadata": {},
     "output_type": "execute_result"
    }
   ],
   "source": [
    "lines = df.content.values.tolist()\n",
    "content = \"\".join(lines)\n",
    "\" \".join(analyse.extract_tags(content, topK=30, withWeight=False, allowPOS=()))"
   ]
  },
  {
   "cell_type": "markdown",
   "metadata": {},
   "source": [
    "# 基于TextRank算法的关键词抽取"
   ]
  },
  {
   "cell_type": "markdown",
   "metadata": {},
   "source": [
    "- jieba.analyse.textrank(sentence, topK=20, withWeight=False, allowPOS=(\"ns\", \"n\", \"vn\", \"v\"))\n",
    "- jieba.analyse.TextRank()"
   ]
  },
  {
   "cell_type": "markdown",
   "metadata": {},
   "source": [
    "基本思想："
   ]
  },
  {
   "cell_type": "markdown",
   "metadata": {},
   "source": [
    "- 将抽取关键词的文本进行分词\n",
    "- 以固定窗口大小（默认为5，通过span属性调整），根据词之间的共现关系构建图\n",
    "- 计算图中节点的PageRank，注意无想带权图"
   ]
  },
  {
   "cell_type": "code",
   "execution_count": 58,
   "metadata": {
    "collapsed": false
   },
   "outputs": [
    {
     "data": {
      "text/plain": [
       "'中国 海军 训练 美国 部队 进行 官兵 航母 作战 任务 能力 军事 发展 工作 国家 问题 建设 导弹 编队 记者'"
      ]
     },
     "execution_count": 58,
     "metadata": {},
     "output_type": "execute_result"
    }
   ],
   "source": [
    "df = pd.read_csv(\"./data/military_news.csv\", encoding=\"utf-8\")\n",
    "df = df.dropna()\n",
    "lines = df.content.values.tolist()\n",
    "content = \"\".join(lines)\n",
    "\" \".join(analyse.textrank(content, topK=20, withWeight=False, allowPOS=(\"ns\", \"n\", \"vn\", \"v\")))"
   ]
  },
  {
   "cell_type": "code",
   "execution_count": 59,
   "metadata": {
    "collapsed": false
   },
   "outputs": [
    {
     "data": {
      "text/plain": [
       "'中国 海军 美国 部队 官兵 航母 军事 国家 任务 能力 导弹 技术 问题 日本 军队 编队 装备 系统 记者 战略'"
      ]
     },
     "execution_count": 59,
     "metadata": {},
     "output_type": "execute_result"
    }
   ],
   "source": [
    "\" \".join(analyse.textrank(content, topK=20, withWeight=False, allowPOS=(\"ns\", \"n\")))"
   ]
  },
  {
   "cell_type": "markdown",
   "metadata": {},
   "source": [
    "# LDA主题模型"
   ]
  },
  {
   "cell_type": "code",
   "execution_count": 60,
   "metadata": {
    "collapsed": true
   },
   "outputs": [],
   "source": [
    "from gensim import corpora, models, similarities\n",
    "import gensim"
   ]
  },
  {
   "cell_type": "markdown",
   "metadata": {},
   "source": [
    "## 载入停用词"
   ]
  },
  {
   "cell_type": "code",
   "execution_count": 61,
   "metadata": {
    "collapsed": false
   },
   "outputs": [],
   "source": [
    "stopwords = pd.read_csv(\"./data/stopwords.txt\", index_col=False, quoting=3, sep=\"\\t\", names={\"stopword\"}, encoding=\"utf-8\")\n",
    "stopwords = stopwords[\"stopword\"].values"
   ]
  },
  {
   "cell_type": "code",
   "execution_count": 62,
   "metadata": {
    "collapsed": true
   },
   "outputs": [],
   "source": [
    "df = pd.read_csv(\"./data/technology_news.csv\", encoding=\"utf-8\")\n",
    "df = df.dropna()\n",
    "lines = df.content.values.tolist()"
   ]
  },
  {
   "cell_type": "code",
   "execution_count": 63,
   "metadata": {
    "collapsed": true
   },
   "outputs": [],
   "source": [
    "sentences = []\n",
    "for line in lines:\n",
    "    try:\n",
    "        segs = jieba.lcut(line)\n",
    "        segs = filter(lambda x: len(x) > 1, segs)\n",
    "        segs = filter(lambda x: x not in stopwords, segs)\n",
    "        sentences.append(segs)\n",
    "    except Exception as e:\n",
    "        print(line)\n",
    "        continue"
   ]
  },
  {
   "cell_type": "code",
   "execution_count": 64,
   "metadata": {
    "collapsed": false
   },
   "outputs": [
    {
     "name": "stdout",
     "output_type": "stream",
     "text": [
      "本次\n",
      "商汤\n",
      "带来\n",
      "黄仁勋\n",
      "展示\n",
      "遥相呼应\n",
      "SenseFace\n",
      "人脸\n",
      "布控\n",
      "系统\n",
      "千万级\n",
      "人员\n",
      "库中\n",
      "300ms\n",
      "识别\n",
      "瞬间\n",
      "锁定目标\n",
      "功耗\n",
      "十几\n",
      "当属\n",
      "人脸\n",
      "布控\n",
      "一大\n",
      "科技\n"
     ]
    }
   ],
   "source": [
    "for word in sentences[5]:\n",
    "    print(word)"
   ]
  },
  {
   "cell_type": "markdown",
   "metadata": {},
   "source": [
    "## 词袋模型"
   ]
  },
  {
   "cell_type": "code",
   "execution_count": 72,
   "metadata": {
    "collapsed": false
   },
   "outputs": [],
   "source": [
    "import jieba\n",
    "import pandas as pd\n",
    "df = pd.read_csv(\"./data/technology_news.csv\", encoding='utf-8')\n",
    "df = df.dropna()\n",
    "lines=df.content.values.tolist()\n",
    "\n",
    "sentences=[]\n",
    "for line in lines:\n",
    "    try:\n",
    "        segs=jieba.lcut(line)\n",
    "        segs = filter(lambda x:len(x)>1, segs)\n",
    "        segs = filter(lambda x:x not in stopwords, segs)\n",
    "        sentences.append(segs)\n",
    "    except Exception as e:\n",
    "        print(line)\n",
    "        continue"
   ]
  },
  {
   "cell_type": "code",
   "execution_count": 73,
   "metadata": {
    "collapsed": false
   },
   "outputs": [
    {
     "data": {
      "text/plain": [
       "[[], [], [], [], []]"
      ]
     },
     "execution_count": 73,
     "metadata": {},
     "output_type": "execute_result"
    }
   ],
   "source": [
    "# dictionary = corpora.Dictionary(sentences)\n",
    "# corpus = [dictionary.doc2bow(sentence) for sentence in sentences]\n",
    "dictionary = corpora.Dictionary(sentences)\n",
    "corpus = [dictionary.doc2bow(sentence) for sentence in sentences]\n",
    "corpus[:5]"
   ]
  },
  {
   "cell_type": "code",
   "execution_count": 66,
   "metadata": {
    "collapsed": false
   },
   "outputs": [
    {
     "name": "stderr",
     "output_type": "stream",
     "text": [
      "C:\\Anaconda3\\lib\\site-packages\\gensim\\models\\ldamodel.py:606: RuntimeWarning: invalid value encountered in double_scalars\n",
      "  perwordbound = self.bound(chunk, subsample_ratio=subsample_ratio) / (subsample_ratio * corpus_words)\n"
     ]
    }
   ],
   "source": [
    "lda = gensim.models.LdaModel(corpus=corpus, id2word=dictionary, num_topics=20)"
   ]
  },
  {
   "cell_type": "code",
   "execution_count": 67,
   "metadata": {
    "collapsed": false
   },
   "outputs": [
    {
     "name": "stdout",
     "output_type": "stream",
     "text": [
      "0.000*\"176.25%\" + 0.000*\"52.48\" + 0.000*\"5.84%\" + 0.000*\"4971.56\" + 0.000*\"3.23\"\n"
     ]
    }
   ],
   "source": [
    "print(lda.print_topic(3, topn=5))"
   ]
  },
  {
   "cell_type": "markdown",
   "metadata": {},
   "source": [
    "打印出所有主题"
   ]
  },
  {
   "cell_type": "code",
   "execution_count": 68,
   "metadata": {
    "collapsed": false
   },
   "outputs": [
    {
     "name": "stdout",
     "output_type": "stream",
     "text": [
      "0.000*\"176.25%\" + 0.000*\"52.48\" + 0.000*\"5.84%\" + 0.000*\"4971.56\" + 0.000*\"3.23\" + 0.000*\"4050.8\" + 0.000*\"亏损企业\" + 0.000*\"15.03\"\n",
      "0.000*\"176.25%\" + 0.000*\"52.48\" + 0.000*\"5.84%\" + 0.000*\"4971.56\" + 0.000*\"3.23\" + 0.000*\"4050.8\" + 0.000*\"亏损企业\" + 0.000*\"15.03\"\n",
      "0.000*\"176.25%\" + 0.000*\"52.48\" + 0.000*\"5.84%\" + 0.000*\"4971.56\" + 0.000*\"3.23\" + 0.000*\"4050.8\" + 0.000*\"亏损企业\" + 0.000*\"15.03\"\n",
      "0.000*\"176.25%\" + 0.000*\"52.48\" + 0.000*\"5.84%\" + 0.000*\"4971.56\" + 0.000*\"3.23\" + 0.000*\"4050.8\" + 0.000*\"亏损企业\" + 0.000*\"15.03\"\n",
      "0.000*\"176.25%\" + 0.000*\"52.48\" + 0.000*\"5.84%\" + 0.000*\"4971.56\" + 0.000*\"3.23\" + 0.000*\"4050.8\" + 0.000*\"亏损企业\" + 0.000*\"15.03\"\n",
      "0.000*\"176.25%\" + 0.000*\"52.48\" + 0.000*\"5.84%\" + 0.000*\"4971.56\" + 0.000*\"3.23\" + 0.000*\"4050.8\" + 0.000*\"亏损企业\" + 0.000*\"15.03\"\n",
      "0.000*\"176.25%\" + 0.000*\"52.48\" + 0.000*\"5.84%\" + 0.000*\"4971.56\" + 0.000*\"3.23\" + 0.000*\"4050.8\" + 0.000*\"亏损企业\" + 0.000*\"15.03\"\n",
      "0.000*\"176.25%\" + 0.000*\"52.48\" + 0.000*\"5.84%\" + 0.000*\"4971.56\" + 0.000*\"3.23\" + 0.000*\"4050.8\" + 0.000*\"亏损企业\" + 0.000*\"15.03\"\n",
      "0.000*\"176.25%\" + 0.000*\"52.48\" + 0.000*\"5.84%\" + 0.000*\"4971.56\" + 0.000*\"3.23\" + 0.000*\"4050.8\" + 0.000*\"亏损企业\" + 0.000*\"15.03\"\n",
      "0.000*\"176.25%\" + 0.000*\"52.48\" + 0.000*\"5.84%\" + 0.000*\"4971.56\" + 0.000*\"3.23\" + 0.000*\"4050.8\" + 0.000*\"亏损企业\" + 0.000*\"15.03\"\n",
      "0.000*\"176.25%\" + 0.000*\"52.48\" + 0.000*\"5.84%\" + 0.000*\"4971.56\" + 0.000*\"3.23\" + 0.000*\"4050.8\" + 0.000*\"亏损企业\" + 0.000*\"15.03\"\n",
      "0.000*\"176.25%\" + 0.000*\"52.48\" + 0.000*\"5.84%\" + 0.000*\"4971.56\" + 0.000*\"3.23\" + 0.000*\"4050.8\" + 0.000*\"亏损企业\" + 0.000*\"15.03\"\n",
      "0.000*\"176.25%\" + 0.000*\"52.48\" + 0.000*\"5.84%\" + 0.000*\"4971.56\" + 0.000*\"3.23\" + 0.000*\"4050.8\" + 0.000*\"亏损企业\" + 0.000*\"15.03\"\n",
      "0.000*\"176.25%\" + 0.000*\"52.48\" + 0.000*\"5.84%\" + 0.000*\"4971.56\" + 0.000*\"3.23\" + 0.000*\"4050.8\" + 0.000*\"亏损企业\" + 0.000*\"15.03\"\n",
      "0.000*\"176.25%\" + 0.000*\"52.48\" + 0.000*\"5.84%\" + 0.000*\"4971.56\" + 0.000*\"3.23\" + 0.000*\"4050.8\" + 0.000*\"亏损企业\" + 0.000*\"15.03\"\n",
      "0.000*\"176.25%\" + 0.000*\"52.48\" + 0.000*\"5.84%\" + 0.000*\"4971.56\" + 0.000*\"3.23\" + 0.000*\"4050.8\" + 0.000*\"亏损企业\" + 0.000*\"15.03\"\n",
      "0.000*\"176.25%\" + 0.000*\"52.48\" + 0.000*\"5.84%\" + 0.000*\"4971.56\" + 0.000*\"3.23\" + 0.000*\"4050.8\" + 0.000*\"亏损企业\" + 0.000*\"15.03\"\n",
      "0.000*\"176.25%\" + 0.000*\"52.48\" + 0.000*\"5.84%\" + 0.000*\"4971.56\" + 0.000*\"3.23\" + 0.000*\"4050.8\" + 0.000*\"亏损企业\" + 0.000*\"15.03\"\n",
      "0.000*\"176.25%\" + 0.000*\"52.48\" + 0.000*\"5.84%\" + 0.000*\"4971.56\" + 0.000*\"3.23\" + 0.000*\"4050.8\" + 0.000*\"亏损企业\" + 0.000*\"15.03\"\n",
      "0.000*\"176.25%\" + 0.000*\"52.48\" + 0.000*\"5.84%\" + 0.000*\"4971.56\" + 0.000*\"3.23\" + 0.000*\"4050.8\" + 0.000*\"亏损企业\" + 0.000*\"15.03\"\n"
     ]
    }
   ],
   "source": [
    "for topic in lda.print_topics(num_topics=20, num_words=8):\n",
    "    print(topic[1])"
   ]
  },
  {
   "cell_type": "code",
   "execution_count": 69,
   "metadata": {
    "collapsed": false
   },
   "outputs": [],
   "source": [
    "# lda.get_document_topics()"
   ]
  },
  {
   "cell_type": "code",
   "execution_count": null,
   "metadata": {
    "collapsed": true
   },
   "outputs": [],
   "source": []
  }
 ],
 "metadata": {
  "anaconda-cloud": {},
  "kernelspec": {
   "display_name": "Python [Anaconda3]",
   "language": "python",
   "name": "Python [Anaconda3]"
  },
  "language_info": {
   "codemirror_mode": {
    "name": "ipython",
    "version": 3
   },
   "file_extension": ".py",
   "mimetype": "text/x-python",
   "name": "python",
   "nbconvert_exporter": "python",
   "pygments_lexer": "ipython3",
   "version": "3.5.1"
  },
  "toc": {
   "nav_menu": {},
   "number_sections": true,
   "sideBar": true,
   "skip_h1_title": false,
   "toc_cell": false,
   "toc_position": {},
   "toc_section_display": "block",
   "toc_window_display": false
  }
 },
 "nbformat": 4,
 "nbformat_minor": 0
}
