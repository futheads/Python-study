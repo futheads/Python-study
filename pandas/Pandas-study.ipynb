{
 "cells": [
  {
   "cell_type": "markdown",
   "metadata": {
    "collapsed": true
   },
   "source": [
    "# Pandas"
   ]
  },
  {
   "cell_type": "markdown",
   "metadata": {},
   "source": [
    "## pandas基本介绍"
   ]
  },
  {
   "cell_type": "markdown",
   "metadata": {},
   "source": [
    "## Series"
   ]
  },
  {
   "cell_type": "code",
   "execution_count": 1,
   "metadata": {
    "collapsed": false
   },
   "outputs": [
    {
     "name": "stdout",
     "output_type": "stream",
     "text": [
      "0     1.0\n",
      "1     3.0\n",
      "2     6.0\n",
      "3     NaN\n",
      "4    44.0\n",
      "5     1.0\n",
      "dtype: float64\n"
     ]
    }
   ],
   "source": [
    "import pandas as pd\n",
    "import numpy as np\n",
    "\n",
    "s = pd.Series([1, 3, 6, np.nan, 44, 1])\n",
    "print(s)"
   ]
  },
  {
   "cell_type": "markdown",
   "metadata": {},
   "source": [
    "## DataFrame"
   ]
  },
  {
   "cell_type": "code",
   "execution_count": 6,
   "metadata": {
    "collapsed": false
   },
   "outputs": [
    {
     "name": "stdout",
     "output_type": "stream",
     "text": [
      "                   a         b         c         d\n",
      "2018-01-01 -1.162940 -0.954633 -0.771211  0.851020\n",
      "2018-01-02 -0.578357  1.478543  0.734987  0.592461\n",
      "2018-01-03 -1.247189 -1.009870 -0.748720  0.202590\n",
      "2018-01-04  1.722796  1.887897  0.550508  0.715857\n",
      "2018-01-05 -1.211695  0.955130  0.302027 -0.650235\n",
      "2018-01-06 -0.240877  0.157945  0.512859  0.553275\n"
     ]
    }
   ],
   "source": [
    "dates = pd.date_range('20180101', periods=6)\n",
    "df = pd.DataFrame(np.random.randn(6, 4), index=dates, columns=['a', 'b', 'c', 'd'])\n",
    "\n",
    "print(df)"
   ]
  },
  {
   "cell_type": "markdown",
   "metadata": {},
   "source": [
    "## DataFrame的一些简单运用"
   ]
  },
  {
   "cell_type": "code",
   "execution_count": 7,
   "metadata": {
    "collapsed": false
   },
   "outputs": [
    {
     "name": "stdout",
     "output_type": "stream",
     "text": [
      "2018-01-01   -0.954633\n",
      "2018-01-02    1.478543\n",
      "2018-01-03   -1.009870\n",
      "2018-01-04    1.887897\n",
      "2018-01-05    0.955130\n",
      "2018-01-06    0.157945\n",
      "Freq: D, Name: b, dtype: float64\n"
     ]
    }
   ],
   "source": [
    "print(df['b'])"
   ]
  },
  {
   "cell_type": "markdown",
   "metadata": {},
   "source": [
    "### pandas默认索引"
   ]
  },
  {
   "cell_type": "code",
   "execution_count": 8,
   "metadata": {
    "collapsed": false
   },
   "outputs": [
    {
     "name": "stdout",
     "output_type": "stream",
     "text": [
      "   0  1   2   3\n",
      "0  0  1   2   3\n",
      "1  4  5   6   7\n",
      "2  8  9  10  11\n"
     ]
    }
   ],
   "source": [
    "df1 = pd.DataFrame(np.arange(12).reshape((3, 4)))\n",
    "print(df1)"
   ]
  },
  {
   "cell_type": "markdown",
   "metadata": {},
   "source": [
    "### 构建每一列特定的数据"
   ]
  },
  {
   "cell_type": "code",
   "execution_count": 12,
   "metadata": {
    "collapsed": false
   },
   "outputs": [
    {
     "name": "stdout",
     "output_type": "stream",
     "text": [
      "     A          B  C      E    F\n",
      "0  1.0 2018-01-02  3   test  foo\n",
      "1  1.0 2018-01-02  3  train  foo\n",
      "2  1.0 2018-01-02  3   test  foo\n",
      "3  1.0 2018-01-02  3  train  foo\n"
     ]
    }
   ],
   "source": [
    "df2 = pd.DataFrame({'A': 1.,\n",
    "                   'B': pd.Timestamp('20180102'),\n",
    "                   'C': np.array([3] * 4, dtype='int32'),\n",
    "                   'E': pd.Categorical(['test', 'train', 'test', 'train']),\n",
    "                   'F': 'foo'})\n",
    "print(df2)"
   ]
  },
  {
   "cell_type": "markdown",
   "metadata": {},
   "source": [
    "### 查看dataFrame的数据类型"
   ]
  },
  {
   "cell_type": "code",
   "execution_count": 13,
   "metadata": {
    "collapsed": false
   },
   "outputs": [
    {
     "name": "stdout",
     "output_type": "stream",
     "text": [
      "A           float64\n",
      "B    datetime64[ns]\n",
      "C             int32\n",
      "E          category\n",
      "F            object\n",
      "dtype: object\n"
     ]
    }
   ],
   "source": [
    "print(df2.dtypes)"
   ]
  },
  {
   "cell_type": "markdown",
   "metadata": {},
   "source": [
    "### 查看行序号"
   ]
  },
  {
   "cell_type": "code",
   "execution_count": 14,
   "metadata": {
    "collapsed": false
   },
   "outputs": [
    {
     "name": "stdout",
     "output_type": "stream",
     "text": [
      "RangeIndex(start=0, stop=4, step=1)\n"
     ]
    }
   ],
   "source": [
    "print(df2.index)"
   ]
  },
  {
   "cell_type": "markdown",
   "metadata": {},
   "source": [
    "### 查看列序号"
   ]
  },
  {
   "cell_type": "code",
   "execution_count": 15,
   "metadata": {
    "collapsed": false
   },
   "outputs": [
    {
     "name": "stdout",
     "output_type": "stream",
     "text": [
      "Index(['A', 'B', 'C', 'E', 'F'], dtype='object')\n"
     ]
    }
   ],
   "source": [
    "print(df2.columns)"
   ]
  },
  {
   "cell_type": "markdown",
   "metadata": {},
   "source": [
    "### 查看所有值"
   ]
  },
  {
   "cell_type": "code",
   "execution_count": 16,
   "metadata": {
    "collapsed": false
   },
   "outputs": [
    {
     "name": "stdout",
     "output_type": "stream",
     "text": [
      "[[1.0 Timestamp('2018-01-02 00:00:00') 3 'test' 'foo']\n",
      " [1.0 Timestamp('2018-01-02 00:00:00') 3 'train' 'foo']\n",
      " [1.0 Timestamp('2018-01-02 00:00:00') 3 'test' 'foo']\n",
      " [1.0 Timestamp('2018-01-02 00:00:00') 3 'train' 'foo']]\n"
     ]
    }
   ],
   "source": [
    "print(df2.values)"
   ]
  },
  {
   "cell_type": "markdown",
   "metadata": {},
   "source": [
    "### 查看数据的描述"
   ]
  },
  {
   "cell_type": "code",
   "execution_count": 17,
   "metadata": {
    "collapsed": false
   },
   "outputs": [
    {
     "name": "stdout",
     "output_type": "stream",
     "text": [
      "              a         b         c         d\n",
      "count  6.000000  6.000000  6.000000  6.000000\n",
      "mean  -0.453043  0.419168  0.096742  0.377495\n",
      "std    1.140628  1.229993  0.677747  0.548205\n",
      "min   -1.247189 -1.009870 -0.771211 -0.650235\n",
      "25%   -1.199506 -0.676489 -0.486033  0.290261\n",
      "50%   -0.870648  0.556537  0.407443  0.572868\n",
      "75%   -0.325247  1.347689  0.541096  0.685008\n",
      "max    1.722796  1.887897  0.734987  0.851020\n"
     ]
    }
   ],
   "source": [
    "print(df.describe())"
   ]
  },
  {
   "cell_type": "markdown",
   "metadata": {},
   "source": [
    "### 对数据的index排序并输出"
   ]
  },
  {
   "cell_type": "code",
   "execution_count": 18,
   "metadata": {
    "collapsed": false
   },
   "outputs": [
    {
     "name": "stdout",
     "output_type": "stream",
     "text": [
      "     F      E  C          B    A\n",
      "0  foo   test  3 2018-01-02  1.0\n",
      "1  foo  train  3 2018-01-02  1.0\n",
      "2  foo   test  3 2018-01-02  1.0\n",
      "3  foo  train  3 2018-01-02  1.0\n"
     ]
    }
   ],
   "source": [
    "print(df2.sort_index(axis=1, ascending=False))"
   ]
  },
  {
   "cell_type": "markdown",
   "metadata": {},
   "source": [
    "### 对数的值排序"
   ]
  },
  {
   "cell_type": "code",
   "execution_count": 19,
   "metadata": {
    "collapsed": false
   },
   "outputs": [
    {
     "name": "stdout",
     "output_type": "stream",
     "text": [
      "     A          B  C      E    F\n",
      "0  1.0 2018-01-02  3   test  foo\n",
      "1  1.0 2018-01-02  3  train  foo\n",
      "2  1.0 2018-01-02  3   test  foo\n",
      "3  1.0 2018-01-02  3  train  foo\n"
     ]
    }
   ],
   "source": [
    "print(df2.sort_values(by='B'))"
   ]
  },
  {
   "cell_type": "markdown",
   "metadata": {
    "collapsed": true
   },
   "source": [
    "# Pandas 选择数据"
   ]
  },
  {
   "cell_type": "code",
   "execution_count": 3,
   "metadata": {
    "collapsed": false
   },
   "outputs": [
    {
     "name": "stdout",
     "output_type": "stream",
     "text": [
      "             A   B   C   D\n",
      "2018-01-01   0   1   2   3\n",
      "2018-01-02   4   5   6   7\n",
      "2018-01-03   8   9  10  11\n",
      "2018-01-04  12  13  14  15\n",
      "2018-01-05  16  17  18  19\n",
      "2018-01-06  20  21  22  23\n"
     ]
    }
   ],
   "source": [
    "dates = pd.date_range('20180101', periods=6)\n",
    "df = pd.DataFrame(np.arange(24).reshape((6, 4)), index=dates, columns=['A', 'B', 'C', 'D'])\n",
    "print(df)"
   ]
  },
  {
   "cell_type": "markdown",
   "metadata": {},
   "source": [
    "## 简单的筛选"
   ]
  },
  {
   "cell_type": "markdown",
   "metadata": {},
   "source": [
    "### 选取列"
   ]
  },
  {
   "cell_type": "code",
   "execution_count": 5,
   "metadata": {
    "collapsed": false
   },
   "outputs": [
    {
     "name": "stdout",
     "output_type": "stream",
     "text": [
      "2018-01-01     0\n",
      "2018-01-02     4\n",
      "2018-01-03     8\n",
      "2018-01-04    12\n",
      "2018-01-05    16\n",
      "2018-01-06    20\n",
      "Freq: D, Name: A, dtype: int32\n",
      "2018-01-01     0\n",
      "2018-01-02     4\n",
      "2018-01-03     8\n",
      "2018-01-04    12\n",
      "2018-01-05    16\n",
      "2018-01-06    20\n",
      "Freq: D, Name: A, dtype: int32\n"
     ]
    }
   ],
   "source": [
    "print(df['A'])\n",
    "print(df.A)"
   ]
  },
  {
   "cell_type": "markdown",
   "metadata": {},
   "source": [
    "### 选择多列"
   ]
  },
  {
   "cell_type": "code",
   "execution_count": 6,
   "metadata": {
    "collapsed": false
   },
   "outputs": [
    {
     "name": "stdout",
     "output_type": "stream",
     "text": [
      "            A  B   C   D\n",
      "2018-01-01  0  1   2   3\n",
      "2018-01-02  4  5   6   7\n",
      "2018-01-03  8  9  10  11\n"
     ]
    }
   ],
   "source": [
    "print(df[0:3])"
   ]
  },
  {
   "cell_type": "code",
   "execution_count": 7,
   "metadata": {
    "collapsed": false
   },
   "outputs": [
    {
     "name": "stdout",
     "output_type": "stream",
     "text": [
      "             A   B   C   D\n",
      "2018-01-01   0   1   2   3\n",
      "2018-01-02   4   5   6   7\n",
      "2018-01-03   8   9  10  11\n",
      "2018-01-04  12  13  14  15\n"
     ]
    }
   ],
   "source": [
    "print(df['20180101':'20180104'])"
   ]
  },
  {
   "cell_type": "markdown",
   "metadata": {},
   "source": [
    "## 根据标签 loc"
   ]
  },
  {
   "cell_type": "markdown",
   "metadata": {},
   "source": [
    "### 先选行再选列"
   ]
  },
  {
   "cell_type": "code",
   "execution_count": 11,
   "metadata": {
    "collapsed": false
   },
   "outputs": [
    {
     "name": "stdout",
     "output_type": "stream",
     "text": [
      "A    0\n",
      "B    1\n",
      "C    2\n",
      "D    3\n",
      "Name: 2018-01-01 00:00:00, dtype: int32\n"
     ]
    }
   ],
   "source": [
    "print(df.loc['20180101'])"
   ]
  },
  {
   "cell_type": "code",
   "execution_count": 12,
   "metadata": {
    "collapsed": false
   },
   "outputs": [
    {
     "name": "stdout",
     "output_type": "stream",
     "text": [
      "             A   B\n",
      "2018-01-01   0   1\n",
      "2018-01-02   4   5\n",
      "2018-01-03   8   9\n",
      "2018-01-04  12  13\n",
      "2018-01-05  16  17\n",
      "2018-01-06  20  21\n"
     ]
    }
   ],
   "source": [
    "print(df.loc[:, ['A', 'B']])"
   ]
  },
  {
   "cell_type": "code",
   "execution_count": 13,
   "metadata": {
    "collapsed": false
   },
   "outputs": [
    {
     "name": "stdout",
     "output_type": "stream",
     "text": [
      "A    4\n",
      "B    5\n",
      "Name: 2018-01-02 00:00:00, dtype: int32\n"
     ]
    }
   ],
   "source": [
    "print(df.loc['20180102', ['A', 'B']])"
   ]
  },
  {
   "cell_type": "markdown",
   "metadata": {},
   "source": [
    "## 根据序列 iloc"
   ]
  },
  {
   "cell_type": "markdown",
   "metadata": {},
   "source": [
    "### 通过位置选择"
   ]
  },
  {
   "cell_type": "code",
   "execution_count": 14,
   "metadata": {
    "collapsed": false
   },
   "outputs": [
    {
     "name": "stdout",
     "output_type": "stream",
     "text": [
      "13\n"
     ]
    }
   ],
   "source": [
    "print(df.iloc[3, 1])"
   ]
  },
  {
   "cell_type": "code",
   "execution_count": 15,
   "metadata": {
    "collapsed": false
   },
   "outputs": [
    {
     "name": "stdout",
     "output_type": "stream",
     "text": [
      "             B   C\n",
      "2018-01-04  13  14\n",
      "2018-01-05  17  18\n"
     ]
    }
   ],
   "source": [
    "print(df.iloc[3:5, 1:3])"
   ]
  },
  {
   "cell_type": "code",
   "execution_count": 16,
   "metadata": {
    "collapsed": false
   },
   "outputs": [
    {
     "name": "stdout",
     "output_type": "stream",
     "text": [
      "             B   C\n",
      "2018-01-02   5   6\n",
      "2018-01-04  13  14\n",
      "2018-01-06  21  22\n"
     ]
    }
   ],
   "source": [
    "print(df.iloc[[1, 3, 5], 1:3])"
   ]
  },
  {
   "cell_type": "markdown",
   "metadata": {},
   "source": [
    "## 混合选择"
   ]
  },
  {
   "cell_type": "code",
   "execution_count": 17,
   "metadata": {
    "collapsed": false
   },
   "outputs": [
    {
     "name": "stdout",
     "output_type": "stream",
     "text": [
      "            A   C\n",
      "2018-01-01  0   2\n",
      "2018-01-02  4   6\n",
      "2018-01-03  8  10\n"
     ]
    }
   ],
   "source": [
    "print(df.ix[:3, ['A', 'C']])"
   ]
  },
  {
   "cell_type": "markdown",
   "metadata": {},
   "source": [
    "## 通过判断的筛选"
   ]
  },
  {
   "cell_type": "code",
   "execution_count": 18,
   "metadata": {
    "collapsed": false
   },
   "outputs": [
    {
     "name": "stdout",
     "output_type": "stream",
     "text": [
      "             A   B   C   D\n",
      "2018-01-04  12  13  14  15\n",
      "2018-01-05  16  17  18  19\n",
      "2018-01-06  20  21  22  23\n"
     ]
    }
   ],
   "source": [
    "print(df[df.A > 8])"
   ]
  },
  {
   "cell_type": "markdown",
   "metadata": {},
   "source": [
    "# Pandas设置值"
   ]
  },
  {
   "cell_type": "markdown",
   "metadata": {},
   "source": [
    "## 根据位置设置loc和iloc"
   ]
  },
  {
   "cell_type": "code",
   "execution_count": 19,
   "metadata": {
    "collapsed": false,
    "scrolled": true
   },
   "outputs": [
    {
     "name": "stdout",
     "output_type": "stream",
     "text": [
      "             A    B     C   D\n",
      "2018-01-01   0  222     2   3\n",
      "2018-01-02   4    5     6   7\n",
      "2018-01-03   8    9  1111  11\n",
      "2018-01-04  12   13    14  15\n",
      "2018-01-05  16   17    18  19\n",
      "2018-01-06  20   21    22  23\n"
     ]
    }
   ],
   "source": [
    "df.iloc[2, 2] = 1111\n",
    "df.loc['20180101', 'B'] = 222\n",
    "print(df)"
   ]
  },
  {
   "cell_type": "markdown",
   "metadata": {},
   "source": [
    "## 根据条件设置"
   ]
  },
  {
   "cell_type": "code",
   "execution_count": 20,
   "metadata": {
    "collapsed": false
   },
   "outputs": [
    {
     "name": "stdout",
     "output_type": "stream",
     "text": [
      "             A    B     C   D\n",
      "2018-01-01   0  222     2   3\n",
      "2018-01-02   4    5     6   7\n",
      "2018-01-03   8    0  1111  11\n",
      "2018-01-04  12    0    14  15\n",
      "2018-01-05  16    0    18  19\n",
      "2018-01-06  20    0    22  23\n"
     ]
    }
   ],
   "source": [
    "df.B[df.A > 4] = 0\n",
    "print(df)"
   ]
  },
  {
   "cell_type": "markdown",
   "metadata": {},
   "source": [
    "## 按行或列设置"
   ]
  },
  {
   "cell_type": "code",
   "execution_count": 21,
   "metadata": {
    "collapsed": false,
    "scrolled": true
   },
   "outputs": [
    {
     "name": "stdout",
     "output_type": "stream",
     "text": [
      "             A    B     C   D   F\n",
      "2018-01-01   0  222     2   3 NaN\n",
      "2018-01-02   4    5     6   7 NaN\n",
      "2018-01-03   8    0  1111  11 NaN\n",
      "2018-01-04  12    0    14  15 NaN\n",
      "2018-01-05  16    0    18  19 NaN\n",
      "2018-01-06  20    0    22  23 NaN\n"
     ]
    }
   ],
   "source": [
    "df['F'] = np.nan\n",
    "print(df)"
   ]
  },
  {
   "cell_type": "markdown",
   "metadata": {},
   "source": [
    "## 添加数据"
   ]
  },
  {
   "cell_type": "code",
   "execution_count": 22,
   "metadata": {
    "collapsed": false
   },
   "outputs": [
    {
     "name": "stdout",
     "output_type": "stream",
     "text": [
      "             A    B     C   D   F  E\n",
      "2018-01-01   0  222     2   3 NaN  1\n",
      "2018-01-02   4    5     6   7 NaN  2\n",
      "2018-01-03   8    0  1111  11 NaN  3\n",
      "2018-01-04  12    0    14  15 NaN  4\n",
      "2018-01-05  16    0    18  19 NaN  5\n",
      "2018-01-06  20    0    22  23 NaN  6\n"
     ]
    }
   ],
   "source": [
    "df ['E'] = pd.Series([1, 2, 3, 4, 5, 6], index=pd.date_range('20180101', periods=6))\n",
    "print(df)"
   ]
  },
  {
   "cell_type": "markdown",
   "metadata": {
    "collapsed": true
   },
   "source": [
    "# Pandas处理丢失数据"
   ]
  },
  {
   "cell_type": "markdown",
   "metadata": {},
   "source": [
    "## 创建含NaN的矩阵"
   ]
  },
  {
   "cell_type": "code",
   "execution_count": 23,
   "metadata": {
    "collapsed": false
   },
   "outputs": [
    {
     "name": "stdout",
     "output_type": "stream",
     "text": [
      "             A    B       C   D   F  E\n",
      "2018-01-01   0  NaN     2.0   3 NaN  1\n",
      "2018-01-02   4  5.0     NaN   7 NaN  2\n",
      "2018-01-03   8  0.0  1111.0  11 NaN  3\n",
      "2018-01-04  12  0.0    14.0  15 NaN  4\n",
      "2018-01-05  16  0.0    18.0  19 NaN  5\n",
      "2018-01-06  20  0.0    22.0  23 NaN  6\n"
     ]
    }
   ],
   "source": [
    "df.iloc[0, 1] = np.nan\n",
    "df.iloc[1, 2] = np.nan\n",
    "print(df)"
   ]
  },
  {
   "cell_type": "markdown",
   "metadata": {},
   "source": [
    "## 丢弃NaN"
   ]
  },
  {
   "cell_type": "code",
   "execution_count": 28,
   "metadata": {
    "collapsed": false
   },
   "outputs": [
    {
     "name": "stdout",
     "output_type": "stream",
     "text": [
      "             A   D  E\n",
      "2018-01-01   0   3  1\n",
      "2018-01-02   4   7  2\n",
      "2018-01-03   8  11  3\n",
      "2018-01-04  12  15  4\n",
      "2018-01-05  16  19  5\n",
      "2018-01-06  20  23  6\n"
     ]
    }
   ],
   "source": [
    "# any: 只要存在NaN就drop掉\n",
    "# all: 必须全部是NaN才drop\n",
    "print(df.dropna(axis=1, how='any'))"
   ]
  },
  {
   "cell_type": "markdown",
   "metadata": {},
   "source": [
    "## 替换NaN"
   ]
  },
  {
   "cell_type": "code",
   "execution_count": 29,
   "metadata": {
    "collapsed": false
   },
   "outputs": [
    {
     "name": "stdout",
     "output_type": "stream",
     "text": [
      "             A    B       C   D    F  E\n",
      "2018-01-01   0  0.0     2.0   3  0.0  1\n",
      "2018-01-02   4  5.0     0.0   7  0.0  2\n",
      "2018-01-03   8  0.0  1111.0  11  0.0  3\n",
      "2018-01-04  12  0.0    14.0  15  0.0  4\n",
      "2018-01-05  16  0.0    18.0  19  0.0  5\n",
      "2018-01-06  20  0.0    22.0  23  0.0  6\n"
     ]
    }
   ],
   "source": [
    "print(df.fillna(value=0))"
   ]
  },
  {
   "cell_type": "markdown",
   "metadata": {},
   "source": [
    "## 判断是否缺失"
   ]
  },
  {
   "cell_type": "code",
   "execution_count": 31,
   "metadata": {
    "collapsed": false
   },
   "outputs": [
    {
     "name": "stdout",
     "output_type": "stream",
     "text": [
      "                A      B      C      D     F      E\n",
      "2018-01-01  False   True  False  False  True  False\n",
      "2018-01-02  False  False   True  False  True  False\n",
      "2018-01-03  False  False  False  False  True  False\n",
      "2018-01-04  False  False  False  False  True  False\n",
      "2018-01-05  False  False  False  False  True  False\n",
      "2018-01-06  False  False  False  False  True  False\n"
     ]
    }
   ],
   "source": [
    "print(df.isnull())"
   ]
  },
  {
   "cell_type": "markdown",
   "metadata": {},
   "source": [
    "### 检查在数据中是否存在NaN"
   ]
  },
  {
   "cell_type": "code",
   "execution_count": 32,
   "metadata": {
    "collapsed": false
   },
   "outputs": [
    {
     "name": "stdout",
     "output_type": "stream",
     "text": [
      "True\n"
     ]
    }
   ],
   "source": [
    "print(np.any(df.isnull()) == True)"
   ]
  },
  {
   "cell_type": "markdown",
   "metadata": {},
   "source": [
    "# Pandas导入导出"
   ]
  },
  {
   "cell_type": "markdown",
   "metadata": {},
   "source": [
    "pandas可以读取与存取的资料格式有很多种，像csv、excel、json、html与pickle等…"
   ]
  },
  {
   "cell_type": "markdown",
   "metadata": {},
   "source": [
    "## 读取csv"
   ]
  },
  {
   "cell_type": "code",
   "execution_count": 36,
   "metadata": {
    "collapsed": false,
    "scrolled": true
   },
   "outputs": [
    {
     "name": "stdout",
     "output_type": "stream",
     "text": [
      "          YEAR      Y      W       R      L      K\n",
      "0  1948.000008  1.214  0.243  0.1454  1.415  0.612\n",
      "1  1949.000008  1.354  0.260  0.2181  1.384  0.559\n",
      "2  1950.000000  1.569  0.278  0.3157  1.388  0.573\n",
      "3  1951.000000  1.948  0.297  0.3940  1.550  0.564\n",
      "4  1952.000000  2.265  0.310  0.3559  1.802  0.574\n",
      "5  1953.000000  2.731  0.322  0.3593  1.926  0.711\n",
      "6  1954.000000  3.025  0.335  0.4025  1.964  0.776\n",
      "7  1955.000000  3.562  0.350  0.3961  2.116  0.827\n",
      "8  1956.000000  3.979  0.361  0.3822  2.435  0.800\n",
      "9  1957.000364  4.420  0.379  0.3045  2.707  0.921\n"
     ]
    }
   ],
   "source": [
    "data = pd.read_csv('airline.csv')\n",
    "print(data.iloc[:10, :])"
   ]
  },
  {
   "cell_type": "markdown",
   "metadata": {},
   "source": [
    "## 将资料存成pickle"
   ]
  },
  {
   "cell_type": "code",
   "execution_count": 38,
   "metadata": {
    "collapsed": true
   },
   "outputs": [],
   "source": [
    "data.to_pickle('airline.pickle')"
   ]
  },
  {
   "cell_type": "markdown",
   "metadata": {
    "collapsed": true
   },
   "source": [
    "# Pandas合并concat"
   ]
  },
  {
   "cell_type": "code",
   "execution_count": 4,
   "metadata": {
    "collapsed": true
   },
   "outputs": [],
   "source": [
    "df1 = pd.DataFrame(np.ones((3, 4)) * 0, columns=['a', 'b', 'c', 'd'])\n",
    "df2 = pd.DataFrame(np.ones((3, 4)) * 1, columns=['a', 'b', 'c', 'd'])\n",
    "df3 = pd.DataFrame(np.ones((3, 4)) * 2, columns=['a', 'b', 'c', 'd'])"
   ]
  },
  {
   "cell_type": "markdown",
   "metadata": {},
   "source": [
    "## axis(合并方向)"
   ]
  },
  {
   "cell_type": "code",
   "execution_count": 5,
   "metadata": {
    "collapsed": false
   },
   "outputs": [
    {
     "name": "stdout",
     "output_type": "stream",
     "text": [
      "     a    b    c    d\n",
      "0  0.0  0.0  0.0  0.0\n",
      "1  0.0  0.0  0.0  0.0\n",
      "2  0.0  0.0  0.0  0.0\n",
      "0  1.0  1.0  1.0  1.0\n",
      "1  1.0  1.0  1.0  1.0\n",
      "2  1.0  1.0  1.0  1.0\n",
      "0  2.0  2.0  2.0  2.0\n",
      "1  2.0  2.0  2.0  2.0\n",
      "2  2.0  2.0  2.0  2.0\n"
     ]
    }
   ],
   "source": [
    "res = pd.concat([df1, df2, df3], axis=0)\n",
    "print(res)"
   ]
  },
  {
   "cell_type": "markdown",
   "metadata": {},
   "source": [
    "## ignore_index(重置index)"
   ]
  },
  {
   "cell_type": "code",
   "execution_count": 6,
   "metadata": {
    "collapsed": false
   },
   "outputs": [
    {
     "name": "stdout",
     "output_type": "stream",
     "text": [
      "     a    b    c    d\n",
      "0  0.0  0.0  0.0  0.0\n",
      "1  0.0  0.0  0.0  0.0\n",
      "2  0.0  0.0  0.0  0.0\n",
      "3  1.0  1.0  1.0  1.0\n",
      "4  1.0  1.0  1.0  1.0\n",
      "5  1.0  1.0  1.0  1.0\n",
      "6  2.0  2.0  2.0  2.0\n",
      "7  2.0  2.0  2.0  2.0\n",
      "8  2.0  2.0  2.0  2.0\n"
     ]
    }
   ],
   "source": [
    "res = pd.concat([df1, df2, df3], axis=0, ignore_index=True)\n",
    "print(res)"
   ]
  },
  {
   "cell_type": "markdown",
   "metadata": {},
   "source": [
    "## join(合并方式)"
   ]
  },
  {
   "cell_type": "code",
   "execution_count": null,
   "metadata": {
    "collapsed": true
   },
   "outputs": [],
   "source": [
    "# join='outer'为预设值，依照column来做纵向合并\n",
    "# 有相同的column上下合并在一起，其他各自成列\n",
    "df1 = pd.DataFrame(np.ones((3, 4)) *  0, columns=['a', 'b'])"
   ]
  }
 ],
 "metadata": {
  "anaconda-cloud": {},
  "kernelspec": {
   "display_name": "Python [Root]",
   "language": "python",
   "name": "Python [Root]"
  },
  "language_info": {
   "codemirror_mode": {
    "name": "ipython",
    "version": 3
   },
   "file_extension": ".py",
   "mimetype": "text/x-python",
   "name": "python",
   "nbconvert_exporter": "python",
   "pygments_lexer": "ipython3",
   "version": "3.5.1"
  },
  "toc": {
   "nav_menu": {},
   "number_sections": true,
   "sideBar": true,
   "skip_h1_title": false,
   "toc_cell": false,
   "toc_position": {
    "height": "709px",
    "left": "0px",
    "right": "1439px",
    "top": "107px",
    "width": "268px"
   },
   "toc_section_display": "block",
   "toc_window_display": false
  }
 },
 "nbformat": 4,
 "nbformat_minor": 0
}
