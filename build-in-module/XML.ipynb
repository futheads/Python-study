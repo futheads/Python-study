{
 "cells": [
  {
   "cell_type": "markdown",
   "metadata": {},
   "source": [
    "# DOM vs SAX"
   ]
  },
  {
   "cell_type": "markdown",
   "metadata": {},
   "source": [
    "* DOM会把整个XML读入内存，解析为树，因此占用内存大，解析慢，优点是可以任意遍历树的节点。\n",
    "* SAX是流模式，边读边解析，占用内存小，解析快，缺点是我们需要自己处理事件。"
   ]
  },
  {
   "cell_type": "markdown",
   "metadata": {},
   "source": [
    "# SAX解析XML"
   ]
  },
  {
   "cell_type": "markdown",
   "metadata": {},
   "source": [
    "通常我们关心的事件是start_element，end_element和char_data，准备好这3个函数，然后就可以解析xml了"
   ]
  },
  {
   "cell_type": "code",
   "execution_count": 3,
   "metadata": {
    "collapsed": false
   },
   "outputs": [
    {
     "name": "stdout",
     "output_type": "stream",
     "text": [
      "sax:start_element: ol, attrs: {}\n",
      "sax:char_data: \n",
      "\n",
      "sax:char_data:     \n",
      "sax:start_element: li, attrs: {}\n",
      "sax:start_element: a, attrs: {'href': '/python'}\n",
      "sax:char_data: Python\n",
      "sax:end_element: a\n",
      "sax:end_element: li\n",
      "sax:char_data: \n",
      "\n",
      "sax:char_data:     \n",
      "sax:start_element: li, attrs: {}\n",
      "sax:start_element: a, attrs: {'href': '/ruby'}\n",
      "sax:char_data: Ruby\n",
      "sax:end_element: a\n",
      "sax:end_element: li\n",
      "sax:char_data: \n",
      "\n",
      "sax:end_element: ol\n"
     ]
    },
    {
     "data": {
      "text/plain": [
       "1"
      ]
     },
     "execution_count": 3,
     "metadata": {},
     "output_type": "execute_result"
    }
   ],
   "source": [
    "from xml.parsers.expat import ParserCreate\n",
    "\n",
    "class DefaultSaxHandler(object):\n",
    "    def start_element(self, name, attrs):\n",
    "        print('sax:start_element: %s, attrs: %s' % (name, str(attrs)))\n",
    "\n",
    "    def end_element(self, name):\n",
    "        print('sax:end_element: %s' % name)\n",
    "\n",
    "    def char_data(self, text):\n",
    "        print('sax:char_data: %s' % text)\n",
    "        \n",
    "xml = r'''<?xml version=\"1.0\"?>\n",
    "<ol>\n",
    "    <li><a href=\"/python\">Python</a></li>\n",
    "    <li><a href=\"/ruby\">Ruby</a></li>\n",
    "</ol>\n",
    "'''\n",
    "        \n",
    "handler = DefaultSaxHandler()\n",
    "parser = ParserCreate()\n",
    "parser.StartElementHandler = handler.start_element\n",
    "parser.EndElementHandler = handler.end_element\n",
    "parser.CharacterDataHandler = handler.char_data\n",
    "parser.Parse(xml)"
   ]
  }
 ],
 "metadata": {
  "kernelspec": {
   "display_name": "Python [Anaconda3]",
   "language": "python",
   "name": "Python [Anaconda3]"
  },
  "language_info": {
   "codemirror_mode": {
    "name": "ipython",
    "version": 3
   },
   "file_extension": ".py",
   "mimetype": "text/x-python",
   "name": "python",
   "nbconvert_exporter": "python",
   "pygments_lexer": "ipython3",
   "version": "3.5.1"
  },
  "toc": {
   "nav_menu": {},
   "number_sections": true,
   "sideBar": true,
   "skip_h1_title": false,
   "toc_cell": false,
   "toc_position": {},
   "toc_section_display": "block",
   "toc_window_display": false
  }
 },
 "nbformat": 4,
 "nbformat_minor": 0
}
