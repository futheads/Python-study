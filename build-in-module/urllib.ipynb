{
 "cells": [
  {
   "cell_type": "markdown",
   "metadata": {},
   "source": [
    "# GET"
   ]
  },
  {
   "cell_type": "code",
   "execution_count": 2,
   "metadata": {
    "collapsed": true
   },
   "outputs": [],
   "source": [
    "from urllib import request"
   ]
  },
  {
   "cell_type": "code",
   "execution_count": 6,
   "metadata": {
    "collapsed": false
   },
   "outputs": [
    {
     "name": "stdout",
     "output_type": "stream",
     "text": [
      "Status: 200 OK\n",
      "Date: Sun, 22 Apr 2018 04:50:21 GMT\n",
      "Content-Type: application/json; charset=utf-8\n",
      "Content-Length: 2138\n",
      "Connection: close\n",
      "Vary: Accept-Encoding\n",
      "X-Ratelimit-Remaining2: 97\n",
      "X-Ratelimit-Limit2: 100\n",
      "Expires: Sun, 1 Jan 2006 01:00:00 GMT\n",
      "Pragma: no-cache\n",
      "Cache-Control: must-revalidate, no-cache, private\n",
      "Set-Cookie: bid=TjwCMGEUUYU; Expires=Mon, 22-Apr-19 04:50:21 GMT; Domain=.douban.com; Path=/\n",
      "X-DOUBAN-NEWBID: TjwCMGEUUYU\n",
      "X-DAE-Node: daisy3d\n",
      "X-DAE-App: book\n",
      "Server: dae\n"
     ]
    }
   ],
   "source": [
    "with request.urlopen(\"https://api.douban.com/v2/book/2129650\") as f:\n",
    "    data = f.read()\n",
    "    print(\"Status:\", f.status, f.reason)\n",
    "    for k, v in f.getheaders():\n",
    "        print(\"%s: %s\" %(k, v))"
   ]
  },
  {
   "cell_type": "code",
   "execution_count": 7,
   "metadata": {
    "collapsed": false
   },
   "outputs": [
    {
     "name": "stdout",
     "output_type": "stream",
     "text": [
      "Data: {\"rating\":{\"max\":10,\"numRaters\":16,\"average\":\"7.4\",\"min\":0},\"subtitle\":\"\",\"author\":[\"廖雪峰\"],\"pubdate\":\"2007\",\"tags\":[{\"count\":21,\"name\":\"spring\",\"title\":\"spring\"},{\"count\":13,\"name\":\"Java\",\"title\":\"Java\"},{\"count\":6,\"name\":\"javaee\",\"title\":\"javaee\"},{\"count\":5,\"name\":\"j2ee\",\"title\":\"j2ee\"},{\"count\":4,\"name\":\"计算机\",\"title\":\"计算机\"},{\"count\":4,\"name\":\"编程\",\"title\":\"编程\"},{\"count\":3,\"name\":\"藏书\",\"title\":\"藏书\"},{\"count\":3,\"name\":\"POJO\",\"title\":\"POJO\"}],\"origin_title\":\"\",\"image\":\"https://img3.doubanio.com\\/view\\/subject\\/m\\/public\\/s2552283.jpg\",\"binding\":\"平装\",\"translator\":[],\"catalog\":\"\",\"pages\":\"509\",\"images\":{\"small\":\"https://img3.doubanio.com\\/view\\/subject\\/s\\/public\\/s2552283.jpg\",\"large\":\"https://img3.doubanio.com\\/view\\/subject\\/l\\/public\\/s2552283.jpg\",\"medium\":\"https://img3.doubanio.com\\/view\\/subject\\/m\\/public\\/s2552283.jpg\"},\"alt\":\"https:\\/\\/book.douban.com\\/subject\\/2129650\\/\",\"id\":\"2129650\",\"publisher\":\"电子工业出版社\",\"isbn10\":\"7121042622\",\"isbn13\":\"9787121042621\",\"title\":\"Spring 2.0核心技术与最佳实践\",\"url\":\"https:\\/\\/api.douban.com\\/v2\\/book\\/2129650\",\"alt_title\":\"\",\"author_intro\":\"\",\"summary\":\"本书注重实践而又深入理论，由浅入深且详细介绍了Spring 2.0框架的几乎全部的内容，并重点突出2.0版本的新特性。本书将为读者展示如何应用Spring 2.0框架创建灵活高效的JavaEE应用，并提供了一个真正可直接部署的完整的Web应用程序——Live在线书店(http:\\/\\/www.livebookstore.net)。\\n在介绍Spring框架的同时，本书还介绍了与Spring相关的大量第三方框架，涉及领域全面，实用性强。本书另一大特色是实用性强，易于上手，以实际项目为出发点，介绍项目开发中应遵循的最佳开发模式。\\n本书还介绍了大量实践性极强的例子，并给出了完整的配置步骤，几乎覆盖了Spring 2.0版本的新特性。\\n本书适合有一定Java基础的读者，对JavaEE开发人员特别有帮助。本书既可以作为Spring 2.0的学习指南，也可以作为实际项目开发的参考手册。\",\"price\":\"59.8\"}\n"
     ]
    }
   ],
   "source": [
    "    print(\"Data:\", data.decode(\"utf-8\"))"
   ]
  },
  {
   "cell_type": "markdown",
   "metadata": {},
   "source": [
    "# 伪装成浏览器"
   ]
  },
  {
   "cell_type": "markdown",
   "metadata": {},
   "source": [
    "需要使用Request对象，通过往Request对象添加HTTP头，我们就可以把请求伪装成浏览器。例如，模拟iPhone 6去请求豆瓣首页："
   ]
  },
  {
   "cell_type": "code",
   "execution_count": 10,
   "metadata": {
    "collapsed": false
   },
   "outputs": [
    {
     "name": "stdout",
     "output_type": "stream",
     "text": [
      "Status: 200 OK\n",
      "Date: Sun, 22 Apr 2018 04:57:22 GMT\n",
      "Content-Type: text/html; charset=utf-8\n",
      "Content-Length: 11692\n",
      "Connection: close\n",
      "Vary: Accept-Encoding\n",
      "X-Xss-Protection: 1; mode=block\n",
      "X-Douban-Mobileapp: 0\n",
      "Expires: Sun, 1 Jan 2006 01:00:00 GMT\n",
      "Pragma: no-cache\n",
      "Cache-Control: must-revalidate, no-cache, private\n",
      "Set-Cookie: talionnav_show_app=\"0\"\n",
      "Set-Cookie: bid=i_kTx8JcW1A; Expires=Mon, 22-Apr-19 04:57:22 GMT; Domain=.douban.com; Path=/\n",
      "X-DOUBAN-NEWBID: i_kTx8JcW1A\n",
      "X-DAE-Node: dis16\n",
      "X-DAE-App: talion\n",
      "Server: dae\n",
      "Strict-Transport-Security: max-age=15552000;\n",
      "X-Content-Type-Options: nosniff\n"
     ]
    }
   ],
   "source": [
    "req = request.Request(\"http://www.douban.com/\")\n",
    "req.add_header(\"User-Agent\", \"Mozilla/6.0 (iPhone; CPU iPhone OS 8_0 like Mac OS X) AppleWebKit/536.26 (KHTML, like Gecko) Version/8.0 Mobile/10A5376e Safari/8536.25\")\n",
    "with request.urlopen(req) as f:\n",
    "    print(\"Status:\", f.status, f.reason)\n",
    "    for k, v in f.getheaders():\n",
    "        print(\"%s: %s\" % (k, v))\n",
    "#    print(\"Data:\", f.read().decode(\"utf-8\"))"
   ]
  },
  {
   "cell_type": "markdown",
   "metadata": {},
   "source": [
    "# Post"
   ]
  },
  {
   "cell_type": "markdown",
   "metadata": {},
   "source": [
    "以POST发送一个请求，只需要把参数data以bytes形式传入"
   ]
  },
  {
   "cell_type": "code",
   "execution_count": 12,
   "metadata": {
    "collapsed": false
   },
   "outputs": [
    {
     "name": "stdout",
     "output_type": "stream",
     "text": [
      "Login to weibo.cn...\n",
      "Email: futhead@163.com\n",
      "Password: Hello World\n",
      "Status: 200 OK\n",
      "Server: nginx/1.6.1\n",
      "Date: Sun, 22 Apr 2018 05:02:10 GMT\n",
      "Content-Type: text/html\n",
      "Transfer-Encoding: chunked\n",
      "Connection: close\n",
      "Vary: Accept-Encoding\n",
      "Cache-Control: no-cache, must-revalidate\n",
      "Expires: Sat, 26 Jul 1997 05:00:00 GMT\n",
      "Pragma: no-cache\n",
      "Access-Control-Allow-Origin: https://passport.weibo.cn\n",
      "Access-Control-Allow-Credentials: true\n",
      "DPOOL_HEADER: luna41\n",
      "Set-Cookie: login=83d2d473399b13dbae7a9ef39611fbd9; Path=/\n",
      "Data: {\"retcode\":50011015,\"msg\":\"\\u7528\\u6237\\u540d\\u6216\\u5bc6\\u7801\\u9519\\u8bef\",\"data\":{\"username\":\"futhead@163.com\",\"errline\":634}}\n"
     ]
    }
   ],
   "source": [
    "from urllib import request, parse\n",
    "\n",
    "print('Login to weibo.cn...')\n",
    "email = input('Email: ')\n",
    "passwd = input('Password: ')\n",
    "login_data = parse.urlencode([\n",
    "    ('username', email),\n",
    "    ('password', passwd),\n",
    "    ('entry', 'mweibo'),\n",
    "    ('client_id', ''),\n",
    "    ('savestate', '1'),\n",
    "    ('ec', ''),\n",
    "    ('pagerefer', 'https://passport.weibo.cn/signin/welcome?entry=mweibo&r=http%3A%2F%2Fm.weibo.cn%2F')\n",
    "])\n",
    "\n",
    "req = request.Request('https://passport.weibo.cn/sso/login')\n",
    "req.add_header('Origin', 'https://passport.weibo.cn')\n",
    "req.add_header('User-Agent', 'Mozilla/6.0 (iPhone; CPU iPhone OS 8_0 like Mac OS X) AppleWebKit/536.26 (KHTML, like Gecko) Version/8.0 Mobile/10A5376e Safari/8536.25')\n",
    "req.add_header('Referer', 'https://passport.weibo.cn/signin/login?entry=mweibo&res=wel&wm=3349&r=http%3A%2F%2Fm.weibo.cn%2F')\n",
    "\n",
    "with request.urlopen(req, data=login_data.encode('utf-8')) as f:\n",
    "    print('Status:', f.status, f.reason)\n",
    "    for k, v in f.getheaders():\n",
    "        print('%s: %s' % (k, v))\n",
    "    print('Data:', f.read().decode('utf-8'))"
   ]
  },
  {
   "cell_type": "markdown",
   "metadata": {},
   "source": [
    "# Handler"
   ]
  },
  {
   "cell_type": "markdown",
   "metadata": {},
   "source": [
    "如果还需要更复杂的控制，比如通过一个Proxy去访问网站，我们需要利用ProxyHandler来处理"
   ]
  },
  {
   "cell_type": "code",
   "execution_count": null,
   "metadata": {
    "collapsed": false,
    "scrolled": true
   },
   "outputs": [],
   "source": [
    "# 这段代码没测试，过些时候再完善\n",
    "proxy_handler = request.ProxyHandler({'http': 'http://www.example.com:3128/'})\n",
    "proxy_auth_handler = request.ProxyBasicAuthHandler()\n",
    "proxy_auth_handler.add_password('realm', 'host', 'username', 'password')\n",
    "opener = request.build_opener(proxy_handler, proxy_auth_handler)\n",
    "with opener.open('http://www.example.com/login.html') as f:\n",
    "    pass"
   ]
  }
 ],
 "metadata": {
  "anaconda-cloud": {},
  "kernelspec": {
   "display_name": "Python [Anaconda3]",
   "language": "python",
   "name": "Python [Anaconda3]"
  },
  "language_info": {
   "codemirror_mode": {
    "name": "ipython",
    "version": 3
   },
   "file_extension": ".py",
   "mimetype": "text/x-python",
   "name": "python",
   "nbconvert_exporter": "python",
   "pygments_lexer": "ipython3",
   "version": "3.5.1"
  },
  "toc": {
   "nav_menu": {},
   "number_sections": true,
   "sideBar": true,
   "skip_h1_title": false,
   "toc_cell": false,
   "toc_position": {},
   "toc_section_display": "block",
   "toc_window_display": false
  }
 },
 "nbformat": 4,
 "nbformat_minor": 0
}
